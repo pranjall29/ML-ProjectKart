{
  "nbformat": 4,
  "nbformat_minor": 0,
  "metadata": {
    "colab": {
      "name": "Untitled16.ipynb",
      "provenance": []
    },
    "kernelspec": {
      "name": "python3",
      "display_name": "Python 3"
    },
    "language_info": {
      "name": "python"
    }
  },
  "cells": [
    {
      "cell_type": "markdown",
      "metadata": {
        "id": "SXC2do8lT4gt"
      },
      "source": [
        "**Predict which people are influential in a social network**"
      ]
    },
    {
      "cell_type": "code",
      "metadata": {
        "colab": {
          "base_uri": "https://localhost:8080/"
        },
        "id": "ZokxNKpLTL5z",
        "outputId": "7b167cdb-ce10-49ee-d8f5-14896a55572b"
      },
      "source": [
        "from google.colab import drive\n",
        "drive.mount('/content/drive')"
      ],
      "execution_count": 1,
      "outputs": [
        {
          "output_type": "stream",
          "text": [
            "Mounted at /content/drive\n"
          ],
          "name": "stdout"
        }
      ]
    },
    {
      "cell_type": "code",
      "metadata": {
        "id": "Twyn208bTXSh"
      },
      "source": [
        "# import library\n",
        "import numpy as np\n",
        "import pandas as pd\n",
        "import matplotlib.pyplot as plt\n",
        "import seaborn as sns"
      ],
      "execution_count": 2,
      "outputs": []
    },
    {
      "cell_type": "code",
      "metadata": {
        "colab": {
          "base_uri": "https://localhost:8080/",
          "height": 222
        },
        "id": "qd4uRU0yUqIS",
        "outputId": "d794050a-b6c4-4941-ee31-58a4a26b3677"
      },
      "source": [
        "df_train = pd.read_csv('/content/drive/MyDrive/data1/train.csv')\n",
        "df_test = pd.read_csv('/content/drive/MyDrive/data1/test.csv')\n",
        "df_train.head()"
      ],
      "execution_count": 45,
      "outputs": [
        {
          "output_type": "execute_result",
          "data": {
            "text/html": [
              "<div>\n",
              "<style scoped>\n",
              "    .dataframe tbody tr th:only-of-type {\n",
              "        vertical-align: middle;\n",
              "    }\n",
              "\n",
              "    .dataframe tbody tr th {\n",
              "        vertical-align: top;\n",
              "    }\n",
              "\n",
              "    .dataframe thead th {\n",
              "        text-align: right;\n",
              "    }\n",
              "</style>\n",
              "<table border=\"1\" class=\"dataframe\">\n",
              "  <thead>\n",
              "    <tr style=\"text-align: right;\">\n",
              "      <th></th>\n",
              "      <th>Choice</th>\n",
              "      <th>A_follower_count</th>\n",
              "      <th>A_following_count</th>\n",
              "      <th>A_listed_count</th>\n",
              "      <th>A_mentions_received</th>\n",
              "      <th>A_retweets_received</th>\n",
              "      <th>A_mentions_sent</th>\n",
              "      <th>A_retweets_sent</th>\n",
              "      <th>A_posts</th>\n",
              "      <th>A_network_feature_1</th>\n",
              "      <th>A_network_feature_2</th>\n",
              "      <th>A_network_feature_3</th>\n",
              "      <th>B_follower_count</th>\n",
              "      <th>B_following_count</th>\n",
              "      <th>B_listed_count</th>\n",
              "      <th>B_mentions_received</th>\n",
              "      <th>B_retweets_received</th>\n",
              "      <th>B_mentions_sent</th>\n",
              "      <th>B_retweets_sent</th>\n",
              "      <th>B_posts</th>\n",
              "      <th>B_network_feature_1</th>\n",
              "      <th>B_network_feature_2</th>\n",
              "      <th>B_network_feature_3</th>\n",
              "    </tr>\n",
              "  </thead>\n",
              "  <tbody>\n",
              "    <tr>\n",
              "      <th>0</th>\n",
              "      <td>0</td>\n",
              "      <td>228</td>\n",
              "      <td>302</td>\n",
              "      <td>3</td>\n",
              "      <td>0.583979</td>\n",
              "      <td>0.100503</td>\n",
              "      <td>0.100503</td>\n",
              "      <td>0.100503</td>\n",
              "      <td>0.362150</td>\n",
              "      <td>2</td>\n",
              "      <td>166.500000</td>\n",
              "      <td>11355.000000</td>\n",
              "      <td>34463</td>\n",
              "      <td>29808</td>\n",
              "      <td>1689</td>\n",
              "      <td>15.430498</td>\n",
              "      <td>3.984029</td>\n",
              "      <td>8.204331</td>\n",
              "      <td>0.332423</td>\n",
              "      <td>6.988815</td>\n",
              "      <td>66</td>\n",
              "      <td>75.530303</td>\n",
              "      <td>1916.893939</td>\n",
              "    </tr>\n",
              "    <tr>\n",
              "      <th>1</th>\n",
              "      <td>0</td>\n",
              "      <td>21591</td>\n",
              "      <td>1179</td>\n",
              "      <td>228</td>\n",
              "      <td>90.456506</td>\n",
              "      <td>25.798292</td>\n",
              "      <td>5.709329</td>\n",
              "      <td>1.111159</td>\n",
              "      <td>5.176620</td>\n",
              "      <td>369</td>\n",
              "      <td>18.442971</td>\n",
              "      <td>1330.366048</td>\n",
              "      <td>39262</td>\n",
              "      <td>848</td>\n",
              "      <td>1610</td>\n",
              "      <td>40.495021</td>\n",
              "      <td>8.943607</td>\n",
              "      <td>3.227677</td>\n",
              "      <td>0.564343</td>\n",
              "      <td>1.070321</td>\n",
              "      <td>163</td>\n",
              "      <td>132.030675</td>\n",
              "      <td>2931.515337</td>\n",
              "    </tr>\n",
              "    <tr>\n",
              "      <th>2</th>\n",
              "      <td>0</td>\n",
              "      <td>7310</td>\n",
              "      <td>1215</td>\n",
              "      <td>101</td>\n",
              "      <td>25.503644</td>\n",
              "      <td>9.556347</td>\n",
              "      <td>5.361519</td>\n",
              "      <td>0.591206</td>\n",
              "      <td>3.589718</td>\n",
              "      <td>95</td>\n",
              "      <td>68.927835</td>\n",
              "      <td>5999.896907</td>\n",
              "      <td>3622</td>\n",
              "      <td>482</td>\n",
              "      <td>206</td>\n",
              "      <td>0.734696</td>\n",
              "      <td>0.354379</td>\n",
              "      <td>0.603202</td>\n",
              "      <td>0.100503</td>\n",
              "      <td>0.603202</td>\n",
              "      <td>3</td>\n",
              "      <td>10.333333</td>\n",
              "      <td>277.333333</td>\n",
              "    </tr>\n",
              "    <tr>\n",
              "      <th>3</th>\n",
              "      <td>0</td>\n",
              "      <td>20</td>\n",
              "      <td>7</td>\n",
              "      <td>2</td>\n",
              "      <td>7.690824</td>\n",
              "      <td>0.277306</td>\n",
              "      <td>1.331508</td>\n",
              "      <td>0.100503</td>\n",
              "      <td>2.830627</td>\n",
              "      <td>6</td>\n",
              "      <td>2.000000</td>\n",
              "      <td>96.166667</td>\n",
              "      <td>19562</td>\n",
              "      <td>17637</td>\n",
              "      <td>278</td>\n",
              "      <td>572.874856</td>\n",
              "      <td>390.293681</td>\n",
              "      <td>27.552040</td>\n",
              "      <td>7.167557</td>\n",
              "      <td>32.101906</td>\n",
              "      <td>1762</td>\n",
              "      <td>23.469296</td>\n",
              "      <td>1395.845634</td>\n",
              "    </tr>\n",
              "    <tr>\n",
              "      <th>4</th>\n",
              "      <td>1</td>\n",
              "      <td>45589</td>\n",
              "      <td>862</td>\n",
              "      <td>2641</td>\n",
              "      <td>148.854279</td>\n",
              "      <td>36.998884</td>\n",
              "      <td>27.881768</td>\n",
              "      <td>3.333492</td>\n",
              "      <td>23.861282</td>\n",
              "      <td>551</td>\n",
              "      <td>127.404293</td>\n",
              "      <td>2833.847943</td>\n",
              "      <td>7554</td>\n",
              "      <td>1711</td>\n",
              "      <td>181</td>\n",
              "      <td>21.601866</td>\n",
              "      <td>3.581661</td>\n",
              "      <td>6.764657</td>\n",
              "      <td>1.119727</td>\n",
              "      <td>4.563246</td>\n",
              "      <td>85</td>\n",
              "      <td>48.500000</td>\n",
              "      <td>1993.627907</td>\n",
              "    </tr>\n",
              "  </tbody>\n",
              "</table>\n",
              "</div>"
            ],
            "text/plain": [
              "   Choice  A_follower_count  ...  B_network_feature_2  B_network_feature_3\n",
              "0       0               228  ...            75.530303          1916.893939\n",
              "1       0             21591  ...           132.030675          2931.515337\n",
              "2       0              7310  ...            10.333333           277.333333\n",
              "3       0                20  ...            23.469296          1395.845634\n",
              "4       1             45589  ...            48.500000          1993.627907\n",
              "\n",
              "[5 rows x 23 columns]"
            ]
          },
          "metadata": {
            "tags": []
          },
          "execution_count": 45
        }
      ]
    },
    {
      "cell_type": "code",
      "metadata": {
        "colab": {
          "base_uri": "https://localhost:8080/"
        },
        "id": "UKOpyaLoUyvo",
        "outputId": "9a2d336a-ead4-4361-c8af-2ccbe6b01b21"
      },
      "source": [
        "df_train.info()"
      ],
      "execution_count": 48,
      "outputs": [
        {
          "output_type": "stream",
          "text": [
            "<class 'pandas.core.frame.DataFrame'>\n",
            "RangeIndex: 5500 entries, 0 to 5499\n",
            "Data columns (total 23 columns):\n",
            " #   Column               Non-Null Count  Dtype  \n",
            "---  ------               --------------  -----  \n",
            " 0   Choice               5500 non-null   int64  \n",
            " 1   A_follower_count     5500 non-null   int64  \n",
            " 2   A_following_count    5500 non-null   int64  \n",
            " 3   A_listed_count       5500 non-null   int64  \n",
            " 4   A_mentions_received  5500 non-null   float64\n",
            " 5   A_retweets_received  5500 non-null   float64\n",
            " 6   A_mentions_sent      5500 non-null   float64\n",
            " 7   A_retweets_sent      5500 non-null   float64\n",
            " 8   A_posts              5500 non-null   float64\n",
            " 9   A_network_feature_1  5500 non-null   int64  \n",
            " 10  A_network_feature_2  5500 non-null   float64\n",
            " 11  A_network_feature_3  5500 non-null   float64\n",
            " 12  B_follower_count     5500 non-null   int64  \n",
            " 13  B_following_count    5500 non-null   int64  \n",
            " 14  B_listed_count       5500 non-null   int64  \n",
            " 15  B_mentions_received  5500 non-null   float64\n",
            " 16  B_retweets_received  5500 non-null   float64\n",
            " 17  B_mentions_sent      5500 non-null   float64\n",
            " 18  B_retweets_sent      5500 non-null   float64\n",
            " 19  B_posts              5500 non-null   float64\n",
            " 20  B_network_feature_1  5500 non-null   int64  \n",
            " 21  B_network_feature_2  5500 non-null   float64\n",
            " 22  B_network_feature_3  5500 non-null   float64\n",
            "dtypes: float64(14), int64(9)\n",
            "memory usage: 988.4 KB\n"
          ],
          "name": "stdout"
        }
      ]
    },
    {
      "cell_type": "code",
      "metadata": {
        "colab": {
          "base_uri": "https://localhost:8080/",
          "height": 314
        },
        "id": "5ZG1UlrKU6j4",
        "outputId": "6e4a5d5b-9ad0-4bf5-b7d9-9a77d72bb1ce"
      },
      "source": [
        "df_train.describe()"
      ],
      "execution_count": 49,
      "outputs": [
        {
          "output_type": "execute_result",
          "data": {
            "text/html": [
              "<div>\n",
              "<style scoped>\n",
              "    .dataframe tbody tr th:only-of-type {\n",
              "        vertical-align: middle;\n",
              "    }\n",
              "\n",
              "    .dataframe tbody tr th {\n",
              "        vertical-align: top;\n",
              "    }\n",
              "\n",
              "    .dataframe thead th {\n",
              "        text-align: right;\n",
              "    }\n",
              "</style>\n",
              "<table border=\"1\" class=\"dataframe\">\n",
              "  <thead>\n",
              "    <tr style=\"text-align: right;\">\n",
              "      <th></th>\n",
              "      <th>Choice</th>\n",
              "      <th>A_follower_count</th>\n",
              "      <th>A_following_count</th>\n",
              "      <th>A_listed_count</th>\n",
              "      <th>A_mentions_received</th>\n",
              "      <th>A_retweets_received</th>\n",
              "      <th>A_mentions_sent</th>\n",
              "      <th>A_retweets_sent</th>\n",
              "      <th>A_posts</th>\n",
              "      <th>A_network_feature_1</th>\n",
              "      <th>A_network_feature_2</th>\n",
              "      <th>A_network_feature_3</th>\n",
              "      <th>B_follower_count</th>\n",
              "      <th>B_following_count</th>\n",
              "      <th>B_listed_count</th>\n",
              "      <th>B_mentions_received</th>\n",
              "      <th>B_retweets_received</th>\n",
              "      <th>B_mentions_sent</th>\n",
              "      <th>B_retweets_sent</th>\n",
              "      <th>B_posts</th>\n",
              "      <th>B_network_feature_1</th>\n",
              "      <th>B_network_feature_2</th>\n",
              "      <th>B_network_feature_3</th>\n",
              "    </tr>\n",
              "  </thead>\n",
              "  <tbody>\n",
              "    <tr>\n",
              "      <th>count</th>\n",
              "      <td>5500.000000</td>\n",
              "      <td>5.500000e+03</td>\n",
              "      <td>5.500000e+03</td>\n",
              "      <td>5500.000000</td>\n",
              "      <td>5.500000e+03</td>\n",
              "      <td>5500.000000</td>\n",
              "      <td>5500.000000</td>\n",
              "      <td>5500.000000</td>\n",
              "      <td>5500.000000</td>\n",
              "      <td>5500.000000</td>\n",
              "      <td>5500.000000</td>\n",
              "      <td>5500.000000</td>\n",
              "      <td>5.500000e+03</td>\n",
              "      <td>5500.000000</td>\n",
              "      <td>5500.000000</td>\n",
              "      <td>5.500000e+03</td>\n",
              "      <td>5500.000000</td>\n",
              "      <td>5500.000000</td>\n",
              "      <td>5500.000000</td>\n",
              "      <td>5500.000000</td>\n",
              "      <td>5500.000000</td>\n",
              "      <td>5500.000000</td>\n",
              "      <td>5500.000000</td>\n",
              "    </tr>\n",
              "    <tr>\n",
              "      <th>mean</th>\n",
              "      <td>0.509455</td>\n",
              "      <td>6.498840e+05</td>\n",
              "      <td>1.265895e+04</td>\n",
              "      <td>5952.453273</td>\n",
              "      <td>2.666032e+03</td>\n",
              "      <td>1032.371839</td>\n",
              "      <td>6.011873</td>\n",
              "      <td>1.109924</td>\n",
              "      <td>9.090730</td>\n",
              "      <td>5267.768000</td>\n",
              "      <td>84.805209</td>\n",
              "      <td>3747.219758</td>\n",
              "      <td>6.854869e+05</td>\n",
              "      <td>12738.259818</td>\n",
              "      <td>5903.148364</td>\n",
              "      <td>2.554598e+03</td>\n",
              "      <td>997.149954</td>\n",
              "      <td>6.099658</td>\n",
              "      <td>1.106236</td>\n",
              "      <td>9.505821</td>\n",
              "      <td>5254.933636</td>\n",
              "      <td>85.024196</td>\n",
              "      <td>3745.175480</td>\n",
              "    </tr>\n",
              "    <tr>\n",
              "      <th>std</th>\n",
              "      <td>0.499956</td>\n",
              "      <td>2.028787e+06</td>\n",
              "      <td>4.900867e+04</td>\n",
              "      <td>17339.141191</td>\n",
              "      <td>2.916543e+04</td>\n",
              "      <td>10954.953223</td>\n",
              "      <td>9.519797</td>\n",
              "      <td>1.910104</td>\n",
              "      <td>18.311060</td>\n",
              "      <td>28946.777345</td>\n",
              "      <td>104.073204</td>\n",
              "      <td>5757.339852</td>\n",
              "      <td>2.160612e+06</td>\n",
              "      <td>50054.520874</td>\n",
              "      <td>16298.462018</td>\n",
              "      <td>2.508873e+04</td>\n",
              "      <td>9342.006880</td>\n",
              "      <td>9.729557</td>\n",
              "      <td>1.939914</td>\n",
              "      <td>19.424680</td>\n",
              "      <td>26778.820125</td>\n",
              "      <td>106.689384</td>\n",
              "      <td>5518.399590</td>\n",
              "    </tr>\n",
              "    <tr>\n",
              "      <th>min</th>\n",
              "      <td>0.000000</td>\n",
              "      <td>1.600000e+01</td>\n",
              "      <td>0.000000e+00</td>\n",
              "      <td>0.000000</td>\n",
              "      <td>1.005034e-01</td>\n",
              "      <td>0.100503</td>\n",
              "      <td>0.100503</td>\n",
              "      <td>0.100503</td>\n",
              "      <td>0.100503</td>\n",
              "      <td>0.000000</td>\n",
              "      <td>0.000000</td>\n",
              "      <td>0.000000</td>\n",
              "      <td>2.000000e+01</td>\n",
              "      <td>0.000000</td>\n",
              "      <td>0.000000</td>\n",
              "      <td>1.005034e-01</td>\n",
              "      <td>0.100503</td>\n",
              "      <td>0.100503</td>\n",
              "      <td>0.100503</td>\n",
              "      <td>0.100503</td>\n",
              "      <td>0.000000</td>\n",
              "      <td>0.000000</td>\n",
              "      <td>0.000000</td>\n",
              "    </tr>\n",
              "    <tr>\n",
              "      <th>25%</th>\n",
              "      <td>0.000000</td>\n",
              "      <td>2.663750e+03</td>\n",
              "      <td>3.220000e+02</td>\n",
              "      <td>85.000000</td>\n",
              "      <td>3.453649e+00</td>\n",
              "      <td>0.716816</td>\n",
              "      <td>0.359534</td>\n",
              "      <td>0.100503</td>\n",
              "      <td>0.632440</td>\n",
              "      <td>12.000000</td>\n",
              "      <td>14.991870</td>\n",
              "      <td>1180.805341</td>\n",
              "      <td>2.498250e+03</td>\n",
              "      <td>322.000000</td>\n",
              "      <td>75.000000</td>\n",
              "      <td>3.260473e+00</td>\n",
              "      <td>0.714556</td>\n",
              "      <td>0.356943</td>\n",
              "      <td>0.100503</td>\n",
              "      <td>0.822584</td>\n",
              "      <td>11.000000</td>\n",
              "      <td>15.176568</td>\n",
              "      <td>1206.500000</td>\n",
              "    </tr>\n",
              "    <tr>\n",
              "      <th>50%</th>\n",
              "      <td>1.000000</td>\n",
              "      <td>4.558900e+04</td>\n",
              "      <td>7.780000e+02</td>\n",
              "      <td>932.000000</td>\n",
              "      <td>4.876542e+01</td>\n",
              "      <td>14.029113</td>\n",
              "      <td>2.299666</td>\n",
              "      <td>0.341936</td>\n",
              "      <td>3.555194</td>\n",
              "      <td>195.000000</td>\n",
              "      <td>54.925234</td>\n",
              "      <td>2206.420734</td>\n",
              "      <td>4.402700e+04</td>\n",
              "      <td>773.000000</td>\n",
              "      <td>890.000000</td>\n",
              "      <td>4.876542e+01</td>\n",
              "      <td>14.029113</td>\n",
              "      <td>2.251398</td>\n",
              "      <td>0.341936</td>\n",
              "      <td>3.342999</td>\n",
              "      <td>190.000000</td>\n",
              "      <td>54.925234</td>\n",
              "      <td>2206.420734</td>\n",
              "    </tr>\n",
              "    <tr>\n",
              "      <th>75%</th>\n",
              "      <td>1.000000</td>\n",
              "      <td>3.927380e+05</td>\n",
              "      <td>2.838000e+03</td>\n",
              "      <td>6734.000000</td>\n",
              "      <td>3.498196e+02</td>\n",
              "      <td>118.704407</td>\n",
              "      <td>7.198330</td>\n",
              "      <td>1.320681</td>\n",
              "      <td>10.691878</td>\n",
              "      <td>1323.000000</td>\n",
              "      <td>109.695652</td>\n",
              "      <td>4390.379310</td>\n",
              "      <td>3.701142e+05</td>\n",
              "      <td>2838.000000</td>\n",
              "      <td>6734.000000</td>\n",
              "      <td>3.743699e+02</td>\n",
              "      <td>107.081021</td>\n",
              "      <td>6.866840</td>\n",
              "      <td>1.320681</td>\n",
              "      <td>10.600502</td>\n",
              "      <td>1323.000000</td>\n",
              "      <td>112.191489</td>\n",
              "      <td>4349.908608</td>\n",
              "    </tr>\n",
              "    <tr>\n",
              "      <th>max</th>\n",
              "      <td>1.000000</td>\n",
              "      <td>3.654319e+07</td>\n",
              "      <td>1.165830e+06</td>\n",
              "      <td>549144.000000</td>\n",
              "      <td>1.145219e+06</td>\n",
              "      <td>435825.874241</td>\n",
              "      <td>76.809514</td>\n",
              "      <td>16.290540</td>\n",
              "      <td>193.072418</td>\n",
              "      <td>920838.000000</td>\n",
              "      <td>1121.000000</td>\n",
              "      <td>144651.461538</td>\n",
              "      <td>3.654319e+07</td>\n",
              "      <td>664324.000000</td>\n",
              "      <td>549144.000000</td>\n",
              "      <td>1.145219e+06</td>\n",
              "      <td>435825.874241</td>\n",
              "      <td>76.809514</td>\n",
              "      <td>16.290540</td>\n",
              "      <td>193.072418</td>\n",
              "      <td>920838.000000</td>\n",
              "      <td>1861.583333</td>\n",
              "      <td>75526.083333</td>\n",
              "    </tr>\n",
              "  </tbody>\n",
              "</table>\n",
              "</div>"
            ],
            "text/plain": [
              "            Choice  A_follower_count  ...  B_network_feature_2  B_network_feature_3\n",
              "count  5500.000000      5.500000e+03  ...          5500.000000          5500.000000\n",
              "mean      0.509455      6.498840e+05  ...            85.024196          3745.175480\n",
              "std       0.499956      2.028787e+06  ...           106.689384          5518.399590\n",
              "min       0.000000      1.600000e+01  ...             0.000000             0.000000\n",
              "25%       0.000000      2.663750e+03  ...            15.176568          1206.500000\n",
              "50%       1.000000      4.558900e+04  ...            54.925234          2206.420734\n",
              "75%       1.000000      3.927380e+05  ...           112.191489          4349.908608\n",
              "max       1.000000      3.654319e+07  ...          1861.583333         75526.083333\n",
              "\n",
              "[8 rows x 23 columns]"
            ]
          },
          "metadata": {
            "tags": []
          },
          "execution_count": 49
        }
      ]
    },
    {
      "cell_type": "code",
      "metadata": {
        "colab": {
          "base_uri": "https://localhost:8080/"
        },
        "id": "ZLoddoykVA0f",
        "outputId": "6cf62ce2-ebd6-4f5c-aab4-d643ea559c34"
      },
      "source": [
        "df_train.shape"
      ],
      "execution_count": 50,
      "outputs": [
        {
          "output_type": "execute_result",
          "data": {
            "text/plain": [
              "(5500, 23)"
            ]
          },
          "metadata": {
            "tags": []
          },
          "execution_count": 50
        }
      ]
    },
    {
      "cell_type": "code",
      "metadata": {
        "colab": {
          "base_uri": "https://localhost:8080/",
          "height": 383
        },
        "id": "LJJwV8_CVHmL",
        "outputId": "f9f0bc5b-259f-4948-9559-aa333a3ba027"
      },
      "source": [
        "sns.heatmap(data=df_train.isnull())"
      ],
      "execution_count": 51,
      "outputs": [
        {
          "output_type": "execute_result",
          "data": {
            "text/plain": [
              "<matplotlib.axes._subplots.AxesSubplot at 0x7f638e437dd0>"
            ]
          },
          "metadata": {
            "tags": []
          },
          "execution_count": 51
        },
        {
          "output_type": "display_data",
          "data": {
            "image/png": "[encoded data removed]",
            "text/plain": [
              "<Figure size 432x288 with 2 Axes>"
            ]
          },
          "metadata": {
            "tags": [],
            "needs_background": "light"
          }
        }
      ]
    },
    {
      "cell_type": "markdown",
      "metadata": {
        "id": "fgX5ou5yVLaX"
      },
      "source": [
        "Clean data, No missing Values"
      ]
    },
    {
      "cell_type": "code",
      "metadata": {
        "colab": {
          "base_uri": "https://localhost:8080/",
          "height": 878
        },
        "id": "d2IOLhEqVNrT",
        "outputId": "94bd7fd1-e4d1-4197-eb5d-1c4cf0962e23"
      },
      "source": [
        "df_train.hist(figsize=(15,15))\n",
        "plt.show()"
      ],
      "execution_count": 52,
      "outputs": [
        {
          "output_type": "display_data",
          "data": {
            "image/png": "[encoded data removed]",
            "text/plain": [
              "<Figure size 1080x1080 with 25 Axes>"
            ]
          },
          "metadata": {
            "tags": [],
            "needs_background": "light"
          }
        }
      ]
    },
    {
      "cell_type": "code",
      "metadata": {
        "id": "s7d19OWdXuYt"
      },
      "source": [
        "# Defining predictors and target \n",
        "predictors = list(df_train.columns[1:])\n",
        "target = [df_train.columns[0]]\n",
        "A_predictors = list(df_train.columns[1:12])\n",
        "B_predictors = list(df_train.columns[12:23])\n",
        "X_train = df_train[predictors]\n",
        "y_train = df_train[target]"
      ],
      "execution_count": 53,
      "outputs": []
    },
    {
      "cell_type": "code",
      "metadata": {
        "id": "RNKTI5zfYThA"
      },
      "source": [
        "choice_A= df_train.loc[df_train['Choice']==0]\n",
        "choice_B= df_train.loc[df_train['Choice']==1]"
      ],
      "execution_count": 54,
      "outputs": []
    },
    {
      "cell_type": "code",
      "metadata": {
        "colab": {
          "base_uri": "https://localhost:8080/"
        },
        "id": "3PD4HjtOY4Vx",
        "outputId": "628bd056-47cf-4694-a49d-5cda94b832a1"
      },
      "source": [
        "# visualizing each column distribution\n",
        "#x_space = np.linspace(start= df_train.A_follower_count.min(), stop=df_train.A_follower_count.max(),num=len(df_train['A_follower_count']))\n",
        "x_space = np.linspace(start= choice_A.A_follower_count.min(), stop=choice_A.A_follower_count.max(),num=len(choice_A['A_follower_count']))\n",
        "len(x_space)"
      ],
      "execution_count": 55,
      "outputs": [
        {
          "output_type": "execute_result",
          "data": {
            "text/plain": [
              "2698"
            ]
          },
          "metadata": {
            "tags": []
          },
          "execution_count": 55
        }
      ]
    },
    {
      "cell_type": "code",
      "metadata": {
        "colab": {
          "base_uri": "https://localhost:8080/"
        },
        "id": "4Sj0NJJKZYep",
        "outputId": "dc362b9b-6e46-4213-e3f0-35ffe3a16b20"
      },
      "source": [
        "x1_space = np.linspace(start= df_train.B_follower_count.min(), stop=df_train.B_follower_count.max(),num=len(df_train['B_follower_count']))\n",
        "x1_space = np.linspace(start= choice_B.B_follower_count.min(), stop=choice_B.B_follower_count.max(),num=len(choice_B['B_follower_count']))\n",
        "len(x1_space)"
      ],
      "execution_count": 56,
      "outputs": [
        {
          "output_type": "execute_result",
          "data": {
            "text/plain": [
              "2802"
            ]
          },
          "metadata": {
            "tags": []
          },
          "execution_count": 56
        }
      ]
    },
    {
      "cell_type": "code",
      "metadata": {
        "colab": {
          "base_uri": "https://localhost:8080/",
          "height": 415
        },
        "id": "N8iWQlLqZt1r",
        "outputId": "e3658fb3-8665-4218-b7e1-2c29475a2a79"
      },
      "source": [
        "fig = plt.figure(figsize=(12,6))\n",
        "plt.scatter(x_space,choice_A['A_follower_count'])"
      ],
      "execution_count": 57,
      "outputs": [
        {
          "output_type": "execute_result",
          "data": {
            "text/plain": [
              "<matplotlib.collections.PathCollection at 0x7f63764c27d0>"
            ]
          },
          "metadata": {
            "tags": []
          },
          "execution_count": 57
        },
        {
          "output_type": "display_data",
          "data": {
            "image/png": "[encoded data removed]",
            "text/plain": [
              "<Figure size 864x432 with 1 Axes>"
            ]
          },
          "metadata": {
            "tags": [],
            "needs_background": "light"
          }
        }
      ]
    },
    {
      "cell_type": "code",
      "metadata": {
        "colab": {
          "base_uri": "https://localhost:8080/",
          "height": 415
        },
        "id": "gnjPiA1yZ24b",
        "outputId": "94d12bb0-2475-49c2-a3a4-174ef70078ce"
      },
      "source": [
        "fig = plt.figure(figsize=(12,6))\n",
        "plt.scatter(x1_space,choice_B['B_follower_count'])"
      ],
      "execution_count": 58,
      "outputs": [
        {
          "output_type": "execute_result",
          "data": {
            "text/plain": [
              "<matplotlib.collections.PathCollection at 0x7f637646ecd0>"
            ]
          },
          "metadata": {
            "tags": []
          },
          "execution_count": 58
        },
        {
          "output_type": "display_data",
          "data": {
            "image/png": "[encoded data removed]",
            "text/plain": [
              "<Figure size 864x432 with 1 Axes>"
            ]
          },
          "metadata": {
            "tags": [],
            "needs_background": "light"
          }
        }
      ]
    },
    {
      "cell_type": "code",
      "metadata": {
        "colab": {
          "base_uri": "https://localhost:8080/"
        },
        "id": "dW9iHNWGbBlH",
        "outputId": "faca0af0-ba39-4fb2-ac9f-71848c3526c9"
      },
      "source": [
        "df_test.info()"
      ],
      "execution_count": 59,
      "outputs": [
        {
          "output_type": "stream",
          "text": [
            "<class 'pandas.core.frame.DataFrame'>\n",
            "RangeIndex: 5952 entries, 0 to 5951\n",
            "Data columns (total 22 columns):\n",
            " #   Column               Non-Null Count  Dtype  \n",
            "---  ------               --------------  -----  \n",
            " 0   A_follower_count     5952 non-null   int64  \n",
            " 1   A_following_count    5952 non-null   int64  \n",
            " 2   A_listed_count       5952 non-null   int64  \n",
            " 3   A_mentions_received  5952 non-null   float64\n",
            " 4   A_retweets_received  5952 non-null   float64\n",
            " 5   A_mentions_sent      5952 non-null   float64\n",
            " 6   A_retweets_sent      5952 non-null   float64\n",
            " 7   A_posts              5952 non-null   float64\n",
            " 8   A_network_feature_1  5952 non-null   int64  \n",
            " 9   A_network_feature_2  5952 non-null   float64\n",
            " 10  A_network_feature_3  5952 non-null   float64\n",
            " 11  B_follower_count     5952 non-null   int64  \n",
            " 12  B_following_count    5952 non-null   int64  \n",
            " 13  B_listed_count       5952 non-null   int64  \n",
            " 14  B_mentions_received  5952 non-null   float64\n",
            " 15  B_retweets_received  5952 non-null   float64\n",
            " 16  B_mentions_sent      5952 non-null   float64\n",
            " 17  B_retweets_sent      5952 non-null   float64\n",
            " 18  B_posts              5952 non-null   float64\n",
            " 19  B_network_feature_1  5952 non-null   int64  \n",
            " 20  B_network_feature_2  5952 non-null   float64\n",
            " 21  B_network_feature_3  5952 non-null   float64\n",
            "dtypes: float64(14), int64(8)\n",
            "memory usage: 1023.1 KB\n"
          ],
          "name": "stdout"
        }
      ]
    },
    {
      "cell_type": "code",
      "metadata": {
        "id": "fwYBKLgdaoFv"
      },
      "source": [
        "A_predictors = list(df_test.columns[1:12])\n",
        "B_predictors = list(df_test.columns[12:23])\n",
        "X_test = df_test"
      ],
      "execution_count": 62,
      "outputs": []
    },
    {
      "cell_type": "code",
      "metadata": {
        "colab": {
          "base_uri": "https://localhost:8080/"
        },
        "id": "gLjp6QKcfPCq",
        "outputId": "74c5a887-2c89-4986-eb8f-c66b51612896"
      },
      "source": [
        "X_train.info(), X_test.info()"
      ],
      "execution_count": 63,
      "outputs": [
        {
          "output_type": "stream",
          "text": [
            "<class 'pandas.core.frame.DataFrame'>\n",
            "RangeIndex: 5500 entries, 0 to 5499\n",
            "Data columns (total 22 columns):\n",
            " #   Column               Non-Null Count  Dtype  \n",
            "---  ------               --------------  -----  \n",
            " 0   A_follower_count     5500 non-null   int64  \n",
            " 1   A_following_count    5500 non-null   int64  \n",
            " 2   A_listed_count       5500 non-null   int64  \n",
            " 3   A_mentions_received  5500 non-null   float64\n",
            " 4   A_retweets_received  5500 non-null   float64\n",
            " 5   A_mentions_sent      5500 non-null   float64\n",
            " 6   A_retweets_sent      5500 non-null   float64\n",
            " 7   A_posts              5500 non-null   float64\n",
            " 8   A_network_feature_1  5500 non-null   int64  \n",
            " 9   A_network_feature_2  5500 non-null   float64\n",
            " 10  A_network_feature_3  5500 non-null   float64\n",
            " 11  B_follower_count     5500 non-null   int64  \n",
            " 12  B_following_count    5500 non-null   int64  \n",
            " 13  B_listed_count       5500 non-null   int64  \n",
            " 14  B_mentions_received  5500 non-null   float64\n",
            " 15  B_retweets_received  5500 non-null   float64\n",
            " 16  B_mentions_sent      5500 non-null   float64\n",
            " 17  B_retweets_sent      5500 non-null   float64\n",
            " 18  B_posts              5500 non-null   float64\n",
            " 19  B_network_feature_1  5500 non-null   int64  \n",
            " 20  B_network_feature_2  5500 non-null   float64\n",
            " 21  B_network_feature_3  5500 non-null   float64\n",
            "dtypes: float64(14), int64(8)\n",
            "memory usage: 945.4 KB\n",
            "<class 'pandas.core.frame.DataFrame'>\n",
            "RangeIndex: 5952 entries, 0 to 5951\n",
            "Data columns (total 22 columns):\n",
            " #   Column               Non-Null Count  Dtype  \n",
            "---  ------               --------------  -----  \n",
            " 0   A_follower_count     5952 non-null   int64  \n",
            " 1   A_following_count    5952 non-null   int64  \n",
            " 2   A_listed_count       5952 non-null   int64  \n",
            " 3   A_mentions_received  5952 non-null   float64\n",
            " 4   A_retweets_received  5952 non-null   float64\n",
            " 5   A_mentions_sent      5952 non-null   float64\n",
            " 6   A_retweets_sent      5952 non-null   float64\n",
            " 7   A_posts              5952 non-null   float64\n",
            " 8   A_network_feature_1  5952 non-null   int64  \n",
            " 9   A_network_feature_2  5952 non-null   float64\n",
            " 10  A_network_feature_3  5952 non-null   float64\n",
            " 11  B_follower_count     5952 non-null   int64  \n",
            " 12  B_following_count    5952 non-null   int64  \n",
            " 13  B_listed_count       5952 non-null   int64  \n",
            " 14  B_mentions_received  5952 non-null   float64\n",
            " 15  B_retweets_received  5952 non-null   float64\n",
            " 16  B_mentions_sent      5952 non-null   float64\n",
            " 17  B_retweets_sent      5952 non-null   float64\n",
            " 18  B_posts              5952 non-null   float64\n",
            " 19  B_network_feature_1  5952 non-null   int64  \n",
            " 20  B_network_feature_2  5952 non-null   float64\n",
            " 21  B_network_feature_3  5952 non-null   float64\n",
            "dtypes: float64(14), int64(8)\n",
            "memory usage: 1023.1 KB\n"
          ],
          "name": "stdout"
        },
        {
          "output_type": "execute_result",
          "data": {
            "text/plain": [
              "(None, None)"
            ]
          },
          "metadata": {
            "tags": []
          },
          "execution_count": 63
        }
      ]
    },
    {
      "cell_type": "code",
      "metadata": {
        "id": "ocE3KcV3iUHx"
      },
      "source": [
        "X= df_train[predictors] \n",
        "y =df_train[target]"
      ],
      "execution_count": 75,
      "outputs": []
    },
    {
      "cell_type": "code",
      "metadata": {
        "id": "vCBYJa8Uhp6U"
      },
      "source": [
        "from sklearn.model_selection import train_test_split\n",
        "x_train, x_test,  y_train, y_test = train_test_split(X,y,test_size=0.2, random_state=5)"
      ],
      "execution_count": 78,
      "outputs": []
    },
    {
      "cell_type": "code",
      "metadata": {
        "colab": {
          "base_uri": "https://localhost:8080/"
        },
        "id": "J2vlKfEBZ_6k",
        "outputId": "b82317f2-5787-4f3d-8111-60de8ecf891a"
      },
      "source": [
        "from sklearn.model_selection import GridSearchCV\n",
        "from sklearn.linear_model import LinearRegression, LogisticRegression\n",
        "from sklearn.neighbors import KNeighborsClassifier\n",
        "from sklearn.tree import DecisionTreeClassifier\n",
        "from sklearn.ensemble import RandomForestClassifier\n",
        "from sklearn.naive_bayes import GaussianNB\n",
        "from sklearn.svm import SVC\n",
        "from sklearn.linear_model import SGDRegressor\n",
        "from sklearn.neighbors import KNeighborsRegressor\n",
        "from sklearn.tree import DecisionTreeRegressor\n",
        "from sklearn.ensemble import RandomForestRegressor\n",
        "from sklearn.svm import SVR\n",
        "from xgboost import XGBRegressor\n",
        "from sklearn.metrics import classification_report, confusion_matrix, mean_absolute_error, roc_curve, roc_auc_score, r2_score, mean_squared_error\n",
        "from sklearn import metrics\n",
        "from sklearn.discriminant_analysis  import LinearDiscriminantAnalysis\n",
        "\n",
        "models = {\n",
        "    \"Linear Regression\": LinearRegression(fit_intercept=True),\n",
        "    \"KNN\": KNeighborsClassifier(),\n",
        "    \"SVM\" :SVC(),\n",
        "    \"SVM\" :SVR(),\n",
        "    \"XGbr\":XGBRegressor(),\n",
        "    \"SGD\": SGDRegressor(),\n",
        "    \"Decisiontree\": DecisionTreeRegressor(),\n",
        "    \"RandomForest\": RandomForestRegressor(),\n",
        "    \"LogisticRegression\": LogisticRegression()\n",
        "}\n",
        "\n",
        "for model in models.items():\n",
        "    m = model[1]\n",
        "    m.fit(x_train, y_train)\n",
        "    print(model[0])\n",
        "    print(\"Score: \", m.score(x_test,y_test))\n",
        "    print(\"\")"
      ],
      "execution_count": 83,
      "outputs": [
        {
          "output_type": "stream",
          "text": [
            "Linear Regression\n",
            "Score:  0.18322492060478335\n",
            "\n",
            "KNN\n",
            "Score:  0.7536363636363637\n",
            "\n"
          ],
          "name": "stdout"
        },
        {
          "output_type": "stream",
          "text": [
            "/usr/local/lib/python3.7/dist-packages/ipykernel_launcher.py:32: DataConversionWarning: A column-vector y was passed when a 1d array was expected. Please change the shape of y to (n_samples, ), for example using ravel().\n",
            "/usr/local/lib/python3.7/dist-packages/sklearn/utils/validation.py:760: DataConversionWarning: A column-vector y was passed when a 1d array was expected. Please change the shape of y to (n_samples, ), for example using ravel().\n",
            "  y = column_or_1d(y, warn=True)\n"
          ],
          "name": "stderr"
        },
        {
          "output_type": "stream",
          "text": [
            "SVM\n",
            "Score:  0.23731973613614032\n",
            "\n",
            "[10:41:03] WARNING: /workspace/src/objective/regression_obj.cu:152: reg:linear is now deprecated in favor of reg:squarederror.\n",
            "XGbr\n",
            "Score:  0.46248247015361643\n",
            "\n",
            "SGD\n",
            "Score:  -1.9580848666569655e+45\n",
            "\n",
            "Decisiontree\n",
            "Score:  -0.08376534066864139\n",
            "\n"
          ],
          "name": "stdout"
        },
        {
          "output_type": "stream",
          "text": [
            "/usr/local/lib/python3.7/dist-packages/sklearn/utils/validation.py:760: DataConversionWarning: A column-vector y was passed when a 1d array was expected. Please change the shape of y to (n_samples, ), for example using ravel().\n",
            "  y = column_or_1d(y, warn=True)\n",
            "/usr/local/lib/python3.7/dist-packages/ipykernel_launcher.py:32: DataConversionWarning: A column-vector y was passed when a 1d array was expected. Please change the shape of y to (n_samples,), for example using ravel().\n"
          ],
          "name": "stderr"
        },
        {
          "output_type": "stream",
          "text": [
            "RandomForest\n",
            "Score:  0.4282916764558793\n",
            "\n",
            "LogisticRegression\n",
            "Score:  0.76\n",
            "\n"
          ],
          "name": "stdout"
        },
        {
          "output_type": "stream",
          "text": [
            "/usr/local/lib/python3.7/dist-packages/sklearn/utils/validation.py:760: DataConversionWarning: A column-vector y was passed when a 1d array was expected. Please change the shape of y to (n_samples, ), for example using ravel().\n",
            "  y = column_or_1d(y, warn=True)\n",
            "/usr/local/lib/python3.7/dist-packages/sklearn/linear_model/_logistic.py:940: ConvergenceWarning: lbfgs failed to converge (status=1):\n",
            "STOP: TOTAL NO. of ITERATIONS REACHED LIMIT.\n",
            "\n",
            "Increase the number of iterations (max_iter) or scale the data as shown in:\n",
            "    https://scikit-learn.org/stable/modules/preprocessing.html\n",
            "Please also refer to the documentation for alternative solver options:\n",
            "    https://scikit-learn.org/stable/modules/linear_model.html#logistic-regression\n",
            "  extra_warning_msg=_LOGISTIC_SOLVER_CONVERGENCE_MSG)\n"
          ],
          "name": "stderr"
        }
      ]
    },
    {
      "cell_type": "markdown",
      "metadata": {
        "id": "W9Qou8NOkOyw"
      },
      "source": [
        "**Predicting some of the value**"
      ]
    },
    {
      "cell_type": "code",
      "metadata": {
        "colab": {
          "base_uri": "https://localhost:8080/"
        },
        "id": "URG7XEmYjvXG",
        "outputId": "1897bf69-a3a8-4350-a70d-77087926e166"
      },
      "source": [
        "rfc = LogisticRegression()\n",
        "rfc.fit(X= df_train[predictors], y =df_train[target] )\n",
        "predict_values = rfc.predict(df_test)\n",
        "y = predict_values\n",
        "y"
      ],
      "execution_count": 86,
      "outputs": [
        {
          "output_type": "stream",
          "text": [
            "/usr/local/lib/python3.7/dist-packages/sklearn/utils/validation.py:760: DataConversionWarning: A column-vector y was passed when a 1d array was expected. Please change the shape of y to (n_samples, ), for example using ravel().\n",
            "  y = column_or_1d(y, warn=True)\n",
            "/usr/local/lib/python3.7/dist-packages/sklearn/linear_model/_logistic.py:940: ConvergenceWarning: lbfgs failed to converge (status=1):\n",
            "STOP: TOTAL NO. of ITERATIONS REACHED LIMIT.\n",
            "\n",
            "Increase the number of iterations (max_iter) or scale the data as shown in:\n",
            "    https://scikit-learn.org/stable/modules/preprocessing.html\n",
            "Please also refer to the documentation for alternative solver options:\n",
            "    https://scikit-learn.org/stable/modules/linear_model.html#logistic-regression\n",
            "  extra_warning_msg=_LOGISTIC_SOLVER_CONVERGENCE_MSG)\n"
          ],
          "name": "stderr"
        },
        {
          "output_type": "execute_result",
          "data": {
            "text/plain": [
              "array([0, 0, 0, ..., 0, 0, 0])"
            ]
          },
          "metadata": {
            "tags": []
          },
          "execution_count": 86
        }
      ]
    },
    {
      "cell_type": "code",
      "metadata": {
        "colab": {
          "base_uri": "https://localhost:8080/"
        },
        "id": "wuwy9LS-kEb3",
        "outputId": "96fc801d-17f7-4067-cd95-4084e37e96fe"
      },
      "source": [
        "rfc = KNeighborsClassifier()\n",
        "rfc.fit(X= df_train[predictors], y =df_train[target] )\n",
        "predict_values = rfc.predict(df_test)\n",
        "y = predict_values\n",
        "y"
      ],
      "execution_count": 88,
      "outputs": [
        {
          "output_type": "stream",
          "text": [
            "/usr/local/lib/python3.7/dist-packages/ipykernel_launcher.py:2: DataConversionWarning: A column-vector y was passed when a 1d array was expected. Please change the shape of y to (n_samples, ), for example using ravel().\n",
            "  \n"
          ],
          "name": "stderr"
        },
        {
          "output_type": "execute_result",
          "data": {
            "text/plain": [
              "array([1, 0, 0, ..., 1, 1, 0])"
            ]
          },
          "metadata": {
            "tags": []
          },
          "execution_count": 88
        }
      ]
    }
  ]
}