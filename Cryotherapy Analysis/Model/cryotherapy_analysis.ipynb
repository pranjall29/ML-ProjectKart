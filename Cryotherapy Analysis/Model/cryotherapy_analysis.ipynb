{
 "cells": [
  {
   "cell_type": "markdown",
   "metadata": {},
   "source": [
    "# Cryotherapy Analysis\n",
    "Cryotherapy is a treatment where your healthcare provider applies extreme cold to freeze and destroy abnormal tissue. To create this severe cold, your provider will use a substance like liquid nitrogen or argon gas.\n",
    "\n",
    "Cryotherapy can be used to treat a variety of skin conditions and some cancers, including prostate and liver cancer. This therapy can treat tissue externally (on the skin) and internally (inside the body).\n",
    "\n",
    "This treatment can also be called cryoablation.\n",
    "\n",
    "![](cr1.jpg)"
   ]
  },
  {
   "cell_type": "markdown",
   "metadata": {},
   "source": [
    "### Contents\n",
    "* [**Abstract**](#abstract)\n",
    "* [**Dataset**](#dataset)\n",
    "* [**Importing Dataset and the required libraries**](#import)\n",
    "* [**Information about the dataset**](#info)\n",
    "* [**Classification Models**](#model)\n",
    "    * [K-Nearest Neighbour Algorithm](#knn)\n",
    "    * [Decision Tree Classifier](#dtc)\n",
    "    * [Random Forest Classifier](#rfc)\n",
    "    * [Gausian NB Algorithm](#gnb)\n",
    "    * [Logistic Regression](#log)\n",
    "    * [Support Vector Machine](#svm)\n",
    "    * [Gradient Boosting Algorithm](#gb)\n",
    "    * [AdaBoost Algorithm](#ada)\n",
    "    * [Artificial Neural Network](#ann)\n",
    "* [**Accuracy Score of the algorithms**](#score)\n",
    "* [**ROC Curve of the algorithms**](#roc)\n",
    "* [**Conclusion**](#conclusion)"
   ]
  },
  {
   "cell_type": "markdown",
   "metadata": {},
   "source": [
    "<a id = 'abstract'></a>\n",
    "### Abstract\n",
    "Cryotherapy is used in an effort to relieve muscle pain, sprains and swelling after soft tissue damage or surgery. It is commonly used to accelerate recovery in athletes post exercise for decades. Scientifically, cryotherapy decreases the temperature of tissue surface to minimize hypoxic cell death, edema accumulation, and muscle spasms, all of which ultimately alleviate discomfort and inflammation. It can be a range of treatments from the application of ice packs or immersion in ice baths (generally known as cold therapy), to the use of cold chambers.\n",
    "\n",
    "Here in this project we are going to analyze the cryotherapy dataset and will deploy several machine learning algorithm models, such as, Random Forest Classifier, Decision Tree Classifier, KNN Algorithm, Gausian NB, Logistic Regression, Support Vector Machine, Gradient Boosting, Adaboost and ANN. After deploying all the models we will do a comparative analysis among them to determine the accurate model."
   ]
  },
  {
   "cell_type": "markdown",
   "metadata": {},
   "source": [
    "<a id = 'dataset'></a>\n",
    "### Dataset\n",
    "The dataset which is used in this project, is collected from Kaggle. Here is the link of the dataset : https://www.kaggle.com/mmkvarma/cryotherapy-analysis"
   ]
  },
  {
   "cell_type": "markdown",
   "metadata": {},
   "source": [
    "<a id = 'import'></a>\n",
    "### Importing the Dataset and the required libraries"
   ]
  },
  {
   "cell_type": "code",
   "execution_count": 2,
   "metadata": {
    "_cell_guid": "b1076dfc-b9ad-4769-8c92-a6c4dae69d19",
    "_uuid": "8f2839f25d086af736a60e9eeb907d3b93b6e0e5"
   },
   "outputs": [],
   "source": [
    "import numpy as np # linear algebra\n",
    "import pandas as pd # data processing, CSV file I/O (e.g. pd.read_csv)\n",
    "import matplotlib.pyplot as plt\n",
    "import seaborn as sns"
   ]
  },
  {
   "cell_type": "code",
   "execution_count": 3,
   "metadata": {},
   "outputs": [],
   "source": [
    "def precision_hesapla(class_id,TP, FP, TN, FN):\n",
    "    sonuc=0\n",
    "    for i in range(0,len(class_id)):\n",
    "        if (TP[i]==0 or FP[i]==0):\n",
    "            TP[i]=0.00000001\n",
    "            FP[i]=0.00000001\n",
    "        sonuc+=(TP[i]/(TP[i]+FP[i]))\n",
    "        \n",
    "    sonuc=sonuc/len(class_id)\n",
    "    return sonuc\n",
    "\n",
    "def recall_hesapla(class_id,TP, FP, TN, FN):\n",
    "    sonuc=0\n",
    "    for i in range(0,len(class_id)):\n",
    "        if (TP[i]==0 or FN[i]==0):\n",
    "            TP[i]=0.00000001\n",
    "            FN[i]=0.00000001\n",
    "        sonuc+=(TP[i]/(TP[i]+FN[i]))\n",
    "       \n",
    "    sonuc=sonuc/len(class_id)\n",
    "    return sonuc\n",
    "def accuracy_hesapla(class_id,TP, FP, TN, FN):\n",
    "    sonuc=0\n",
    "    for i in range(0,len(class_id)):\n",
    "        sonuc+=((TP[i]+TN[i])/(TP[i]+FP[i]+TN[i]+FN[i]))\n",
    "        \n",
    "    sonuc=sonuc/len(class_id)\n",
    "    return sonuc\n",
    "def specificity_hesapla(class_id,TP, FP, TN, FN):\n",
    "    sonuc=0\n",
    "    for i in range(0,len(class_id)):\n",
    "        if (TN[i]==0 or FP[i]==0):\n",
    "            TN[i]=0.00000001\n",
    "            FP[i]=0.00000001\n",
    "        sonuc+=(TN[i]/(FP[i]+TN[i]))\n",
    "        \n",
    "    sonuc=sonuc/len(class_id)\n",
    "    return sonuc\n",
    "def NPV_hesapla(class_id,TP, FP, TN, FN):\n",
    "    sonuc=0\n",
    "    for i in range(0,len(class_id)):\n",
    "        if (TN[i]==0 or FN[i]==0):\n",
    "            TN[i]=0.00000001\n",
    "            FN[i]=0.00000001\n",
    "        sonuc+=(TN[i]/(TN[i]+FN[i]))\n",
    "        \n",
    "    sonuc=sonuc/len(class_id)\n",
    "    return sonuc\n",
    "def perf_measure(y_actual, y_pred):\n",
    "    class_id = set(y_actual).union(set(y_pred))\n",
    "    TP = []\n",
    "    FP = []\n",
    "    TN = []\n",
    "    FN = []\n",
    "\n",
    "    for index ,_id in enumerate(class_id):\n",
    "        TP.append(0)\n",
    "        FP.append(0)\n",
    "        TN.append(0)\n",
    "        FN.append(0)\n",
    "        for i in range(len(y_pred)):\n",
    "            if y_actual[i] == y_pred[i] == _id:\n",
    "                TP[index] += 1\n",
    "            if y_pred[i] == _id and y_actual[i] != y_pred[i]:\n",
    "                FP[index] += 1\n",
    "            if y_actual[i] == y_pred[i] != _id:\n",
    "                TN[index] += 1\n",
    "            if y_pred[i] != _id and y_actual[i] != y_pred[i]:\n",
    "                FN[index] += 1\n",
    "\n",
    "\n",
    "    return class_id,TP, FP, TN, FN"
   ]
  },
  {
   "cell_type": "code",
   "execution_count": 4,
   "metadata": {
    "_cell_guid": "79c7e3d0-c299-4dcb-8224-4455121ee9b0",
    "_uuid": "d629ff2d2480ee46fbb7e2d37f6b5fab8052498a"
   },
   "outputs": [],
   "source": [
    "df=pd.read_excel(\"Cryotherapy.xlsx\")"
   ]
  },
  {
   "cell_type": "code",
   "execution_count": 5,
   "metadata": {},
   "outputs": [
    {
     "data": {
      "text/html": [
       "<div>\n",
       "<style scoped>\n",
       "    .dataframe tbody tr th:only-of-type {\n",
       "        vertical-align: middle;\n",
       "    }\n",
       "\n",
       "    .dataframe tbody tr th {\n",
       "        vertical-align: top;\n",
       "    }\n",
       "\n",
       "    .dataframe thead th {\n",
       "        text-align: right;\n",
       "    }\n",
       "</style>\n",
       "<table border=\"1\" class=\"dataframe\">\n",
       "  <thead>\n",
       "    <tr style=\"text-align: right;\">\n",
       "      <th></th>\n",
       "      <th>sex</th>\n",
       "      <th>age</th>\n",
       "      <th>Time</th>\n",
       "      <th>Number_of_Warts</th>\n",
       "      <th>Type</th>\n",
       "      <th>Area</th>\n",
       "      <th>Result_of_Treatment</th>\n",
       "    </tr>\n",
       "  </thead>\n",
       "  <tbody>\n",
       "    <tr>\n",
       "      <th>0</th>\n",
       "      <td>1</td>\n",
       "      <td>35</td>\n",
       "      <td>12.00</td>\n",
       "      <td>5</td>\n",
       "      <td>1</td>\n",
       "      <td>100</td>\n",
       "      <td>0</td>\n",
       "    </tr>\n",
       "    <tr>\n",
       "      <th>1</th>\n",
       "      <td>1</td>\n",
       "      <td>29</td>\n",
       "      <td>7.00</td>\n",
       "      <td>5</td>\n",
       "      <td>1</td>\n",
       "      <td>96</td>\n",
       "      <td>1</td>\n",
       "    </tr>\n",
       "    <tr>\n",
       "      <th>2</th>\n",
       "      <td>1</td>\n",
       "      <td>50</td>\n",
       "      <td>8.00</td>\n",
       "      <td>1</td>\n",
       "      <td>3</td>\n",
       "      <td>132</td>\n",
       "      <td>0</td>\n",
       "    </tr>\n",
       "    <tr>\n",
       "      <th>3</th>\n",
       "      <td>1</td>\n",
       "      <td>32</td>\n",
       "      <td>11.75</td>\n",
       "      <td>7</td>\n",
       "      <td>3</td>\n",
       "      <td>750</td>\n",
       "      <td>0</td>\n",
       "    </tr>\n",
       "    <tr>\n",
       "      <th>4</th>\n",
       "      <td>1</td>\n",
       "      <td>67</td>\n",
       "      <td>9.25</td>\n",
       "      <td>1</td>\n",
       "      <td>1</td>\n",
       "      <td>42</td>\n",
       "      <td>0</td>\n",
       "    </tr>\n",
       "  </tbody>\n",
       "</table>\n",
       "</div>"
      ],
      "text/plain": [
       "   sex  age   Time  Number_of_Warts  Type  Area  Result_of_Treatment\n",
       "0    1   35  12.00                5     1   100                    0\n",
       "1    1   29   7.00                5     1    96                    1\n",
       "2    1   50   8.00                1     3   132                    0\n",
       "3    1   32  11.75                7     3   750                    0\n",
       "4    1   67   9.25                1     1    42                    0"
      ]
     },
     "execution_count": 5,
     "metadata": {},
     "output_type": "execute_result"
    }
   ],
   "source": [
    "df.head()"
   ]
  },
  {
   "cell_type": "markdown",
   "metadata": {},
   "source": [
    "<a id = 'info'></a>\n",
    "### Information about the dataset"
   ]
  },
  {
   "cell_type": "code",
   "execution_count": 6,
   "metadata": {
    "scrolled": true
   },
   "outputs": [
    {
     "name": "stdout",
     "output_type": "stream",
     "text": [
      "<class 'pandas.core.frame.DataFrame'>\n",
      "RangeIndex: 90 entries, 0 to 89\n",
      "Data columns (total 7 columns):\n",
      " #   Column               Non-Null Count  Dtype  \n",
      "---  ------               --------------  -----  \n",
      " 0   sex                  90 non-null     int64  \n",
      " 1   age                  90 non-null     int64  \n",
      " 2   Time                 90 non-null     float64\n",
      " 3   Number_of_Warts      90 non-null     int64  \n",
      " 4   Type                 90 non-null     int64  \n",
      " 5   Area                 90 non-null     int64  \n",
      " 6   Result_of_Treatment  90 non-null     int64  \n",
      "dtypes: float64(1), int64(6)\n",
      "memory usage: 5.0 KB\n"
     ]
    }
   ],
   "source": [
    "df.info()"
   ]
  },
  {
   "cell_type": "markdown",
   "metadata": {},
   "source": [
    "**The dataset consists 7 columns or, attributes -**\n",
    "1. sex\n",
    "2. age\n",
    "3. time\n",
    "4. no. of warts\n",
    "5. type\n",
    "6. area\n",
    "7. result of the treatment"
   ]
  },
  {
   "cell_type": "code",
   "execution_count": 7,
   "metadata": {},
   "outputs": [
    {
     "data": {
      "text/plain": [
       "sex                    0\n",
       "age                    0\n",
       "Time                   0\n",
       "Number_of_Warts        0\n",
       "Type                   0\n",
       "Area                   0\n",
       "Result_of_Treatment    0\n",
       "dtype: int64"
      ]
     },
     "execution_count": 7,
     "metadata": {},
     "output_type": "execute_result"
    }
   ],
   "source": [
    "df.isnull().sum()"
   ]
  },
  {
   "cell_type": "code",
   "execution_count": 8,
   "metadata": {},
   "outputs": [],
   "source": [
    "y = df['Result_of_Treatment'].values\n",
    "x_data = df.drop('Result_of_Treatment',axis=1)"
   ]
  },
  {
   "cell_type": "code",
   "execution_count": 9,
   "metadata": {},
   "outputs": [],
   "source": [
    "x=(x_data - np.min(x_data))/(np.max(x_data)-np.min(x_data))\n"
   ]
  },
  {
   "cell_type": "markdown",
   "metadata": {},
   "source": [
    "<a id = 'model'></a>\n",
    "## Classification Models\n",
    "A classification model tries to draw some conclusion from the input values given for training. It will predict the class labels/categories for the new data.\n",
    "\n",
    "Here we are going to prepare several Classification machine learning models based on those we will do a comparative analysis that which model is better among them.\n",
    "\n",
    "We are using nine different classification algorithms -\n",
    "* **K-Nearest Neighbours Algorithm** : K-Nearest Neighbour is one of the simplest Machine Learning algorithms based on Supervised Learning technique. K-NN algorithm assumes the similarity between the new case/data and available cases and put the new case into the category that is most similar to the available categories. K-NN algorithm stores all the available data and classifies a new data point based on the similarity. This means when new data appears then it can be easily classified into a well suite category by using K- NN algorithm.\n",
    "\n",
    "\n",
    "* **Support Vector Machine Algorithm** : Support Vector Machine or SVM is one of the most popular Supervised Learning algorithms, which is used for Classification as well as Regression problems. However, primarily, it is used for Classification problems in Machine Learning. The goal of the SVM algorithm is to create the best line or decision boundary that can segregate n-dimensional space into classes so that we can easily put the new data point in the correct category in the future. This best decision boundary is called a hyperplane.\n",
    "\n",
    "\n",
    "* **Random Forest Classifier** : Random Forest is a popular machine learning algorithm that belongs to the supervised learning technique. It can be used for both Classification and Regression problems in ML. It is based on the concept of ensemble learning, which is a process of combining multiple classifiers to solve a complex problem and to improve the performance of the model.\n",
    "\n",
    "\n",
    "* **Logistic Regression** : Logistic regression is a statistical model that in its basic form uses a logistic function to model a binary dependent variable, although many more complex extensions exist. In regression analysis, logistic regression (or logit regression) is estimating the parameters of a logistic model (a form of binary regression).\n",
    "\n",
    "\n",
    "* **Naive Bayes Classifcation Algorithm** :  Naive Bayes classifiers are a family of simple \"probabilistic classifiers\" based on applying Bayes' theorem with strong independence assumptions between the features. They are among the simplest Bayesian network models, but coupled with kernel density estimation, they can achieve higher accuracy levels.\n",
    "\n",
    "\n",
    "* **Decision Tree Classifier** : Decision Tree is a Supervised learning technique that can be used for both classification and Regression problems, but mostly it is preferred for solving Classification problems. It is a tree-structured classifier, where internal nodes represent the features of a dataset, branches represent the decision rules and each leaf node represents the outcome.\n",
    "\n",
    "\n",
    "* **Gradient Boosting Algorithm** : Gradient boosting is a machine learning technique for regression, classification and other tasks, which produces a prediction model in the form of an ensemble of weak prediction models, typically decision trees.\n",
    "\n",
    "\n",
    "* **AdaBoosting Algorithm** : AdaBoost, short for Adaptive Boosting, is a statistical classification meta-algorithm formulated by Yoav Freund and Robert Schapire, who won the 2003 Gödel Prize for their work. It can be used in conjunction with many other types of learning algorithms to improve performance.\n",
    "\n",
    "\n",
    "* **Artificial Neural Network** : Artificial neural networks, usually simply called neural networks, are computing systems vaguely inspired by the biological neural networks that constitute animal brains. An ANN is based on a collection of connected units or nodes called artificial neurons, which loosely model the neurons in a biological brain.\n",
    "\n",
    "Let's quickly get into the algorithms!"
   ]
  },
  {
   "cell_type": "code",
   "execution_count": 10,
   "metadata": {},
   "outputs": [],
   "source": [
    "from sklearn.metrics import classification_report,precision_score,recall_score,f1_score,roc_auc_score,accuracy_score\n",
    "from sklearn.model_selection import train_test_split\n",
    "x_train, x_test, y_train, y_test = train_test_split(x,y,test_size = 0.3,random_state=1)\n",
    "score_liste=[]\n",
    "auc_scor=[]\n",
    "precision_scor=[]\n",
    "recall_scor=[]\n",
    "f1_scor=[]\n",
    "LR_plus=[]\n",
    "LR_eksi=[]\n",
    "odd_scor=[]\n",
    "NPV_scor=[]\n",
    "youden_scor=[]\n",
    "specificity_scor=[]\n",
    "from sklearn.neighbors import KNeighborsClassifier\n",
    "from sklearn.metrics import roc_curve\n",
    "from sklearn.ensemble import AdaBoostClassifier, GradientBoostingClassifier\n",
    "from sklearn.neural_network import MLPClassifier"
   ]
  },
  {
   "cell_type": "markdown",
   "metadata": {},
   "source": [
    "<a id = 'knn'></a>\n",
    "### K-Nearest Neighbour Algorithm\n",
    "K-Nearest Neighbour is one of the simplest Machine Learning algorithms based on Supervised Learning technique. K-NN algorithm assumes the similarity between the new case/data and available cases and put the new case into the category that is most similar to the available categories. K-NN algorithm stores all the available data and classifies a new data point based on the similarity. This means when new data appears then it can be easily classified into a well suite category by using K- NN algorithm."
   ]
  },
  {
   "cell_type": "code",
   "execution_count": 11,
   "metadata": {},
   "outputs": [
    {
     "name": "stdout",
     "output_type": "stream",
     "text": [
      "KNN Algorithm performance result:  0.8518518518518519\n"
     ]
    },
    {
     "data": {
      "image/png": "[encoded data removed]",
      "text/plain": [
       "<Figure size 360x360 with 2 Axes>"
      ]
     },
     "metadata": {
      "needs_background": "light"
     },
     "output_type": "display_data"
    },
    {
     "name": "stdout",
     "output_type": "stream",
     "text": [
      "Classification report for KNN algorithm: \n",
      "               precision    recall  f1-score   support\n",
      "\n",
      "           0       0.82      0.93      0.87        15\n",
      "           1       0.90      0.75      0.82        12\n",
      "\n",
      "    accuracy                           0.85        27\n",
      "   macro avg       0.86      0.84      0.85        27\n",
      "weighted avg       0.86      0.85      0.85        27\n",
      "\n"
     ]
    }
   ],
   "source": [
    "k=6\n",
    "knn = KNeighborsClassifier(n_neighbors = k)\n",
    "knn.fit(x_train,y_train)\n",
    "y_head=knn.predict(x_test)\n",
    "print(\"KNN Algorithm performance result: \",knn.score(x_test,y_test))\n",
    "\n",
    "from sklearn.metrics import confusion_matrix\n",
    "cmknn = confusion_matrix(y_test,y_head)\n",
    "f, ax = plt.subplots(figsize =(5,5))\n",
    "sns.heatmap(cmknn,annot = True,linewidths=0.5,linecolor=\"red\",fmt = \".0f\",ax=ax)\n",
    "plt.xlabel(\"y_pred\")\n",
    "plt.ylabel(\"y_true\")\n",
    "plt.title(\"KNN Algorithm Complexity Matrix\")\n",
    "plt.show()\n",
    "\n",
    "classid,tn,fp,fn,tp=perf_measure(y_test,y_head)\n",
    "auc_scor.append(roc_auc_score(y_test,y_head))\n",
    "knn_fpr,knn_tpr,knn_trr=roc_curve(y_test,y_head)\n",
    "score_liste.append(accuracy_hesapla(classid,tn,fp,fn,tp))\n",
    "precision_scor.append(precision_hesapla(classid,tn,fp,fn,tp))\n",
    "recall_scor.append(recall_hesapla(classid,tn,fp,fn,tp))\n",
    "f1_scor.append(f1_score(y_test,y_head,average='macro'))\n",
    "NPV_scor.append(NPV_hesapla(classid,tn,fp,fn,tp))\n",
    "specificity_scor.append(specificity_hesapla(classid,tn,fp,fn,tp))\n",
    "\n",
    "LR_plus.append((recall_hesapla(classid,tn,fp,fn,tp)/(1-specificity_hesapla(classid,tn,fp,fn,tp))))\n",
    "LR_eksi.append(((1-recall_hesapla(classid,tn,fp,fn,tp))/specificity_hesapla(classid,tn,fp,fn,tp)))\n",
    "odd_scor.append(((recall_hesapla(classid,tn,fp,fn,tp)/(1-specificity_hesapla(classid,tn,fp,fn,tp))))/(((1-recall_hesapla(classid,tn,fp,fn,tp))/specificity_hesapla(classid,tn,fp,fn,tp))))\n",
    "youden_scor.append((recall_hesapla(classid,tn,fp,fn,tp)+specificity_hesapla(classid,tn,fp,fn,tp)-1))\n",
    "print(\"Classification report for KNN algorithm: \\n\",classification_report(y_test,y_head))"
   ]
  },
  {
   "cell_type": "markdown",
   "metadata": {},
   "source": [
    "<a id = 'dtc'></a>\n",
    "### Decision Tree Classifier\n",
    "Decision Tree is a Supervised learning technique that can be used for both classification and Regression problems, but mostly it is preferred for solving Classification problems. It is a tree-structured classifier, where internal nodes represent the features of a dataset, branches represent the decision rules and each leaf node represents the outcome."
   ]
  },
  {
   "cell_type": "code",
   "execution_count": 13,
   "metadata": {},
   "outputs": [
    {
     "name": "stdout",
     "output_type": "stream",
     "text": [
      "Performance result for Decision Trees Algorithm:  0.7777777777777778\n",
      "Classification report for DTC algorithm: \n",
      "               precision    recall  f1-score   support\n",
      "\n",
      "           0       0.91      0.67      0.77        15\n",
      "           1       0.69      0.92      0.79        12\n",
      "\n",
      "    accuracy                           0.78        27\n",
      "   macro avg       0.80      0.79      0.78        27\n",
      "weighted avg       0.81      0.78      0.78        27\n",
      "\n"
     ]
    },
    {
     "data": {
      "image/png": "[encoded data removed]",
      "text/plain": [
       "<Figure size 360x360 with 2 Axes>"
      ]
     },
     "metadata": {
      "needs_background": "light"
     },
     "output_type": "display_data"
    }
   ],
   "source": [
    "from sklearn.tree import DecisionTreeClassifier\n",
    "dtc=DecisionTreeClassifier()\n",
    "dtc.fit(x_train,y_train)\n",
    "y_head=dtc.predict(x_test)\n",
    "print(\"Performance result for Decision Trees Algorithm: \",dtc.score(x_test,y_test))\n",
    "\n",
    "classid,tn,fp,fn,tp=perf_measure(y_test,y_head)\n",
    "auc_scor.append(roc_auc_score(y_test,y_head))\n",
    "dtc_fpr,dtc_tpr,dtc_trr=roc_curve(y_test,y_head)\n",
    "score_liste.append(accuracy_hesapla(classid,tn,fp,fn,tp))\n",
    "precision_scor.append(precision_hesapla(classid,tn,fp,fn,tp))\n",
    "recall_scor.append(recall_hesapla(classid,tn,fp,fn,tp))\n",
    "f1_scor.append(f1_score(y_test,y_head,average='macro'))\n",
    "NPV_scor.append(NPV_hesapla(classid,tn,fp,fn,tp))\n",
    "specificity_scor.append(specificity_hesapla(classid,tn,fp,fn,tp))\n",
    "TPR=recall_hesapla(classid,tn,fp,fn,tp)\n",
    "TNR=specificity_hesapla(classid,tn,fp,fn,tp)\n",
    "FPR=1-TNR\n",
    "if FPR==0:\n",
    "    FPR=0.00001\n",
    "FNR=1-TPR\n",
    "lreksi=FNR/TNR\n",
    "lrarti=TPR/FPR\n",
    "if lreksi==0:\n",
    "    lreksi=0.00000001\n",
    "LR_plus.append(TPR/FPR)\n",
    "LR_eksi.append(FNR/TNR)\n",
    "odd_scor.append(lrarti/lreksi)\n",
    "youden_scor.append(TPR+TNR-1)\n",
    "\n",
    "print(\"Classification report for DTC algorithm: \\n\",classification_report(y_test,y_head))\n",
    "\n",
    "cmdtc = confusion_matrix(y_test,y_head)\n",
    "f, ax = plt.subplots(figsize =(5,5))\n",
    "sns.heatmap(cmdtc,annot = True,linewidths=0.5,linecolor=\"red\",fmt = \".0f\",ax=ax)\n",
    "plt.xlabel(\"Estimated value\")\n",
    "plt.ylabel(\"Actual Value\")\n",
    "plt.title(\"Decision Trees Algorithm Complexity Matrix\")\n",
    "plt.show()"
   ]
  },
  {
   "cell_type": "markdown",
   "metadata": {},
   "source": [
    "<a id = 'rfc'></a>\n",
    "### Random Forest Classifier\n",
    "Random Forest is a popular machine learning algorithm that belongs to the supervised learning technique. It can be used for both Classification and Regression problems in ML. It is based on the concept of ensemble learning, which is a process of combining multiple classifiers to solve a complex problem and to improve the performance of the model."
   ]
  },
  {
   "cell_type": "code",
   "execution_count": 14,
   "metadata": {},
   "outputs": [
    {
     "name": "stdout",
     "output_type": "stream",
     "text": [
      "Random Forest Algorithm achievement result:  0.8148148148148148\n",
      "Classification report for Random Forest algorithm: \n",
      "               precision    recall  f1-score   support\n",
      "\n",
      "           0       1.00      0.67      0.80        15\n",
      "           1       0.71      1.00      0.83        12\n",
      "\n",
      "    accuracy                           0.81        27\n",
      "   macro avg       0.85      0.83      0.81        27\n",
      "weighted avg       0.87      0.81      0.81        27\n",
      "\n"
     ]
    },
    {
     "data": {
      "image/png": "[encoded data removed]",
      "text/plain": [
       "<Figure size 360x360 with 2 Axes>"
      ]
     },
     "metadata": {
      "needs_background": "light"
     },
     "output_type": "display_data"
    }
   ],
   "source": [
    "from sklearn.ensemble import RandomForestClassifier\n",
    "rfc=RandomForestClassifier(n_estimators=225,random_state=1)\n",
    "rfc.fit(x_train,y_train)\n",
    "y_head=rfc.predict(x_test)\n",
    "print(\"Random Forest Algorithm achievement result: \",rfc.score(x_test,y_test))\n",
    "\n",
    "classid,tn,fp,fn,tp=perf_measure(y_test,y_head)\n",
    "auc_scor.append(roc_auc_score(y_test,y_head))\n",
    "rfc_fpr,rfc_tpr,rfc_trr=roc_curve(y_test,y_head)\n",
    "score_liste.append(accuracy_hesapla(classid,tn,fp,fn,tp))\n",
    "precision_scor.append(precision_hesapla(classid,tn,fp,fn,tp))\n",
    "recall_scor.append(recall_hesapla(classid,tn,fp,fn,tp))\n",
    "f1_scor.append(f1_score(y_test,y_head,average='macro'))\n",
    "NPV_scor.append(NPV_hesapla(classid,tn,fp,fn,tp))\n",
    "specificity_scor.append(specificity_hesapla(classid,tn,fp,fn,tp))\n",
    "TPR=recall_hesapla(classid,tn,fp,fn,tp)\n",
    "TNR=specificity_hesapla(classid,tn,fp,fn,tp)\n",
    "FPR=1-TNR\n",
    "if FPR==0:\n",
    "    FPR=0.00001\n",
    "FNR=1-TPR\n",
    "lreksi=FNR/TNR\n",
    "lrarti=TPR/FPR\n",
    "if lreksi==0:\n",
    "    lreksi=0.00000001\n",
    "LR_plus.append(TPR/FPR)\n",
    "LR_eksi.append(FNR/TNR)\n",
    "odd_scor.append(lrarti/lreksi)\n",
    "youden_scor.append(TPR+TNR-1)\n",
    "print(\"Classification report for Random Forest algorithm: \\n\",classification_report(y_test,y_head))\n",
    "\n",
    "cmrfc = confusion_matrix(y_test,y_head)\n",
    "f, ax = plt.subplots(figsize =(5,5))\n",
    "sns.heatmap(cmrfc,annot = True,linewidths=0.5,linecolor=\"red\",fmt = \".0f\",ax=ax)\n",
    "plt.xlabel(\"y_pred\")\n",
    "plt.ylabel(\"y_true\")\n",
    "plt.title(\"Random Forest Algorithm Complexity Matrix\")\n",
    "plt.show()"
   ]
  },
  {
   "cell_type": "markdown",
   "metadata": {},
   "source": [
    "<a id = 'gnb'></a>\n",
    "### Gausian Naive Bayes Classifier Algorithm\n",
    "Naive Bayes classifiers are a family of simple \"probabilistic classifiers\" based on applying Bayes' theorem with strong independence assumptions between the features. They are among the simplest Bayesian network models, but coupled with kernel density estimation, they can achieve higher accuracy levels."
   ]
  },
  {
   "cell_type": "code",
   "execution_count": 15,
   "metadata": {},
   "outputs": [
    {
     "name": "stdout",
     "output_type": "stream",
     "text": [
      "Naive Bayes Algorithm performance result:  0.8518518518518519\n",
      "Classification report for Naive Bayes algorithm: \n",
      "               precision    recall  f1-score   support\n",
      "\n",
      "           0       1.00      0.73      0.85        15\n",
      "           1       0.75      1.00      0.86        12\n",
      "\n",
      "    accuracy                           0.85        27\n",
      "   macro avg       0.88      0.87      0.85        27\n",
      "weighted avg       0.89      0.85      0.85        27\n",
      "\n"
     ]
    },
    {
     "data": {
      "image/png": "[encoded data removed]",
      "text/plain": [
       "<Figure size 360x360 with 2 Axes>"
      ]
     },
     "metadata": {
      "needs_background": "light"
     },
     "output_type": "display_data"
    }
   ],
   "source": [
    "from sklearn.naive_bayes import GaussianNB\n",
    "nb=GaussianNB()\n",
    "nb.fit(x_train,y_train)\n",
    "y_head=nb.predict(x_test)\n",
    "print(\"Naive Bayes Algorithm performance result: \",nb.score(x_test,y_test))\n",
    "\n",
    "\n",
    "classid,tn,fp,fn,tp=perf_measure(y_test,y_head)\n",
    "auc_scor.append(roc_auc_score(y_test,y_head))\n",
    "nb_fpr,nb_tpr,nb_trr=roc_curve(y_test,y_head)\n",
    "score_liste.append(accuracy_hesapla(classid,tn,fp,fn,tp))\n",
    "precision_scor.append(precision_hesapla(classid,tn,fp,fn,tp))\n",
    "recall_scor.append(recall_hesapla(classid,tn,fp,fn,tp))\n",
    "f1_scor.append(f1_score(y_test,y_head,average='macro'))\n",
    "NPV_scor.append(NPV_hesapla(classid,tn,fp,fn,tp))\n",
    "specificity_scor.append(specificity_hesapla(classid,tn,fp,fn,tp))\n",
    "TPR=recall_hesapla(classid,tn,fp,fn,tp)\n",
    "TNR=specificity_hesapla(classid,tn,fp,fn,tp)\n",
    "FPR=1-TNR\n",
    "if FPR==0:\n",
    "    FPR=0.00001\n",
    "FNR=1-TPR\n",
    "lreksi=FNR/TNR\n",
    "lrarti=TPR/FPR\n",
    "if lreksi==0:\n",
    "    lreksi=0.00000001\n",
    "LR_plus.append(TPR/FPR)\n",
    "LR_eksi.append(FNR/TNR)\n",
    "odd_scor.append(lrarti/lreksi)\n",
    "youden_scor.append(TPR+TNR-1)\n",
    "print(\"Classification report for Naive Bayes algorithm: \\n\",classification_report(y_test,y_head))\n",
    "\n",
    "cmnb = confusion_matrix(y_test,y_head)\n",
    "f, ax = plt.subplots(figsize =(5,5))\n",
    "sns.heatmap(cmnb,annot = True,linewidths=0.5,linecolor=\"red\",fmt = \".0f\",ax=ax)\n",
    "plt.xlabel(\"Estimated\")\n",
    "plt.ylabel(\"Real Value\")\n",
    "plt.title(\"Naive Bayes Algorithm Complexity Matrix\")\n",
    "plt.show()"
   ]
  },
  {
   "cell_type": "markdown",
   "metadata": {},
   "source": [
    "<a id = 'log'></a>\n",
    "### Logistic Regression\n",
    " Logistic regression is a statistical model that in its basic form uses a logistic function to model a binary dependent variable, although many more complex extensions exist. In regression analysis, logistic regression (or logit regression) is estimating the parameters of a logistic model (a form of binary regression)."
   ]
  },
  {
   "cell_type": "code",
   "execution_count": 16,
   "metadata": {},
   "outputs": [
    {
     "name": "stdout",
     "output_type": "stream",
     "text": [
      "Logistic Regression Algorithm performance result:  0.8148148148148148\n",
      "Classification report for Logistic Regression algorithm: \n",
      "               precision    recall  f1-score   support\n",
      "\n",
      "           0       1.00      0.67      0.80        15\n",
      "           1       0.71      1.00      0.83        12\n",
      "\n",
      "    accuracy                           0.81        27\n",
      "   macro avg       0.85      0.83      0.81        27\n",
      "weighted avg       0.87      0.81      0.81        27\n",
      "\n"
     ]
    },
    {
     "data": {
      "image/png": "[encoded data removed]",
      "text/plain": [
       "<Figure size 360x360 with 2 Axes>"
      ]
     },
     "metadata": {
      "needs_background": "light"
     },
     "output_type": "display_data"
    }
   ],
   "source": [
    "from sklearn.linear_model import LogisticRegression\n",
    "lr=LogisticRegression()\n",
    "lr.fit(x_train,y_train)\n",
    "y_head=lr.predict(x_test)\n",
    "print(\"Logistic Regression Algorithm performance result: \",lr.score(x_test,y_test))\n",
    "\n",
    "\n",
    "classid,tn,fp,fn,tp=perf_measure(y_test,y_head)\n",
    "auc_scor.append(roc_auc_score(y_test,y_head))\n",
    "lrc_fpr,lrc_tpr,lrc_trr=roc_curve(y_test,y_head)\n",
    "score_liste.append(accuracy_hesapla(classid,tn,fp,fn,tp))\n",
    "precision_scor.append(precision_hesapla(classid,tn,fp,fn,tp))\n",
    "recall_scor.append(recall_hesapla(classid,tn,fp,fn,tp))\n",
    "f1_scor.append(f1_score(y_test,y_head,average='macro'))\n",
    "NPV_scor.append(NPV_hesapla(classid,tn,fp,fn,tp))\n",
    "specificity_scor.append(specificity_hesapla(classid,tn,fp,fn,tp))\n",
    "TPR=recall_hesapla(classid,tn,fp,fn,tp)\n",
    "TNR=specificity_hesapla(classid,tn,fp,fn,tp)\n",
    "FPR=1-TNR\n",
    "if FPR==0:\n",
    "    FPR=0.00001\n",
    "FNR=1-TPR\n",
    "lreksi=FNR/TNR\n",
    "lrarti=TPR/FPR\n",
    "if lreksi==0:\n",
    "    lreksi=0.00000001\n",
    "LR_plus.append(TPR/FPR)\n",
    "LR_eksi.append(FNR/TNR)\n",
    "odd_scor.append(lrarti/lreksi)\n",
    "youden_scor.append(TPR+TNR-1)\n",
    "print(\"Classification report for Logistic Regression algorithm: \\n\",classification_report(y_test,y_head))\n",
    "\n",
    "cmlr = confusion_matrix(y_test,y_head)\n",
    "f, ax = plt.subplots(figsize =(5,5))\n",
    "sns.heatmap(cmlr,annot = True,linewidths=0.5,linecolor=\"red\",fmt = \".0f\",ax=ax)\n",
    "plt.xlabel(\"Estimated\")\n",
    "plt.ylabel(\"Actual Value\")\n",
    "plt.title(\"Logistic Regression Algorithm Complexity Matrix\")\n",
    "plt.show()"
   ]
  },
  {
   "cell_type": "markdown",
   "metadata": {},
   "source": [
    "<a id = \"svm\"></a>\n",
    "### SVM Classification\n",
    "Support Vector Machine or SVM is one of the most popular Supervised Learning algorithms, which is used for Classification as well as Regression problems. However, primarily, it is used for Classification problems in Machine Learning. The goal of the SVM algorithm is to create the best line or decision boundary that can segregate n-dimensional space into classes so that we can easily put the new data point in the correct category in the future. This best decision boundary is called a hyperplane."
   ]
  },
  {
   "cell_type": "code",
   "execution_count": 17,
   "metadata": {},
   "outputs": [
    {
     "name": "stdout",
     "output_type": "stream",
     "text": [
      "Support Vector Machines Algorithm achievement result:  0.8888888888888888\n",
      "Classification report for Support Vector Machines algorithm: \n",
      "               precision    recall  f1-score   support\n",
      "\n",
      "           0       1.00      0.80      0.89        15\n",
      "           1       0.80      1.00      0.89        12\n",
      "\n",
      "    accuracy                           0.89        27\n",
      "   macro avg       0.90      0.90      0.89        27\n",
      "weighted avg       0.91      0.89      0.89        27\n",
      "\n"
     ]
    },
    {
     "data": {
      "image/png": "[encoded data removed]",
      "text/plain": [
       "<Figure size 360x360 with 2 Axes>"
      ]
     },
     "metadata": {
      "needs_background": "light"
     },
     "output_type": "display_data"
    }
   ],
   "source": [
    "from sklearn.svm import SVC\n",
    "svc=SVC(random_state=1)\n",
    "svc.fit(x_train,y_train)\n",
    "y_head=svc.predict(x_test)\n",
    "print(\"Support Vector Machines Algorithm achievement result: \",svc.score(x_test,y_test))\n",
    "\n",
    "\n",
    "classid,tn,fp,fn,tp=perf_measure(y_test,y_head)\n",
    "auc_scor.append(roc_auc_score(y_test,y_head))\n",
    "svc_fpr,svc_tpr,svc_trr=roc_curve(y_test,y_head)\n",
    "score_liste.append(accuracy_hesapla(classid,tn,fp,fn,tp))\n",
    "precision_scor.append(precision_hesapla(classid,tn,fp,fn,tp))\n",
    "recall_scor.append(recall_hesapla(classid,tn,fp,fn,tp))\n",
    "f1_scor.append(f1_score(y_test,y_head,average='macro'))\n",
    "NPV_scor.append(NPV_hesapla(classid,tn,fp,fn,tp))\n",
    "specificity_scor.append(specificity_hesapla(classid,tn,fp,fn,tp))\n",
    "TPR=recall_hesapla(classid,tn,fp,fn,tp)\n",
    "TNR=specificity_hesapla(classid,tn,fp,fn,tp)\n",
    "FPR=1-TNR\n",
    "if FPR==0:\n",
    "    FPR=0.00001\n",
    "FNR=1-TPR\n",
    "lreksi=FNR/TNR\n",
    "lrarti=TPR/FPR\n",
    "if lreksi==0:\n",
    "    lreksi=0.00000001\n",
    "LR_plus.append(TPR/FPR)\n",
    "LR_eksi.append(FNR/TNR)\n",
    "odd_scor.append(lrarti/lreksi)\n",
    "youden_scor.append(TPR+TNR-1)\n",
    "print(\"Classification report for Support Vector Machines algorithm: \\n\",classification_report(y_test,y_head))\n",
    "\n",
    "cmsvc = confusion_matrix(y_test,y_head)\n",
    "f, ax = plt.subplots(figsize =(5,5))\n",
    "sns.heatmap(cmsvc,annot = True,linewidths=0.5,linecolor=\"red\",fmt = \".0f\",ax=ax)\n",
    "plt.xlabel(\"Estimated\")\n",
    "plt.ylabel(\"Actual Value\")\n",
    "plt.title(\"Support Vector Machines Algorithm Complexity Matrix\")\n",
    "plt.show()"
   ]
  },
  {
   "cell_type": "markdown",
   "metadata": {},
   "source": [
    "<a id = 'gb'></a>\n",
    "### Gradient Boosting Algorithm\n",
    "Gradient boosting is a machine learning technique for regression, classification and other tasks, which produces a prediction model in the form of an ensemble of weak prediction models, typically decision trees."
   ]
  },
  {
   "cell_type": "code",
   "execution_count": 18,
   "metadata": {},
   "outputs": [
    {
     "name": "stdout",
     "output_type": "stream",
     "text": [
      "Gradient Boosting Classifier Algorithm achievement result:  0.8888888888888888\n",
      "Classification report for the Gradient Boosting Classifier algorithm: \n",
      "               precision    recall  f1-score   support\n",
      "\n",
      "           0       1.00      0.80      0.89        15\n",
      "           1       0.80      1.00      0.89        12\n",
      "\n",
      "    accuracy                           0.89        27\n",
      "   macro avg       0.90      0.90      0.89        27\n",
      "weighted avg       0.91      0.89      0.89        27\n",
      "\n"
     ]
    },
    {
     "data": {
      "image/png": "[encoded data removed]",
      "text/plain": [
       "<Figure size 360x360 with 2 Axes>"
      ]
     },
     "metadata": {
      "needs_background": "light"
     },
     "output_type": "display_data"
    }
   ],
   "source": [
    "gfc=GradientBoostingClassifier(n_estimators= 1000, max_leaf_nodes= 4, max_depth=None,random_state= 2,min_samples_split= 5)\n",
    "gfc.fit(x_train,y_train)\n",
    "y_head=gfc.predict(x_test)\n",
    "print(\"Gradient Boosting Classifier Algorithm achievement result: \",gfc.score(x_test,y_test))\n",
    "\n",
    "classid,tn,fp,fn,tp=perf_measure(y_test,y_head)\n",
    "auc_scor.append(roc_auc_score(y_test,y_head))\n",
    "gfc_fpr,gfc_tpr,gfc_trr=roc_curve(y_test,y_head)\n",
    "score_liste.append(accuracy_hesapla(classid,tn,fp,fn,tp))\n",
    "precision_scor.append(precision_hesapla(classid,tn,fp,fn,tp))\n",
    "recall_scor.append(recall_hesapla(classid,tn,fp,fn,tp))\n",
    "f1_scor.append(f1_score(y_test,y_head,average='macro'))\n",
    "NPV_scor.append(NPV_hesapla(classid,tn,fp,fn,tp))\n",
    "specificity_scor.append(specificity_hesapla(classid,tn,fp,fn,tp))\n",
    "TPR=recall_hesapla(classid,tn,fp,fn,tp)\n",
    "TNR=specificity_hesapla(classid,tn,fp,fn,tp)\n",
    "FPR=1-TNR\n",
    "if FPR==0:\n",
    "    FPR=0.00001\n",
    "FNR=1-TPR\n",
    "lreksi=FNR/TNR\n",
    "lrarti=TPR/FPR\n",
    "if lreksi==0:\n",
    "    lreksi=0.00000001\n",
    "LR_plus.append(TPR/FPR)\n",
    "LR_eksi.append(FNR/TNR)\n",
    "odd_scor.append(lrarti/lreksi)\n",
    "youden_scor.append(TPR+TNR-1)\n",
    "print(\"Classification report for the Gradient Boosting Classifier algorithm: \\n\",classification_report(y_test,y_head))\n",
    "\n",
    "cmgfc = confusion_matrix(y_test,y_head)\n",
    "f, ax = plt.subplots(figsize =(5,5))\n",
    "sns.heatmap(cmgfc,annot = True,linewidths=0.5,linecolor=\"red\",fmt = \".0f\",ax=ax)\n",
    "plt.xlabel(\"Estimated\")\n",
    "plt.ylabel(\"Actual Value\")\n",
    "plt.title(\"Gradient Boosting Classifier Algorithm Complexity Matrix\")\n",
    "plt.show()"
   ]
  },
  {
   "cell_type": "markdown",
   "metadata": {},
   "source": [
    "<a id = 'ada'></a>\n",
    "### AdaBoost Algorithm\n",
    "AdaBoost, short for Adaptive Boosting, is a statistical classification meta-algorithm formulated by Yoav Freund and Robert Schapire, who won the 2003 Gödel Prize for their work. It can be used in conjunction with many other types of learning algorithms to improve performance."
   ]
  },
  {
   "cell_type": "code",
   "execution_count": 19,
   "metadata": {},
   "outputs": [
    {
     "name": "stdout",
     "output_type": "stream",
     "text": [
      "AdaBoosting Classifier Algorithm performance result:  0.8148148148148148\n",
      "Classification report for AdaBoosting Classifier algorithm: \n",
      "               precision    recall  f1-score   support\n",
      "\n",
      "           0       1.00      0.67      0.80        15\n",
      "           1       0.71      1.00      0.83        12\n",
      "\n",
      "    accuracy                           0.81        27\n",
      "   macro avg       0.85      0.83      0.81        27\n",
      "weighted avg       0.87      0.81      0.81        27\n",
      "\n"
     ]
    },
    {
     "data": {
      "image/png": "[encoded data removed]",
      "text/plain": [
       "<Figure size 360x360 with 2 Axes>"
      ]
     },
     "metadata": {
      "needs_background": "light"
     },
     "output_type": "display_data"
    }
   ],
   "source": [
    "abc=AdaBoostClassifier(n_estimators=100, random_state=0)\n",
    "abc.fit(x_train,y_train)\n",
    "y_head=abc.predict(x_test)\n",
    "print(\"AdaBoosting Classifier Algorithm performance result: \",abc.score(x_test,y_test))\n",
    "\n",
    "\n",
    "classid,tn,fp,fn,tp=perf_measure(y_test,y_head)\n",
    "auc_scor.append(roc_auc_score(y_test,y_head))\n",
    "abc_fpr,abc_tpr,abc_trr=roc_curve(y_test,y_head)\n",
    "score_liste.append(accuracy_hesapla(classid,tn,fp,fn,tp))\n",
    "precision_scor.append(precision_hesapla(classid,tn,fp,fn,tp))\n",
    "recall_scor.append(recall_hesapla(classid,tn,fp,fn,tp))\n",
    "f1_scor.append(f1_score(y_test,y_head,average='macro'))\n",
    "NPV_scor.append(NPV_hesapla(classid,tn,fp,fn,tp))\n",
    "specificity_scor.append(specificity_hesapla(classid,tn,fp,fn,tp))\n",
    "TPR=recall_hesapla(classid,tn,fp,fn,tp)\n",
    "TNR=specificity_hesapla(classid,tn,fp,fn,tp)\n",
    "FPR=1-TNR\n",
    "if FPR==0:\n",
    "    FPR=0.00001\n",
    "FNR=1-TPR\n",
    "lreksi=FNR/TNR\n",
    "lrarti=TPR/FPR\n",
    "if lreksi==0:\n",
    "    lreksi=0.00000001\n",
    "LR_plus.append(TPR/FPR)\n",
    "LR_eksi.append(FNR/TNR)\n",
    "odd_scor.append(lrarti/lreksi)\n",
    "youden_scor.append(TPR+TNR-1)\n",
    "print(\"Classification report for AdaBoosting Classifier algorithm: \\n\",classification_report(y_test,y_head))\n",
    "\n",
    "cmabc = confusion_matrix(y_test,y_head)\n",
    "f, ax = plt.subplots(figsize =(5,5))\n",
    "sns.heatmap(cmabc,annot = True,linewidths=0.5,linecolor=\"red\",fmt = \".0f\",ax=ax)\n",
    "plt.xlabel(\"Estimated\")\n",
    "plt.ylabel(\"Actual Value\")\n",
    "plt.title(\"AdaBoosting Classifier Algorithm Complexity Matrix\")\n",
    "plt.show()"
   ]
  },
  {
   "cell_type": "markdown",
   "metadata": {},
   "source": [
    "<a id = 'ann'></a>\n",
    "### Artificial Neural Networks Algorithm\n",
    "Artificial neural networks, usually simply called neural networks, are computing systems vaguely inspired by the biological neural networks that constitute animal brains. An ANN is based on a collection of connected units or nodes called artificial neurons, which loosely model the neurons in a biological brain."
   ]
  },
  {
   "cell_type": "code",
   "execution_count": 20,
   "metadata": {},
   "outputs": [
    {
     "name": "stdout",
     "output_type": "stream",
     "text": [
      "Artificial Neural Networks Algorithm performance result:  0.8518518518518519\n",
      "Classification report for Neural Networks algorithm: \n",
      "               precision    recall  f1-score   support\n",
      "\n",
      "           0       1.00      0.73      0.85        15\n",
      "           1       0.75      1.00      0.86        12\n",
      "\n",
      "    accuracy                           0.85        27\n",
      "   macro avg       0.88      0.87      0.85        27\n",
      "weighted avg       0.89      0.85      0.85        27\n",
      "\n"
     ]
    },
    {
     "data": {
      "image/png": "[encoded data removed]",
      "text/plain": [
       "<Figure size 360x360 with 2 Axes>"
      ]
     },
     "metadata": {
      "needs_background": "light"
     },
     "output_type": "display_data"
    }
   ],
   "source": [
    "ysa=MLPClassifier(alpha=1, max_iter=1000)\n",
    "ysa.fit(x_train,y_train)\n",
    "y_head=ysa.predict(x_test)\n",
    "print(\"Artificial Neural Networks Algorithm performance result: \",ysa.score(x_test,y_test))\n",
    "\n",
    "\n",
    "classid,tn,fp,fn,tp=perf_measure(y_test,y_head)\n",
    "auc_scor.append(roc_auc_score(y_test,y_head))\n",
    "ysa_fpr,ysa_tpr,ysa_trr=roc_curve(y_test,y_head)\n",
    "score_liste.append(accuracy_hesapla(classid,tn,fp,fn,tp))\n",
    "precision_scor.append(precision_hesapla(classid,tn,fp,fn,tp))\n",
    "recall_scor.append(recall_hesapla(classid,tn,fp,fn,tp))\n",
    "f1_scor.append(f1_score(y_test,y_head,average='macro'))\n",
    "NPV_scor.append(NPV_hesapla(classid,tn,fp,fn,tp))\n",
    "specificity_scor.append(specificity_hesapla(classid,tn,fp,fn,tp))\n",
    "TPR=recall_hesapla(classid,tn,fp,fn,tp)\n",
    "TNR=specificity_hesapla(classid,tn,fp,fn,tp)\n",
    "FPR=1-TNR\n",
    "if FPR==0:\n",
    "    FPR=0.00001\n",
    "FNR=1-TPR\n",
    "lreksi=FNR/TNR\n",
    "lrarti=TPR/FPR\n",
    "if lreksi==0:\n",
    "    lreksi=0.00000001\n",
    "LR_plus.append(TPR/FPR)\n",
    "LR_eksi.append(FNR/TNR)\n",
    "odd_scor.append(lrarti/lreksi)\n",
    "youden_scor.append(TPR+TNR-1)\n",
    "print(\"Classification report for Neural Networks algorithm: \\n\",classification_report(y_test,y_head))\n",
    "\n",
    "cmysa = confusion_matrix(y_test,y_head)\n",
    "f, ax = plt.subplots(figsize =(5,5))\n",
    "sns.heatmap(cmysa,annot = True,linewidths=0.5,linecolor=\"red\",fmt = \".0f\",ax=ax)\n",
    "plt.xlabel(\"Estimated\")\n",
    "plt.ylabel(\"Actual Value\")\n",
    "plt.title(\"Neural Networks Algorithm Complexity Matrix\")\n",
    "plt.show()"
   ]
  },
  {
   "cell_type": "code",
   "execution_count": 19,
   "metadata": {},
   "outputs": [],
   "source": [
    "algo_liste=[\"KNN\",\"Decision Tree\",\"Random Forest\",\"Naive Bayes\",\"Linear Regression\",\"Support Vector Machine\",\"Gradient Boosting Classifier\",\"AdaBoosting Classifier\",\"Neural Network\"]\n",
    "score={\"algo_list\":algo_liste,\"score_liste\":score_liste,\"precision\":precision_scor,\"recall\":recall_scor,\"f1_score\":f1_scor,\"AUC\":auc_scor,\"LR+\":LR_plus,\"LR-\":LR_eksi,\"ODD\":odd_scor,\"YOUDEN\":youden_scor,\"Specificity\":specificity_scor}"
   ]
  },
  {
   "cell_type": "markdown",
   "metadata": {},
   "source": [
    "<a id = 'score'></a>\n",
    "### Accuracy Scores of the Algorithms\n",
    "\n",
    "Accuracy checking parameters are -\n",
    "* **Precision** : Precision quantifies the number of positive class predictions that actually belong to the positive class.\n",
    "* **Recall** : Recall quantifies the number of positive class predictions made out of all positive examples in the dataset.\n",
    "* **F-score** : F-Measure provides a single score that balances both the concerns of precision and recall in one number.\n",
    "* **AUC** : AUC stands for \"Area under the ROC Curve.\" That is, AUC measures the entire two-dimensional area underneath the entire ROC curve\n",
    "* **LR+** : Probability that a person with the disease tested positive/probability that a person without the disease tested positive. i.e., LR+ = true positive/false positive.\n",
    "* **LR-** : Probability that a person with the disease tested negative/probability that a person without the disease tested negative.\n",
    "* **ODD ratio** : The odds ratio is used to find the probability of an outcome of an event when there are two possible outcomes and there is a plausible causal effect.\n",
    "* **Youden Index** : Youden index [J] will indicate the performance (the larger the better) at a given cutoff."
   ]
  },
  {
   "cell_type": "code",
   "execution_count": 20,
   "metadata": {},
   "outputs": [
    {
     "data": {
      "text/html": [
       "<div>\n",
       "<style scoped>\n",
       "    .dataframe tbody tr th:only-of-type {\n",
       "        vertical-align: middle;\n",
       "    }\n",
       "\n",
       "    .dataframe tbody tr th {\n",
       "        vertical-align: top;\n",
       "    }\n",
       "\n",
       "    .dataframe thead th {\n",
       "        text-align: right;\n",
       "    }\n",
       "</style>\n",
       "<table border=\"1\" class=\"dataframe\">\n",
       "  <thead>\n",
       "    <tr style=\"text-align: right;\">\n",
       "      <th></th>\n",
       "      <th>algo_list</th>\n",
       "      <th>score_liste</th>\n",
       "      <th>precision</th>\n",
       "      <th>recall</th>\n",
       "      <th>f1_score</th>\n",
       "      <th>AUC</th>\n",
       "      <th>LR+</th>\n",
       "      <th>LR-</th>\n",
       "      <th>ODD</th>\n",
       "      <th>YOUDEN</th>\n",
       "      <th>Specificity</th>\n",
       "    </tr>\n",
       "  </thead>\n",
       "  <tbody>\n",
       "    <tr>\n",
       "      <td>0</td>\n",
       "      <td>KNN</td>\n",
       "      <td>0.851852</td>\n",
       "      <td>0.861765</td>\n",
       "      <td>0.841667</td>\n",
       "      <td>0.846591</td>\n",
       "      <td>0.841667</td>\n",
       "      <td>5.315789</td>\n",
       "      <td>0.188119</td>\n",
       "      <td>28.257618</td>\n",
       "      <td>0.683333</td>\n",
       "      <td>0.841667</td>\n",
       "    </tr>\n",
       "    <tr>\n",
       "      <td>1</td>\n",
       "      <td>Decision Tree</td>\n",
       "      <td>0.666667</td>\n",
       "      <td>0.726974</td>\n",
       "      <td>0.691667</td>\n",
       "      <td>0.659187</td>\n",
       "      <td>0.691667</td>\n",
       "      <td>2.243243</td>\n",
       "      <td>0.445783</td>\n",
       "      <td>5.032140</td>\n",
       "      <td>0.383333</td>\n",
       "      <td>0.691667</td>\n",
       "    </tr>\n",
       "    <tr>\n",
       "      <td>2</td>\n",
       "      <td>Random Forest</td>\n",
       "      <td>0.814815</td>\n",
       "      <td>0.602941</td>\n",
       "      <td>0.250000</td>\n",
       "      <td>0.813793</td>\n",
       "      <td>0.833333</td>\n",
       "      <td>1.500000</td>\n",
       "      <td>0.900000</td>\n",
       "      <td>1.666667</td>\n",
       "      <td>0.083333</td>\n",
       "      <td>0.833333</td>\n",
       "    </tr>\n",
       "    <tr>\n",
       "      <td>3</td>\n",
       "      <td>Naive Bayes</td>\n",
       "      <td>0.851852</td>\n",
       "      <td>0.625000</td>\n",
       "      <td>0.250000</td>\n",
       "      <td>0.851648</td>\n",
       "      <td>0.866667</td>\n",
       "      <td>1.875000</td>\n",
       "      <td>0.865385</td>\n",
       "      <td>2.166667</td>\n",
       "      <td>0.116667</td>\n",
       "      <td>0.866667</td>\n",
       "    </tr>\n",
       "    <tr>\n",
       "      <td>4</td>\n",
       "      <td>Linear Regression</td>\n",
       "      <td>0.814815</td>\n",
       "      <td>0.602941</td>\n",
       "      <td>0.250000</td>\n",
       "      <td>0.813793</td>\n",
       "      <td>0.833333</td>\n",
       "      <td>1.500000</td>\n",
       "      <td>0.900000</td>\n",
       "      <td>1.666667</td>\n",
       "      <td>0.083333</td>\n",
       "      <td>0.833333</td>\n",
       "    </tr>\n",
       "    <tr>\n",
       "      <td>5</td>\n",
       "      <td>Support Vector Machine</td>\n",
       "      <td>0.814815</td>\n",
       "      <td>0.602941</td>\n",
       "      <td>0.250000</td>\n",
       "      <td>0.813793</td>\n",
       "      <td>0.833333</td>\n",
       "      <td>1.500000</td>\n",
       "      <td>0.900000</td>\n",
       "      <td>1.666667</td>\n",
       "      <td>0.083333</td>\n",
       "      <td>0.833333</td>\n",
       "    </tr>\n",
       "    <tr>\n",
       "      <td>6</td>\n",
       "      <td>Gradient Boosting Classifier</td>\n",
       "      <td>0.814815</td>\n",
       "      <td>0.602941</td>\n",
       "      <td>0.250000</td>\n",
       "      <td>0.813793</td>\n",
       "      <td>0.833333</td>\n",
       "      <td>1.500000</td>\n",
       "      <td>0.900000</td>\n",
       "      <td>1.666667</td>\n",
       "      <td>0.083333</td>\n",
       "      <td>0.833333</td>\n",
       "    </tr>\n",
       "    <tr>\n",
       "      <td>7</td>\n",
       "      <td>AdaBoosting Classifier</td>\n",
       "      <td>0.814815</td>\n",
       "      <td>0.602941</td>\n",
       "      <td>0.250000</td>\n",
       "      <td>0.813793</td>\n",
       "      <td>0.833333</td>\n",
       "      <td>1.500000</td>\n",
       "      <td>0.900000</td>\n",
       "      <td>1.666667</td>\n",
       "      <td>0.083333</td>\n",
       "      <td>0.833333</td>\n",
       "    </tr>\n",
       "    <tr>\n",
       "      <td>8</td>\n",
       "      <td>Neural Network</td>\n",
       "      <td>0.851852</td>\n",
       "      <td>0.625000</td>\n",
       "      <td>0.250000</td>\n",
       "      <td>0.851648</td>\n",
       "      <td>0.866667</td>\n",
       "      <td>1.875000</td>\n",
       "      <td>0.865385</td>\n",
       "      <td>2.166667</td>\n",
       "      <td>0.116667</td>\n",
       "      <td>0.866667</td>\n",
       "    </tr>\n",
       "  </tbody>\n",
       "</table>\n",
       "</div>"
      ],
      "text/plain": [
       "                      algo_list  score_liste  precision    recall  f1_score  \\\n",
       "0                           KNN     0.851852   0.861765  0.841667  0.846591   \n",
       "1                 Decision Tree     0.666667   0.726974  0.691667  0.659187   \n",
       "2                 Random Forest     0.814815   0.602941  0.250000  0.813793   \n",
       "3                   Naive Bayes     0.851852   0.625000  0.250000  0.851648   \n",
       "4             Linear Regression     0.814815   0.602941  0.250000  0.813793   \n",
       "5        Support Vector Machine     0.814815   0.602941  0.250000  0.813793   \n",
       "6  Gradient Boosting Classifier     0.814815   0.602941  0.250000  0.813793   \n",
       "7        AdaBoosting Classifier     0.814815   0.602941  0.250000  0.813793   \n",
       "8                Neural Network     0.851852   0.625000  0.250000  0.851648   \n",
       "\n",
       "        AUC       LR+       LR-        ODD    YOUDEN  Specificity  \n",
       "0  0.841667  5.315789  0.188119  28.257618  0.683333     0.841667  \n",
       "1  0.691667  2.243243  0.445783   5.032140  0.383333     0.691667  \n",
       "2  0.833333  1.500000  0.900000   1.666667  0.083333     0.833333  \n",
       "3  0.866667  1.875000  0.865385   2.166667  0.116667     0.866667  \n",
       "4  0.833333  1.500000  0.900000   1.666667  0.083333     0.833333  \n",
       "5  0.833333  1.500000  0.900000   1.666667  0.083333     0.833333  \n",
       "6  0.833333  1.500000  0.900000   1.666667  0.083333     0.833333  \n",
       "7  0.833333  1.500000  0.900000   1.666667  0.083333     0.833333  \n",
       "8  0.866667  1.875000  0.865385   2.166667  0.116667     0.866667  "
      ]
     },
     "execution_count": 20,
     "metadata": {},
     "output_type": "execute_result"
    }
   ],
   "source": [
    "df=pd.DataFrame(score)\n",
    "df"
   ]
  },
  {
   "cell_type": "markdown",
   "metadata": {},
   "source": [
    "<a id = 'roc'></a>\n",
    "### ROC Curve of the algorithms\n",
    "An ROC curve (receiver operating characteristic curve) is a graph showing the performance of a classification model at all classification thresholds. This curve plots two parameters: True Positive Rate. False Positive Rate."
   ]
  },
  {
   "cell_type": "code",
   "execution_count": 22,
   "metadata": {
    "scrolled": false
   },
   "outputs": [
    {
     "data": {
      "image/png": "[encoded data removed]",
      "text/plain": [
       "<Figure size 1152x576 with 1 Axes>"
      ]
     },
     "metadata": {
      "needs_background": "light"
     },
     "output_type": "display_data"
    }
   ],
   "source": [
    "def graph_roc_curve_multiple(log_fpr, log_tpr, knear_fpr, knear_tpr, svc_fpr, svc_tpr, tree_fpr, tree_tpr,rfc_fpr,rfc_tpr,nb_fpr,nb_tpr,gbc_fpr,gbc_tpr,abc_fpr,abc_tpr,ysa_fpr,ysa_tpr):\n",
    "    plt.figure(figsize=(16,8))\n",
    "    plt.title('ROC Curve \\n Top 9 Classifiers', fontsize=18)\n",
    "    plt.plot(log_fpr, log_tpr, label='Logistic Regression Classifier Score: {:.4f}'.format(roc_auc_score(y_test, lr.predict(x_test))))\n",
    "    plt.plot(knear_fpr, knear_tpr, label='KNears Neighbors Classifier Score: {:.4f}'.format(roc_auc_score(y_test, knn.predict(x_test))))\n",
    "    plt.plot(svc_fpr, svc_tpr, label='Support Vector Classifier Score: {:.4f}'.format(roc_auc_score(y_test, svc.predict(x_test))))\n",
    "    plt.plot(tree_fpr, tree_tpr, label='Decision Tree Classifier Score: {:.4f}'.format(roc_auc_score(y_test, dtc.predict(x_test))))\n",
    "    plt.plot(rfc_fpr, rfc_tpr, label='Random Forest Classifier Score: {:.4f}'.format(roc_auc_score(y_test, rfc.predict(x_test))))\n",
    "    plt.plot(nb_fpr, nb_tpr, label='Naive Bayes Classifier Score: {:.4f}'.format(roc_auc_score(y_test, nb.predict(x_test))))\n",
    "    plt.plot(gbc_fpr, gbc_tpr, label='Gradient Boosting Classifier Score: {:.4f}'.format(roc_auc_score(y_test, gfc.predict(x_test))))\n",
    "    plt.plot(abc_fpr, abc_tpr, label='AdaBoosting Classifier Score: {:.4f}'.format(roc_auc_score(y_test, abc.predict(x_test))))\n",
    "    plt.plot(ysa_fpr, ysa_tpr, label='Neural Network Score: {:.4f}'.format(roc_auc_score(y_test, ysa.predict(x_test))))\n",
    "    plt.plot([0, 1], [0, 1], 'k--')\n",
    "    plt.axis([-0.01, 1, 0, 1])\n",
    "    plt.xlabel('False Positive Rate', fontsize=16)\n",
    "    plt.ylabel('True Positive Rate', fontsize=16)\n",
    "    plt.annotate('Minimum ROC Score of 50% \\n (This is the minimum score to get)', xy=(0.5, 0.5), xytext=(0.6, 0.3),\n",
    "                arrowprops=dict(facecolor='#6E726D', shrink=0.05),\n",
    "                )\n",
    "    plt.legend()\n",
    "    \n",
    "graph_roc_curve_multiple(lrc_fpr, lrc_tpr, knn_fpr, knn_tpr, svc_fpr, svc_tpr, dtc_fpr, dtc_tpr,rfc_fpr,rfc_tpr,nb_fpr,nb_tpr,gfc_fpr,gfc_tpr,abc_fpr,abc_tpr,ysa_fpr,ysa_tpr)\n",
    "plt.show()"
   ]
  },
  {
   "cell_type": "markdown",
   "metadata": {},
   "source": [
    "<a id = 'conclusion'></a>\n",
    "## Conclusion and Comparison\n",
    "We have deployed nine machine learning algorithms and every algorithm is deployed successfully without any hesitation. We have checked the accuracy of the models based on the accuracy score of each of the models. Now let's take a look at the scores of each models.\n",
    "\n",
    "|Name of the Model|Accuracy Score|\n",
    "|:---:|:---:|\n",
    "|Logistic Regression|83.33|\n",
    "|Decision Tree Classifier|69.17|\n",
    "|Random Forest Classifier|83.33|\n",
    "|Naive Bayes Algorithm|86.67|\n",
    "|KNN Algorithm|84.17|\n",
    "|Support Vector Machine Algorithm|83.33|\n",
    "|Gradient Boosting Algorithm|83.33|\n",
    "|AdaBoosting Classifier|83.33|\n",
    "|Artificial Neural Network|86.67|\n",
    "\n",
    "**Comparing all those scores scored by the machine learning algorithms, it is clear that Artificial Neural Network and Naive Bayes Algorithm are having the upper hand in case of this dataset and after this, we can use Logistic regression, Random Forest Classifier, SVM, Gradient Boosting, AdaBoosting algorithm, which are also having good score as compared to the other deployed algorithms**\n",
    "\n",
    "Best Fitted Models ranking - \n",
    "1. ANN\n",
    "2. Naive Bayes\n",
    "3. Logistic Regression\n",
    "4. Randm Forest classifier\n",
    "5. SVM\n",
    "6. Gradient Boosting\n",
    "7. AdaBoosting\n",
    "8. KNN\n",
    "9. Decision Tree Classifier\n",
    "\n",
    "Hooray!! The models are deployed successfully!\n",
    "\n",
    "\n",
    "### Hope this project will help you! Thank you!"
   ]
  }
 ],
 "metadata": {
  "kernelspec": {
   "display_name": "Python 3",
   "language": "python",
   "name": "python3"
  },
  "language_info": {
   "codemirror_mode": {
    "name": "ipython",
    "version": 3
   },
   "file_extension": ".py",
   "mimetype": "text/x-python",
   "name": "python",
   "nbconvert_exporter": "python",
   "pygments_lexer": "ipython3",
   "version": "3.7.6"
  }
 },
 "nbformat": 4,
 "nbformat_minor": 1
}
