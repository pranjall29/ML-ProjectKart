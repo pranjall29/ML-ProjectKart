{
  "nbformat": 4,
  "nbformat_minor": 0,
  "metadata": {
    "colab": {
      "name": "Concrete_Strength_Prediction.ipynb",
      "provenance": [],
      "collapsed_sections": []
    },
    "kernelspec": {
      "name": "python3",
      "display_name": "Python 3"
    },
    "language_info": {
      "name": "python"
    }
  },
  "cells": [
    {
      "cell_type": "markdown",
      "metadata": {
        "id": "iMyUVd7ZZpRJ"
      },
      "source": [
        "# **Concrete Strength Prediction**\n",
        "For concrete strength prediction here we have used 3 algorithms:\n",
        "\n",
        "1.Linear Regression\n",
        "\n",
        "2.Decision Tree Regressor\n",
        "\n",
        "3.Random Forest Regressor\n",
        "\n",
        "By using the above algorithms, we will train our model by providing training data and once the model will be trained, we will perform prediction.\n",
        "After prediction, we will evaluate the performance of these algorithmns by error check and accuracy check.\n"
      ]
    },
    {
      "cell_type": "markdown",
      "metadata": {
        "id": "P11e-eodaxmo"
      },
      "source": [
        "### Steps been followed are as:\n",
        "Step 1:Data Preprocessing\n",
        "\n",
        "Step 2: Data training\n",
        "\n",
        "Step 3: Model Creation\n",
        "\n",
        "Step 4: Performance Evaluation\n",
        "\n"
      ]
    },
    {
      "cell_type": "markdown",
      "metadata": {
        "id": "ejLqO2KWcewH"
      },
      "source": [
        "## Step 1- Data Preprocessing:"
      ]
    },
    {
      "cell_type": "code",
      "metadata": {
        "id": "CSgZXFW5tiNO"
      },
      "source": [
        "#importing pandas library to read data.\n",
        "import pandas as pd"
      ],
      "execution_count": 60,
      "outputs": []
    },
    {
      "cell_type": "code",
      "metadata": {
        "colab": {
          "base_uri": "https://localhost:8080/",
          "height": 422
        },
        "id": "Gc4QVkUttrv6",
        "outputId": "d2995583-4ef5-44a7-dd92-e7a74bcde383"
      },
      "source": [
        "#loading data\n",
        "data=pd.read_csv('/content/concrete_data.csv')\n",
        "data"
      ],
      "execution_count": 61,
      "outputs": [
        {
          "output_type": "execute_result",
          "data": {
            "text/html": [
              "<div>\n",
              "<style scoped>\n",
              "    .dataframe tbody tr th:only-of-type {\n",
              "        vertical-align: middle;\n",
              "    }\n",
              "\n",
              "    .dataframe tbody tr th {\n",
              "        vertical-align: top;\n",
              "    }\n",
              "\n",
              "    .dataframe thead th {\n",
              "        text-align: right;\n",
              "    }\n",
              "</style>\n",
              "<table border=\"1\" class=\"dataframe\">\n",
              "  <thead>\n",
              "    <tr style=\"text-align: right;\">\n",
              "      <th></th>\n",
              "      <th>Cement</th>\n",
              "      <th>Blast Furnace Slag</th>\n",
              "      <th>Fly Ash</th>\n",
              "      <th>Water</th>\n",
              "      <th>Superplasticizer</th>\n",
              "      <th>Coarse Aggregate</th>\n",
              "      <th>Fine Aggregate</th>\n",
              "      <th>Age</th>\n",
              "      <th>Strength</th>\n",
              "    </tr>\n",
              "  </thead>\n",
              "  <tbody>\n",
              "    <tr>\n",
              "      <th>0</th>\n",
              "      <td>540.0</td>\n",
              "      <td>0.0</td>\n",
              "      <td>0.0</td>\n",
              "      <td>162.0</td>\n",
              "      <td>2.5</td>\n",
              "      <td>1040.0</td>\n",
              "      <td>676.0</td>\n",
              "      <td>28</td>\n",
              "      <td>79.99</td>\n",
              "    </tr>\n",
              "    <tr>\n",
              "      <th>1</th>\n",
              "      <td>540.0</td>\n",
              "      <td>0.0</td>\n",
              "      <td>0.0</td>\n",
              "      <td>162.0</td>\n",
              "      <td>2.5</td>\n",
              "      <td>1055.0</td>\n",
              "      <td>676.0</td>\n",
              "      <td>28</td>\n",
              "      <td>61.89</td>\n",
              "    </tr>\n",
              "    <tr>\n",
              "      <th>2</th>\n",
              "      <td>332.5</td>\n",
              "      <td>142.5</td>\n",
              "      <td>0.0</td>\n",
              "      <td>228.0</td>\n",
              "      <td>0.0</td>\n",
              "      <td>932.0</td>\n",
              "      <td>594.0</td>\n",
              "      <td>270</td>\n",
              "      <td>40.27</td>\n",
              "    </tr>\n",
              "    <tr>\n",
              "      <th>3</th>\n",
              "      <td>332.5</td>\n",
              "      <td>142.5</td>\n",
              "      <td>0.0</td>\n",
              "      <td>228.0</td>\n",
              "      <td>0.0</td>\n",
              "      <td>932.0</td>\n",
              "      <td>594.0</td>\n",
              "      <td>365</td>\n",
              "      <td>41.05</td>\n",
              "    </tr>\n",
              "    <tr>\n",
              "      <th>4</th>\n",
              "      <td>198.6</td>\n",
              "      <td>132.4</td>\n",
              "      <td>0.0</td>\n",
              "      <td>192.0</td>\n",
              "      <td>0.0</td>\n",
              "      <td>978.4</td>\n",
              "      <td>825.5</td>\n",
              "      <td>360</td>\n",
              "      <td>44.30</td>\n",
              "    </tr>\n",
              "    <tr>\n",
              "      <th>...</th>\n",
              "      <td>...</td>\n",
              "      <td>...</td>\n",
              "      <td>...</td>\n",
              "      <td>...</td>\n",
              "      <td>...</td>\n",
              "      <td>...</td>\n",
              "      <td>...</td>\n",
              "      <td>...</td>\n",
              "      <td>...</td>\n",
              "    </tr>\n",
              "    <tr>\n",
              "      <th>1025</th>\n",
              "      <td>276.4</td>\n",
              "      <td>116.0</td>\n",
              "      <td>90.3</td>\n",
              "      <td>179.6</td>\n",
              "      <td>8.9</td>\n",
              "      <td>870.1</td>\n",
              "      <td>768.3</td>\n",
              "      <td>28</td>\n",
              "      <td>44.28</td>\n",
              "    </tr>\n",
              "    <tr>\n",
              "      <th>1026</th>\n",
              "      <td>322.2</td>\n",
              "      <td>0.0</td>\n",
              "      <td>115.6</td>\n",
              "      <td>196.0</td>\n",
              "      <td>10.4</td>\n",
              "      <td>817.9</td>\n",
              "      <td>813.4</td>\n",
              "      <td>28</td>\n",
              "      <td>31.18</td>\n",
              "    </tr>\n",
              "    <tr>\n",
              "      <th>1027</th>\n",
              "      <td>148.5</td>\n",
              "      <td>139.4</td>\n",
              "      <td>108.6</td>\n",
              "      <td>192.7</td>\n",
              "      <td>6.1</td>\n",
              "      <td>892.4</td>\n",
              "      <td>780.0</td>\n",
              "      <td>28</td>\n",
              "      <td>23.70</td>\n",
              "    </tr>\n",
              "    <tr>\n",
              "      <th>1028</th>\n",
              "      <td>159.1</td>\n",
              "      <td>186.7</td>\n",
              "      <td>0.0</td>\n",
              "      <td>175.6</td>\n",
              "      <td>11.3</td>\n",
              "      <td>989.6</td>\n",
              "      <td>788.9</td>\n",
              "      <td>28</td>\n",
              "      <td>32.77</td>\n",
              "    </tr>\n",
              "    <tr>\n",
              "      <th>1029</th>\n",
              "      <td>260.9</td>\n",
              "      <td>100.5</td>\n",
              "      <td>78.3</td>\n",
              "      <td>200.6</td>\n",
              "      <td>8.6</td>\n",
              "      <td>864.5</td>\n",
              "      <td>761.5</td>\n",
              "      <td>28</td>\n",
              "      <td>32.40</td>\n",
              "    </tr>\n",
              "  </tbody>\n",
              "</table>\n",
              "<p>1030 rows × 9 columns</p>\n",
              "</div>"
            ],
            "text/plain": [
              "      Cement  Blast Furnace Slag  Fly Ash  ...  Fine Aggregate  Age  Strength\n",
              "0      540.0                 0.0      0.0  ...           676.0   28     79.99\n",
              "1      540.0                 0.0      0.0  ...           676.0   28     61.89\n",
              "2      332.5               142.5      0.0  ...           594.0  270     40.27\n",
              "3      332.5               142.5      0.0  ...           594.0  365     41.05\n",
              "4      198.6               132.4      0.0  ...           825.5  360     44.30\n",
              "...      ...                 ...      ...  ...             ...  ...       ...\n",
              "1025   276.4               116.0     90.3  ...           768.3   28     44.28\n",
              "1026   322.2                 0.0    115.6  ...           813.4   28     31.18\n",
              "1027   148.5               139.4    108.6  ...           780.0   28     23.70\n",
              "1028   159.1               186.7      0.0  ...           788.9   28     32.77\n",
              "1029   260.9               100.5     78.3  ...           761.5   28     32.40\n",
              "\n",
              "[1030 rows x 9 columns]"
            ]
          },
          "metadata": {
            "tags": []
          },
          "execution_count": 61
        }
      ]
    },
    {
      "cell_type": "code",
      "metadata": {
        "colab": {
          "base_uri": "https://localhost:8080/",
          "height": 205
        },
        "id": "56g5mVssvhet",
        "outputId": "52d3b673-e9ba-42f8-ce40-237e1ecd8817"
      },
      "source": [
        "#To view first 5 rows of the dataset.\n",
        "data.head()"
      ],
      "execution_count": 62,
      "outputs": [
        {
          "output_type": "execute_result",
          "data": {
            "text/html": [
              "<div>\n",
              "<style scoped>\n",
              "    .dataframe tbody tr th:only-of-type {\n",
              "        vertical-align: middle;\n",
              "    }\n",
              "\n",
              "    .dataframe tbody tr th {\n",
              "        vertical-align: top;\n",
              "    }\n",
              "\n",
              "    .dataframe thead th {\n",
              "        text-align: right;\n",
              "    }\n",
              "</style>\n",
              "<table border=\"1\" class=\"dataframe\">\n",
              "  <thead>\n",
              "    <tr style=\"text-align: right;\">\n",
              "      <th></th>\n",
              "      <th>Cement</th>\n",
              "      <th>Blast Furnace Slag</th>\n",
              "      <th>Fly Ash</th>\n",
              "      <th>Water</th>\n",
              "      <th>Superplasticizer</th>\n",
              "      <th>Coarse Aggregate</th>\n",
              "      <th>Fine Aggregate</th>\n",
              "      <th>Age</th>\n",
              "      <th>Strength</th>\n",
              "    </tr>\n",
              "  </thead>\n",
              "  <tbody>\n",
              "    <tr>\n",
              "      <th>0</th>\n",
              "      <td>540.0</td>\n",
              "      <td>0.0</td>\n",
              "      <td>0.0</td>\n",
              "      <td>162.0</td>\n",
              "      <td>2.5</td>\n",
              "      <td>1040.0</td>\n",
              "      <td>676.0</td>\n",
              "      <td>28</td>\n",
              "      <td>79.99</td>\n",
              "    </tr>\n",
              "    <tr>\n",
              "      <th>1</th>\n",
              "      <td>540.0</td>\n",
              "      <td>0.0</td>\n",
              "      <td>0.0</td>\n",
              "      <td>162.0</td>\n",
              "      <td>2.5</td>\n",
              "      <td>1055.0</td>\n",
              "      <td>676.0</td>\n",
              "      <td>28</td>\n",
              "      <td>61.89</td>\n",
              "    </tr>\n",
              "    <tr>\n",
              "      <th>2</th>\n",
              "      <td>332.5</td>\n",
              "      <td>142.5</td>\n",
              "      <td>0.0</td>\n",
              "      <td>228.0</td>\n",
              "      <td>0.0</td>\n",
              "      <td>932.0</td>\n",
              "      <td>594.0</td>\n",
              "      <td>270</td>\n",
              "      <td>40.27</td>\n",
              "    </tr>\n",
              "    <tr>\n",
              "      <th>3</th>\n",
              "      <td>332.5</td>\n",
              "      <td>142.5</td>\n",
              "      <td>0.0</td>\n",
              "      <td>228.0</td>\n",
              "      <td>0.0</td>\n",
              "      <td>932.0</td>\n",
              "      <td>594.0</td>\n",
              "      <td>365</td>\n",
              "      <td>41.05</td>\n",
              "    </tr>\n",
              "    <tr>\n",
              "      <th>4</th>\n",
              "      <td>198.6</td>\n",
              "      <td>132.4</td>\n",
              "      <td>0.0</td>\n",
              "      <td>192.0</td>\n",
              "      <td>0.0</td>\n",
              "      <td>978.4</td>\n",
              "      <td>825.5</td>\n",
              "      <td>360</td>\n",
              "      <td>44.30</td>\n",
              "    </tr>\n",
              "  </tbody>\n",
              "</table>\n",
              "</div>"
            ],
            "text/plain": [
              "   Cement  Blast Furnace Slag  Fly Ash  ...  Fine Aggregate  Age  Strength\n",
              "0   540.0                 0.0      0.0  ...           676.0   28     79.99\n",
              "1   540.0                 0.0      0.0  ...           676.0   28     61.89\n",
              "2   332.5               142.5      0.0  ...           594.0  270     40.27\n",
              "3   332.5               142.5      0.0  ...           594.0  365     41.05\n",
              "4   198.6               132.4      0.0  ...           825.5  360     44.30\n",
              "\n",
              "[5 rows x 9 columns]"
            ]
          },
          "metadata": {
            "tags": []
          },
          "execution_count": 62
        }
      ]
    },
    {
      "cell_type": "code",
      "metadata": {
        "colab": {
          "base_uri": "https://localhost:8080/",
          "height": 205
        },
        "id": "rw8N69gYc1g5",
        "outputId": "53da7380-1c10-4e02-8e49-2d4f61b16092"
      },
      "source": [
        "#To view last 5 rows of the dataset.\n",
        "data.tail()"
      ],
      "execution_count": 63,
      "outputs": [
        {
          "output_type": "execute_result",
          "data": {
            "text/html": [
              "<div>\n",
              "<style scoped>\n",
              "    .dataframe tbody tr th:only-of-type {\n",
              "        vertical-align: middle;\n",
              "    }\n",
              "\n",
              "    .dataframe tbody tr th {\n",
              "        vertical-align: top;\n",
              "    }\n",
              "\n",
              "    .dataframe thead th {\n",
              "        text-align: right;\n",
              "    }\n",
              "</style>\n",
              "<table border=\"1\" class=\"dataframe\">\n",
              "  <thead>\n",
              "    <tr style=\"text-align: right;\">\n",
              "      <th></th>\n",
              "      <th>Cement</th>\n",
              "      <th>Blast Furnace Slag</th>\n",
              "      <th>Fly Ash</th>\n",
              "      <th>Water</th>\n",
              "      <th>Superplasticizer</th>\n",
              "      <th>Coarse Aggregate</th>\n",
              "      <th>Fine Aggregate</th>\n",
              "      <th>Age</th>\n",
              "      <th>Strength</th>\n",
              "    </tr>\n",
              "  </thead>\n",
              "  <tbody>\n",
              "    <tr>\n",
              "      <th>1025</th>\n",
              "      <td>276.4</td>\n",
              "      <td>116.0</td>\n",
              "      <td>90.3</td>\n",
              "      <td>179.6</td>\n",
              "      <td>8.9</td>\n",
              "      <td>870.1</td>\n",
              "      <td>768.3</td>\n",
              "      <td>28</td>\n",
              "      <td>44.28</td>\n",
              "    </tr>\n",
              "    <tr>\n",
              "      <th>1026</th>\n",
              "      <td>322.2</td>\n",
              "      <td>0.0</td>\n",
              "      <td>115.6</td>\n",
              "      <td>196.0</td>\n",
              "      <td>10.4</td>\n",
              "      <td>817.9</td>\n",
              "      <td>813.4</td>\n",
              "      <td>28</td>\n",
              "      <td>31.18</td>\n",
              "    </tr>\n",
              "    <tr>\n",
              "      <th>1027</th>\n",
              "      <td>148.5</td>\n",
              "      <td>139.4</td>\n",
              "      <td>108.6</td>\n",
              "      <td>192.7</td>\n",
              "      <td>6.1</td>\n",
              "      <td>892.4</td>\n",
              "      <td>780.0</td>\n",
              "      <td>28</td>\n",
              "      <td>23.70</td>\n",
              "    </tr>\n",
              "    <tr>\n",
              "      <th>1028</th>\n",
              "      <td>159.1</td>\n",
              "      <td>186.7</td>\n",
              "      <td>0.0</td>\n",
              "      <td>175.6</td>\n",
              "      <td>11.3</td>\n",
              "      <td>989.6</td>\n",
              "      <td>788.9</td>\n",
              "      <td>28</td>\n",
              "      <td>32.77</td>\n",
              "    </tr>\n",
              "    <tr>\n",
              "      <th>1029</th>\n",
              "      <td>260.9</td>\n",
              "      <td>100.5</td>\n",
              "      <td>78.3</td>\n",
              "      <td>200.6</td>\n",
              "      <td>8.6</td>\n",
              "      <td>864.5</td>\n",
              "      <td>761.5</td>\n",
              "      <td>28</td>\n",
              "      <td>32.40</td>\n",
              "    </tr>\n",
              "  </tbody>\n",
              "</table>\n",
              "</div>"
            ],
            "text/plain": [
              "      Cement  Blast Furnace Slag  Fly Ash  ...  Fine Aggregate  Age  Strength\n",
              "1025   276.4               116.0     90.3  ...           768.3   28     44.28\n",
              "1026   322.2                 0.0    115.6  ...           813.4   28     31.18\n",
              "1027   148.5               139.4    108.6  ...           780.0   28     23.70\n",
              "1028   159.1               186.7      0.0  ...           788.9   28     32.77\n",
              "1029   260.9               100.5     78.3  ...           761.5   28     32.40\n",
              "\n",
              "[5 rows x 9 columns]"
            ]
          },
          "metadata": {
            "tags": []
          },
          "execution_count": 63
        }
      ]
    },
    {
      "cell_type": "code",
      "metadata": {
        "colab": {
          "base_uri": "https://localhost:8080/",
          "height": 205
        },
        "id": "-pjKEMsYvQB-",
        "outputId": "5b12560c-6351-43ba-8132-89aa2c1a53e1"
      },
      "source": [
        "#converting data into int datatype to avoid errors below.\n",
        "data=data.astype(int)\n",
        "data.head()"
      ],
      "execution_count": 64,
      "outputs": [
        {
          "output_type": "execute_result",
          "data": {
            "text/html": [
              "<div>\n",
              "<style scoped>\n",
              "    .dataframe tbody tr th:only-of-type {\n",
              "        vertical-align: middle;\n",
              "    }\n",
              "\n",
              "    .dataframe tbody tr th {\n",
              "        vertical-align: top;\n",
              "    }\n",
              "\n",
              "    .dataframe thead th {\n",
              "        text-align: right;\n",
              "    }\n",
              "</style>\n",
              "<table border=\"1\" class=\"dataframe\">\n",
              "  <thead>\n",
              "    <tr style=\"text-align: right;\">\n",
              "      <th></th>\n",
              "      <th>Cement</th>\n",
              "      <th>Blast Furnace Slag</th>\n",
              "      <th>Fly Ash</th>\n",
              "      <th>Water</th>\n",
              "      <th>Superplasticizer</th>\n",
              "      <th>Coarse Aggregate</th>\n",
              "      <th>Fine Aggregate</th>\n",
              "      <th>Age</th>\n",
              "      <th>Strength</th>\n",
              "    </tr>\n",
              "  </thead>\n",
              "  <tbody>\n",
              "    <tr>\n",
              "      <th>0</th>\n",
              "      <td>540</td>\n",
              "      <td>0</td>\n",
              "      <td>0</td>\n",
              "      <td>162</td>\n",
              "      <td>2</td>\n",
              "      <td>1040</td>\n",
              "      <td>676</td>\n",
              "      <td>28</td>\n",
              "      <td>79</td>\n",
              "    </tr>\n",
              "    <tr>\n",
              "      <th>1</th>\n",
              "      <td>540</td>\n",
              "      <td>0</td>\n",
              "      <td>0</td>\n",
              "      <td>162</td>\n",
              "      <td>2</td>\n",
              "      <td>1055</td>\n",
              "      <td>676</td>\n",
              "      <td>28</td>\n",
              "      <td>61</td>\n",
              "    </tr>\n",
              "    <tr>\n",
              "      <th>2</th>\n",
              "      <td>332</td>\n",
              "      <td>142</td>\n",
              "      <td>0</td>\n",
              "      <td>228</td>\n",
              "      <td>0</td>\n",
              "      <td>932</td>\n",
              "      <td>594</td>\n",
              "      <td>270</td>\n",
              "      <td>40</td>\n",
              "    </tr>\n",
              "    <tr>\n",
              "      <th>3</th>\n",
              "      <td>332</td>\n",
              "      <td>142</td>\n",
              "      <td>0</td>\n",
              "      <td>228</td>\n",
              "      <td>0</td>\n",
              "      <td>932</td>\n",
              "      <td>594</td>\n",
              "      <td>365</td>\n",
              "      <td>41</td>\n",
              "    </tr>\n",
              "    <tr>\n",
              "      <th>4</th>\n",
              "      <td>198</td>\n",
              "      <td>132</td>\n",
              "      <td>0</td>\n",
              "      <td>192</td>\n",
              "      <td>0</td>\n",
              "      <td>978</td>\n",
              "      <td>825</td>\n",
              "      <td>360</td>\n",
              "      <td>44</td>\n",
              "    </tr>\n",
              "  </tbody>\n",
              "</table>\n",
              "</div>"
            ],
            "text/plain": [
              "   Cement  Blast Furnace Slag  Fly Ash  ...  Fine Aggregate  Age  Strength\n",
              "0     540                   0        0  ...             676   28        79\n",
              "1     540                   0        0  ...             676   28        61\n",
              "2     332                 142        0  ...             594  270        40\n",
              "3     332                 142        0  ...             594  365        41\n",
              "4     198                 132        0  ...             825  360        44\n",
              "\n",
              "[5 rows x 9 columns]"
            ]
          },
          "metadata": {
            "tags": []
          },
          "execution_count": 64
        }
      ]
    },
    {
      "cell_type": "code",
      "metadata": {
        "colab": {
          "base_uri": "https://localhost:8080/"
        },
        "id": "kKWeQ_zRdIHp",
        "outputId": "494bfc58-8c3d-4479-c8d0-f80e608fdc03"
      },
      "source": [
        "#To view non-null, dtype, memory usage & range of the dataset.\n",
        "data.info()"
      ],
      "execution_count": 65,
      "outputs": [
        {
          "output_type": "stream",
          "text": [
            "<class 'pandas.core.frame.DataFrame'>\n",
            "RangeIndex: 1030 entries, 0 to 1029\n",
            "Data columns (total 9 columns):\n",
            " #   Column              Non-Null Count  Dtype\n",
            "---  ------              --------------  -----\n",
            " 0   Cement              1030 non-null   int64\n",
            " 1   Blast Furnace Slag  1030 non-null   int64\n",
            " 2   Fly Ash             1030 non-null   int64\n",
            " 3   Water               1030 non-null   int64\n",
            " 4   Superplasticizer    1030 non-null   int64\n",
            " 5   Coarse Aggregate    1030 non-null   int64\n",
            " 6   Fine Aggregate      1030 non-null   int64\n",
            " 7   Age                 1030 non-null   int64\n",
            " 8   Strength            1030 non-null   int64\n",
            "dtypes: int64(9)\n",
            "memory usage: 72.5 KB\n"
          ],
          "name": "stdout"
        }
      ]
    },
    {
      "cell_type": "code",
      "metadata": {
        "colab": {
          "base_uri": "https://localhost:8080/"
        },
        "id": "7E-1s3CcdMK9",
        "outputId": "6ccd946a-2df9-44d9-f590-6eb1d87f737d"
      },
      "source": [
        "#To view different columns of the dataset.\n",
        "data.columns"
      ],
      "execution_count": 66,
      "outputs": [
        {
          "output_type": "execute_result",
          "data": {
            "text/plain": [
              "Index(['Cement', 'Blast Furnace Slag', 'Fly Ash', 'Water', 'Superplasticizer',\n",
              "       'Coarse Aggregate', 'Fine Aggregate', 'Age', 'Strength'],\n",
              "      dtype='object')"
            ]
          },
          "metadata": {
            "tags": []
          },
          "execution_count": 66
        }
      ]
    },
    {
      "cell_type": "code",
      "metadata": {
        "colab": {
          "base_uri": "https://localhost:8080/",
          "height": 299
        },
        "id": "Ct7MpNijvSmz",
        "outputId": "85528a93-3bc4-498e-c69a-e0661c73018b"
      },
      "source": [
        "#to view statistical summary of all numerical columns of the dataset.\n",
        "data.describe()"
      ],
      "execution_count": 67,
      "outputs": [
        {
          "output_type": "execute_result",
          "data": {
            "text/html": [
              "<div>\n",
              "<style scoped>\n",
              "    .dataframe tbody tr th:only-of-type {\n",
              "        vertical-align: middle;\n",
              "    }\n",
              "\n",
              "    .dataframe tbody tr th {\n",
              "        vertical-align: top;\n",
              "    }\n",
              "\n",
              "    .dataframe thead th {\n",
              "        text-align: right;\n",
              "    }\n",
              "</style>\n",
              "<table border=\"1\" class=\"dataframe\">\n",
              "  <thead>\n",
              "    <tr style=\"text-align: right;\">\n",
              "      <th></th>\n",
              "      <th>Cement</th>\n",
              "      <th>Blast Furnace Slag</th>\n",
              "      <th>Fly Ash</th>\n",
              "      <th>Water</th>\n",
              "      <th>Superplasticizer</th>\n",
              "      <th>Coarse Aggregate</th>\n",
              "      <th>Fine Aggregate</th>\n",
              "      <th>Age</th>\n",
              "      <th>Strength</th>\n",
              "    </tr>\n",
              "  </thead>\n",
              "  <tbody>\n",
              "    <tr>\n",
              "      <th>count</th>\n",
              "      <td>1030.000000</td>\n",
              "      <td>1030.000000</td>\n",
              "      <td>1030.000000</td>\n",
              "      <td>1030.000000</td>\n",
              "      <td>1030.000000</td>\n",
              "      <td>1030.000000</td>\n",
              "      <td>1030.000000</td>\n",
              "      <td>1030.000000</td>\n",
              "      <td>1030.000000</td>\n",
              "    </tr>\n",
              "    <tr>\n",
              "      <th>mean</th>\n",
              "      <td>280.933981</td>\n",
              "      <td>73.762136</td>\n",
              "      <td>54.046602</td>\n",
              "      <td>181.279612</td>\n",
              "      <td>5.938835</td>\n",
              "      <td>972.657282</td>\n",
              "      <td>773.300971</td>\n",
              "      <td>45.662136</td>\n",
              "      <td>35.319417</td>\n",
              "    </tr>\n",
              "    <tr>\n",
              "      <th>std</th>\n",
              "      <td>104.585096</td>\n",
              "      <td>86.170344</td>\n",
              "      <td>63.856175</td>\n",
              "      <td>21.465127</td>\n",
              "      <td>5.831214</td>\n",
              "      <td>77.707820</td>\n",
              "      <td>80.122250</td>\n",
              "      <td>63.169912</td>\n",
              "      <td>16.705298</td>\n",
              "    </tr>\n",
              "    <tr>\n",
              "      <th>min</th>\n",
              "      <td>102.000000</td>\n",
              "      <td>0.000000</td>\n",
              "      <td>0.000000</td>\n",
              "      <td>121.000000</td>\n",
              "      <td>0.000000</td>\n",
              "      <td>801.000000</td>\n",
              "      <td>594.000000</td>\n",
              "      <td>1.000000</td>\n",
              "      <td>2.000000</td>\n",
              "    </tr>\n",
              "    <tr>\n",
              "      <th>25%</th>\n",
              "      <td>192.250000</td>\n",
              "      <td>0.000000</td>\n",
              "      <td>0.000000</td>\n",
              "      <td>164.000000</td>\n",
              "      <td>0.000000</td>\n",
              "      <td>932.000000</td>\n",
              "      <td>730.500000</td>\n",
              "      <td>7.000000</td>\n",
              "      <td>23.000000</td>\n",
              "    </tr>\n",
              "    <tr>\n",
              "      <th>50%</th>\n",
              "      <td>272.500000</td>\n",
              "      <td>22.000000</td>\n",
              "      <td>0.000000</td>\n",
              "      <td>185.000000</td>\n",
              "      <td>6.000000</td>\n",
              "      <td>968.000000</td>\n",
              "      <td>779.000000</td>\n",
              "      <td>28.000000</td>\n",
              "      <td>34.000000</td>\n",
              "    </tr>\n",
              "    <tr>\n",
              "      <th>75%</th>\n",
              "      <td>350.000000</td>\n",
              "      <td>142.750000</td>\n",
              "      <td>118.000000</td>\n",
              "      <td>192.000000</td>\n",
              "      <td>10.000000</td>\n",
              "      <td>1029.000000</td>\n",
              "      <td>824.000000</td>\n",
              "      <td>56.000000</td>\n",
              "      <td>45.750000</td>\n",
              "    </tr>\n",
              "    <tr>\n",
              "      <th>max</th>\n",
              "      <td>540.000000</td>\n",
              "      <td>359.000000</td>\n",
              "      <td>200.000000</td>\n",
              "      <td>247.000000</td>\n",
              "      <td>32.000000</td>\n",
              "      <td>1145.000000</td>\n",
              "      <td>992.000000</td>\n",
              "      <td>365.000000</td>\n",
              "      <td>82.000000</td>\n",
              "    </tr>\n",
              "  </tbody>\n",
              "</table>\n",
              "</div>"
            ],
            "text/plain": [
              "            Cement  Blast Furnace Slag  ...          Age     Strength\n",
              "count  1030.000000         1030.000000  ...  1030.000000  1030.000000\n",
              "mean    280.933981           73.762136  ...    45.662136    35.319417\n",
              "std     104.585096           86.170344  ...    63.169912    16.705298\n",
              "min     102.000000            0.000000  ...     1.000000     2.000000\n",
              "25%     192.250000            0.000000  ...     7.000000    23.000000\n",
              "50%     272.500000           22.000000  ...    28.000000    34.000000\n",
              "75%     350.000000          142.750000  ...    56.000000    45.750000\n",
              "max     540.000000          359.000000  ...   365.000000    82.000000\n",
              "\n",
              "[8 rows x 9 columns]"
            ]
          },
          "metadata": {
            "tags": []
          },
          "execution_count": 67
        }
      ]
    },
    {
      "cell_type": "code",
      "metadata": {
        "colab": {
          "base_uri": "https://localhost:8080/"
        },
        "id": "gVMbMSG6duDz",
        "outputId": "73de5742-fae2-410d-930e-451494ccaf36"
      },
      "source": [
        "#check for any null values in the dataset.\n",
        "data.isnull().sum()"
      ],
      "execution_count": 68,
      "outputs": [
        {
          "output_type": "execute_result",
          "data": {
            "text/plain": [
              "Cement                0\n",
              "Blast Furnace Slag    0\n",
              "Fly Ash               0\n",
              "Water                 0\n",
              "Superplasticizer      0\n",
              "Coarse Aggregate      0\n",
              "Fine Aggregate        0\n",
              "Age                   0\n",
              "Strength              0\n",
              "dtype: int64"
            ]
          },
          "metadata": {
            "tags": []
          },
          "execution_count": 68
        }
      ]
    },
    {
      "cell_type": "code",
      "metadata": {
        "colab": {
          "base_uri": "https://localhost:8080/"
        },
        "id": "pdoeg59_d6Ol",
        "outputId": "97872130-83bd-49b4-fc72-1eb73e227102"
      },
      "source": [
        "data.isnull().sum().sum()"
      ],
      "execution_count": 69,
      "outputs": [
        {
          "output_type": "execute_result",
          "data": {
            "text/plain": [
              "0"
            ]
          },
          "metadata": {
            "tags": []
          },
          "execution_count": 69
        }
      ]
    },
    {
      "cell_type": "markdown",
      "metadata": {
        "id": "7llZrZOHmiHK"
      },
      "source": [
        "The data is clean i.e. no missing or inappropriate values found."
      ]
    },
    {
      "cell_type": "markdown",
      "metadata": {
        "id": "OuyXS5tJePtf"
      },
      "source": [
        "## Step 2 Data training:"
      ]
    },
    {
      "cell_type": "code",
      "metadata": {
        "id": "qd1hWQt1tzY4"
      },
      "source": [
        "# Import train_test_split from sklearn.model_selection\n",
        "from sklearn.model_selection import train_test_split\n",
        "# Here, X is the data which will have features and y will have our target i.e. strength.\n",
        "X=data[['Cement', 'Blast Furnace Slag', 'Fly Ash', 'Water', 'Superplasticizer',\n",
        "       'Coarse Aggregate', 'Fine Aggregate', 'Age']]  \n",
        "y=data['Strength']"
      ],
      "execution_count": 70,
      "outputs": []
    },
    {
      "cell_type": "code",
      "metadata": {
        "id": "r1SYN2BWovtU"
      },
      "source": [
        "# Split data into training data and testing data\n",
        "X_train, X_test, y_train, y_test = train_test_split(X, y, test_size=0.2,random_state=500) \n",
        "#Ratio used for splitting training and testing data is 8:2 respectively."
      ],
      "execution_count": 71,
      "outputs": []
    },
    {
      "cell_type": "code",
      "metadata": {
        "id": "zZE7jVCIkibx",
        "colab": {
          "base_uri": "https://localhost:8080/"
        },
        "outputId": "da8664c4-d9d0-41bd-afe1-a343e2cb6ddd"
      },
      "source": [
        "#to view length of training data.\n",
        "len(X_train)"
      ],
      "execution_count": 72,
      "outputs": [
        {
          "output_type": "execute_result",
          "data": {
            "text/plain": [
              "824"
            ]
          },
          "metadata": {
            "tags": []
          },
          "execution_count": 72
        }
      ]
    },
    {
      "cell_type": "code",
      "metadata": {
        "colab": {
          "base_uri": "https://localhost:8080/"
        },
        "id": "YQsQGKwQRQIo",
        "outputId": "f397b61e-d01a-4639-f1c3-9586fb383cb2"
      },
      "source": [
        "#to view length of testing data.\n",
        "len(X_test)"
      ],
      "execution_count": 73,
      "outputs": [
        {
          "output_type": "execute_result",
          "data": {
            "text/plain": [
              "206"
            ]
          },
          "metadata": {
            "tags": []
          },
          "execution_count": 73
        }
      ]
    },
    {
      "cell_type": "markdown",
      "metadata": {
        "id": "vOoYkM_IfJjm"
      },
      "source": [
        "## Step 3- Model Creation:"
      ]
    },
    {
      "cell_type": "markdown",
      "metadata": {
        "id": "DjUIl0wbfT85"
      },
      "source": [
        "### **Linear Regression**"
      ]
    },
    {
      "cell_type": "code",
      "metadata": {
        "id": "Q1RhXPyOjBdB"
      },
      "source": [
        "# Importing linear regression model\n",
        "from sklearn.linear_model import LinearRegression \n",
        "reg1 = LinearRegression()"
      ],
      "execution_count": 74,
      "outputs": []
    },
    {
      "cell_type": "code",
      "metadata": {
        "colab": {
          "base_uri": "https://localhost:8080/"
        },
        "id": "JRYaM1mkflQj",
        "outputId": "165c9bc5-dc5a-4b00-e974-ca87861a1f04"
      },
      "source": [
        "# Fitting data into the model.\n",
        "reg1.fit(X_train, y_train) "
      ],
      "execution_count": 75,
      "outputs": [
        {
          "output_type": "execute_result",
          "data": {
            "text/plain": [
              "LinearRegression(copy_X=True, fit_intercept=True, n_jobs=None, normalize=False)"
            ]
          },
          "metadata": {
            "tags": []
          },
          "execution_count": 75
        }
      ]
    },
    {
      "cell_type": "code",
      "metadata": {
        "id": "1_b7unHxfqt0"
      },
      "source": [
        "# Making predictions \n",
        "pred1 = reg1.predict(X_test) "
      ],
      "execution_count": 76,
      "outputs": []
    },
    {
      "cell_type": "code",
      "metadata": {
        "colab": {
          "base_uri": "https://localhost:8080/"
        },
        "id": "-GAKi1B5Ro9p",
        "outputId": "a8de089b-fc39-425f-e517-31e3ad35feb3"
      },
      "source": [
        "pred1"
      ],
      "execution_count": 77,
      "outputs": [
        {
          "output_type": "execute_result",
          "data": {
            "text/plain": [
              "array([50.56059863, 50.21047465, 38.04490151, 38.3156941 , 29.56284962,\n",
              "       30.75103197, 45.77586631, 41.26107651, 10.12486307, 25.90578348,\n",
              "       29.06438418, 52.90488571, 23.38332453, 38.85004576, 31.67111523,\n",
              "       33.6059699 , 33.81951902, 28.59953336, 23.90433358, 38.50926211,\n",
              "       27.36857007, 29.78202169, 34.44691637, 28.86872032, 53.34901389,\n",
              "       22.62191785, 32.89970566, 24.14420269, 46.52063587, 47.7600064 ,\n",
              "       22.62716035, 39.71657815, 31.66186304, 36.60207658, 26.95429446,\n",
              "       32.83380528, 53.4294485 , 31.90799494, 36.18330131, 27.55391628,\n",
              "       26.70728477, 53.75476327, 39.61124477, 32.34632769, 36.07424462,\n",
              "       45.69389389, 47.26739585, 24.26392353, 51.36838682, 23.44953657,\n",
              "       33.14181395, 33.623664  , 50.43969879, 55.68068685, 19.78192164,\n",
              "       36.1732422 , 23.615643  , 42.81836722, 78.09013094, 30.62774546,\n",
              "       33.78173302, 53.34901389, 28.5255484 , 67.26975627, 53.34901389,\n",
              "       21.19145072, 22.51136896, 20.20858345, 44.98420526, 52.51284547,\n",
              "       26.41784013, 48.60962142, 26.39886198, 25.41089185, 48.88870293,\n",
              "       53.37060545, 33.61712513, 40.14369058, 52.694664  , 29.13304039,\n",
              "       19.60500521, 60.69737928, 50.00862265, 25.06040209, 15.87367153,\n",
              "       59.97680082, 45.41694307, 29.39535579, 39.00700062, 23.24688634,\n",
              "       37.09721356, 27.88053804, 19.04513745, 36.11021431, 24.26392353,\n",
              "       14.02965454, 28.27566366, 38.94904334, 32.15867798, 62.81322037,\n",
              "       59.33531449, 41.78280176, 26.02329652, 32.14938329, 22.64084998,\n",
              "       38.05161029, 28.90863043, 26.58216906, 25.06354596, 35.77307219,\n",
              "       48.76126664, 22.18039735, 43.22372842, 25.04457535, 22.08697468,\n",
              "       45.03321966, 23.49782163, 58.78958413, 35.96036458, 30.61502009,\n",
              "       53.51666312, 20.74124104, 53.55072087, 41.95894304, 34.04306993,\n",
              "       31.53689768, 40.69245586, 53.2075838 , 32.24899131, 17.75726536,\n",
              "       36.33830353, 37.2754267 , 24.45588623, 18.30413335, 15.87367153,\n",
              "       59.90914345, 39.36508836, 48.6667886 , 41.94638921, 55.88026902,\n",
              "       24.80550091, 55.80356128, 26.92000383, 38.65064647, 29.10189054,\n",
              "       16.94005433, 47.86085032, 48.45271592, 61.38505124, 31.09761437,\n",
              "       22.13541734, 17.6313849 , 57.3155701 , 17.6334009 , 23.21127519,\n",
              "       11.22238177, 24.34846422, 21.43487574, 26.34602062, 35.00809627,\n",
              "       17.56552758, 38.29129627, 28.17064378, 45.42833344, 55.75691218,\n",
              "       33.4545757 , 29.20522473, 52.92647727, 58.6596727 , 33.98892862,\n",
              "       47.87880169, 30.9111474 , 26.99851713, 23.60746011, 34.51690807,\n",
              "       23.36086994, 29.14009403, 39.61124477, 26.3974798 , 19.07525362,\n",
              "       22.12578776, 21.57621926, 46.03875743, 29.3579702 , 23.61589675,\n",
              "       33.16613054, 57.47202323, 58.53208666, 27.771341  , 49.91886286,\n",
              "       47.71825045, 36.10909205, 50.65010899, 11.71172887, 18.10608614,\n",
              "       29.60515877, 33.08068077, 20.05247487, 53.35097276, 24.41864764,\n",
              "       42.9370203 , 16.77185111, 56.56213223, 19.16590405, 37.99260333,\n",
              "       34.36936234])"
            ]
          },
          "metadata": {
            "tags": []
          },
          "execution_count": 77
        }
      ]
    },
    {
      "cell_type": "code",
      "metadata": {
        "colab": {
          "base_uri": "https://localhost:8080/"
        },
        "id": "DiTBJ01hU04b",
        "outputId": "3c117a7d-78ff-4ac1-9c27-6d8726c8ab39"
      },
      "source": [
        "len(pred1)"
      ],
      "execution_count": 78,
      "outputs": [
        {
          "output_type": "execute_result",
          "data": {
            "text/plain": [
              "206"
            ]
          },
          "metadata": {
            "tags": []
          },
          "execution_count": 78
        }
      ]
    },
    {
      "cell_type": "code",
      "metadata": {
        "colab": {
          "base_uri": "https://localhost:8080/"
        },
        "id": "4FMwlzaEUe4C",
        "outputId": "15c9d431-f951-4daa-b3f3-95696efe4559"
      },
      "source": [
        "print(\"Accuracy of the LinearRegression model comes to be: \\n \") \n",
        "print(reg1.score(X_train,y_train))"
      ],
      "execution_count": 79,
      "outputs": [
        {
          "output_type": "stream",
          "text": [
            "Accuracy of the LinearRegression model comes to be: \n",
            " \n",
            "0.6136179224215671\n"
          ],
          "name": "stdout"
        }
      ]
    },
    {
      "cell_type": "markdown",
      "metadata": {
        "id": "Zkw65OEKgKVJ"
      },
      "source": [
        "## **Decision Tree Regressor**\n"
      ]
    },
    {
      "cell_type": "code",
      "metadata": {
        "id": "AakNs56iiyVV"
      },
      "source": [
        "# Importing decision tree regressor \n",
        "from sklearn.tree import DecisionTreeRegressor \n",
        "reg2 = DecisionTreeRegressor() "
      ],
      "execution_count": 80,
      "outputs": []
    },
    {
      "cell_type": "code",
      "metadata": {
        "colab": {
          "base_uri": "https://localhost:8080/"
        },
        "id": "BE02_xnegS2w",
        "outputId": "119d23d8-484b-4a71-bdf1-15ce571835bc"
      },
      "source": [
        "#Fitting data into the model.\n",
        "reg2.fit(X_train, y_train) "
      ],
      "execution_count": 81,
      "outputs": [
        {
          "output_type": "execute_result",
          "data": {
            "text/plain": [
              "DecisionTreeRegressor(ccp_alpha=0.0, criterion='mse', max_depth=None,\n",
              "                      max_features=None, max_leaf_nodes=None,\n",
              "                      min_impurity_decrease=0.0, min_impurity_split=None,\n",
              "                      min_samples_leaf=1, min_samples_split=2,\n",
              "                      min_weight_fraction_leaf=0.0, presort='deprecated',\n",
              "                      random_state=None, splitter='best')"
            ]
          },
          "metadata": {
            "tags": []
          },
          "execution_count": 81
        }
      ]
    },
    {
      "cell_type": "code",
      "metadata": {
        "id": "YdILVfXigVvF"
      },
      "source": [
        "# Making predictions on Test data \n",
        "pred2 = reg2.predict(X_test) "
      ],
      "execution_count": 82,
      "outputs": []
    },
    {
      "cell_type": "code",
      "metadata": {
        "colab": {
          "base_uri": "https://localhost:8080/"
        },
        "id": "fpk1MD84STJE",
        "outputId": "79d406e5-d721-48fb-bc8a-00744ad4c564"
      },
      "source": [
        "pred2"
      ],
      "execution_count": 83,
      "outputs": [
        {
          "output_type": "execute_result",
          "data": {
            "text/plain": [
              "array([44.        , 60.        , 26.        , 19.        , 22.        ,\n",
              "       29.        , 37.        , 33.        , 13.        , 25.        ,\n",
              "       37.        , 33.        , 12.        , 31.        , 22.        ,\n",
              "       30.        , 29.        , 50.        , 26.        , 57.        ,\n",
              "       40.        , 12.        , 34.        , 32.        , 34.        ,\n",
              "       14.        , 26.        , 13.        , 43.        , 59.        ,\n",
              "       25.        , 42.        , 40.        , 40.        , 40.        ,\n",
              "       39.        , 67.        , 44.        , 43.        , 15.        ,\n",
              "       17.        , 54.        , 46.        , 43.        , 19.        ,\n",
              "       65.        , 66.        , 15.        , 58.        , 16.        ,\n",
              "       33.        , 30.        , 33.        , 60.        , 21.        ,\n",
              "       12.        , 24.        , 43.        , 71.        , 36.        ,\n",
              "       33.        , 34.        , 28.        , 43.        , 34.        ,\n",
              "       15.        , 25.        , 14.        , 24.        , 24.        ,\n",
              "       25.        , 60.        , 24.        , 30.        , 55.        ,\n",
              "       36.        , 17.        , 48.        , 64.        , 13.        ,\n",
              "       11.        , 33.        , 41.        , 46.        , 11.        ,\n",
              "       79.        , 60.        , 37.        , 33.        , 16.        ,\n",
              "       52.        , 12.        , 12.        , 19.        , 15.        ,\n",
              "        7.        , 23.        , 38.        , 29.        , 71.        ,\n",
              "       73.        , 55.        , 15.        , 37.        , 18.        ,\n",
              "       48.        , 32.        , 15.        , 26.        , 33.        ,\n",
              "       28.        , 25.        , 52.        , 17.        , 17.        ,\n",
              "       42.        , 21.        , 64.        , 36.        , 25.        ,\n",
              "       69.        , 21.        , 38.        , 39.        , 40.        ,\n",
              "       37.        , 24.        , 61.        , 48.        , 12.        ,\n",
              "       37.        , 43.        , 29.        , 15.        , 11.        ,\n",
              "       62.        , 40.        , 55.        , 45.        , 74.        ,\n",
              "       21.        , 64.        , 29.        , 39.        , 19.        ,\n",
              "       22.        , 36.        , 53.        , 36.        , 39.        ,\n",
              "       13.        ,  3.        , 67.        , 30.        , 22.        ,\n",
              "        4.        , 18.        , 15.        , 24.        , 42.        ,\n",
              "       10.        , 49.        , 19.        , 33.        , 55.        ,\n",
              "       22.        , 24.        , 41.        , 55.        , 41.        ,\n",
              "       40.        , 19.        , 19.        , 23.        , 40.        ,\n",
              "       25.        , 37.        , 46.        , 32.        , 44.        ,\n",
              "       22.        , 14.        , 58.        , 31.        , 24.        ,\n",
              "       31.        , 41.        , 67.        , 44.        , 35.        ,\n",
              "       25.        , 51.        , 44.        , 10.        , 15.        ,\n",
              "       26.        , 33.        , 17.        , 69.        , 25.        ,\n",
              "       52.        , 17.        , 57.33333333, 11.        , 12.        ,\n",
              "       33.        ])"
            ]
          },
          "metadata": {
            "tags": []
          },
          "execution_count": 83
        }
      ]
    },
    {
      "cell_type": "code",
      "metadata": {
        "colab": {
          "base_uri": "https://localhost:8080/"
        },
        "id": "fB94HnNjgd50",
        "outputId": "157e7ac0-9f76-49e1-a8af-c145150fc062"
      },
      "source": [
        "print(\"Accuracy of the Decision Tree Regressor  model comes to be: \\n \") \n",
        "print(reg2.score(X_train,y_train))"
      ],
      "execution_count": 84,
      "outputs": [
        {
          "output_type": "stream",
          "text": [
            "Accuracy of the Decision Tree Regressor  model comes to be: \n",
            " \n",
            "0.9956195447608779\n"
          ],
          "name": "stdout"
        }
      ]
    },
    {
      "cell_type": "markdown",
      "metadata": {
        "id": "bF8Kfnucgk2E"
      },
      "source": [
        "## **Random Forest Regressor**"
      ]
    },
    {
      "cell_type": "code",
      "metadata": {
        "id": "BMVFrEVxiEt-"
      },
      "source": [
        "#Importing random forest regressor \n",
        "from sklearn.ensemble import RandomForestRegressor \n",
        "reg3 = RandomForestRegressor(n_estimators=100) "
      ],
      "execution_count": 85,
      "outputs": []
    },
    {
      "cell_type": "code",
      "metadata": {
        "colab": {
          "base_uri": "https://localhost:8080/"
        },
        "id": "4LvW5NR8gvtG",
        "outputId": "4b934596-1a20-4d0d-dbf4-a53c78667349"
      },
      "source": [
        "# Fitting data into the model.\n",
        "reg3.fit(X_train, y_train) "
      ],
      "execution_count": 86,
      "outputs": [
        {
          "output_type": "execute_result",
          "data": {
            "text/plain": [
              "RandomForestRegressor(bootstrap=True, ccp_alpha=0.0, criterion='mse',\n",
              "                      max_depth=None, max_features='auto', max_leaf_nodes=None,\n",
              "                      max_samples=None, min_impurity_decrease=0.0,\n",
              "                      min_impurity_split=None, min_samples_leaf=1,\n",
              "                      min_samples_split=2, min_weight_fraction_leaf=0.0,\n",
              "                      n_estimators=100, n_jobs=None, oob_score=False,\n",
              "                      random_state=None, verbose=0, warm_start=False)"
            ]
          },
          "metadata": {
            "tags": []
          },
          "execution_count": 86
        }
      ]
    },
    {
      "cell_type": "code",
      "metadata": {
        "id": "M9AEjxqOgxMP"
      },
      "source": [
        "#making predictions.\n",
        "pred3 = reg3.predict(X_test) "
      ],
      "execution_count": 87,
      "outputs": []
    },
    {
      "cell_type": "code",
      "metadata": {
        "colab": {
          "base_uri": "https://localhost:8080/"
        },
        "id": "L-u8OMZgStWL",
        "outputId": "214e17f4-7e34-4e24-e99a-d80e27c1e425"
      },
      "source": [
        "pred3"
      ],
      "execution_count": 88,
      "outputs": [
        {
          "output_type": "execute_result",
          "data": {
            "text/plain": [
              "array([51.28      , 63.47      , 31.7       , 18.22      , 28.14      ,\n",
              "       28.64      , 37.87      , 33.19      ,  7.88      , 30.09      ,\n",
              "       35.73      , 33.12      , 16.31      , 37.55      , 22.02533333,\n",
              "       32.3       , 32.2       , 45.23      , 26.17      , 52.17      ,\n",
              "       28.91      , 15.344     , 36.5       , 38.23      , 43.4955    ,\n",
              "       15.34      , 29.39      , 14.55      , 51.235     , 60.32      ,\n",
              "       24.12      , 46.36      , 37.13      , 42.7       , 37.31      ,\n",
              "       41.35      , 64.49      , 42.46      , 40.61      , 14.98      ,\n",
              "       16.44      , 53.79366667, 46.03      , 40.28      , 15.74      ,\n",
              "       58.85      , 63.22      , 15.18      , 58.48      , 22.77      ,\n",
              "       36.91      , 32.19      , 34.01392857, 60.29      , 24.29      ,\n",
              "       16.944     , 25.15      , 46.96      , 69.18      , 37.44      ,\n",
              "       30.43      , 43.4955    , 36.31      , 41.4       , 43.4955    ,\n",
              "       15.04      , 27.8       , 14.74      , 25.82266667, 36.11433333,\n",
              "       27.54      , 61.403     , 22.67      , 29.31      , 50.4       ,\n",
              "       45.04680952, 16.06      , 47.8       , 65.71      , 14.38      ,\n",
              "       10.52      , 34.292     , 45.52571429, 46.99      , 11.18      ,\n",
              "       78.88      , 54.37      , 36.5       , 25.58      , 22.7       ,\n",
              "       50.82      , 14.28      , 12.27      , 21.23      , 15.18      ,\n",
              "        8.58      , 27.93      , 43.16      , 28.24      , 71.51      ,\n",
              "       69.74      , 49.97      , 16.73      , 33.23      , 14.47      ,\n",
              "       46.19      , 31.75      , 16.79      , 27.63      , 30.16      ,\n",
              "       28.20733333, 27.45      , 49.4       , 16.55      , 15.68      ,\n",
              "       42.78      , 27.3       , 63.88      , 36.32      , 26.3175    ,\n",
              "       60.2       , 23.98      , 41.74      , 41.26      , 38.79      ,\n",
              "       36.565     , 34.39      , 57.58333333, 45.91      , 13.        ,\n",
              "       37.74      , 46.96      , 28.65      , 13.08      , 11.18      ,\n",
              "       59.64      , 39.12      , 53.07      , 45.68      , 64.56      ,\n",
              "       20.        , 67.22      , 30.09      , 40.32      , 24.13      ,\n",
              "       28.14      , 37.88766667, 52.14      , 36.02      , 40.695     ,\n",
              "       13.6       ,  7.55      , 65.31      , 30.38      , 22.84      ,\n",
              "        6.28      , 22.15      , 12.54      , 34.99      , 42.61      ,\n",
              "       11.55      , 46.3       , 18.48      , 33.84292857, 60.61      ,\n",
              "       21.83533333, 23.7       , 33.34766667, 53.83      , 39.57      ,\n",
              "       40.802     , 16.84      , 23.17      , 24.48      , 37.94      ,\n",
              "       25.89      , 36.77      , 46.03      , 31.47      , 26.61      ,\n",
              "       25.19      , 14.89      , 56.944     , 32.53      , 24.88      ,\n",
              "       33.35      , 41.43      , 62.34      , 38.96      , 34.414     ,\n",
              "       27.695     , 43.63      , 42.69367857, 11.75      , 12.82      ,\n",
              "       27.47      , 35.015     , 16.51      , 60.4       , 30.89      ,\n",
              "       48.79      , 17.28      , 57.809     , 10.2       , 16.714     ,\n",
              "       31.5       ])"
            ]
          },
          "metadata": {
            "tags": []
          },
          "execution_count": 88
        }
      ]
    },
    {
      "cell_type": "code",
      "metadata": {
        "colab": {
          "base_uri": "https://localhost:8080/"
        },
        "id": "aHWyZbi8g6SX",
        "outputId": "5299f784-6c31-427c-afc4-d2728795bdab"
      },
      "source": [
        "print(\"Accuracy of the Random Forest Regressor  model comes to be: \\n \") \n",
        "print(reg3.score(X_train,y_train))"
      ],
      "execution_count": 89,
      "outputs": [
        {
          "output_type": "stream",
          "text": [
            "Accuracy of the Random Forest Regressor  model comes to be: \n",
            " \n",
            "0.9843642114405063\n"
          ],
          "name": "stdout"
        }
      ]
    },
    {
      "cell_type": "markdown",
      "metadata": {
        "id": "W2togPWZq-P3"
      },
      "source": [
        "## Step 4: Performance Evaluation:"
      ]
    },
    {
      "cell_type": "code",
      "metadata": {
        "id": "ckCq9MGGvu3j",
        "colab": {
          "base_uri": "https://localhost:8080/"
        },
        "outputId": "722f7887-bb41-4f9d-897e-f0307794c47c"
      },
      "source": [
        "import numpy as np\n",
        "from sklearn.metrics import mean_squared_error\n",
        "print(\"Model\\t\\t\\t RootMeanSquareError \\t\\t Accuracy of the model\") \n",
        "print(\"\"\"Linear Regression \\t\\t {:.4f} \\t \\t\\t {:.4f}\"\"\".format(  np.sqrt(mean_squared_error(y_test, pred1)), reg1.score(X_train,y_train)))\n",
        "print(\"\"\"Decision Tree Regressor\\t\\t {:.4f} \\t \\t\\t {:.4f}\"\"\".format(  np.sqrt(mean_squared_error(y_test, pred2)), reg2.score(X_train,y_train)))\n",
        "print(\"\"\"Random Forest Regressor\\t\\t {:.4f} \\t \\t\\t {:.4f}\"\"\".format(  np.sqrt(mean_squared_error(y_test, pred3)), reg3.score(X_train,y_train)))"
      ],
      "execution_count": 90,
      "outputs": [
        {
          "output_type": "stream",
          "text": [
            "Model\t\t\t RootMeanSquareError \t\t Accuracy of the model\n",
            "Linear Regression \t\t 10.7989 \t \t\t 0.6136\n",
            "Decision Tree Regressor\t\t 6.6062 \t \t\t 0.9956\n",
            "Random Forest Regressor\t\t 5.3889 \t \t\t 0.9844\n"
          ],
          "name": "stdout"
        }
      ]
    }
  ]
}