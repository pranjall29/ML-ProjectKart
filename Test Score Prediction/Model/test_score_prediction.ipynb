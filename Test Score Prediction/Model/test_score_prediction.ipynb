{
  "nbformat": 4,
  "nbformat_minor": 0,
  "metadata": {
    "colab": {
      "name": "Untitled11.ipynb",
      "provenance": []
    },
    "kernelspec": {
      "name": "python3",
      "display_name": "Python 3"
    },
    "language_info": {
      "name": "python"
    }
  },
  "cells": [
    {
      "cell_type": "code",
      "metadata": {
        "id": "xo_0bJp7AsSf"
      },
      "source": [
        "import pandas as pd\n",
        "import numpy as np\n",
        "import seaborn as sns\n",
        "import matplotlib.pyplot as plt"
      ],
      "execution_count": 2,
      "outputs": []
    },
    {
      "cell_type": "code",
      "metadata": {
        "id": "a6DRbFEkCiyc"
      },
      "source": [
        "data = pd.read_csv('/content/test_scores.csv')"
      ],
      "execution_count": 3,
      "outputs": []
    },
    {
      "cell_type": "code",
      "metadata": {
        "colab": {
          "base_uri": "https://localhost:8080/"
        },
        "id": "DeAzGme8GZrn",
        "outputId": "2a449e88-f96b-4851-9fbe-35b00b203da5"
      },
      "source": [
        "data.info()"
      ],
      "execution_count": 4,
      "outputs": [
        {
          "output_type": "stream",
          "text": [
            "<class 'pandas.core.frame.DataFrame'>\n",
            "RangeIndex: 2133 entries, 0 to 2132\n",
            "Data columns (total 11 columns):\n",
            " #   Column           Non-Null Count  Dtype  \n",
            "---  ------           --------------  -----  \n",
            " 0   school           2133 non-null   object \n",
            " 1   school_setting   2133 non-null   object \n",
            " 2   school_type      2133 non-null   object \n",
            " 3   classroom        2133 non-null   object \n",
            " 4   teaching_method  2133 non-null   object \n",
            " 5   n_student        2133 non-null   float64\n",
            " 6   student_id       2133 non-null   object \n",
            " 7   gender           2133 non-null   object \n",
            " 8   lunch            2133 non-null   object \n",
            " 9   pretest          2133 non-null   float64\n",
            " 10  posttest         2133 non-null   float64\n",
            "dtypes: float64(3), object(8)\n",
            "memory usage: 183.4+ KB\n"
          ],
          "name": "stdout"
        }
      ]
    },
    {
      "cell_type": "code",
      "metadata": {
        "colab": {
          "base_uri": "https://localhost:8080/"
        },
        "id": "O9ZPg_pGekx6",
        "outputId": "b65d9b35-a017-43ea-a177-a139de2dd444"
      },
      "source": [
        "data.nunique()"
      ],
      "execution_count": 11,
      "outputs": [
        {
          "output_type": "execute_result",
          "data": {
            "text/plain": [
              "school               23\n",
              "school_setting        3\n",
              "school_type           2\n",
              "classroom            97\n",
              "teaching_method       2\n",
              "n_student            18\n",
              "student_id         2133\n",
              "gender                2\n",
              "lunch                 2\n",
              "pretest              69\n",
              "posttest             68\n",
              "dtype: int64"
            ]
          },
          "metadata": {
            "tags": []
          },
          "execution_count": 11
        }
      ]
    },
    {
      "cell_type": "code",
      "metadata": {
        "colab": {
          "base_uri": "https://localhost:8080/",
          "height": 202
        },
        "id": "nmMt1efaCtND",
        "outputId": "3b50c567-913d-4041-daf6-801fb4cc9c33"
      },
      "source": [
        "data.head()"
      ],
      "execution_count": 5,
      "outputs": [
        {
          "output_type": "execute_result",
          "data": {
            "text/html": [
              "<div>\n",
              "<style scoped>\n",
              "    .dataframe tbody tr th:only-of-type {\n",
              "        vertical-align: middle;\n",
              "    }\n",
              "\n",
              "    .dataframe tbody tr th {\n",
              "        vertical-align: top;\n",
              "    }\n",
              "\n",
              "    .dataframe thead th {\n",
              "        text-align: right;\n",
              "    }\n",
              "</style>\n",
              "<table border=\"1\" class=\"dataframe\">\n",
              "  <thead>\n",
              "    <tr style=\"text-align: right;\">\n",
              "      <th></th>\n",
              "      <th>school</th>\n",
              "      <th>school_setting</th>\n",
              "      <th>school_type</th>\n",
              "      <th>classroom</th>\n",
              "      <th>teaching_method</th>\n",
              "      <th>n_student</th>\n",
              "      <th>student_id</th>\n",
              "      <th>gender</th>\n",
              "      <th>lunch</th>\n",
              "      <th>pretest</th>\n",
              "      <th>posttest</th>\n",
              "    </tr>\n",
              "  </thead>\n",
              "  <tbody>\n",
              "    <tr>\n",
              "      <th>0</th>\n",
              "      <td>ANKYI</td>\n",
              "      <td>Urban</td>\n",
              "      <td>Non-public</td>\n",
              "      <td>6OL</td>\n",
              "      <td>Standard</td>\n",
              "      <td>20.0</td>\n",
              "      <td>2FHT3</td>\n",
              "      <td>Female</td>\n",
              "      <td>Does not qualify</td>\n",
              "      <td>62.0</td>\n",
              "      <td>72.0</td>\n",
              "    </tr>\n",
              "    <tr>\n",
              "      <th>1</th>\n",
              "      <td>ANKYI</td>\n",
              "      <td>Urban</td>\n",
              "      <td>Non-public</td>\n",
              "      <td>6OL</td>\n",
              "      <td>Standard</td>\n",
              "      <td>20.0</td>\n",
              "      <td>3JIVH</td>\n",
              "      <td>Female</td>\n",
              "      <td>Does not qualify</td>\n",
              "      <td>66.0</td>\n",
              "      <td>79.0</td>\n",
              "    </tr>\n",
              "    <tr>\n",
              "      <th>2</th>\n",
              "      <td>ANKYI</td>\n",
              "      <td>Urban</td>\n",
              "      <td>Non-public</td>\n",
              "      <td>6OL</td>\n",
              "      <td>Standard</td>\n",
              "      <td>20.0</td>\n",
              "      <td>3XOWE</td>\n",
              "      <td>Male</td>\n",
              "      <td>Does not qualify</td>\n",
              "      <td>64.0</td>\n",
              "      <td>76.0</td>\n",
              "    </tr>\n",
              "    <tr>\n",
              "      <th>3</th>\n",
              "      <td>ANKYI</td>\n",
              "      <td>Urban</td>\n",
              "      <td>Non-public</td>\n",
              "      <td>6OL</td>\n",
              "      <td>Standard</td>\n",
              "      <td>20.0</td>\n",
              "      <td>556O0</td>\n",
              "      <td>Female</td>\n",
              "      <td>Does not qualify</td>\n",
              "      <td>61.0</td>\n",
              "      <td>77.0</td>\n",
              "    </tr>\n",
              "    <tr>\n",
              "      <th>4</th>\n",
              "      <td>ANKYI</td>\n",
              "      <td>Urban</td>\n",
              "      <td>Non-public</td>\n",
              "      <td>6OL</td>\n",
              "      <td>Standard</td>\n",
              "      <td>20.0</td>\n",
              "      <td>74LOE</td>\n",
              "      <td>Male</td>\n",
              "      <td>Does not qualify</td>\n",
              "      <td>64.0</td>\n",
              "      <td>76.0</td>\n",
              "    </tr>\n",
              "  </tbody>\n",
              "</table>\n",
              "</div>"
            ],
            "text/plain": [
              "  school school_setting school_type  ...             lunch pretest  posttest\n",
              "0  ANKYI          Urban  Non-public  ...  Does not qualify    62.0      72.0\n",
              "1  ANKYI          Urban  Non-public  ...  Does not qualify    66.0      79.0\n",
              "2  ANKYI          Urban  Non-public  ...  Does not qualify    64.0      76.0\n",
              "3  ANKYI          Urban  Non-public  ...  Does not qualify    61.0      77.0\n",
              "4  ANKYI          Urban  Non-public  ...  Does not qualify    64.0      76.0\n",
              "\n",
              "[5 rows x 11 columns]"
            ]
          },
          "metadata": {
            "tags": []
          },
          "execution_count": 5
        }
      ]
    },
    {
      "cell_type": "code",
      "metadata": {
        "colab": {
          "base_uri": "https://localhost:8080/",
          "height": 402
        },
        "id": "86FfXyS8C1KV",
        "outputId": "bcd6aed7-2a2b-411e-ee9b-1ed72a29a9aa"
      },
      "source": [
        "data.describe(include='all')"
      ],
      "execution_count": 6,
      "outputs": [
        {
          "output_type": "execute_result",
          "data": {
            "text/html": [
              "<div>\n",
              "<style scoped>\n",
              "    .dataframe tbody tr th:only-of-type {\n",
              "        vertical-align: middle;\n",
              "    }\n",
              "\n",
              "    .dataframe tbody tr th {\n",
              "        vertical-align: top;\n",
              "    }\n",
              "\n",
              "    .dataframe thead th {\n",
              "        text-align: right;\n",
              "    }\n",
              "</style>\n",
              "<table border=\"1\" class=\"dataframe\">\n",
              "  <thead>\n",
              "    <tr style=\"text-align: right;\">\n",
              "      <th></th>\n",
              "      <th>school</th>\n",
              "      <th>school_setting</th>\n",
              "      <th>school_type</th>\n",
              "      <th>classroom</th>\n",
              "      <th>teaching_method</th>\n",
              "      <th>n_student</th>\n",
              "      <th>student_id</th>\n",
              "      <th>gender</th>\n",
              "      <th>lunch</th>\n",
              "      <th>pretest</th>\n",
              "      <th>posttest</th>\n",
              "    </tr>\n",
              "  </thead>\n",
              "  <tbody>\n",
              "    <tr>\n",
              "      <th>count</th>\n",
              "      <td>2133</td>\n",
              "      <td>2133</td>\n",
              "      <td>2133</td>\n",
              "      <td>2133</td>\n",
              "      <td>2133</td>\n",
              "      <td>2133.000000</td>\n",
              "      <td>2133</td>\n",
              "      <td>2133</td>\n",
              "      <td>2133</td>\n",
              "      <td>2133.000000</td>\n",
              "      <td>2133.000000</td>\n",
              "    </tr>\n",
              "    <tr>\n",
              "      <th>unique</th>\n",
              "      <td>23</td>\n",
              "      <td>3</td>\n",
              "      <td>2</td>\n",
              "      <td>97</td>\n",
              "      <td>2</td>\n",
              "      <td>NaN</td>\n",
              "      <td>2133</td>\n",
              "      <td>2</td>\n",
              "      <td>2</td>\n",
              "      <td>NaN</td>\n",
              "      <td>NaN</td>\n",
              "    </tr>\n",
              "    <tr>\n",
              "      <th>top</th>\n",
              "      <td>GOOBU</td>\n",
              "      <td>Urban</td>\n",
              "      <td>Public</td>\n",
              "      <td>18K</td>\n",
              "      <td>Standard</td>\n",
              "      <td>NaN</td>\n",
              "      <td>PXW4K</td>\n",
              "      <td>Male</td>\n",
              "      <td>Does not qualify</td>\n",
              "      <td>NaN</td>\n",
              "      <td>NaN</td>\n",
              "    </tr>\n",
              "    <tr>\n",
              "      <th>freq</th>\n",
              "      <td>158</td>\n",
              "      <td>906</td>\n",
              "      <td>1582</td>\n",
              "      <td>31</td>\n",
              "      <td>1373</td>\n",
              "      <td>NaN</td>\n",
              "      <td>1</td>\n",
              "      <td>1077</td>\n",
              "      <td>1215</td>\n",
              "      <td>NaN</td>\n",
              "      <td>NaN</td>\n",
              "    </tr>\n",
              "    <tr>\n",
              "      <th>mean</th>\n",
              "      <td>NaN</td>\n",
              "      <td>NaN</td>\n",
              "      <td>NaN</td>\n",
              "      <td>NaN</td>\n",
              "      <td>NaN</td>\n",
              "      <td>22.796531</td>\n",
              "      <td>NaN</td>\n",
              "      <td>NaN</td>\n",
              "      <td>NaN</td>\n",
              "      <td>54.955931</td>\n",
              "      <td>67.102203</td>\n",
              "    </tr>\n",
              "    <tr>\n",
              "      <th>std</th>\n",
              "      <td>NaN</td>\n",
              "      <td>NaN</td>\n",
              "      <td>NaN</td>\n",
              "      <td>NaN</td>\n",
              "      <td>NaN</td>\n",
              "      <td>4.228893</td>\n",
              "      <td>NaN</td>\n",
              "      <td>NaN</td>\n",
              "      <td>NaN</td>\n",
              "      <td>13.563101</td>\n",
              "      <td>13.986789</td>\n",
              "    </tr>\n",
              "    <tr>\n",
              "      <th>min</th>\n",
              "      <td>NaN</td>\n",
              "      <td>NaN</td>\n",
              "      <td>NaN</td>\n",
              "      <td>NaN</td>\n",
              "      <td>NaN</td>\n",
              "      <td>14.000000</td>\n",
              "      <td>NaN</td>\n",
              "      <td>NaN</td>\n",
              "      <td>NaN</td>\n",
              "      <td>22.000000</td>\n",
              "      <td>32.000000</td>\n",
              "    </tr>\n",
              "    <tr>\n",
              "      <th>25%</th>\n",
              "      <td>NaN</td>\n",
              "      <td>NaN</td>\n",
              "      <td>NaN</td>\n",
              "      <td>NaN</td>\n",
              "      <td>NaN</td>\n",
              "      <td>20.000000</td>\n",
              "      <td>NaN</td>\n",
              "      <td>NaN</td>\n",
              "      <td>NaN</td>\n",
              "      <td>44.000000</td>\n",
              "      <td>56.000000</td>\n",
              "    </tr>\n",
              "    <tr>\n",
              "      <th>50%</th>\n",
              "      <td>NaN</td>\n",
              "      <td>NaN</td>\n",
              "      <td>NaN</td>\n",
              "      <td>NaN</td>\n",
              "      <td>NaN</td>\n",
              "      <td>22.000000</td>\n",
              "      <td>NaN</td>\n",
              "      <td>NaN</td>\n",
              "      <td>NaN</td>\n",
              "      <td>56.000000</td>\n",
              "      <td>68.000000</td>\n",
              "    </tr>\n",
              "    <tr>\n",
              "      <th>75%</th>\n",
              "      <td>NaN</td>\n",
              "      <td>NaN</td>\n",
              "      <td>NaN</td>\n",
              "      <td>NaN</td>\n",
              "      <td>NaN</td>\n",
              "      <td>27.000000</td>\n",
              "      <td>NaN</td>\n",
              "      <td>NaN</td>\n",
              "      <td>NaN</td>\n",
              "      <td>65.000000</td>\n",
              "      <td>77.000000</td>\n",
              "    </tr>\n",
              "    <tr>\n",
              "      <th>max</th>\n",
              "      <td>NaN</td>\n",
              "      <td>NaN</td>\n",
              "      <td>NaN</td>\n",
              "      <td>NaN</td>\n",
              "      <td>NaN</td>\n",
              "      <td>31.000000</td>\n",
              "      <td>NaN</td>\n",
              "      <td>NaN</td>\n",
              "      <td>NaN</td>\n",
              "      <td>93.000000</td>\n",
              "      <td>100.000000</td>\n",
              "    </tr>\n",
              "  </tbody>\n",
              "</table>\n",
              "</div>"
            ],
            "text/plain": [
              "       school school_setting  ...      pretest     posttest\n",
              "count    2133           2133  ...  2133.000000  2133.000000\n",
              "unique     23              3  ...          NaN          NaN\n",
              "top     GOOBU          Urban  ...          NaN          NaN\n",
              "freq      158            906  ...          NaN          NaN\n",
              "mean      NaN            NaN  ...    54.955931    67.102203\n",
              "std       NaN            NaN  ...    13.563101    13.986789\n",
              "min       NaN            NaN  ...    22.000000    32.000000\n",
              "25%       NaN            NaN  ...    44.000000    56.000000\n",
              "50%       NaN            NaN  ...    56.000000    68.000000\n",
              "75%       NaN            NaN  ...    65.000000    77.000000\n",
              "max       NaN            NaN  ...    93.000000   100.000000\n",
              "\n",
              "[11 rows x 11 columns]"
            ]
          },
          "metadata": {
            "tags": []
          },
          "execution_count": 6
        }
      ]
    },
    {
      "cell_type": "code",
      "metadata": {
        "colab": {
          "base_uri": "https://localhost:8080/"
        },
        "id": "iksFCwCuC8GL",
        "outputId": "6a372035-cc75-470c-92a8-26cd18bb491e"
      },
      "source": [
        "data.isna().sum()"
      ],
      "execution_count": 7,
      "outputs": [
        {
          "output_type": "execute_result",
          "data": {
            "text/plain": [
              "school             0\n",
              "school_setting     0\n",
              "school_type        0\n",
              "classroom          0\n",
              "teaching_method    0\n",
              "n_student          0\n",
              "student_id         0\n",
              "gender             0\n",
              "lunch              0\n",
              "pretest            0\n",
              "posttest           0\n",
              "dtype: int64"
            ]
          },
          "metadata": {
            "tags": []
          },
          "execution_count": 7
        }
      ]
    },
    {
      "cell_type": "code",
      "metadata": {
        "colab": {
          "base_uri": "https://localhost:8080/",
          "height": 363
        },
        "id": "-GNrgLrFDUYE",
        "outputId": "a40624f3-fdf6-4020-98b4-d699f06605e2"
      },
      "source": [
        "#checking missing values\n",
        "sns.heatmap(data=data.isnull())"
      ],
      "execution_count": 8,
      "outputs": [
        {
          "output_type": "execute_result",
          "data": {
            "text/plain": [
              "<matplotlib.axes._subplots.AxesSubplot at 0x7f17b5018e50>"
            ]
          },
          "metadata": {
            "tags": []
          },
          "execution_count": 8
        },
        {
          "output_type": "display_data",
          "data": {
            "image/png": "[encoded data removed]",
            "text/plain": [
              "<Figure size 432x288 with 2 Axes>"
            ]
          },
          "metadata": {
            "tags": [],
            "needs_background": "light"
          }
        }
      ]
    },
    {
      "cell_type": "code",
      "metadata": {
        "colab": {
          "base_uri": "https://localhost:8080/",
          "height": 604
        },
        "id": "wTUrshbJFeXA",
        "outputId": "7671d43a-a68d-4d54-8485-40dbdf13bb93"
      },
      "source": [
        "slist = ['school_setting', 'school_type', 'teaching_method', 'gender', 'lunch']\n",
        "fig, ax = plt.subplots(2,3,figsize=(15,10))\n",
        "\n",
        "def graph(x, i):\n",
        "    sns.barplot(x=data[x].unique(), y=data.groupby(x)['posttest'].mean().values, ax=i, palette='nipy_spectral')\n",
        "    i.set_title(x+' (Average Posttest Score)', fontsize=11, fontdict={\"fontweight\": \"bold\"})\n",
        "    \n",
        "    for p in i.patches:\n",
        "        text = str(int(p.get_height()))\n",
        "        i.annotate(text, (p.get_x()+p.get_width()/2, p.get_height()+1),\n",
        "                   ha=\"center\", va='center', fontsize=10, fontweight=\"bold\")\n",
        "\n",
        "graph('school_setting', ax[0,0])\n",
        "graph('school_type', ax[0,1])\n",
        "graph('teaching_method', ax[0,2])\n",
        "graph('gender', ax[1,0])\n",
        "graph('lunch', ax[1,1])\n",
        "fig.delaxes(ax= ax[1,2]) "
      ],
      "execution_count": 9,
      "outputs": [
        {
          "output_type": "display_data",
          "data": {
            "image/png": "[encoded data removed]",
            "text/plain": [
              "<Figure size 1080x720 with 5 Axes>"
            ]
          },
          "metadata": {
            "tags": [],
            "needs_background": "light"
          }
        }
      ]
    },
    {
      "cell_type": "markdown",
      "metadata": {
        "id": "48k2ab15eLXZ"
      },
      "source": [
        "number of students in the class is inversely proportional to the average posttest score"
      ]
    },
    {
      "cell_type": "code",
      "metadata": {
        "id": "bqL-WtUFGgfm",
        "colab": {
          "base_uri": "https://localhost:8080/",
          "height": 297
        },
        "outputId": "563e64df-8fd7-4430-fbca-b8e0ac65c872"
      },
      "source": [
        "sns.lineplot(x=data.groupby('n_student')['posttest'].mean().index, \n",
        "             y=data.groupby('n_student')['posttest'].mean())"
      ],
      "execution_count": 10,
      "outputs": [
        {
          "output_type": "execute_result",
          "data": {
            "text/plain": [
              "<matplotlib.axes._subplots.AxesSubplot at 0x7f17ac441ed0>"
            ]
          },
          "metadata": {
            "tags": []
          },
          "execution_count": 10
        },
        {
          "output_type": "display_data",
          "data": {
            "image/png": "[encoded data removed]",
            "text/plain": [
              "<Figure size 432x288 with 1 Axes>"
            ]
          },
          "metadata": {
            "tags": [],
            "needs_background": "light"
          }
        }
      ]
    },
    {
      "cell_type": "markdown",
      "metadata": {
        "id": "coVymxxHlCru"
      },
      "source": [
        "Feature to Feature Correlations - Higher value indicates simillarity of both two features. Therefore, the less value the better.\n",
        "\n",
        "Feature to Outcome Correlations - Higher value indicates the importance of feature"
      ]
    },
    {
      "cell_type": "code",
      "metadata": {
        "colab": {
          "base_uri": "https://localhost:8080/",
          "height": 505
        },
        "id": "jXKERPPIlCH5",
        "outputId": "20fded44-1266-4460-86f0-759fcf618558"
      },
      "source": [
        "h_data = X.join(data['posttest'].to_frame())\n",
        "plt.figure(figsize=(15,8))\n",
        "mask = np.triu(np.ones_like(h_data.corr(), dtype=np.bool))\n",
        "sns.heatmap(data=h_data.corr(),annot=True,cmap='BrBG',mask=mask)"
      ],
      "execution_count": 38,
      "outputs": [
        {
          "output_type": "execute_result",
          "data": {
            "text/plain": [
              "<matplotlib.axes._subplots.AxesSubplot at 0x7f179bf52890>"
            ]
          },
          "metadata": {
            "tags": []
          },
          "execution_count": 38
        },
        {
          "output_type": "display_data",
          "data": {
            "image/png": "[encoded data removed]",
            "text/plain": [
              "<Figure size 1080x576 with 2 Axes>"
            ]
          },
          "metadata": {
            "tags": [],
            "needs_background": "light"
          }
        }
      ]
    },
    {
      "cell_type": "code",
      "metadata": {
        "id": "UI-EKvnxeR1H"
      },
      "source": [
        "from sklearn.preprocessing import OneHotEncoder\n",
        "from sklearn import preprocessing\n",
        "from sklearn.model_selection import train_test_split\n",
        "from sklearn.preprocessing import StandardScaler"
      ],
      "execution_count": 13,
      "outputs": []
    },
    {
      "cell_type": "code",
      "metadata": {
        "id": "IF2AfdyHe2HJ"
      },
      "source": [
        "X = data.drop(['student_id', 'gender', 'posttest'], axis=1)"
      ],
      "execution_count": 14,
      "outputs": []
    },
    {
      "cell_type": "code",
      "metadata": {
        "colab": {
          "base_uri": "https://localhost:8080/"
        },
        "id": "iNf4MzsNfEQS",
        "outputId": "64e082a7-5cc6-4b0a-b76c-cc95878f1a4a"
      },
      "source": [
        "y = data['posttest']\n",
        "X.head(),y.head()"
      ],
      "execution_count": 15,
      "outputs": [
        {
          "output_type": "execute_result",
          "data": {
            "text/plain": [
              "(  school school_setting school_type  ... n_student             lunch  pretest\n",
              " 0  ANKYI          Urban  Non-public  ...      20.0  Does not qualify     62.0\n",
              " 1  ANKYI          Urban  Non-public  ...      20.0  Does not qualify     66.0\n",
              " 2  ANKYI          Urban  Non-public  ...      20.0  Does not qualify     64.0\n",
              " 3  ANKYI          Urban  Non-public  ...      20.0  Does not qualify     61.0\n",
              " 4  ANKYI          Urban  Non-public  ...      20.0  Does not qualify     64.0\n",
              " \n",
              " [5 rows x 8 columns], 0    72.0\n",
              " 1    79.0\n",
              " 2    76.0\n",
              " 3    77.0\n",
              " 4    76.0\n",
              " Name: posttest, dtype: float64)"
            ]
          },
          "metadata": {
            "tags": []
          },
          "execution_count": 15
        }
      ]
    },
    {
      "cell_type": "code",
      "metadata": {
        "colab": {
          "base_uri": "https://localhost:8080/",
          "height": 202
        },
        "id": "CIveAPQyfNlK",
        "outputId": "4fa1a67a-8745-4ad3-8dda-6ddf5ee2706a"
      },
      "source": [
        "b_list = ['school_setting', 'school_type', 'teaching_method', 'lunch']\n",
        "b_encoder = preprocessing.LabelBinarizer()\n",
        "for x in b_list:\n",
        "    a = b_encoder.fit_transform(X[x])\n",
        "    X[x] = a\n",
        "X.head()"
      ],
      "execution_count": 16,
      "outputs": [
        {
          "output_type": "execute_result",
          "data": {
            "text/html": [
              "<div>\n",
              "<style scoped>\n",
              "    .dataframe tbody tr th:only-of-type {\n",
              "        vertical-align: middle;\n",
              "    }\n",
              "\n",
              "    .dataframe tbody tr th {\n",
              "        vertical-align: top;\n",
              "    }\n",
              "\n",
              "    .dataframe thead th {\n",
              "        text-align: right;\n",
              "    }\n",
              "</style>\n",
              "<table border=\"1\" class=\"dataframe\">\n",
              "  <thead>\n",
              "    <tr style=\"text-align: right;\">\n",
              "      <th></th>\n",
              "      <th>school</th>\n",
              "      <th>school_setting</th>\n",
              "      <th>school_type</th>\n",
              "      <th>classroom</th>\n",
              "      <th>teaching_method</th>\n",
              "      <th>n_student</th>\n",
              "      <th>lunch</th>\n",
              "      <th>pretest</th>\n",
              "    </tr>\n",
              "  </thead>\n",
              "  <tbody>\n",
              "    <tr>\n",
              "      <th>0</th>\n",
              "      <td>ANKYI</td>\n",
              "      <td>0</td>\n",
              "      <td>0</td>\n",
              "      <td>6OL</td>\n",
              "      <td>1</td>\n",
              "      <td>20.0</td>\n",
              "      <td>0</td>\n",
              "      <td>62.0</td>\n",
              "    </tr>\n",
              "    <tr>\n",
              "      <th>1</th>\n",
              "      <td>ANKYI</td>\n",
              "      <td>0</td>\n",
              "      <td>0</td>\n",
              "      <td>6OL</td>\n",
              "      <td>1</td>\n",
              "      <td>20.0</td>\n",
              "      <td>0</td>\n",
              "      <td>66.0</td>\n",
              "    </tr>\n",
              "    <tr>\n",
              "      <th>2</th>\n",
              "      <td>ANKYI</td>\n",
              "      <td>0</td>\n",
              "      <td>0</td>\n",
              "      <td>6OL</td>\n",
              "      <td>1</td>\n",
              "      <td>20.0</td>\n",
              "      <td>0</td>\n",
              "      <td>64.0</td>\n",
              "    </tr>\n",
              "    <tr>\n",
              "      <th>3</th>\n",
              "      <td>ANKYI</td>\n",
              "      <td>0</td>\n",
              "      <td>0</td>\n",
              "      <td>6OL</td>\n",
              "      <td>1</td>\n",
              "      <td>20.0</td>\n",
              "      <td>0</td>\n",
              "      <td>61.0</td>\n",
              "    </tr>\n",
              "    <tr>\n",
              "      <th>4</th>\n",
              "      <td>ANKYI</td>\n",
              "      <td>0</td>\n",
              "      <td>0</td>\n",
              "      <td>6OL</td>\n",
              "      <td>1</td>\n",
              "      <td>20.0</td>\n",
              "      <td>0</td>\n",
              "      <td>64.0</td>\n",
              "    </tr>\n",
              "  </tbody>\n",
              "</table>\n",
              "</div>"
            ],
            "text/plain": [
              "  school  school_setting  school_type  ... n_student  lunch  pretest\n",
              "0  ANKYI               0            0  ...      20.0      0     62.0\n",
              "1  ANKYI               0            0  ...      20.0      0     66.0\n",
              "2  ANKYI               0            0  ...      20.0      0     64.0\n",
              "3  ANKYI               0            0  ...      20.0      0     61.0\n",
              "4  ANKYI               0            0  ...      20.0      0     64.0\n",
              "\n",
              "[5 rows x 8 columns]"
            ]
          },
          "metadata": {
            "tags": []
          },
          "execution_count": 16
        }
      ]
    },
    {
      "cell_type": "code",
      "metadata": {
        "colab": {
          "base_uri": "https://localhost:8080/",
          "height": 202
        },
        "id": "3QD0uf3jf3-D",
        "outputId": "09437d9b-ea97-4e3f-eaea-e6b9a20c1269"
      },
      "source": [
        "scale_col = ['n_student', 'pretest']\n",
        "for l in scale_col:\n",
        "    sc = StandardScaler()\n",
        "    scaled_X = sc.fit_transform(asarray(X[l]).reshape(-1,1))\n",
        "    X[l] = scaled_X\n",
        "X.head()"
      ],
      "execution_count": 17,
      "outputs": [
        {
          "output_type": "execute_result",
          "data": {
            "text/html": [
              "<div>\n",
              "<style scoped>\n",
              "    .dataframe tbody tr th:only-of-type {\n",
              "        vertical-align: middle;\n",
              "    }\n",
              "\n",
              "    .dataframe tbody tr th {\n",
              "        vertical-align: top;\n",
              "    }\n",
              "\n",
              "    .dataframe thead th {\n",
              "        text-align: right;\n",
              "    }\n",
              "</style>\n",
              "<table border=\"1\" class=\"dataframe\">\n",
              "  <thead>\n",
              "    <tr style=\"text-align: right;\">\n",
              "      <th></th>\n",
              "      <th>school</th>\n",
              "      <th>school_setting</th>\n",
              "      <th>school_type</th>\n",
              "      <th>classroom</th>\n",
              "      <th>teaching_method</th>\n",
              "      <th>n_student</th>\n",
              "      <th>lunch</th>\n",
              "      <th>pretest</th>\n",
              "    </tr>\n",
              "  </thead>\n",
              "  <tbody>\n",
              "    <tr>\n",
              "      <th>0</th>\n",
              "      <td>ANKYI</td>\n",
              "      <td>0</td>\n",
              "      <td>0</td>\n",
              "      <td>6OL</td>\n",
              "      <td>1</td>\n",
              "      <td>-0.661447</td>\n",
              "      <td>0</td>\n",
              "      <td>0.519477</td>\n",
              "    </tr>\n",
              "    <tr>\n",
              "      <th>1</th>\n",
              "      <td>ANKYI</td>\n",
              "      <td>0</td>\n",
              "      <td>0</td>\n",
              "      <td>6OL</td>\n",
              "      <td>1</td>\n",
              "      <td>-0.661447</td>\n",
              "      <td>0</td>\n",
              "      <td>0.814464</td>\n",
              "    </tr>\n",
              "    <tr>\n",
              "      <th>2</th>\n",
              "      <td>ANKYI</td>\n",
              "      <td>0</td>\n",
              "      <td>0</td>\n",
              "      <td>6OL</td>\n",
              "      <td>1</td>\n",
              "      <td>-0.661447</td>\n",
              "      <td>0</td>\n",
              "      <td>0.666971</td>\n",
              "    </tr>\n",
              "    <tr>\n",
              "      <th>3</th>\n",
              "      <td>ANKYI</td>\n",
              "      <td>0</td>\n",
              "      <td>0</td>\n",
              "      <td>6OL</td>\n",
              "      <td>1</td>\n",
              "      <td>-0.661447</td>\n",
              "      <td>0</td>\n",
              "      <td>0.445730</td>\n",
              "    </tr>\n",
              "    <tr>\n",
              "      <th>4</th>\n",
              "      <td>ANKYI</td>\n",
              "      <td>0</td>\n",
              "      <td>0</td>\n",
              "      <td>6OL</td>\n",
              "      <td>1</td>\n",
              "      <td>-0.661447</td>\n",
              "      <td>0</td>\n",
              "      <td>0.666971</td>\n",
              "    </tr>\n",
              "  </tbody>\n",
              "</table>\n",
              "</div>"
            ],
            "text/plain": [
              "  school  school_setting  school_type  ... n_student  lunch   pretest\n",
              "0  ANKYI               0            0  ... -0.661447      0  0.519477\n",
              "1  ANKYI               0            0  ... -0.661447      0  0.814464\n",
              "2  ANKYI               0            0  ... -0.661447      0  0.666971\n",
              "3  ANKYI               0            0  ... -0.661447      0  0.445730\n",
              "4  ANKYI               0            0  ... -0.661447      0  0.666971\n",
              "\n",
              "[5 rows x 8 columns]"
            ]
          },
          "metadata": {
            "tags": []
          },
          "execution_count": 17
        }
      ]
    },
    {
      "cell_type": "code",
      "metadata": {
        "colab": {
          "base_uri": "https://localhost:8080/",
          "height": 202
        },
        "id": "qVHIqVeCgMrC",
        "outputId": "f8fce496-9e0c-4e6c-bea8-d6e9339c6255"
      },
      "source": [
        "f_list = ['school', 'classroom']\n",
        "for x in f_list:\n",
        "    encoding = X.groupby(x).size()\n",
        "    encoding = encoding/len(X)\n",
        "    X[x] = X[x].map(encoding)\n",
        "\n",
        "X.head()"
      ],
      "execution_count": 18,
      "outputs": [
        {
          "output_type": "execute_result",
          "data": {
            "text/html": [
              "<div>\n",
              "<style scoped>\n",
              "    .dataframe tbody tr th:only-of-type {\n",
              "        vertical-align: middle;\n",
              "    }\n",
              "\n",
              "    .dataframe tbody tr th {\n",
              "        vertical-align: top;\n",
              "    }\n",
              "\n",
              "    .dataframe thead th {\n",
              "        text-align: right;\n",
              "    }\n",
              "</style>\n",
              "<table border=\"1\" class=\"dataframe\">\n",
              "  <thead>\n",
              "    <tr style=\"text-align: right;\">\n",
              "      <th></th>\n",
              "      <th>school</th>\n",
              "      <th>school_setting</th>\n",
              "      <th>school_type</th>\n",
              "      <th>classroom</th>\n",
              "      <th>teaching_method</th>\n",
              "      <th>n_student</th>\n",
              "      <th>lunch</th>\n",
              "      <th>pretest</th>\n",
              "    </tr>\n",
              "  </thead>\n",
              "  <tbody>\n",
              "    <tr>\n",
              "      <th>0</th>\n",
              "      <td>0.019222</td>\n",
              "      <td>0</td>\n",
              "      <td>0</td>\n",
              "      <td>0.009376</td>\n",
              "      <td>1</td>\n",
              "      <td>-0.661447</td>\n",
              "      <td>0</td>\n",
              "      <td>0.519477</td>\n",
              "    </tr>\n",
              "    <tr>\n",
              "      <th>1</th>\n",
              "      <td>0.019222</td>\n",
              "      <td>0</td>\n",
              "      <td>0</td>\n",
              "      <td>0.009376</td>\n",
              "      <td>1</td>\n",
              "      <td>-0.661447</td>\n",
              "      <td>0</td>\n",
              "      <td>0.814464</td>\n",
              "    </tr>\n",
              "    <tr>\n",
              "      <th>2</th>\n",
              "      <td>0.019222</td>\n",
              "      <td>0</td>\n",
              "      <td>0</td>\n",
              "      <td>0.009376</td>\n",
              "      <td>1</td>\n",
              "      <td>-0.661447</td>\n",
              "      <td>0</td>\n",
              "      <td>0.666971</td>\n",
              "    </tr>\n",
              "    <tr>\n",
              "      <th>3</th>\n",
              "      <td>0.019222</td>\n",
              "      <td>0</td>\n",
              "      <td>0</td>\n",
              "      <td>0.009376</td>\n",
              "      <td>1</td>\n",
              "      <td>-0.661447</td>\n",
              "      <td>0</td>\n",
              "      <td>0.445730</td>\n",
              "    </tr>\n",
              "    <tr>\n",
              "      <th>4</th>\n",
              "      <td>0.019222</td>\n",
              "      <td>0</td>\n",
              "      <td>0</td>\n",
              "      <td>0.009376</td>\n",
              "      <td>1</td>\n",
              "      <td>-0.661447</td>\n",
              "      <td>0</td>\n",
              "      <td>0.666971</td>\n",
              "    </tr>\n",
              "  </tbody>\n",
              "</table>\n",
              "</div>"
            ],
            "text/plain": [
              "     school  school_setting  school_type  ...  n_student  lunch   pretest\n",
              "0  0.019222               0            0  ...  -0.661447      0  0.519477\n",
              "1  0.019222               0            0  ...  -0.661447      0  0.814464\n",
              "2  0.019222               0            0  ...  -0.661447      0  0.666971\n",
              "3  0.019222               0            0  ...  -0.661447      0  0.445730\n",
              "4  0.019222               0            0  ...  -0.661447      0  0.666971\n",
              "\n",
              "[5 rows x 8 columns]"
            ]
          },
          "metadata": {
            "tags": []
          },
          "execution_count": 18
        }
      ]
    },
    {
      "cell_type": "markdown",
      "metadata": {
        "id": "j9SxbEzogZKh"
      },
      "source": [
        "<h2> Creating Model"
      ]
    },
    {
      "cell_type": "code",
      "metadata": {
        "id": "-BHxnTN1gRED"
      },
      "source": [
        "from sklearn.linear_model import LinearRegression,LogisticRegression, SGDRegressor\n",
        "from sklearn.neighbors import KNeighborsRegressor\n",
        "from sklearn.tree import DecisionTreeRegressor\n",
        "from sklearn.ensemble import RandomForestRegressor\n",
        "from sklearn.svm import SVR\n",
        "from xgboost import XGBRegressor\n",
        "from sklearn.metrics import classification_report, confusion_matrix, mean_absolute_error, roc_curve, roc_auc_score, r2_score, mean_squared_error\n",
        "from sklearn import metrics"
      ],
      "execution_count": 22,
      "outputs": []
    },
    {
      "cell_type": "code",
      "metadata": {
        "id": "dTYN96BFggJO"
      },
      "source": [
        "X_train, X_test, y_train, y_test = train_test_split(X, y, test_size=0.3, random_state=41)"
      ],
      "execution_count": 23,
      "outputs": []
    },
    {
      "cell_type": "code",
      "metadata": {
        "colab": {
          "base_uri": "https://localhost:8080/"
        },
        "id": "WiSGH5pzgj67",
        "outputId": "3ac5cb36-bb71-41d2-e06f-80dc594ce4b9"
      },
      "source": [
        "models = {\n",
        "    \"Linear Regression\": LinearRegression(fit_intercept=True),\n",
        "    \"KNN\": KNeighborsRegressor(),\n",
        "    \"XGbr\":XGBRegressor(),\n",
        "    \"SGD\": SGDRegressor(),\n",
        "    \"Decisiontree\": DecisionTreeRegressor(),\n",
        "    \"RandomForest\": RandomForestRegressor(max_features='sqrt', random_state=5),\n",
        "    \"LogisticRegression\": LogisticRegression()\n",
        "}\n",
        "\n",
        "for model in models.items():\n",
        "    m = model[1]\n",
        "    m.fit(X_train, y_train)\n",
        "    pred1 = m.predict(X_test)\n",
        "    print(model[0])\n",
        "    print(\"Score: \", m.score(X_test,y_test))\n",
        "    mae1 = mean_absolute_error(y_test, pred1)\n",
        "    mse1 = mean_squared_error(y_test, pred1)\n",
        "    print('MAE: {:.2f} \\nMSE: {:.2f}'.format( mae1, mse1))\n",
        "    print(\"\")"
      ],
      "execution_count": 36,
      "outputs": [
        {
          "output_type": "stream",
          "text": [
            "Linear Regression\n",
            "Score:  0.9488917003203031\n",
            "MAE: 2.53 \n",
            "MSE: 10.16\n",
            "\n",
            "KNN\n",
            "Score:  0.9482671812584661\n",
            "MAE: 2.50 \n",
            "MSE: 10.29\n",
            "\n",
            "[15:29:25] WARNING: /workspace/src/objective/regression_obj.cu:152: reg:linear is now deprecated in favor of reg:squarederror.\n",
            "XGbr\n",
            "Score:  0.9509236604564064\n",
            "MAE: 2.47 \n",
            "MSE: 9.76\n",
            "\n",
            "SGD\n",
            "Score:  0.9488402079776442\n",
            "MAE: 2.53 \n",
            "MSE: 10.17\n",
            "\n",
            "Decisiontree\n",
            "Score:  0.9272406533807277\n",
            "MAE: 2.97 \n",
            "MSE: 14.47\n",
            "\n",
            "RandomForest\n",
            "Score:  0.9492954064871557\n",
            "MAE: 2.48 \n",
            "MSE: 10.08\n",
            "\n",
            "LogisticRegression\n",
            "Score:  0.1046875\n",
            "MAE: 3.48 \n",
            "MSE: 20.36\n",
            "\n"
          ],
          "name": "stdout"
        }
      ]
    }
  ]
}