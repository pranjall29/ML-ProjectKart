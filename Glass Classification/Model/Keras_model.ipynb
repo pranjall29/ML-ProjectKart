{
 "cells": [
  {
   "cell_type": "markdown",
   "metadata": {},
   "source": [
    "# Project - Glass Classification"
   ]
  },
  {
   "cell_type": "markdown",
   "metadata": {},
   "source": [
    "### After using the ML classifiers, now we are going to build a Keras Sequential model to check whether it perfroms better than the Random Forest Classifier. "
   ]
  },
  {
   "cell_type": "code",
   "execution_count": 1,
   "metadata": {},
   "outputs": [],
   "source": [
    "import pandas as pd\n",
    "import numpy as np\n",
    "import matplotlib.pyplot as plt\n",
    "import tensorflow as tf\n",
    "from tensorflow.keras.preprocessing.image import ImageDataGenerator\n",
    "from tensorflow.keras.optimizers import Adam\n",
    "from tensorflow.keras.utils import to_categorical, normalize\n",
    "from sklearn.model_selection import train_test_split\n",
    "from sklearn.metrics import confusion_matrix"
   ]
  },
  {
   "cell_type": "code",
   "execution_count": 2,
   "metadata": {},
   "outputs": [
    {
     "data": {
      "text/html": [
       "<div>\n",
       "<style scoped>\n",
       "    .dataframe tbody tr th:only-of-type {\n",
       "        vertical-align: middle;\n",
       "    }\n",
       "\n",
       "    .dataframe tbody tr th {\n",
       "        vertical-align: top;\n",
       "    }\n",
       "\n",
       "    .dataframe thead th {\n",
       "        text-align: right;\n",
       "    }\n",
       "</style>\n",
       "<table border=\"1\" class=\"dataframe\">\n",
       "  <thead>\n",
       "    <tr style=\"text-align: right;\">\n",
       "      <th></th>\n",
       "      <th>RI</th>\n",
       "      <th>Na</th>\n",
       "      <th>Mg</th>\n",
       "      <th>Al</th>\n",
       "      <th>Si</th>\n",
       "      <th>K</th>\n",
       "      <th>Ca</th>\n",
       "      <th>Ba</th>\n",
       "      <th>Fe</th>\n",
       "      <th>Type</th>\n",
       "    </tr>\n",
       "  </thead>\n",
       "  <tbody>\n",
       "    <tr>\n",
       "      <th>0</th>\n",
       "      <td>1.52101</td>\n",
       "      <td>13.64</td>\n",
       "      <td>4.49</td>\n",
       "      <td>1.10</td>\n",
       "      <td>71.78</td>\n",
       "      <td>0.06</td>\n",
       "      <td>8.75</td>\n",
       "      <td>0.0</td>\n",
       "      <td>0.0</td>\n",
       "      <td>1</td>\n",
       "    </tr>\n",
       "    <tr>\n",
       "      <th>1</th>\n",
       "      <td>1.51761</td>\n",
       "      <td>13.89</td>\n",
       "      <td>3.60</td>\n",
       "      <td>1.36</td>\n",
       "      <td>72.73</td>\n",
       "      <td>0.48</td>\n",
       "      <td>7.83</td>\n",
       "      <td>0.0</td>\n",
       "      <td>0.0</td>\n",
       "      <td>1</td>\n",
       "    </tr>\n",
       "    <tr>\n",
       "      <th>2</th>\n",
       "      <td>1.51618</td>\n",
       "      <td>13.53</td>\n",
       "      <td>3.55</td>\n",
       "      <td>1.54</td>\n",
       "      <td>72.99</td>\n",
       "      <td>0.39</td>\n",
       "      <td>7.78</td>\n",
       "      <td>0.0</td>\n",
       "      <td>0.0</td>\n",
       "      <td>1</td>\n",
       "    </tr>\n",
       "    <tr>\n",
       "      <th>3</th>\n",
       "      <td>1.51766</td>\n",
       "      <td>13.21</td>\n",
       "      <td>3.69</td>\n",
       "      <td>1.29</td>\n",
       "      <td>72.61</td>\n",
       "      <td>0.57</td>\n",
       "      <td>8.22</td>\n",
       "      <td>0.0</td>\n",
       "      <td>0.0</td>\n",
       "      <td>1</td>\n",
       "    </tr>\n",
       "    <tr>\n",
       "      <th>4</th>\n",
       "      <td>1.51742</td>\n",
       "      <td>13.27</td>\n",
       "      <td>3.62</td>\n",
       "      <td>1.24</td>\n",
       "      <td>73.08</td>\n",
       "      <td>0.55</td>\n",
       "      <td>8.07</td>\n",
       "      <td>0.0</td>\n",
       "      <td>0.0</td>\n",
       "      <td>1</td>\n",
       "    </tr>\n",
       "  </tbody>\n",
       "</table>\n",
       "</div>"
      ],
      "text/plain": [
       "        RI     Na    Mg    Al     Si     K    Ca   Ba   Fe  Type\n",
       "0  1.52101  13.64  4.49  1.10  71.78  0.06  8.75  0.0  0.0     1\n",
       "1  1.51761  13.89  3.60  1.36  72.73  0.48  7.83  0.0  0.0     1\n",
       "2  1.51618  13.53  3.55  1.54  72.99  0.39  7.78  0.0  0.0     1\n",
       "3  1.51766  13.21  3.69  1.29  72.61  0.57  8.22  0.0  0.0     1\n",
       "4  1.51742  13.27  3.62  1.24  73.08  0.55  8.07  0.0  0.0     1"
      ]
     },
     "execution_count": 2,
     "metadata": {},
     "output_type": "execute_result"
    }
   ],
   "source": [
    "df = pd.read_csv(r'C:\\Users\\KIIT\\Documents\\LGM-Soc contributions\\Glass classification\\Dataset/glass.csv')\n",
    "df.head()"
   ]
  },
  {
   "cell_type": "markdown",
   "metadata": {},
   "source": [
    "### Data Pre-processing"
   ]
  },
  {
   "cell_type": "code",
   "execution_count": 3,
   "metadata": {},
   "outputs": [],
   "source": [
    "X_train = df.drop('Type', axis = 1)\n",
    "y_train = df['Type']"
   ]
  },
  {
   "cell_type": "code",
   "execution_count": 4,
   "metadata": {},
   "outputs": [
    {
     "data": {
      "image/png": "[encoded data removed]",
      "text/plain": [
       "<Figure size 432x288 with 1 Axes>"
      ]
     },
     "metadata": {
      "needs_background": "light"
     },
     "output_type": "display_data"
    }
   ],
   "source": [
    "glass_classes = y_train.unique()\n",
    "values = y_train.value_counts()\n",
    "\n",
    "plt.bar(glass_classes, values)\n",
    "plt.title('Train set')\n",
    "plt.xlabel('Glass Classes')\n",
    "plt.ylabel('Examples count')\n",
    "plt.show()"
   ]
  },
  {
   "cell_type": "code",
   "execution_count": 5,
   "metadata": {},
   "outputs": [
    {
     "name": "stdout",
     "output_type": "stream",
     "text": [
      "[2.06227172e-02 1.84938864e-01 6.08779693e-02 1.49144245e-02\n",
      " 9.73233994e-01 8.13514066e-04 1.18637468e-01 0.00000000e+00\n",
      " 0.00000000e+00 1.35585678e-02]\n"
     ]
    }
   ],
   "source": [
    "X_train = df.values\n",
    "X_train = normalize(X_train)\n",
    "print(X_train[0])"
   ]
  },
  {
   "cell_type": "code",
   "execution_count": 6,
   "metadata": {},
   "outputs": [
    {
     "data": {
      "text/plain": [
       "(214, 8)"
      ]
     },
     "execution_count": 6,
     "metadata": {},
     "output_type": "execute_result"
    }
   ],
   "source": [
    "y_train = to_categorical(y_train)\n",
    "y_train.shape"
   ]
  },
  {
   "cell_type": "code",
   "execution_count": 7,
   "metadata": {},
   "outputs": [],
   "source": [
    "X_train, X_val, y_train, y_val = train_test_split(X_train, y_train, test_size = 0.2)\n",
    "X_val, X_test, y_val, y_test = train_test_split(X_val, y_val, test_size = 0.5)"
   ]
  },
  {
   "cell_type": "markdown",
   "metadata": {},
   "source": [
    "### Building the Keras model"
   ]
  },
  {
   "cell_type": "code",
   "execution_count": 8,
   "metadata": {},
   "outputs": [
    {
     "data": {
      "text/plain": [
       "<tensorflow.python.keras.engine.sequential.Sequential at 0x25023bae348>"
      ]
     },
     "execution_count": 8,
     "metadata": {},
     "output_type": "execute_result"
    }
   ],
   "source": [
    "model = tf.keras.models.Sequential([\n",
    "       \n",
    "    tf.keras.layers.Dense(256, input_shape=(10,), activation='relu'),\n",
    "    tf.keras.layers.BatchNormalization(),\n",
    "    tf.keras.layers.Dropout(0.3),\n",
    "    \n",
    "    tf.keras.layers.Dense(256, activation='relu'),\n",
    "    tf.keras.layers.BatchNormalization(),\n",
    "    tf.keras.layers.Dropout(0.3),\n",
    "    \n",
    "    tf.keras.layers.Dense(512, activation='relu'),\n",
    "    tf.keras.layers.BatchNormalization(),\n",
    "    tf.keras.layers.Dropout(0.5),\n",
    "            \n",
    "    tf.keras.layers.Dense(8, activation='softmax')\n",
    "])\n",
    "\n",
    "\n",
    "model.compile(loss='categorical_crossentropy',\n",
    "              optimizer=Adam(0.0001),\n",
    "              metrics=['acc'])\n",
    "\n",
    "model"
   ]
  },
  {
   "cell_type": "code",
   "execution_count": 9,
   "metadata": {},
   "outputs": [
    {
     "data": {
      "text/plain": [
       "(171, 8)"
      ]
     },
     "execution_count": 9,
     "metadata": {},
     "output_type": "execute_result"
    }
   ],
   "source": [
    "y_train.shape"
   ]
  },
  {
   "cell_type": "code",
   "execution_count": 10,
   "metadata": {},
   "outputs": [
    {
     "name": "stdout",
     "output_type": "stream",
     "text": [
      "Model: \"sequential\"\n",
      "_________________________________________________________________\n",
      "Layer (type)                 Output Shape              Param #   \n",
      "=================================================================\n",
      "dense (Dense)                (None, 256)               2816      \n",
      "_________________________________________________________________\n",
      "batch_normalization (BatchNo (None, 256)               1024      \n",
      "_________________________________________________________________\n",
      "dropout (Dropout)            (None, 256)               0         \n",
      "_________________________________________________________________\n",
      "dense_1 (Dense)              (None, 256)               65792     \n",
      "_________________________________________________________________\n",
      "batch_normalization_1 (Batch (None, 256)               1024      \n",
      "_________________________________________________________________\n",
      "dropout_1 (Dropout)          (None, 256)               0         \n",
      "_________________________________________________________________\n",
      "dense_2 (Dense)              (None, 512)               131584    \n",
      "_________________________________________________________________\n",
      "batch_normalization_2 (Batch (None, 512)               2048      \n",
      "_________________________________________________________________\n",
      "dropout_2 (Dropout)          (None, 512)               0         \n",
      "_________________________________________________________________\n",
      "dense_3 (Dense)              (None, 8)                 4104      \n",
      "=================================================================\n",
      "Total params: 208,392\n",
      "Trainable params: 206,344\n",
      "Non-trainable params: 2,048\n",
      "_________________________________________________________________\n"
     ]
    }
   ],
   "source": [
    "model.summary()"
   ]
  },
  {
   "cell_type": "code",
   "execution_count": 11,
   "metadata": {},
   "outputs": [
    {
     "name": "stdout",
     "output_type": "stream",
     "text": [
      "Epoch 1/60\n",
      "29/29 [==============================] - 2s 22ms/step - loss: 2.8396 - acc: 0.2154 - val_loss: 2.0347 - val_acc: 0.2381\n",
      "Epoch 2/60\n",
      "29/29 [==============================] - 0s 6ms/step - loss: 2.1610 - acc: 0.3646 - val_loss: 2.0195 - val_acc: 0.2381\n",
      "Epoch 3/60\n",
      "29/29 [==============================] - 0s 6ms/step - loss: 1.9211 - acc: 0.4847 - val_loss: 2.0194 - val_acc: 0.2381\n",
      "Epoch 4/60\n",
      "29/29 [==============================] - 0s 6ms/step - loss: 2.0919 - acc: 0.4032 - val_loss: 2.0351 - val_acc: 0.2381\n",
      "Epoch 5/60\n",
      "29/29 [==============================] - 0s 6ms/step - loss: 1.7269 - acc: 0.4934 - val_loss: 2.0743 - val_acc: 0.2381\n",
      "Epoch 6/60\n",
      "29/29 [==============================] - 0s 6ms/step - loss: 1.4447 - acc: 0.5390 - val_loss: 2.1285 - val_acc: 0.2381\n",
      "Epoch 7/60\n",
      "29/29 [==============================] - 0s 6ms/step - loss: 1.6646 - acc: 0.5085 - val_loss: 2.1755 - val_acc: 0.2381\n",
      "Epoch 8/60\n",
      "29/29 [==============================] - 0s 7ms/step - loss: 1.7966 - acc: 0.4376 - val_loss: 2.2546 - val_acc: 0.2381\n",
      "Epoch 9/60\n",
      "29/29 [==============================] - 0s 6ms/step - loss: 1.2407 - acc: 0.6447 - val_loss: 2.2932 - val_acc: 0.2381\n",
      "Epoch 10/60\n",
      "29/29 [==============================] - 0s 6ms/step - loss: 1.4996 - acc: 0.5645 - val_loss: 2.3156 - val_acc: 0.2381\n",
      "Epoch 11/60\n",
      "29/29 [==============================] - 0s 6ms/step - loss: 1.6294 - acc: 0.5333 - val_loss: 2.3332 - val_acc: 0.2381\n",
      "Epoch 12/60\n",
      "29/29 [==============================] - 0s 6ms/step - loss: 1.2129 - acc: 0.6014 - val_loss: 2.3313 - val_acc: 0.2381\n",
      "Epoch 13/60\n",
      "29/29 [==============================] - 0s 6ms/step - loss: 1.1731 - acc: 0.6445 - val_loss: 2.2745 - val_acc: 0.2381\n",
      "Epoch 14/60\n",
      "29/29 [==============================] - 0s 6ms/step - loss: 1.4178 - acc: 0.5055 - val_loss: 2.2399 - val_acc: 0.2381\n",
      "Epoch 15/60\n",
      "29/29 [==============================] - 0s 6ms/step - loss: 1.4771 - acc: 0.5371 - val_loss: 2.1050 - val_acc: 0.3333\n",
      "Epoch 16/60\n",
      "29/29 [==============================] - 0s 6ms/step - loss: 1.0990 - acc: 0.6345 - val_loss: 1.9630 - val_acc: 0.3810\n",
      "Epoch 17/60\n",
      "29/29 [==============================] - 0s 7ms/step - loss: 1.1937 - acc: 0.6357 - val_loss: 1.8365 - val_acc: 0.3810\n",
      "Epoch 18/60\n",
      "29/29 [==============================] - 0s 7ms/step - loss: 1.3880 - acc: 0.5636 - val_loss: 1.5440 - val_acc: 0.3810\n",
      "Epoch 19/60\n",
      "29/29 [==============================] - 0s 7ms/step - loss: 1.1217 - acc: 0.6057 - val_loss: 1.2458 - val_acc: 0.4286\n",
      "Epoch 20/60\n",
      "29/29 [==============================] - 0s 7ms/step - loss: 1.2283 - acc: 0.6421 - val_loss: 1.0073 - val_acc: 0.5238\n",
      "Epoch 21/60\n",
      "29/29 [==============================] - 0s 6ms/step - loss: 1.5491 - acc: 0.5329 - val_loss: 0.8731 - val_acc: 0.5714\n",
      "Epoch 22/60\n",
      "29/29 [==============================] - 0s 6ms/step - loss: 1.2450 - acc: 0.6563 - val_loss: 0.6374 - val_acc: 0.8095\n",
      "Epoch 23/60\n",
      "29/29 [==============================] - 0s 6ms/step - loss: 1.0300 - acc: 0.6526 - val_loss: 0.4782 - val_acc: 0.9048\n",
      "Epoch 24/60\n",
      "29/29 [==============================] - 0s 6ms/step - loss: 0.9812 - acc: 0.6813 - val_loss: 0.3802 - val_acc: 0.9048\n",
      "Epoch 25/60\n",
      "29/29 [==============================] - 0s 6ms/step - loss: 1.2079 - acc: 0.7030 - val_loss: 0.3236 - val_acc: 0.9048\n",
      "Epoch 26/60\n",
      "29/29 [==============================] - 0s 7ms/step - loss: 1.3489 - acc: 0.5899 - val_loss: 0.3211 - val_acc: 0.9048\n",
      "Epoch 27/60\n",
      "29/29 [==============================] - 0s 7ms/step - loss: 0.9072 - acc: 0.6687 - val_loss: 0.2711 - val_acc: 0.9048\n",
      "Epoch 28/60\n",
      "29/29 [==============================] - 0s 7ms/step - loss: 1.6103 - acc: 0.4941 - val_loss: 0.2706 - val_acc: 0.9048\n",
      "Epoch 29/60\n",
      "29/29 [==============================] - 0s 6ms/step - loss: 1.3254 - acc: 0.5939 - val_loss: 0.2618 - val_acc: 0.9524\n",
      "Epoch 30/60\n",
      "29/29 [==============================] - 0s 6ms/step - loss: 0.9235 - acc: 0.7048 - val_loss: 0.2485 - val_acc: 0.9048\n",
      "Epoch 31/60\n",
      "29/29 [==============================] - 0s 6ms/step - loss: 0.8707 - acc: 0.6536 - val_loss: 0.2799 - val_acc: 0.9048\n",
      "Epoch 32/60\n",
      "29/29 [==============================] - 0s 8ms/step - loss: 0.9229 - acc: 0.7235 - val_loss: 0.2680 - val_acc: 0.9048\n",
      "Epoch 33/60\n",
      "29/29 [==============================] - 0s 7ms/step - loss: 0.9405 - acc: 0.6726 - val_loss: 0.2177 - val_acc: 0.9048\n",
      "Epoch 34/60\n",
      "29/29 [==============================] - 0s 6ms/step - loss: 1.0132 - acc: 0.7020 - val_loss: 0.2082 - val_acc: 0.9048\n",
      "Epoch 35/60\n",
      "29/29 [==============================] - 0s 6ms/step - loss: 1.1924 - acc: 0.6631 - val_loss: 0.2289 - val_acc: 0.9048\n",
      "Epoch 36/60\n",
      "29/29 [==============================] - 0s 6ms/step - loss: 1.1017 - acc: 0.7096 - val_loss: 0.2058 - val_acc: 0.9048\n",
      "Epoch 37/60\n",
      "29/29 [==============================] - 0s 6ms/step - loss: 0.8737 - acc: 0.7222 - val_loss: 0.2116 - val_acc: 0.9524\n",
      "Epoch 38/60\n",
      "29/29 [==============================] - 0s 6ms/step - loss: 0.9579 - acc: 0.6375 - val_loss: 0.2109 - val_acc: 0.9524\n",
      "Epoch 39/60\n",
      "29/29 [==============================] - 0s 6ms/step - loss: 1.0448 - acc: 0.6384 - val_loss: 0.2380 - val_acc: 0.9524\n",
      "Epoch 40/60\n",
      "29/29 [==============================] - 0s 6ms/step - loss: 0.9413 - acc: 0.7111 - val_loss: 0.2324 - val_acc: 0.9524\n",
      "Epoch 41/60\n",
      "29/29 [==============================] - 0s 7ms/step - loss: 1.0635 - acc: 0.6599 - val_loss: 0.2075 - val_acc: 0.9524\n",
      "Epoch 42/60\n",
      "29/29 [==============================] - 0s 7ms/step - loss: 0.6735 - acc: 0.7749 - val_loss: 0.2155 - val_acc: 0.9524\n",
      "Epoch 43/60\n",
      "29/29 [==============================] - 0s 6ms/step - loss: 0.9399 - acc: 0.6538 - val_loss: 0.2088 - val_acc: 0.9524\n",
      "Epoch 44/60\n",
      "29/29 [==============================] - 0s 7ms/step - loss: 0.8613 - acc: 0.7481 - val_loss: 0.1903 - val_acc: 0.9524\n",
      "Epoch 45/60\n",
      "29/29 [==============================] - 0s 7ms/step - loss: 0.8988 - acc: 0.7320 - val_loss: 0.1487 - val_acc: 0.9524\n",
      "Epoch 46/60\n",
      "29/29 [==============================] - 0s 6ms/step - loss: 0.8317 - acc: 0.6789 - val_loss: 0.1552 - val_acc: 0.9524\n",
      "Epoch 47/60\n",
      "29/29 [==============================] - 0s 8ms/step - loss: 0.9368 - acc: 0.6956 - val_loss: 0.1405 - val_acc: 0.9524\n",
      "Epoch 48/60\n",
      "29/29 [==============================] - 0s 7ms/step - loss: 0.8800 - acc: 0.6902 - val_loss: 0.1575 - val_acc: 0.9524\n",
      "Epoch 49/60\n",
      "29/29 [==============================] - 0s 7ms/step - loss: 0.7751 - acc: 0.7538 - val_loss: 0.1790 - val_acc: 0.9524\n",
      "Epoch 50/60\n",
      "29/29 [==============================] - 0s 7ms/step - loss: 0.7311 - acc: 0.7769 - val_loss: 0.1828 - val_acc: 0.9524\n",
      "Epoch 51/60\n",
      "29/29 [==============================] - 0s 6ms/step - loss: 0.6155 - acc: 0.7723 - val_loss: 0.1788 - val_acc: 0.9524\n",
      "Epoch 52/60\n",
      "29/29 [==============================] - 0s 6ms/step - loss: 0.5962 - acc: 0.8043 - val_loss: 0.1579 - val_acc: 0.9524\n",
      "Epoch 53/60\n",
      "29/29 [==============================] - 0s 7ms/step - loss: 0.8731 - acc: 0.7314 - val_loss: 0.1826 - val_acc: 0.9524\n",
      "Epoch 54/60\n",
      "29/29 [==============================] - 0s 7ms/step - loss: 0.7102 - acc: 0.7636 - val_loss: 0.1865 - val_acc: 0.9524\n",
      "Epoch 55/60\n",
      "29/29 [==============================] - 0s 6ms/step - loss: 1.0528 - acc: 0.7272 - val_loss: 0.1913 - val_acc: 0.9524\n",
      "Epoch 56/60\n",
      "29/29 [==============================] - 0s 7ms/step - loss: 0.8854 - acc: 0.7788 - val_loss: 0.1726 - val_acc: 0.9524\n",
      "Epoch 57/60\n",
      "29/29 [==============================] - 0s 6ms/step - loss: 1.0704 - acc: 0.6219 - val_loss: 0.1472 - val_acc: 0.9524\n",
      "Epoch 58/60\n",
      "29/29 [==============================] - 0s 6ms/step - loss: 0.9603 - acc: 0.6933 - val_loss: 0.1679 - val_acc: 0.9524\n",
      "Epoch 59/60\n",
      "29/29 [==============================] - 0s 6ms/step - loss: 0.8198 - acc: 0.7150 - val_loss: 0.1906 - val_acc: 0.9524\n",
      "Epoch 60/60\n",
      "29/29 [==============================] - 0s 6ms/step - loss: 0.7950 - acc: 0.6779 - val_loss: 0.1774 - val_acc: 0.9524\n"
     ]
    }
   ],
   "source": [
    "history = model.fit(X_train, y_train,\n",
    "                    epochs=60,\n",
    "                    batch_size=6,\n",
    "                    validation_data=(X_val, y_val),\n",
    "                    verbose=1,\n",
    "                   )"
   ]
  },
  {
   "cell_type": "markdown",
   "metadata": {},
   "source": [
    "#### Plotting the model accuracy"
   ]
  },
  {
   "cell_type": "code",
   "execution_count": 12,
   "metadata": {},
   "outputs": [
    {
     "data": {
      "image/png": "[encoded data removed]",
      "text/plain": [
       "<Figure size 432x288 with 1 Axes>"
      ]
     },
     "metadata": {
      "needs_background": "light"
     },
     "output_type": "display_data"
    }
   ],
   "source": [
    "plt.plot(history.history['acc'])\n",
    "plt.plot(history.history['val_acc'])\n",
    "plt.title('model accuracy')\n",
    "plt.ylabel('accuracy')\n",
    "plt.xlabel('epoch')\n",
    "plt.legend(['train', 'test'], loc='upper left')\n",
    "plt.show()"
   ]
  },
  {
   "cell_type": "markdown",
   "metadata": {},
   "source": [
    "### Model evaluation"
   ]
  },
  {
   "cell_type": "code",
   "execution_count": 13,
   "metadata": {},
   "outputs": [
    {
     "name": "stdout",
     "output_type": "stream",
     "text": [
      "1/1 [==============================] - 0s 25ms/step - loss: 0.3362 - acc: 0.9091\n"
     ]
    },
    {
     "data": {
      "text/plain": [
       "[0.3361869752407074, 0.9090909361839294]"
      ]
     },
     "execution_count": 13,
     "metadata": {},
     "output_type": "execute_result"
    }
   ],
   "source": [
    "model.evaluate(X_test, y_test)"
   ]
  },
  {
   "cell_type": "code",
   "execution_count": 14,
   "metadata": {},
   "outputs": [
    {
     "data": {
      "text/plain": [
       "array([[ 4,  0,  0,  0,  0,  0],\n",
       "       [ 0, 11,  0,  0,  0,  0],\n",
       "       [ 0,  1,  0,  0,  0,  0],\n",
       "       [ 0,  0,  0,  1,  0,  0],\n",
       "       [ 0,  0,  0,  0,  0,  1],\n",
       "       [ 0,  0,  0,  0,  0,  4]], dtype=int64)"
      ]
     },
     "execution_count": 14,
     "metadata": {},
     "output_type": "execute_result"
    }
   ],
   "source": [
    "y_pred = model.predict(X_test)\n",
    "y_pred_cl = np.argmax(y_pred, axis = 1)\n",
    "y_true = np.argmax(y_test, axis = 1)\n",
    "\n",
    "confusion_matrix(y_true, y_pred_cl)"
   ]
  },
  {
   "cell_type": "markdown",
   "metadata": {},
   "source": [
    "### Therefore, we can conclude that the Keras Sequential model has performed even better than the Random Forest Classifier model with a validation accuracy of 95.24% and a testing accuracy of 90.91%. Now we will save this model"
   ]
  },
  {
   "cell_type": "code",
   "execution_count": 16,
   "metadata": {},
   "outputs": [
    {
     "name": "stdout",
     "output_type": "stream",
     "text": [
      "INFO:tensorflow:Assets written to: C:\\Users\\KIIT\\Documents\\LGM-Soc contributions\\Glass classification\\Model/Keras model\\assets\n"
     ]
    }
   ],
   "source": [
    "model.save(r'C:\\Users\\KIIT\\Documents\\LGM-Soc contributions\\Glass classification\\Model/Keras model')"
   ]
  }
 ],
 "metadata": {
  "kernelspec": {
   "display_name": "Python 3",
   "language": "python",
   "name": "python3"
  },
  "language_info": {
   "codemirror_mode": {
    "name": "ipython",
    "version": 3
   },
   "file_extension": ".py",
   "mimetype": "text/x-python",
   "name": "python",
   "nbconvert_exporter": "python",
   "pygments_lexer": "ipython3",
   "version": "3.7.9"
  }
 },
 "nbformat": 4,
 "nbformat_minor": 4
}
