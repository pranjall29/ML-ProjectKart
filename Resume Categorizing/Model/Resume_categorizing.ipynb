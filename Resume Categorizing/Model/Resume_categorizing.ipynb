{
 "cells": [
  {
   "cell_type": "markdown",
   "metadata": {
    "papermill": {
     "duration": 0.014662,
     "end_time": "2021-02-24T01:31:46.475981",
     "exception": false,
     "start_time": "2021-02-24T01:31:46.461319",
     "status": "completed"
    },
    "tags": []
   },
   "source": [
    "<h1 style=\"background-color:white;font-family:rockwell;font-size:290%;text-align:center\">Resume Categorizing</h1>\n",
    "\n",
    "*********************************************************\n",
    "\n",
    "![](resume4.jpg)"
   ]
  },
  {
   "cell_type": "markdown",
   "metadata": {},
   "source": [
    "### Contents\n",
    "* [**Abstract**](#abstract)\n",
    "* [**Dataset**](#dataset)\n",
    "* [**Importing Dataset and the required libraries**](#import)\n",
    "* [**Information about the dataset**](#info)\n",
    "* [**Part A :: Exploratory Data Analysis**](#eda)\n",
    "    * [Distinct Values of the dataset](#distinct)\n",
    "    * [Graphical representation of job categories](#graph)\n",
    "    * [Category-wise Distribution](#pie)\n",
    "    * [Data Cleaning](#clean)\n",
    "    * [Label Encoder](#label-encoder)\n",
    "* [**Part B :: Classification Algorithms**](#part-b)\n",
    "    * [K-Nearest Neighbour Algorithm](#knn)\n",
    "    * [Decision Tree Classifier](#dtc)\n",
    "    * [Random Forest Classifier](#rfc)\n",
    "    * [Gausian NB Algorithm](#gnb)\n",
    "    * [Logistic Regression](#log)\n",
    "    * [Support Vector Machine](#svm)\n",
    "    * [AdaBoost Algorithm](#ada)\n",
    "    * [Artificial Neural Network](#ann)\n",
    "\n",
    "* [**Conclusion**](#conclusion)"
   ]
  },
  {
   "cell_type": "markdown",
   "metadata": {
    "papermill": {
     "duration": 0.012647,
     "end_time": "2021-02-24T01:31:46.501822",
     "exception": false,
     "start_time": "2021-02-24T01:31:46.489175",
     "status": "completed"
    },
    "tags": []
   },
   "source": [
    "<a id = 'abstract'></a>\n",
    "### Abstract\n",
    "\n",
    "Companies often receive thousands of resumes for each job posting and employ dedicated screening officers to screen qualified candidates.\n",
    "\n",
    "Hiring the right talent is a challenge for all businesses. This challenge is magnified by the high volume of applicants if the business is labour-intensive, growing, and facing high attrition rates.\n",
    "\n",
    "IT departments are short of growing markets. In a typical service organization, professionals with a variety of technical skills and business domain expertise are hired and assigned to projects to resolve customer issues. This task of selecting the best talent among many others is known as Resume Screening.\n",
    "\n",
    "Typically, large companies do not have enough time to open each CV, so they use machine learning algorithms for the Resume Screening task.\n",
    "\n",
    "Here I am going to use several machine learning algorithms for the categorization procedure of the resumes, and finally the models are going to be checked based on the accuracy score."
   ]
  },
  {
   "cell_type": "markdown",
   "metadata": {},
   "source": [
    "<a id = 'dataset'></a>\n",
    "### Dataset\n",
    "The dataset which is used in this project, is collected from Kaggle. Here is the link of the dataset : https://www.kaggle.com/gauravduttakiit/resume-dataset"
   ]
  },
  {
   "cell_type": "markdown",
   "metadata": {},
   "source": [
    "<a id = 'import'></a>\n",
    "### Importing the Dataset and the required libraries"
   ]
  },
  {
   "cell_type": "code",
   "execution_count": 2,
   "metadata": {
    "execution": {
     "iopub.execute_input": "2021-02-24T01:31:46.531637Z",
     "iopub.status.busy": "2021-02-24T01:31:46.530881Z",
     "iopub.status.idle": "2021-02-24T01:31:48.142500Z",
     "shell.execute_reply": "2021-02-24T01:31:48.143033Z"
    },
    "papermill": {
     "duration": 1.628766,
     "end_time": "2021-02-24T01:31:48.143493",
     "exception": false,
     "start_time": "2021-02-24T01:31:46.514727",
     "status": "completed"
    },
    "tags": []
   },
   "outputs": [
    {
     "data": {
      "text/html": [
       "<div>\n",
       "<style scoped>\n",
       "    .dataframe tbody tr th:only-of-type {\n",
       "        vertical-align: middle;\n",
       "    }\n",
       "\n",
       "    .dataframe tbody tr th {\n",
       "        vertical-align: top;\n",
       "    }\n",
       "\n",
       "    .dataframe thead th {\n",
       "        text-align: right;\n",
       "    }\n",
       "</style>\n",
       "<table border=\"1\" class=\"dataframe\">\n",
       "  <thead>\n",
       "    <tr style=\"text-align: right;\">\n",
       "      <th></th>\n",
       "      <th>Category</th>\n",
       "      <th>Resume</th>\n",
       "      <th>cleaned_resume</th>\n",
       "    </tr>\n",
       "  </thead>\n",
       "  <tbody>\n",
       "    <tr>\n",
       "      <th>0</th>\n",
       "      <td>Data Science</td>\n",
       "      <td>Skills * Programming Languages: Python (pandas...</td>\n",
       "      <td></td>\n",
       "    </tr>\n",
       "    <tr>\n",
       "      <th>1</th>\n",
       "      <td>Data Science</td>\n",
       "      <td>Education Details \\r\\nMay 2013 to May 2017 B.E...</td>\n",
       "      <td></td>\n",
       "    </tr>\n",
       "    <tr>\n",
       "      <th>2</th>\n",
       "      <td>Data Science</td>\n",
       "      <td>Areas of Interest Deep Learning, Control Syste...</td>\n",
       "      <td></td>\n",
       "    </tr>\n",
       "    <tr>\n",
       "      <th>3</th>\n",
       "      <td>Data Science</td>\n",
       "      <td>Skills â¢ R â¢ Python â¢ SAP HANA â¢ Table...</td>\n",
       "      <td></td>\n",
       "    </tr>\n",
       "    <tr>\n",
       "      <th>4</th>\n",
       "      <td>Data Science</td>\n",
       "      <td>Education Details \\r\\n MCA   YMCAUST,  Faridab...</td>\n",
       "      <td></td>\n",
       "    </tr>\n",
       "  </tbody>\n",
       "</table>\n",
       "</div>"
      ],
      "text/plain": [
       "       Category                                             Resume  \\\n",
       "0  Data Science  Skills * Programming Languages: Python (pandas...   \n",
       "1  Data Science  Education Details \\r\\nMay 2013 to May 2017 B.E...   \n",
       "2  Data Science  Areas of Interest Deep Learning, Control Syste...   \n",
       "3  Data Science  Skills â¢ R â¢ Python â¢ SAP HANA â¢ Table...   \n",
       "4  Data Science  Education Details \\r\\n MCA   YMCAUST,  Faridab...   \n",
       "\n",
       "  cleaned_resume  \n",
       "0                 \n",
       "1                 \n",
       "2                 \n",
       "3                 \n",
       "4                 "
      ]
     },
     "execution_count": 2,
     "metadata": {},
     "output_type": "execute_result"
    }
   ],
   "source": [
    "import numpy as np\n",
    "import pandas as pd\n",
    "import matplotlib.pyplot as plt\n",
    "import warnings\n",
    "warnings.filterwarnings('ignore')\n",
    "from sklearn.naive_bayes import MultinomialNB\n",
    "from sklearn.multiclass import OneVsRestClassifier\n",
    "from sklearn import metrics\n",
    "from sklearn.metrics import accuracy_score\n",
    "from pandas.plotting import scatter_matrix\n",
    "from sklearn.neighbors import KNeighborsClassifier\n",
    "from sklearn import metrics\n",
    "\n",
    "resumeDataSet = pd.read_csv('UpdatedResumeDataSet.csv' ,encoding='utf-8')\n",
    "resumeDataSet['cleaned_resume'] = ''\n",
    "resumeDataSet.head()"
   ]
  },
  {
   "cell_type": "markdown",
   "metadata": {},
   "source": [
    "<a id = 'info'></a>\n",
    "### Information about the dataset"
   ]
  },
  {
   "cell_type": "code",
   "execution_count": 3,
   "metadata": {
    "execution": {
     "iopub.execute_input": "2021-02-24T01:31:48.186793Z",
     "iopub.status.busy": "2021-02-24T01:31:48.180609Z",
     "iopub.status.idle": "2021-02-24T01:31:48.197838Z",
     "shell.execute_reply": "2021-02-24T01:31:48.197285Z"
    },
    "papermill": {
     "duration": 0.039593,
     "end_time": "2021-02-24T01:31:48.197992",
     "exception": false,
     "start_time": "2021-02-24T01:31:48.158399",
     "status": "completed"
    },
    "scrolled": true,
    "tags": []
   },
   "outputs": [
    {
     "name": "stdout",
     "output_type": "stream",
     "text": [
      "<class 'pandas.core.frame.DataFrame'>\n",
      "RangeIndex: 962 entries, 0 to 961\n",
      "Data columns (total 3 columns):\n",
      " #   Column          Non-Null Count  Dtype \n",
      "---  ------          --------------  ----- \n",
      " 0   Category        962 non-null    object\n",
      " 1   Resume          962 non-null    object\n",
      " 2   cleaned_resume  962 non-null    object\n",
      "dtypes: object(3)\n",
      "memory usage: 22.7+ KB\n"
     ]
    }
   ],
   "source": [
    "resumeDataSet.info()"
   ]
  },
  {
   "cell_type": "markdown",
   "metadata": {},
   "source": [
    "<a id=\"eda\"></a>\n",
    "## Part A :: Exploratory Data Analysis\n",
    "Exploratory Data Analysis refers to the critical process of performing initial investigations on data so as to discover patterns,to spot anomalies,to test hypothesis and to check assumptions with the help of summary statistics and graphical representations."
   ]
  },
  {
   "cell_type": "markdown",
   "metadata": {},
   "source": [
    "<a id = 'distinct'></a>\n",
    "### Distinct values of the dataset"
   ]
  },
  {
   "cell_type": "code",
   "execution_count": 4,
   "metadata": {
    "execution": {
     "iopub.execute_input": "2021-02-24T01:31:48.233227Z",
     "iopub.status.busy": "2021-02-24T01:31:48.232429Z",
     "iopub.status.idle": "2021-02-24T01:31:48.236348Z",
     "shell.execute_reply": "2021-02-24T01:31:48.235611Z"
    },
    "papermill": {
     "duration": 0.024156,
     "end_time": "2021-02-24T01:31:48.236569",
     "exception": false,
     "start_time": "2021-02-24T01:31:48.212413",
     "status": "completed"
    },
    "tags": []
   },
   "outputs": [
    {
     "name": "stdout",
     "output_type": "stream",
     "text": [
      "Displaying the distinct categories of resume:\n",
      "\n",
      " \n",
      "['Data Science' 'HR' 'Advocate' 'Arts' 'Web Designing'\n",
      " 'Mechanical Engineer' 'Sales' 'Health and fitness' 'Civil Engineer'\n",
      " 'Java Developer' 'Business Analyst' 'SAP Developer' 'Automation Testing'\n",
      " 'Electrical Engineering' 'Operations Manager' 'Python Developer'\n",
      " 'DevOps Engineer' 'Network Security Engineer' 'PMO' 'Database' 'Hadoop'\n",
      " 'ETL Developer' 'DotNet Developer' 'Blockchain' 'Testing']\n"
     ]
    }
   ],
   "source": [
    "print (\"Displaying the distinct categories of resume:\\n\\n \")\n",
    "print (resumeDataSet['Category'].unique())"
   ]
  },
  {
   "cell_type": "code",
   "execution_count": 5,
   "metadata": {
    "execution": {
     "iopub.execute_input": "2021-02-24T01:31:48.272366Z",
     "iopub.status.busy": "2021-02-24T01:31:48.271634Z",
     "iopub.status.idle": "2021-02-24T01:31:48.280203Z",
     "shell.execute_reply": "2021-02-24T01:31:48.281434Z"
    },
    "papermill": {
     "duration": 0.028903,
     "end_time": "2021-02-24T01:31:48.281780",
     "exception": false,
     "start_time": "2021-02-24T01:31:48.252877",
     "status": "completed"
    },
    "scrolled": false,
    "tags": []
   },
   "outputs": [
    {
     "name": "stdout",
     "output_type": "stream",
     "text": [
      "Displaying the distinct categories of resume and the number of records belonging to each category:\n",
      "\n",
      "\n",
      "Java Developer               84\n",
      "Testing                      70\n",
      "DevOps Engineer              55\n",
      "Python Developer             48\n",
      "Web Designing                45\n",
      "HR                           44\n",
      "Hadoop                       42\n",
      "Blockchain                   40\n",
      "Sales                        40\n",
      "Data Science                 40\n",
      "Mechanical Engineer          40\n",
      "Operations Manager           40\n",
      "ETL Developer                40\n",
      "Arts                         36\n",
      "Database                     33\n",
      "PMO                          30\n",
      "Electrical Engineering       30\n",
      "Health and fitness           30\n",
      "DotNet Developer             28\n",
      "Business Analyst             28\n",
      "Automation Testing           26\n",
      "Network Security Engineer    25\n",
      "SAP Developer                24\n",
      "Civil Engineer               24\n",
      "Advocate                     20\n",
      "Name: Category, dtype: int64\n"
     ]
    }
   ],
   "source": [
    "print (\"Displaying the distinct categories of resume and the number of records belonging to each category:\\n\\n\")\n",
    "print (resumeDataSet['Category'].value_counts())"
   ]
  },
  {
   "cell_type": "markdown",
   "metadata": {},
   "source": [
    "**Most number of categories present in the dataset are -**\n",
    "1. Java Developer\n",
    "2. Testing\n",
    "3. DevOps Engineer\n",
    "4. Python Developer\n",
    "5. Web Designing\n",
    "\n",
    "These are all bright sides of the engineering as well as job oriented background!"
   ]
  },
  {
   "cell_type": "markdown",
   "metadata": {},
   "source": [
    "<a id = 'graph'></a>\n",
    "### Graphical Representation of the Job Categories"
   ]
  },
  {
   "cell_type": "code",
   "execution_count": 6,
   "metadata": {
    "execution": {
     "iopub.execute_input": "2021-02-24T01:31:48.318441Z",
     "iopub.status.busy": "2021-02-24T01:31:48.317683Z",
     "iopub.status.idle": "2021-02-24T01:31:49.031113Z",
     "shell.execute_reply": "2021-02-24T01:31:49.031669Z"
    },
    "papermill": {
     "duration": 0.733165,
     "end_time": "2021-02-24T01:31:49.031880",
     "exception": false,
     "start_time": "2021-02-24T01:31:48.298715",
     "status": "completed"
    },
    "tags": []
   },
   "outputs": [
    {
     "data": {
      "image/png": "[encoded data removed]",
      "text/plain": [
       "<Figure size 1440x360 with 1 Axes>"
      ]
     },
     "metadata": {
      "needs_background": "light"
     },
     "output_type": "display_data"
    }
   ],
   "source": [
    "import seaborn as sns\n",
    "plt.figure(figsize=(20,5))\n",
    "plt.xticks(rotation=90)\n",
    "ax=sns.countplot(x=\"Category\", data=resumeDataSet)\n",
    "for p in ax.patches:\n",
    "    ax.annotate(str(p.get_height()), (p.get_x() * 1.01 , p.get_height() * 1.01))\n",
    "plt.grid()"
   ]
  },
  {
   "cell_type": "markdown",
   "metadata": {},
   "source": [
    "<a id = 'pie'></a>\n",
    "### Category-wise Distribution"
   ]
  },
  {
   "cell_type": "code",
   "execution_count": 7,
   "metadata": {
    "execution": {
     "iopub.execute_input": "2021-02-24T01:31:49.071037Z",
     "iopub.status.busy": "2021-02-24T01:31:49.070326Z",
     "iopub.status.idle": "2021-02-24T01:31:49.670912Z",
     "shell.execute_reply": "2021-02-24T01:31:49.671449Z"
    },
    "papermill": {
     "duration": 0.621897,
     "end_time": "2021-02-24T01:31:49.671666",
     "exception": false,
     "start_time": "2021-02-24T01:31:49.049769",
     "status": "completed"
    },
    "scrolled": true,
    "tags": []
   },
   "outputs": [
    {
     "data": {
      "image/png": "[encoded data removed]",
      "text/plain": [
       "<Figure size 1584x1584 with 1 Axes>"
      ]
     },
     "metadata": {},
     "output_type": "display_data"
    }
   ],
   "source": [
    "from matplotlib.gridspec import GridSpec\n",
    "targetCounts = resumeDataSet['Category'].value_counts()\n",
    "targetLabels  = resumeDataSet['Category'].unique()\n",
    "# Make square figures and axes\n",
    "plt.figure(1, figsize=(22,22))\n",
    "the_grid = GridSpec(2, 2)\n",
    "\n",
    "\n",
    "cmap = plt.get_cmap('coolwarm')\n",
    "plt.subplot(the_grid[0, 1], aspect=1, title='CATEGORY DISTRIBUTION')\n",
    "\n",
    "source_pie = plt.pie(targetCounts, labels=targetLabels, autopct='%1.1f%%', shadow=True)\n",
    "plt.show()"
   ]
  },
  {
   "cell_type": "markdown",
   "metadata": {},
   "source": [
    "**The pie chart shows the category-wise distribution -**\n",
    "1. Data Science is always having the upper hand\n",
    "2. Then comes the Human Resources\n",
    "3. Surprisingly after HR, Advocate comes into play!\n",
    "4. Then more surprisingly, Arts background joins the party!!"
   ]
  },
  {
   "cell_type": "markdown",
   "metadata": {},
   "source": [
    "<a id = 'clean'></a>\n",
    "### Data Cleaning\n",
    "Data cleansing or data cleaning is the process of detecting and correcting (or removing) corrupt or inaccurate records from a record set, table, or database and refers to identifying incomplete, incorrect, inaccurate or irrelevant parts of the data and then replacing, modifying, or deleting the dirty or coarse data."
   ]
  },
  {
   "cell_type": "code",
   "execution_count": 8,
   "metadata": {
    "execution": {
     "iopub.execute_input": "2021-02-24T01:31:49.753568Z",
     "iopub.status.busy": "2021-02-24T01:31:49.748016Z",
     "iopub.status.idle": "2021-02-24T01:31:50.216476Z",
     "shell.execute_reply": "2021-02-24T01:31:50.215714Z"
    },
    "papermill": {
     "duration": 0.52427,
     "end_time": "2021-02-24T01:31:50.216648",
     "exception": false,
     "start_time": "2021-02-24T01:31:49.692378",
     "status": "completed"
    },
    "tags": []
   },
   "outputs": [],
   "source": [
    "import re\n",
    "def cleanResume(resumeText):\n",
    "    resumeText = re.sub('http\\S+\\s*', ' ', resumeText)  # remove URLs\n",
    "    resumeText = re.sub('RT|cc', ' ', resumeText)  # remove RT and cc\n",
    "    resumeText = re.sub('#\\S+', '', resumeText)  # remove hashtags\n",
    "    resumeText = re.sub('@\\S+', '  ', resumeText)  # remove mentions\n",
    "    resumeText = re.sub('[%s]' % re.escape(\"\"\"!\"#$%&'()*+,-./:;<=>?@[\\]^_`{|}~\"\"\"), ' ', resumeText)  # remove punctuations\n",
    "    resumeText = re.sub(r'[^\\x00-\\x7f]',r' ', resumeText) \n",
    "    resumeText = re.sub('\\s+', ' ', resumeText)  # remove extra whitespace\n",
    "    return resumeText\n",
    "    \n",
    "resumeDataSet['cleaned_resume'] = resumeDataSet.Resume.apply(lambda x: cleanResume(x))"
   ]
  },
  {
   "cell_type": "code",
   "execution_count": 9,
   "metadata": {
    "execution": {
     "iopub.execute_input": "2021-02-24T01:31:50.273520Z",
     "iopub.status.busy": "2021-02-24T01:31:50.272573Z",
     "iopub.status.idle": "2021-02-24T01:31:50.277799Z",
     "shell.execute_reply": "2021-02-24T01:31:50.277255Z"
    },
    "papermill": {
     "duration": 0.040219,
     "end_time": "2021-02-24T01:31:50.277965",
     "exception": false,
     "start_time": "2021-02-24T01:31:50.237746",
     "status": "completed"
    },
    "tags": []
   },
   "outputs": [
    {
     "data": {
      "text/html": [
       "<div>\n",
       "<style scoped>\n",
       "    .dataframe tbody tr th:only-of-type {\n",
       "        vertical-align: middle;\n",
       "    }\n",
       "\n",
       "    .dataframe tbody tr th {\n",
       "        vertical-align: top;\n",
       "    }\n",
       "\n",
       "    .dataframe thead th {\n",
       "        text-align: right;\n",
       "    }\n",
       "</style>\n",
       "<table border=\"1\" class=\"dataframe\">\n",
       "  <thead>\n",
       "    <tr style=\"text-align: right;\">\n",
       "      <th></th>\n",
       "      <th>Category</th>\n",
       "      <th>Resume</th>\n",
       "      <th>cleaned_resume</th>\n",
       "    </tr>\n",
       "  </thead>\n",
       "  <tbody>\n",
       "    <tr>\n",
       "      <th>0</th>\n",
       "      <td>Data Science</td>\n",
       "      <td>Skills * Programming Languages: Python (pandas...</td>\n",
       "      <td>Skills Programming Languages Python pandas num...</td>\n",
       "    </tr>\n",
       "    <tr>\n",
       "      <th>1</th>\n",
       "      <td>Data Science</td>\n",
       "      <td>Education Details \\r\\nMay 2013 to May 2017 B.E...</td>\n",
       "      <td>Education Details May 2013 to May 2017 B E UIT...</td>\n",
       "    </tr>\n",
       "    <tr>\n",
       "      <th>2</th>\n",
       "      <td>Data Science</td>\n",
       "      <td>Areas of Interest Deep Learning, Control Syste...</td>\n",
       "      <td>Areas of Interest Deep Learning Control System...</td>\n",
       "    </tr>\n",
       "    <tr>\n",
       "      <th>3</th>\n",
       "      <td>Data Science</td>\n",
       "      <td>Skills â¢ R â¢ Python â¢ SAP HANA â¢ Table...</td>\n",
       "      <td>Skills R Python SAP HANA Tableau SAP HANA SQL ...</td>\n",
       "    </tr>\n",
       "    <tr>\n",
       "      <th>4</th>\n",
       "      <td>Data Science</td>\n",
       "      <td>Education Details \\r\\n MCA   YMCAUST,  Faridab...</td>\n",
       "      <td>Education Details MCA YMCAUST Faridabad Haryan...</td>\n",
       "    </tr>\n",
       "  </tbody>\n",
       "</table>\n",
       "</div>"
      ],
      "text/plain": [
       "       Category                                             Resume  \\\n",
       "0  Data Science  Skills * Programming Languages: Python (pandas...   \n",
       "1  Data Science  Education Details \\r\\nMay 2013 to May 2017 B.E...   \n",
       "2  Data Science  Areas of Interest Deep Learning, Control Syste...   \n",
       "3  Data Science  Skills â¢ R â¢ Python â¢ SAP HANA â¢ Table...   \n",
       "4  Data Science  Education Details \\r\\n MCA   YMCAUST,  Faridab...   \n",
       "\n",
       "                                      cleaned_resume  \n",
       "0  Skills Programming Languages Python pandas num...  \n",
       "1  Education Details May 2013 to May 2017 B E UIT...  \n",
       "2  Areas of Interest Deep Learning Control System...  \n",
       "3  Skills R Python SAP HANA Tableau SAP HANA SQL ...  \n",
       "4  Education Details MCA YMCAUST Faridabad Haryan...  "
      ]
     },
     "execution_count": 9,
     "metadata": {},
     "output_type": "execute_result"
    }
   ],
   "source": [
    "resumeDataSet.head()"
   ]
  },
  {
   "cell_type": "code",
   "execution_count": 10,
   "metadata": {
    "execution": {
     "iopub.execute_input": "2021-02-24T01:31:50.327283Z",
     "iopub.status.busy": "2021-02-24T01:31:50.326562Z",
     "iopub.status.idle": "2021-02-24T01:31:50.329695Z",
     "shell.execute_reply": "2021-02-24T01:31:50.329163Z"
    },
    "papermill": {
     "duration": 0.030025,
     "end_time": "2021-02-24T01:31:50.329868",
     "exception": false,
     "start_time": "2021-02-24T01:31:50.299843",
     "status": "completed"
    },
    "tags": []
   },
   "outputs": [],
   "source": [
    "resumeDataSet_d=resumeDataSet.copy()"
   ]
  },
  {
   "cell_type": "markdown",
   "metadata": {},
   "source": [
    "<a id = 'label-encoder'></a>\n",
    "### Introducing the Label Encoder in the dataset\n",
    "\n",
    "Sklearn provides a very efficient tool for encoding the levels of categorical features into numeric values. LabelEncoder encode labels with a value between 0 and n_classes-1 where n is the number of distinct labels. If a label repeats it assigns the same value to as assigned earlier."
   ]
  },
  {
   "cell_type": "code",
   "execution_count": 11,
   "metadata": {
    "execution": {
     "iopub.execute_input": "2021-02-24T01:31:52.279850Z",
     "iopub.status.busy": "2021-02-24T01:31:52.279073Z",
     "iopub.status.idle": "2021-02-24T01:31:52.283186Z",
     "shell.execute_reply": "2021-02-24T01:31:52.282536Z"
    },
    "papermill": {
     "duration": 0.039188,
     "end_time": "2021-02-24T01:31:52.283344",
     "exception": false,
     "start_time": "2021-02-24T01:31:52.244156",
     "status": "completed"
    },
    "tags": []
   },
   "outputs": [],
   "source": [
    "from sklearn.preprocessing import LabelEncoder\n",
    "\n",
    "var_mod = ['Category']\n",
    "le = LabelEncoder()\n",
    "for i in var_mod:\n",
    "    resumeDataSet[i] = le.fit_transform(resumeDataSet[i])"
   ]
  },
  {
   "cell_type": "code",
   "execution_count": 12,
   "metadata": {
    "execution": {
     "iopub.execute_input": "2021-02-24T01:31:52.341578Z",
     "iopub.status.busy": "2021-02-24T01:31:52.340832Z",
     "iopub.status.idle": "2021-02-24T01:31:52.352849Z",
     "shell.execute_reply": "2021-02-24T01:31:52.353364Z"
    },
    "papermill": {
     "duration": 0.043091,
     "end_time": "2021-02-24T01:31:52.353555",
     "exception": false,
     "start_time": "2021-02-24T01:31:52.310464",
     "status": "completed"
    },
    "tags": []
   },
   "outputs": [
    {
     "data": {
      "text/html": [
       "<div>\n",
       "<style scoped>\n",
       "    .dataframe tbody tr th:only-of-type {\n",
       "        vertical-align: middle;\n",
       "    }\n",
       "\n",
       "    .dataframe tbody tr th {\n",
       "        vertical-align: top;\n",
       "    }\n",
       "\n",
       "    .dataframe thead th {\n",
       "        text-align: right;\n",
       "    }\n",
       "</style>\n",
       "<table border=\"1\" class=\"dataframe\">\n",
       "  <thead>\n",
       "    <tr style=\"text-align: right;\">\n",
       "      <th></th>\n",
       "      <th>Category</th>\n",
       "      <th>Resume</th>\n",
       "      <th>cleaned_resume</th>\n",
       "    </tr>\n",
       "  </thead>\n",
       "  <tbody>\n",
       "    <tr>\n",
       "      <th>0</th>\n",
       "      <td>6</td>\n",
       "      <td>Skills * Programming Languages: Python (pandas...</td>\n",
       "      <td>Skills Programming Languages Python pandas num...</td>\n",
       "    </tr>\n",
       "    <tr>\n",
       "      <th>1</th>\n",
       "      <td>6</td>\n",
       "      <td>Education Details \\r\\nMay 2013 to May 2017 B.E...</td>\n",
       "      <td>Education Details May 2013 to May 2017 B E UIT...</td>\n",
       "    </tr>\n",
       "    <tr>\n",
       "      <th>2</th>\n",
       "      <td>6</td>\n",
       "      <td>Areas of Interest Deep Learning, Control Syste...</td>\n",
       "      <td>Areas of Interest Deep Learning Control System...</td>\n",
       "    </tr>\n",
       "    <tr>\n",
       "      <th>3</th>\n",
       "      <td>6</td>\n",
       "      <td>Skills â¢ R â¢ Python â¢ SAP HANA â¢ Table...</td>\n",
       "      <td>Skills R Python SAP HANA Tableau SAP HANA SQL ...</td>\n",
       "    </tr>\n",
       "    <tr>\n",
       "      <th>4</th>\n",
       "      <td>6</td>\n",
       "      <td>Education Details \\r\\n MCA   YMCAUST,  Faridab...</td>\n",
       "      <td>Education Details MCA YMCAUST Faridabad Haryan...</td>\n",
       "    </tr>\n",
       "  </tbody>\n",
       "</table>\n",
       "</div>"
      ],
      "text/plain": [
       "   Category                                             Resume  \\\n",
       "0         6  Skills * Programming Languages: Python (pandas...   \n",
       "1         6  Education Details \\r\\nMay 2013 to May 2017 B.E...   \n",
       "2         6  Areas of Interest Deep Learning, Control Syste...   \n",
       "3         6  Skills â¢ R â¢ Python â¢ SAP HANA â¢ Table...   \n",
       "4         6  Education Details \\r\\n MCA   YMCAUST,  Faridab...   \n",
       "\n",
       "                                      cleaned_resume  \n",
       "0  Skills Programming Languages Python pandas num...  \n",
       "1  Education Details May 2013 to May 2017 B E UIT...  \n",
       "2  Areas of Interest Deep Learning Control System...  \n",
       "3  Skills R Python SAP HANA Tableau SAP HANA SQL ...  \n",
       "4  Education Details MCA YMCAUST Faridabad Haryan...  "
      ]
     },
     "execution_count": 12,
     "metadata": {},
     "output_type": "execute_result"
    }
   ],
   "source": [
    "resumeDataSet.head()"
   ]
  },
  {
   "cell_type": "code",
   "execution_count": 13,
   "metadata": {
    "execution": {
     "iopub.execute_input": "2021-02-24T01:31:52.418671Z",
     "iopub.status.busy": "2021-02-24T01:31:52.417722Z",
     "iopub.status.idle": "2021-02-24T01:31:52.422708Z",
     "shell.execute_reply": "2021-02-24T01:31:52.422152Z"
    },
    "papermill": {
     "duration": 0.041393,
     "end_time": "2021-02-24T01:31:52.422863",
     "exception": false,
     "start_time": "2021-02-24T01:31:52.381470",
     "status": "completed"
    },
    "tags": []
   },
   "outputs": [
    {
     "data": {
      "text/plain": [
       "15    84\n",
       "23    70\n",
       "8     55\n",
       "20    48\n",
       "24    45\n",
       "12    44\n",
       "13    42\n",
       "18    40\n",
       "16    40\n",
       "10    40\n",
       "3     40\n",
       "22    40\n",
       "6     40\n",
       "1     36\n",
       "7     33\n",
       "19    30\n",
       "14    30\n",
       "11    30\n",
       "4     28\n",
       "9     28\n",
       "2     26\n",
       "17    25\n",
       "5     24\n",
       "21    24\n",
       "0     20\n",
       "Name: Category, dtype: int64"
      ]
     },
     "execution_count": 13,
     "metadata": {},
     "output_type": "execute_result"
    }
   ],
   "source": [
    "resumeDataSet.Category.value_counts()"
   ]
  },
  {
   "cell_type": "code",
   "execution_count": 14,
   "metadata": {
    "execution": {
     "iopub.execute_input": "2021-02-24T01:31:52.488726Z",
     "iopub.status.busy": "2021-02-24T01:31:52.488024Z",
     "iopub.status.idle": "2021-02-24T01:31:52.492629Z",
     "shell.execute_reply": "2021-02-24T01:31:52.491958Z"
    },
    "papermill": {
     "duration": 0.04168,
     "end_time": "2021-02-24T01:31:52.492803",
     "exception": false,
     "start_time": "2021-02-24T01:31:52.451123",
     "status": "completed"
    },
    "tags": []
   },
   "outputs": [
    {
     "data": {
      "text/plain": [
       "Java Developer               84\n",
       "Testing                      70\n",
       "DevOps Engineer              55\n",
       "Python Developer             48\n",
       "Web Designing                45\n",
       "HR                           44\n",
       "Hadoop                       42\n",
       "Blockchain                   40\n",
       "Sales                        40\n",
       "Data Science                 40\n",
       "Mechanical Engineer          40\n",
       "Operations Manager           40\n",
       "ETL Developer                40\n",
       "Arts                         36\n",
       "Database                     33\n",
       "PMO                          30\n",
       "Electrical Engineering       30\n",
       "Health and fitness           30\n",
       "DotNet Developer             28\n",
       "Business Analyst             28\n",
       "Automation Testing           26\n",
       "Network Security Engineer    25\n",
       "SAP Developer                24\n",
       "Civil Engineer               24\n",
       "Advocate                     20\n",
       "Name: Category, dtype: int64"
      ]
     },
     "execution_count": 14,
     "metadata": {},
     "output_type": "execute_result"
    }
   ],
   "source": [
    "resumeDataSet_d.Category.value_counts() #understanding decode LabelEncoder"
   ]
  },
  {
   "cell_type": "markdown",
   "metadata": {},
   "source": [
    "**Most number of categories present in the dataset are -**\n",
    "1. Java Developer\n",
    "2. Testing\n",
    "3. DevOps Engineer\n",
    "4. Python Developer\n",
    "5. Web Designing\n",
    "\n",
    "These are all bright sides of the engineering as well as job oriented background!"
   ]
  },
  {
   "cell_type": "markdown",
   "metadata": {},
   "source": [
    "***********************************"
   ]
  },
  {
   "cell_type": "markdown",
   "metadata": {},
   "source": [
    "<a id=\"part-b\"></a>\n",
    "## Part B :: Classification Algorithms\n",
    "A classification model tries to draw some conclusion from the input values given for training. It will predict the class labels/categories for the new data.\n",
    "\n",
    "Here we are going to prepare several Classification machine learning models based on those we will do a comparative analysis that which model is better among them.\n",
    "\n",
    "We are using eight different classification algorithms -\n",
    "* **K-Nearest Neighbours Algorithm** : K-Nearest Neighbour is one of the simplest Machine Learning algorithms based on Supervised Learning technique. K-NN algorithm assumes the similarity between the new case/data and available cases and put the new case into the category that is most similar to the available categories. K-NN algorithm stores all the available data and classifies a new data point based on the similarity. This means when new data appears then it can be easily classified into a well suite category by using K- NN algorithm.\n",
    "\n",
    "\n",
    "* **Support Vector Machine Algorithm** : Support Vector Machine or SVM is one of the most popular Supervised Learning algorithms, which is used for Classification as well as Regression problems. However, primarily, it is used for Classification problems in Machine Learning. The goal of the SVM algorithm is to create the best line or decision boundary that can segregate n-dimensional space into classes so that we can easily put the new data point in the correct category in the future. This best decision boundary is called a hyperplane.\n",
    "\n",
    "\n",
    "* **Random Forest Classifier** : Random Forest is a popular machine learning algorithm that belongs to the supervised learning technique. It can be used for both Classification and Regression problems in ML. It is based on the concept of ensemble learning, which is a process of combining multiple classifiers to solve a complex problem and to improve the performance of the model.\n",
    "\n",
    "\n",
    "* **Logistic Regression** : Logistic regression is a statistical model that in its basic form uses a logistic function to model a binary dependent variable, although many more complex extensions exist. In regression analysis, logistic regression (or logit regression) is estimating the parameters of a logistic model (a form of binary regression).\n",
    "\n",
    "\n",
    "* **Naive Bayes Classifcation Algorithm** :  Naive Bayes classifiers are a family of simple \"probabilistic classifiers\" based on applying Bayes' theorem with strong independence assumptions between the features. They are among the simplest Bayesian network models, but coupled with kernel density estimation, they can achieve higher accuracy levels.\n",
    "\n",
    "\n",
    "* **Decision Tree Classifier** : Decision Tree is a Supervised learning technique that can be used for both classification and Regression problems, but mostly it is preferred for solving Classification problems. It is a tree-structured classifier, where internal nodes represent the features of a dataset, branches represent the decision rules and each leaf node represents the outcome.\n",
    "\n",
    "\n",
    "* **AdaBoosting Algorithm** : AdaBoost, short for Adaptive Boosting, is a statistical classification meta-algorithm formulated by Yoav Freund and Robert Schapire, who won the 2003 Gödel Prize for their work. It can be used in conjunction with many other types of learning algorithms to improve performance.\n",
    "\n",
    "\n",
    "* **Artificial Neural Network** : Artificial neural networks, usually simply called neural networks, are computing systems vaguely inspired by the biological neural networks that constitute animal brains. An ANN is based on a collection of connected units or nodes called artificial neurons, which loosely model the neurons in a biological brain.\n",
    "\n",
    "Let's quickly get into the algorithms!"
   ]
  },
  {
   "cell_type": "markdown",
   "metadata": {},
   "source": [
    "<a id=\"train-test-split\"></a>\n",
    "**Training and Testing Dataset Spliting using the `train_test_split`**\n",
    "  \n",
    "  * Immporting the library from the sklearn.model_selection\n",
    "  * Split the dataset into 80:20 ratio\n",
    "  * X_train and y_train are the trainning datasets\n",
    "  * X_test and y_test are the testing datasets\n",
    "  * After the spliting of the datasets the model is ready to be prepared!"
   ]
  },
  {
   "cell_type": "code",
   "execution_count": 15,
   "metadata": {
    "execution": {
     "iopub.execute_input": "2021-02-24T01:31:52.624321Z",
     "iopub.status.busy": "2021-02-24T01:31:52.623537Z",
     "iopub.status.idle": "2021-02-24T01:31:53.505014Z",
     "shell.execute_reply": "2021-02-24T01:31:53.505718Z"
    },
    "papermill": {
     "duration": 0.915268,
     "end_time": "2021-02-24T01:31:53.505989",
     "exception": false,
     "start_time": "2021-02-24T01:31:52.590721",
     "status": "completed"
    },
    "tags": []
   },
   "outputs": [
    {
     "name": "stdout",
     "output_type": "stream",
     "text": [
      "Feature completed .....\n",
      "(769, 7351)\n",
      "(193, 7351)\n"
     ]
    }
   ],
   "source": [
    "from sklearn.model_selection import train_test_split\n",
    "from sklearn.feature_extraction.text import TfidfVectorizer\n",
    "from scipy.sparse import hstack\n",
    "\n",
    "requiredText = resumeDataSet['cleaned_resume'].values\n",
    "requiredTarget = resumeDataSet['Category'].values\n",
    "\n",
    "word_vectorizer = TfidfVectorizer(\n",
    "    sublinear_tf=True,\n",
    "    stop_words='english')\n",
    "word_vectorizer.fit(requiredText)\n",
    "WordFeatures = word_vectorizer.transform(requiredText)\n",
    "\n",
    "print (\"Feature completed .....\")\n",
    "\n",
    "X_train,X_test,y_train,y_test = train_test_split(WordFeatures,requiredTarget,random_state=42, test_size=0.2,\n",
    "                                                 shuffle=True, stratify=requiredTarget)\n",
    "print(X_train.shape)\n",
    "print(X_test.shape)"
   ]
  },
  {
   "cell_type": "markdown",
   "metadata": {},
   "source": [
    "<a id = 'knn'></a>\n",
    "### K-Nearest Neighbour Algorithm\n",
    "K-Nearest Neighbour is one of the simplest Machine Learning algorithms based on Supervised Learning technique. K-NN algorithm assumes the similarity between the new case/data and available cases and put the new case into the category that is most similar to the available categories. K-NN algorithm stores all the available data and classifies a new data point based on the similarity. This means when new data appears then it can be easily classified into a well suite category by using K- NN algorithm."
   ]
  },
  {
   "cell_type": "code",
   "execution_count": 17,
   "metadata": {
    "execution": {
     "iopub.execute_input": "2021-02-24T01:31:53.572955Z",
     "iopub.status.busy": "2021-02-24T01:31:53.572275Z",
     "iopub.status.idle": "2021-02-24T01:31:56.555948Z",
     "shell.execute_reply": "2021-02-24T01:31:56.555395Z"
    },
    "papermill": {
     "duration": 3.019988,
     "end_time": "2021-02-24T01:31:56.556114",
     "exception": false,
     "start_time": "2021-02-24T01:31:53.536126",
     "status": "completed"
    },
    "tags": []
   },
   "outputs": [
    {
     "name": "stdout",
     "output_type": "stream",
     "text": [
      "Accuracy of KNeighbors Classifier on training set: 0.99\n",
      "Accuracy of KNeighbors Classifier on test set:     0.98\n"
     ]
    }
   ],
   "source": [
    "clf = OneVsRestClassifier(KNeighborsClassifier())\n",
    "clf.fit(X_train, y_train)\n",
    "prediction = clf.predict(X_test)\n",
    "print('Accuracy of KNeighbors Classifier on training set: {:.2f}'.format(clf.score(X_train, y_train)))\n",
    "print('Accuracy of KNeighbors Classifier on test set:     {:.2f}'.format(clf.score(X_test, y_test)))\n",
    "\n"
   ]
  },
  {
   "cell_type": "code",
   "execution_count": 18,
   "metadata": {
    "execution": {
     "iopub.execute_input": "2021-02-24T01:31:56.626449Z",
     "iopub.status.busy": "2021-02-24T01:31:56.622820Z",
     "iopub.status.idle": "2021-02-24T01:31:56.637181Z",
     "shell.execute_reply": "2021-02-24T01:31:56.636480Z"
    },
    "papermill": {
     "duration": 0.050643,
     "end_time": "2021-02-24T01:31:56.637352",
     "exception": false,
     "start_time": "2021-02-24T01:31:56.586709",
     "status": "completed"
    },
    "tags": []
   },
   "outputs": [
    {
     "name": "stdout",
     "output_type": "stream",
     "text": [
      "\n",
      " Classification report for classifier OneVsRestClassifier(estimator=KNeighborsClassifier()):\n",
      "              precision    recall  f1-score   support\n",
      "\n",
      "           0       1.00      1.00      1.00         4\n",
      "           1       1.00      1.00      1.00         7\n",
      "           2       0.75      0.60      0.67         5\n",
      "           3       1.00      1.00      1.00         8\n",
      "           4       1.00      1.00      1.00         6\n",
      "           5       1.00      1.00      1.00         5\n",
      "           6       0.89      1.00      0.94         8\n",
      "           7       1.00      0.86      0.92         7\n",
      "           8       1.00      0.91      0.95        11\n",
      "           9       1.00      1.00      1.00         5\n",
      "          10       1.00      1.00      1.00         8\n",
      "          11       0.86      1.00      0.92         6\n",
      "          12       1.00      1.00      1.00         9\n",
      "          13       1.00      1.00      1.00         8\n",
      "          14       1.00      1.00      1.00         6\n",
      "          15       1.00      1.00      1.00        17\n",
      "          16       1.00      1.00      1.00         8\n",
      "          17       1.00      1.00      1.00         5\n",
      "          18       1.00      1.00      1.00         8\n",
      "          19       1.00      1.00      1.00         6\n",
      "          20       1.00      1.00      1.00        10\n",
      "          21       1.00      1.00      1.00         5\n",
      "          22       1.00      1.00      1.00         8\n",
      "          23       0.93      1.00      0.97        14\n",
      "          24       1.00      1.00      1.00         9\n",
      "\n",
      "    accuracy                           0.98       193\n",
      "   macro avg       0.98      0.97      0.97       193\n",
      "weighted avg       0.98      0.98      0.98       193\n",
      "\n",
      "\n"
     ]
    }
   ],
   "source": [
    "print(\"\\n Classification report for classifier %s:\\n%s\\n\" % (clf, metrics.classification_report(y_test, prediction)))"
   ]
  },
  {
   "cell_type": "code",
   "execution_count": 19,
   "metadata": {},
   "outputs": [],
   "source": [
    "from sklearn.pipeline import Pipeline"
   ]
  },
  {
   "cell_type": "markdown",
   "metadata": {},
   "source": [
    "<a id = 'gnb'></a>\n",
    "### Gausian Naive Bayes Classifier Algorithm\n",
    "Naive Bayes classifiers are a family of simple \"probabilistic classifiers\" based on applying Bayes' theorem with strong independence assumptions between the features. They are among the simplest Bayesian network models, but coupled with kernel density estimation, they can achieve higher accuracy levels."
   ]
  },
  {
   "cell_type": "code",
   "execution_count": 24,
   "metadata": {},
   "outputs": [
    {
     "name": "stdout",
     "output_type": "stream",
     "text": [
      "Accuracy of Naive Bayes classifiers on training set: 1.00\n",
      "Accuracy of Naive Bayes classifiers on test set:     0.99\n"
     ]
    }
   ],
   "source": [
    "from sklearn.naive_bayes import GaussianNB\n",
    "clf = OneVsRestClassifier(GaussianNB())\n",
    "clf.fit(X_train.todense(), y_train)\n",
    "prediction = clf.predict(X_test.todense())\n",
    "print('Accuracy of Naive Bayes classifiers on training set: {:.2f}'.format(clf.score(X_train.todense(), y_train)))\n",
    "print('Accuracy of Naive Bayes classifiers on test set:     {:.2f}'.format(clf.score(X_test.todense(), y_test)))"
   ]
  },
  {
   "cell_type": "markdown",
   "metadata": {},
   "source": [
    "<a id = 'dtc'></a>\n",
    "### Decision Tree Classifier\n",
    "Decision Tree is a Supervised learning technique that can be used for both classification and Regression problems, but mostly it is preferred for solving Classification problems. It is a tree-structured classifier, where internal nodes represent the features of a dataset, branches represent the decision rules and each leaf node represents the outcome."
   ]
  },
  {
   "cell_type": "code",
   "execution_count": 25,
   "metadata": {
    "scrolled": true
   },
   "outputs": [
    {
     "name": "stdout",
     "output_type": "stream",
     "text": [
      "Accuracy of Decision Tree Classifier on training set: 1.00\n",
      "Accuracy of Decision Tree Classifier on test set:     0.99\n"
     ]
    }
   ],
   "source": [
    "from sklearn.tree import DecisionTreeClassifier\n",
    "clf = OneVsRestClassifier(DecisionTreeClassifier())\n",
    "clf.fit(X_train.todense(), y_train)\n",
    "prediction = clf.predict(X_test.todense())\n",
    "print('Accuracy of Decision Tree Classifier on training set: {:.2f}'.format(clf.score(X_train.todense(), y_train)))\n",
    "print('Accuracy of Decision Tree Classifier on test set:     {:.2f}'.format(clf.score(X_test.todense(), y_test)))"
   ]
  },
  {
   "cell_type": "markdown",
   "metadata": {},
   "source": [
    "<a id = 'rfc'></a>\n",
    "### Random Forest Classifier\n",
    "Random Forest is a popular machine learning algorithm that belongs to the supervised learning technique. It can be used for both Classification and Regression problems in ML. It is based on the concept of ensemble learning, which is a process of combining multiple classifiers to solve a complex problem and to improve the performance of the model."
   ]
  },
  {
   "cell_type": "code",
   "execution_count": 27,
   "metadata": {},
   "outputs": [
    {
     "name": "stdout",
     "output_type": "stream",
     "text": [
      "Accuracy of Random Forest Classifier on training set: 1.00\n",
      "Accuracy of Random Forest Classifier on test set:     0.99\n"
     ]
    }
   ],
   "source": [
    "from sklearn.ensemble import RandomForestClassifier\n",
    "clf = OneVsRestClassifier(RandomForestClassifier())\n",
    "clf.fit(X_train.todense(), y_train)\n",
    "prediction = clf.predict(X_test.todense())\n",
    "print('Accuracy of Random Forest Classifier on training set: {:.2f}'.format(clf.score(X_train.todense(), y_train)))\n",
    "print('Accuracy of Random Forest Classifier on test set:     {:.2f}'.format(clf.score(X_test.todense(), y_test)))"
   ]
  },
  {
   "cell_type": "markdown",
   "metadata": {},
   "source": [
    "<a id = 'log'></a>\n",
    "### Logistic Regression\n",
    " Logistic regression is a statistical model that in its basic form uses a logistic function to model a binary dependent variable, although many more complex extensions exist. In regression analysis, logistic regression (or logit regression) is estimating the parameters of a logistic model (a form of binary regression)."
   ]
  },
  {
   "cell_type": "code",
   "execution_count": 26,
   "metadata": {},
   "outputs": [
    {
     "name": "stdout",
     "output_type": "stream",
     "text": [
      "Accuracy of Logistic regression on training set: 1.00\n",
      "Accuracy of Logistic regression on test set:     0.99\n"
     ]
    }
   ],
   "source": [
    "from sklearn.linear_model import LogisticRegression\n",
    "clf = OneVsRestClassifier(LogisticRegression())\n",
    "clf.fit(X_train.todense(), y_train)\n",
    "prediction = clf.predict(X_test.todense())\n",
    "print('Accuracy of Logistic regression on training set: {:.2f}'.format(clf.score(X_train.todense(), y_train)))\n",
    "print('Accuracy of Logistic regression on test set:     {:.2f}'.format(clf.score(X_test.todense(), y_test)))"
   ]
  },
  {
   "cell_type": "markdown",
   "metadata": {},
   "source": [
    "<a id = \"svm\"></a>\n",
    "### SVM Classification\n",
    "Support Vector Machine or SVM is one of the most popular Supervised Learning algorithms, which is used for Classification as well as Regression problems. However, primarily, it is used for Classification problems in Machine Learning. The goal of the SVM algorithm is to create the best line or decision boundary that can segregate n-dimensional space into classes so that we can easily put the new data point in the correct category in the future. This best decision boundary is called a hyperplane."
   ]
  },
  {
   "cell_type": "code",
   "execution_count": 34,
   "metadata": {},
   "outputs": [
    {
     "name": "stdout",
     "output_type": "stream",
     "text": [
      "Accuracy of Support Vector Machine on training set: 1.00\n",
      "Accuracy of Support Vector Machine on test set:     0.99\n"
     ]
    }
   ],
   "source": [
    "from sklearn.svm import SVC\n",
    "clf.fit(X_train, y_train)\n",
    "prediction = clf.predict(X_test)\n",
    "print('Accuracy of Support Vector Machine on training set: {:.2f}'.format(clf.score(X_train, y_train)))\n",
    "print('Accuracy of Support Vector Machine on test set:     {:.2f}'.format(clf.score(X_test, y_test)))\n"
   ]
  },
  {
   "cell_type": "code",
   "execution_count": 16,
   "metadata": {},
   "outputs": [],
   "source": [
    "from sklearn.ensemble import AdaBoostClassifier, GradientBoostingClassifier\n",
    "from sklearn.neural_network import MLPClassifier"
   ]
  },
  {
   "cell_type": "markdown",
   "metadata": {},
   "source": [
    "<a id = 'ada'></a>\n",
    "### AdaBoost Algorithm\n",
    "AdaBoost, short for Adaptive Boosting, is a statistical classification meta-algorithm formulated by Yoav Freund and Robert Schapire, who won the 2003 Gödel Prize for their work. It can be used in conjunction with many other types of learning algorithms to improve performance."
   ]
  },
  {
   "cell_type": "code",
   "execution_count": 17,
   "metadata": {},
   "outputs": [],
   "source": [
    "clf = AdaBoostClassifier(n_estimators=100, random_state=0)"
   ]
  },
  {
   "cell_type": "code",
   "execution_count": 18,
   "metadata": {},
   "outputs": [
    {
     "data": {
      "text/plain": [
       "AdaBoostClassifier(n_estimators=100, random_state=0)"
      ]
     },
     "execution_count": 18,
     "metadata": {},
     "output_type": "execute_result"
    }
   ],
   "source": [
    "clf.fit(X_train, y_train)"
   ]
  },
  {
   "cell_type": "code",
   "execution_count": 20,
   "metadata": {},
   "outputs": [
    {
     "name": "stdout",
     "output_type": "stream",
     "text": [
      "Accuracy of AdaBoost Classifier on training set: 0.24\n",
      "Accuracy of AdaBoost Classifier on test set:     0.23\n"
     ]
    }
   ],
   "source": [
    "prediction = clf.predict(X_test)\n",
    "print('Accuracy of AdaBoost Classifier on training set: {:.2f}'.format(clf.score(X_train, y_train)))\n",
    "print('Accuracy of AdaBoost Classifier on test set:     {:.2f}'.format(clf.score(X_test, y_test)))"
   ]
  },
  {
   "cell_type": "markdown",
   "metadata": {},
   "source": [
    "<a id = 'ann'></a>\n",
    "### Artificial Neural Networks Algorithm\n",
    "Artificial neural networks, usually simply called neural networks, are computing systems vaguely inspired by the biological neural networks that constitute animal brains. An ANN is based on a collection of connected units or nodes called artificial neurons, which loosely model the neurons in a biological brain."
   ]
  },
  {
   "cell_type": "code",
   "execution_count": 21,
   "metadata": {},
   "outputs": [],
   "source": [
    "clf = MLPClassifier(alpha=1, max_iter=1000)"
   ]
  },
  {
   "cell_type": "code",
   "execution_count": 22,
   "metadata": {},
   "outputs": [
    {
     "data": {
      "text/plain": [
       "MLPClassifier(alpha=1, max_iter=1000)"
      ]
     },
     "execution_count": 22,
     "metadata": {},
     "output_type": "execute_result"
    }
   ],
   "source": [
    "clf.fit(X_train, y_train)"
   ]
  },
  {
   "cell_type": "code",
   "execution_count": 23,
   "metadata": {},
   "outputs": [
    {
     "name": "stdout",
     "output_type": "stream",
     "text": [
      "Accuracy of KNeighbors Classifier on training set: 1.00\n",
      "Accuracy of KNeighbors Classifier on test set:     0.99\n"
     ]
    }
   ],
   "source": [
    "prediction = clf.predict(X_test)\n",
    "print('Accuracy of KNeighbors Classifier on training set: {:.2f}'.format(clf.score(X_train, y_train)))\n",
    "print('Accuracy of KNeighbors Classifier on test set:     {:.2f}'.format(clf.score(X_test, y_test)))"
   ]
  },
  {
   "cell_type": "markdown",
   "metadata": {},
   "source": [
    "************************"
   ]
  },
  {
   "cell_type": "markdown",
   "metadata": {},
   "source": [
    "<a id = 'conclusion'></a>\n",
    "## Conclusion and Comparison\n",
    "We have deployed eight machine learning algorithms and every algorithm is deployed successfully without any hesitation. We have checked the accuracy of the models based on the accuracy score of each of the models. Now let's take a look at the scores of each models.\n",
    "\n",
    "|Name of the Model|Test Accuracy Score|\n",
    "|:---:|:---:|\n",
    "|Logistic Regression|0.99|\n",
    "|Decision Tree Classifier|0.99|\n",
    "|Random Forest Classifier|0.99|\n",
    "|Naive Bayes Algorithm|0.99|\n",
    "|KNN Algorithm|0.98|\n",
    "|Support Vector Machine Algorithm|0.99|\n",
    "|AdaBoosting Classifier|0.23|\n",
    "|Artificial Neural Network|0.99|\n",
    "\n",
    "**Comparing all those scores scored by the machine learning algorithms, it is clear that Logistic Regression, Decision tree Classifier, Random Forest Classifier, Naive Bayes Algorithm, Support Vector Machine, Artificial Neural Network Algorithm are having the upper hand in case of this dataset and after this, we can use K-Nearest Neighbours algorithm which is also having good score as compared to the other deployed algorithms**\n",
    "\n",
    "Best Fitted Models ranking - \n",
    "1. Logistic Regression\n",
    "2. Decision tree Classifier\n",
    "3. Random Forest Classifier\n",
    "4. Naive Bayes Algorithm\n",
    "5. Support Vector Machine\n",
    "6. Artificial Neural Network\n",
    "7. K-Nearest Neighbours\n",
    "8. AdaBoosting Classifier\n",
    "\n",
    "\n",
    "Hooray!! The models are deployed successfully!\n",
    "\n",
    "\n",
    "### Hope this project will help you! Thank you!"
   ]
  }
 ],
 "metadata": {
  "kernelspec": {
   "display_name": "Python 3",
   "language": "python",
   "name": "python3"
  },
  "language_info": {
   "codemirror_mode": {
    "name": "ipython",
    "version": 3
   },
   "file_extension": ".py",
   "mimetype": "text/x-python",
   "name": "python",
   "nbconvert_exporter": "python",
   "pygments_lexer": "ipython3",
   "version": "3.7.6"
  },
  "papermill": {
   "default_parameters": {},
   "duration": 17.546094,
   "end_time": "2021-02-24T01:31:57.684933",
   "environment_variables": {},
   "exception": null,
   "input_path": "__notebook__.ipynb",
   "output_path": "__notebook__.ipynb",
   "parameters": {},
   "start_time": "2021-02-24T01:31:40.138839",
   "version": "2.2.2"
  }
 },
 "nbformat": 4,
 "nbformat_minor": 4
}
