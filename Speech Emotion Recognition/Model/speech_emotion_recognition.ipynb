{
  "nbformat": 4,
  "nbformat_minor": 0,
  "metadata": {
    "accelerator": "GPU",
    "colab": {
      "name": "speech_emotion_recognition.ipynb",
      "provenance": []
    },
    "kernelspec": {
      "display_name": "Python 3",
      "name": "python3"
    },
    "language_info": {
      "name": "python"
    }
  },
  "cells": [
    {
      "cell_type": "markdown",
      "metadata": {
        "id": "WYZxlnYXOV3Y"
      },
      "source": [
        "#  install & import librosa, soundfile, numpy, sklearn"
      ]
    },
    {
      "cell_type": "code",
      "metadata": {
        "id": "rogXxAvGG2kT"
      },
      "source": [
        "#import libraries which are required to make model\n",
        "import librosa\n",
        "import soundfile\n",
        "import os,glob,pickle\n",
        "import numpy as np\n",
        "import pandas as pd\n",
        "import matplotlib.pyplot as plt\n",
        "from sklearn.model_selection import train_test_split\n",
        "from sklearn.neural_network import MLPClassifier\n",
        "from sklearn.metrics import accuracy_score"
      ],
      "execution_count": null,
      "outputs": []
    },
    {
      "cell_type": "markdown",
      "metadata": {
        "id": "1mBLSljgE_ow"
      },
      "source": [
        "# MLP Classifier"
      ]
    },
    {
      "cell_type": "code",
      "metadata": {
        "id": "LxrZbU_XHTOB"
      },
      "source": [
        "#this function will extract the mfcc,chroma and mel features from sound file.\n",
        "def extract_feature(file_name, mfcc, chroma, mel):\n",
        "  with soundfile.SoundFile(file_name) as sound_file:\n",
        "    X = sound_file.read(dtype=\"float32\")\n",
        "    sample_rate = sound_file.samplerate\n",
        "    \n",
        "    if chroma:\n",
        "      stft = np.abs(librosa.stft(X))\n",
        "    result = np.array([])\n",
        "\n",
        "    if mfcc:\n",
        "      mfccs = np.mean(librosa.feature.mfcc(y=X,sr=sample_rate,n_mfcc=40).T, axis=0)\n",
        "    result = np.hstack((result,mfccs))\n",
        "\n",
        "    if chroma:\n",
        "      chroma = np.mean(librosa.feature.chroma_stft(S = stft,sr = sample_rate).T, axis=0)\n",
        "    result = np.hstack((result,chroma))\n",
        "\n",
        "    if mel:\n",
        "      mel = np.mean(librosa.feature.melspectrogram(X, sr=sample_rate).T, axis=0)\n",
        "    result = np.hstack((result,mel))\n",
        "  return result\n"
      ],
      "execution_count": null,
      "outputs": []
    },
    {
      "cell_type": "code",
      "metadata": {
        "id": "izZ3aBSDJzaF"
      },
      "source": [
        "#emotions in the RAVDESS dataset\n",
        "emotions={\n",
        "  '01':'neutral',\n",
        "  '02':'calm',\n",
        "  '03':'happy',\n",
        "  '04':'sad',\n",
        "  '05':'angry',\n",
        "  '06':'fearful',\n",
        "  '07':'disgust',\n",
        "  '08':'surprised'\n",
        "}\n",
        "#emotions we will observe\n",
        "observed_emotions=['calm', 'happy', 'fearful', 'disgust']"
      ],
      "execution_count": null,
      "outputs": []
    },
    {
      "cell_type": "code",
      "metadata": {
        "id": "z_bbBxY6KfnG"
      },
      "source": [
        "def load_data(test_size=0.35):\n",
        "    x,y=[],[]\n",
        "    for file in glob.glob(\"//content//drive//MyDrive//audio_speech_actors_01-24/Actor_*//*.wav\"):\n",
        "        file_name=os.path.basename(file)\n",
        "        #print(file)\n",
        "        emotion=emotions[file_name.split(\"-\")[2]]\n",
        "        if emotion not in observed_emotions:\n",
        "            continue\n",
        "        feature=extract_feature(file, mfcc=True, chroma=True, mel=True)\n",
        "        x.append(feature)\n",
        "        y.append(emotion)\n",
        "    return train_test_split(np.array(x), y, test_size=test_size, random_state=9) \n",
        "    "
      ],
      "execution_count": null,
      "outputs": []
    },
    {
      "cell_type": "code",
      "metadata": {
        "id": "4WTAm4DHMHnV"
      },
      "source": [
        "# We will split the dataset in two parts train and test\n",
        "x_train,x_test,y_train,y_test=load_data(test_size=0.25)"
      ],
      "execution_count": null,
      "outputs": []
    },
    {
      "cell_type": "code",
      "metadata": {
        "colab": {
          "base_uri": "https://localhost:8080/"
        },
        "id": "NV20psd7MT7d",
        "outputId": "14c8ab4c-fc1d-4f5b-9a4c-b771e5c36abd"
      },
      "source": [
        "#we will get the shape of training and testing datasets\n",
        "print((x_train.shape[0], x_test.shape[0]))"
      ],
      "execution_count": null,
      "outputs": [
        {
          "output_type": "stream",
          "text": [
            "(573, 191)\n"
          ],
          "name": "stdout"
        }
      ]
    },
    {
      "cell_type": "code",
      "metadata": {
        "colab": {
          "base_uri": "https://localhost:8080/"
        },
        "id": "9wS6ST34WaON",
        "outputId": "a638d15c-312c-4df9-d417-a7c89dfaabb4"
      },
      "source": [
        "#this will get the number of features extracted\n",
        "print(f'Features extracted: {x_train.shape[1]}')"
      ],
      "execution_count": null,
      "outputs": [
        {
          "output_type": "stream",
          "text": [
            "Features extracted: 180\n"
          ],
          "name": "stdout"
        }
      ]
    },
    {
      "cell_type": "code",
      "metadata": {
        "id": "MAftchSpWa5f"
      },
      "source": [
        "# initializing multi-layer perception classifier\n",
        "model=MLPClassifier(alpha=0.01, batch_size=256, epsilon=1e-08, hidden_layer_sizes=(300,), learning_rate='adaptive', max_iter=500)"
      ],
      "execution_count": null,
      "outputs": []
    },
    {
      "cell_type": "code",
      "metadata": {
        "colab": {
          "base_uri": "https://localhost:8080/"
        },
        "id": "4fWxnR2QWl86",
        "outputId": "d81daf3c-f0a8-4b1c-e3f0-c673d5201efa"
      },
      "source": [
        "model.fit(x_train,y_train)"
      ],
      "execution_count": null,
      "outputs": [
        {
          "output_type": "execute_result",
          "data": {
            "text/plain": [
              "MLPClassifier(activation='relu', alpha=0.01, batch_size=256, beta_1=0.9,\n",
              "              beta_2=0.999, early_stopping=False, epsilon=1e-08,\n",
              "              hidden_layer_sizes=(300,), learning_rate='adaptive',\n",
              "              learning_rate_init=0.001, max_fun=15000, max_iter=500,\n",
              "              momentum=0.9, n_iter_no_change=10, nesterovs_momentum=True,\n",
              "              power_t=0.5, random_state=None, shuffle=True, solver='adam',\n",
              "              tol=0.0001, validation_fraction=0.1, verbose=False,\n",
              "              warm_start=False)"
            ]
          },
          "metadata": {
            "tags": []
          },
          "execution_count": 73
        }
      ]
    },
    {
      "cell_type": "code",
      "metadata": {
        "id": "Zil16yQBWp8A"
      },
      "source": [
        "#predict the test set\n",
        "y_pred=model.predict(x_test)"
      ],
      "execution_count": null,
      "outputs": []
    },
    {
      "cell_type": "code",
      "metadata": {
        "colab": {
          "base_uri": "https://localhost:8080/"
        },
        "id": "jUGbPJ2rWxCQ",
        "outputId": "b5055e61-bdca-4d73-8c2f-1c219c28dc48"
      },
      "source": [
        "#calculate the accuracy of our model\n",
        "accuracy = accuracy_score(y_true=y_test, y_pred=y_pred)\n",
        "\n",
        "print(\"Accuracy: {:.2f}%\".format(accuracy*100))"
      ],
      "execution_count": null,
      "outputs": [
        {
          "output_type": "stream",
          "text": [
            "Accuracy: 76.44%\n"
          ],
          "name": "stdout"
        }
      ]
    },
    {
      "cell_type": "code",
      "metadata": {
        "id": "3for_CQ3XRsQ"
      },
      "source": [
        "#it will give casslification report of the model.\n",
        "from sklearn.metrics import classification_report, confusion_matrix"
      ],
      "execution_count": null,
      "outputs": []
    },
    {
      "cell_type": "code",
      "metadata": {
        "colab": {
          "base_uri": "https://localhost:8080/"
        },
        "id": "jYOc2vz-bJxb",
        "outputId": "877ef167-899c-49e8-f03d-2f0ecbf0cfb7"
      },
      "source": [
        "print(classification_report(y_test,y_pred))"
      ],
      "execution_count": null,
      "outputs": [
        {
          "output_type": "stream",
          "text": [
            "              precision    recall  f1-score   support\n",
            "\n",
            "        calm       0.74      0.94      0.83        52\n",
            "     disgust       0.67      0.81      0.73        36\n",
            "     fearful       0.76      0.90      0.83        42\n",
            "       happy       0.94      0.49      0.65        61\n",
            "\n",
            "    accuracy                           0.76       191\n",
            "   macro avg       0.78      0.79      0.76       191\n",
            "weighted avg       0.80      0.76      0.75       191\n",
            "\n"
          ],
          "name": "stdout"
        }
      ]
    },
    {
      "cell_type": "code",
      "metadata": {
        "colab": {
          "base_uri": "https://localhost:8080/"
        },
        "id": "pk0EYJqcbRhA",
        "outputId": "67b80af9-1ce8-48fa-d72f-cea8413c7c0a"
      },
      "source": [
        "matrix = confusion_matrix(y_test,y_pred)\n",
        "print(matrix)"
      ],
      "execution_count": null,
      "outputs": [
        {
          "output_type": "stream",
          "text": [
            "[[49  3  0  0]\n",
            " [ 4 29  1  2]\n",
            " [ 1  3 38  0]\n",
            " [12  8 11 30]]\n"
          ],
          "name": "stdout"
        }
      ]
    },
    {
      "cell_type": "markdown",
      "metadata": {
        "id": "9EjDP6lFB7_X"
      },
      "source": [
        "# SVC"
      ]
    },
    {
      "cell_type": "code",
      "metadata": {
        "id": "bnoqWgsWcVev"
      },
      "source": [
        "from sklearn.model_selection import train_test_split\n",
        "from sklearn.preprocessing import StandardScaler\n",
        "from sklearn.pipeline import Pipeline\n",
        "from sklearn.svm import SVC"
      ],
      "execution_count": null,
      "outputs": []
    },
    {
      "cell_type": "code",
      "metadata": {
        "id": "BP7Q54PPc_az"
      },
      "source": [
        "#split the dataset in two parts train and test\n",
        "x_train,x_test,y_train,y_test=load_data(test_size=0.35)"
      ],
      "execution_count": null,
      "outputs": []
    },
    {
      "cell_type": "code",
      "metadata": {
        "id": "OdJJ9kNxdWrz"
      },
      "source": [
        "#setup the pipeline steps \n",
        "steps = [('Scaler',StandardScaler()),\n",
        "         ('SVM',SVC())]"
      ],
      "execution_count": null,
      "outputs": []
    },
    {
      "cell_type": "code",
      "metadata": {
        "id": "7UjXc7AUdvnY"
      },
      "source": [
        "#create the pipeline\n",
        "pipeline = Pipeline(steps)"
      ],
      "execution_count": null,
      "outputs": []
    },
    {
      "cell_type": "code",
      "metadata": {
        "id": "vlxua00zd0dS"
      },
      "source": [
        "#fit the pipeline to training set to svc_scaled\n",
        "svc_scaled = pipeline.fit(x_train,y_train)"
      ],
      "execution_count": null,
      "outputs": []
    },
    {
      "cell_type": "code",
      "metadata": {
        "id": "5tpHzrSEd985"
      },
      "source": [
        "#fit the pipeline to training set to svc_unscaled\n",
        "svc_unscaled = SVC(kernel = 'linear').fit(x_train,y_train)"
      ],
      "execution_count": null,
      "outputs": []
    },
    {
      "cell_type": "code",
      "metadata": {
        "colab": {
          "base_uri": "https://localhost:8080/"
        },
        "id": "pKGutUxgeI_L",
        "outputId": "85819570-dbcb-4070-df73-9f7f5c6ed1c3"
      },
      "source": [
        "print('Accuracy with Scaling: {}'.format(svc_scaled.score(x_test,y_test)))"
      ],
      "execution_count": null,
      "outputs": [
        {
          "output_type": "stream",
          "text": [
            "Accuracy with Scaling: 0.6380597014925373\n"
          ],
          "name": "stdout"
        }
      ]
    },
    {
      "cell_type": "code",
      "metadata": {
        "colab": {
          "base_uri": "https://localhost:8080/"
        },
        "id": "ltcxV8PNeXgX",
        "outputId": "588dd441-4c59-488e-b38e-02f842e4d975"
      },
      "source": [
        "print('Accuracy without Scaling : {}'.format(svc_unscaled.score(x_test,y_test)))"
      ],
      "execution_count": null,
      "outputs": [
        {
          "output_type": "stream",
          "text": [
            "Accuracy without Scaling : 0.6828358208955224\n"
          ],
          "name": "stdout"
        }
      ]
    },
    {
      "cell_type": "code",
      "metadata": {
        "colab": {
          "base_uri": "https://localhost:8080/"
        },
        "id": "GeMRq6mYenJe",
        "outputId": "9ec3fa39-a5c2-4ecc-fb47-4c5500a0b5dc"
      },
      "source": [
        "train_acc = float(svc_scaled.score(x_train,y_train)*100)\n",
        "print(\"Train accuracy is %s\"% train_acc)"
      ],
      "execution_count": null,
      "outputs": [
        {
          "output_type": "stream",
          "text": [
            "Train accuracy is 77.41935483870968\n"
          ],
          "name": "stdout"
        }
      ]
    },
    {
      "cell_type": "code",
      "metadata": {
        "colab": {
          "base_uri": "https://localhost:8080/"
        },
        "id": "ElOQWAoofNSh",
        "outputId": "40ea01b5-9e7e-4892-9193-3bc883d0ea86"
      },
      "source": [
        "test_acc = float(svc_scaled.score(x_test,y_test)*100)\n",
        "print(\"Test accuracy is %s\"% test_acc)"
      ],
      "execution_count": null,
      "outputs": [
        {
          "output_type": "stream",
          "text": [
            "Test accuracy is 63.80597014925373\n"
          ],
          "name": "stdout"
        }
      ]
    },
    {
      "cell_type": "code",
      "metadata": {
        "colab": {
          "base_uri": "https://localhost:8080/"
        },
        "id": "Lyk_BMbITBKr",
        "outputId": "27acae83-f415-45af-ad90-2245666b21e8"
      },
      "source": [
        "train_acc = float(svc_unscaled.score(x_train,y_train)*100)\n",
        "print(\"Train accuracy is %s\"% train_acc)"
      ],
      "execution_count": null,
      "outputs": [
        {
          "output_type": "stream",
          "text": [
            "Train accuracy is 89.51612903225806\n"
          ],
          "name": "stdout"
        }
      ]
    },
    {
      "cell_type": "code",
      "metadata": {
        "colab": {
          "base_uri": "https://localhost:8080/"
        },
        "id": "w9u6u-9MTEHE",
        "outputId": "0dc67b16-2c6d-4fa9-da27-186910ca4f88"
      },
      "source": [
        "test_acc = float(svc_unscaled.score(x_test,y_test)*100)\n",
        "print(\"Test accuracy is %s\"% test_acc)"
      ],
      "execution_count": null,
      "outputs": [
        {
          "output_type": "stream",
          "text": [
            "Test accuracy is 68.28358208955224\n"
          ],
          "name": "stdout"
        }
      ]
    },
    {
      "cell_type": "code",
      "metadata": {
        "id": "saBoDQSuffpA"
      },
      "source": [
        "scaled_predictions = svc_scaled.predict(x_test)"
      ],
      "execution_count": null,
      "outputs": []
    },
    {
      "cell_type": "code",
      "metadata": {
        "id": "d8a3WQzbTeMx"
      },
      "source": [
        "unscaled_predictions = svc_unscaled.predict(x_test)"
      ],
      "execution_count": null,
      "outputs": []
    },
    {
      "cell_type": "code",
      "metadata": {
        "id": "hJqOvdEqfvoS"
      },
      "source": [
        "import seaborn as sn"
      ],
      "execution_count": null,
      "outputs": []
    },
    {
      "cell_type": "code",
      "metadata": {
        "colab": {
          "base_uri": "https://localhost:8080/"
        },
        "id": "ALcyLYjigCr3",
        "outputId": "f0db5d19-c284-4b70-f62d-8db5d8fdb9cc"
      },
      "source": [
        "print(classification_report(y_test,scaled_predictions))"
      ],
      "execution_count": null,
      "outputs": [
        {
          "output_type": "stream",
          "text": [
            "              precision    recall  f1-score   support\n",
            "\n",
            "        calm       0.73      0.92      0.81        76\n",
            "     disgust       0.46      0.65      0.54        55\n",
            "     fearful       0.65      0.55      0.60        65\n",
            "       happy       0.74      0.40      0.52        72\n",
            "\n",
            "    accuracy                           0.64       268\n",
            "   macro avg       0.65      0.63      0.62       268\n",
            "weighted avg       0.66      0.64      0.63       268\n",
            "\n"
          ],
          "name": "stdout"
        }
      ]
    },
    {
      "cell_type": "code",
      "metadata": {
        "colab": {
          "base_uri": "https://localhost:8080/"
        },
        "id": "vgxzvpJqgI3c",
        "outputId": "af07ff56-72b9-4f87-b171-18241eea2fff"
      },
      "source": [
        "acc = float(accuracy_score(y_test,scaled_predictions))*100\n",
        "print(\"Accuracy score is %s\"% acc)"
      ],
      "execution_count": null,
      "outputs": [
        {
          "output_type": "stream",
          "text": [
            "Accuracy score is 63.80597014925373\n"
          ],
          "name": "stdout"
        }
      ]
    },
    {
      "cell_type": "code",
      "metadata": {
        "colab": {
          "base_uri": "https://localhost:8080/"
        },
        "id": "aqzgKw34Tl--",
        "outputId": "c9286458-7120-43a5-e43f-0eb4cb5ccf78"
      },
      "source": [
        "acc = float(accuracy_score(y_test,unscaled_predictions))*100\n",
        "print(\"Accuracy score is %s\"% acc)"
      ],
      "execution_count": null,
      "outputs": [
        {
          "output_type": "stream",
          "text": [
            "Accuracy score is 68.28358208955224\n"
          ],
          "name": "stdout"
        }
      ]
    },
    {
      "cell_type": "code",
      "metadata": {
        "id": "tm5mHh8Fgp_v"
      },
      "source": [
        "conf_mat = confusion_matrix(y_test,scaled_predictions)\n",
        "df_cm = pd.DataFrame(conf_mat)"
      ],
      "execution_count": null,
      "outputs": []
    },
    {
      "cell_type": "code",
      "metadata": {
        "colab": {
          "base_uri": "https://localhost:8080/",
          "height": 460
        },
        "id": "ajH9YqP0hDOn",
        "outputId": "01907690-df08-413e-ece4-243a7d08182f"
      },
      "source": [
        "print(classification_report(y_test,scaled_predictions))\n",
        "sn.heatmap(df_cm, annot=True, fmt='')\n",
        "plt.show()"
      ],
      "execution_count": null,
      "outputs": [
        {
          "output_type": "stream",
          "text": [
            "              precision    recall  f1-score   support\n",
            "\n",
            "        calm       0.73      0.92      0.81        76\n",
            "     disgust       0.46      0.65      0.54        55\n",
            "     fearful       0.65      0.55      0.60        65\n",
            "       happy       0.74      0.40      0.52        72\n",
            "\n",
            "    accuracy                           0.64       268\n",
            "   macro avg       0.65      0.63      0.62       268\n",
            "weighted avg       0.66      0.64      0.63       268\n",
            "\n"
          ],
          "name": "stdout"
        },
        {
          "output_type": "display_data",
          "data": {
            "image/png": "[encoded data removed]",
            "text/plain": [
              "<Figure size 432x288 with 2 Axes>"
            ]
          },
          "metadata": {
            "tags": [],
            "needs_background": "light"
          }
        }
      ]
    },
    {
      "cell_type": "code",
      "metadata": {
        "colab": {
          "base_uri": "https://localhost:8080/",
          "height": 456
        },
        "id": "QBdQLjDmV4Z0",
        "outputId": "1be3cd0e-f40d-4a92-e205-05045b8943b8"
      },
      "source": [
        "conf_mat = confusion_matrix(y_test,unscaled_predictions)\n",
        "df_cm = pd.DataFrame(conf_mat)\n",
        "\n",
        "print(classification_report(y_test,unscaled_predictions))\n",
        "sn.heatmap(df_cm, annot=True, fmt='')\n",
        "plt.show()"
      ],
      "execution_count": null,
      "outputs": [
        {
          "output_type": "stream",
          "text": [
            "              precision    recall  f1-score   support\n",
            "\n",
            "        calm       0.79      0.83      0.81        76\n",
            "     disgust       0.56      0.75      0.64        55\n",
            "     fearful       0.71      0.52      0.60        65\n",
            "       happy       0.67      0.62      0.65        72\n",
            "\n",
            "    accuracy                           0.68       268\n",
            "   macro avg       0.68      0.68      0.67       268\n",
            "weighted avg       0.69      0.68      0.68       268\n",
            "\n"
          ],
          "name": "stdout"
        },
        {
          "output_type": "display_data",
          "data": {
            "image/png": "[encoded data removed]",
            "text/plain": [
              "<Figure size 432x288 with 2 Axes>"
            ]
          },
          "metadata": {
            "tags": [],
            "needs_background": "light"
          }
        }
      ]
    }
  ]
}