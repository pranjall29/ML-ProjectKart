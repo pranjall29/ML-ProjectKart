{
 "cells": [
  {
   "cell_type": "markdown",
   "metadata": {},
   "source": [
    "# GOT Episodes IMDb Rating Prediction\n",
    "\n",
    "![](https://c.wallhere.com/photos/05/11/chess_Game_of_Thrones_A_Song_of_Ice_and_Fire_typography-253057.jpg!d)"
   ]
  },
  {
   "cell_type": "markdown",
   "metadata": {},
   "source": [
    "### Contents\n",
    "1. Abstract\n",
    "2. Dataset\n",
    "3. Goal\n",
    "4. Importing all the required libraries and dataset\n",
    "5. Data Cleaning\n",
    "6. Data Visualization\n",
    "7. Prediction Models\n",
    "    - Spliting the dataset into 75:25 ratio\n",
    "    - Deploying the models\n",
    "        - Linear Regression\n",
    "        - Decision Tree Regression\n",
    "        - Random Forest Regression\n",
    "        - Lasso Regression\n",
    "        - Ridge Regression\n",
    "        - MLP Regression\n",
    "        - XgBoost Regression\n",
    "        - Gradient Boosting Regression\n",
    "        - Support Vector Regression\n",
    "8. Comparing the accuracy of the models\n",
    "9. Conclusion"
   ]
  },
  {
   "cell_type": "markdown",
   "metadata": {},
   "source": [
    "*************************\n",
    "### Abstract\n",
    "A Game of Thrones is the first novel in A Song of Ice and Fire, a series of fantasy novels by the American author George R. R. Martin. It was first published on August 1, 1996. The novel won the 1997 Locus Award and was nominated for both the 1997 Nebula Award and the 1997 World Fantasy Award. The novella Blood of the Dragon, comprising the Daenerys Targaryen chapters from the novel, won the 1997 Hugo Award for Best Novella. In January 2011, the novel became a New York Times Bestseller and reached No. 1 on the list in July 2011.\n",
    "\n",
    "In the novel, recounting events from various points of view, Martin introduces the plot-lines of the noble houses of Westeros, the Wall, and the Targaryens. The novel has inspired several spin-off works, including several games. It is also the namesake and basis for the first season of Game of Thrones, an HBO television series that premiered in April 2011. A March 2013 paperback TV tie-in re-edition was also titled Game of Thrones, excluding the indefinite article \"A\".\n",
    "\n",
    "\n",
    "### Dataset\n",
    "The dataset which is used here, is collected from Kaggle website. Here is the link of the dataset : https://www.kaggle.com/bakar31/game-of-thronesgot\n",
    "\n",
    "### Goal\n",
    "The goal of this project is to create a prediction model which will predict the IMDb ratings of the episodes of the Game of Thrones series depending on the views and season of the GOT."
   ]
  },
  {
   "cell_type": "markdown",
   "metadata": {},
   "source": [
    "### Importing all the required libraries and Dataset"
   ]
  },
  {
   "cell_type": "code",
   "execution_count": 1,
   "metadata": {
    "_cell_guid": "b1076dfc-b9ad-4769-8c92-a6c4dae69d19",
    "_uuid": "8f2839f25d086af736a60e9eeb907d3b93b6e0e5",
    "execution": {
     "iopub.execute_input": "2021-06-17T14:48:52.414563Z",
     "iopub.status.busy": "2021-06-17T14:48:52.413677Z",
     "iopub.status.idle": "2021-06-17T14:48:52.439235Z",
     "shell.execute_reply": "2021-06-17T14:48:52.438588Z",
     "shell.execute_reply.started": "2021-06-17T14:48:05.649410Z"
    },
    "papermill": {
     "duration": 0.047745,
     "end_time": "2021-06-17T14:48:52.439441",
     "exception": false,
     "start_time": "2021-06-17T14:48:52.391696",
     "status": "completed"
    },
    "tags": []
   },
   "outputs": [],
   "source": [
    "import numpy as np # linear algebra\n",
    "import pandas as pd # data processing, CSV file I/O (e.g. pd.read_csv)\n",
    "import os"
   ]
  },
  {
   "cell_type": "code",
   "execution_count": 2,
   "metadata": {
    "execution": {
     "iopub.execute_input": "2021-06-17T14:48:52.502496Z",
     "iopub.status.busy": "2021-06-17T14:48:52.501776Z",
     "iopub.status.idle": "2021-06-17T14:48:52.519607Z",
     "shell.execute_reply": "2021-06-17T14:48:52.518918Z",
     "shell.execute_reply.started": "2021-06-17T14:48:05.669860Z"
    },
    "papermill": {
     "duration": 0.052307,
     "end_time": "2021-06-17T14:48:52.519758",
     "exception": false,
     "start_time": "2021-06-17T14:48:52.467451",
     "status": "completed"
    },
    "tags": []
   },
   "outputs": [],
   "source": [
    "df=pd.read_csv(\"game of thrones.csv\")"
   ]
  },
  {
   "cell_type": "code",
   "execution_count": 3,
   "metadata": {
    "execution": {
     "iopub.execute_input": "2021-06-17T14:48:52.577422Z",
     "iopub.status.busy": "2021-06-17T14:48:52.576759Z",
     "iopub.status.idle": "2021-06-17T14:48:52.609235Z",
     "shell.execute_reply": "2021-06-17T14:48:52.608650Z",
     "shell.execute_reply.started": "2021-06-17T14:48:05.681623Z"
    },
    "papermill": {
     "duration": 0.062286,
     "end_time": "2021-06-17T14:48:52.609429",
     "exception": false,
     "start_time": "2021-06-17T14:48:52.547143",
     "status": "completed"
    },
    "tags": []
   },
   "outputs": [
    {
     "data": {
      "text/html": [
       "<div>\n",
       "<style scoped>\n",
       "    .dataframe tbody tr th:only-of-type {\n",
       "        vertical-align: middle;\n",
       "    }\n",
       "\n",
       "    .dataframe tbody tr th {\n",
       "        vertical-align: top;\n",
       "    }\n",
       "\n",
       "    .dataframe thead th {\n",
       "        text-align: right;\n",
       "    }\n",
       "</style>\n",
       "<table border=\"1\" class=\"dataframe\">\n",
       "  <thead>\n",
       "    <tr style=\"text-align: right;\">\n",
       "      <th></th>\n",
       "      <th>No. overall</th>\n",
       "      <th>No. in season</th>\n",
       "      <th>Season</th>\n",
       "      <th>Title</th>\n",
       "      <th>Directed by</th>\n",
       "      <th>Written by</th>\n",
       "      <th>Novel(s) adapted</th>\n",
       "      <th>Original air date</th>\n",
       "      <th>U.S. viewers(millions)</th>\n",
       "      <th>Imdb rating</th>\n",
       "    </tr>\n",
       "  </thead>\n",
       "  <tbody>\n",
       "    <tr>\n",
       "      <th>0</th>\n",
       "      <td>1</td>\n",
       "      <td>1</td>\n",
       "      <td>1</td>\n",
       "      <td>\"Winter Is Coming\"</td>\n",
       "      <td>Tim Van Patten</td>\n",
       "      <td>David Benioff &amp; D. B. Weiss</td>\n",
       "      <td>A Game of Thrones</td>\n",
       "      <td>17-Apr-11</td>\n",
       "      <td>2.22</td>\n",
       "      <td>9.1</td>\n",
       "    </tr>\n",
       "    <tr>\n",
       "      <th>1</th>\n",
       "      <td>2</td>\n",
       "      <td>2</td>\n",
       "      <td>1</td>\n",
       "      <td>\"The Kingsroad\"</td>\n",
       "      <td>Tim Van Patten</td>\n",
       "      <td>David Benioff &amp; D. B. Weiss</td>\n",
       "      <td>A Game of Thrones</td>\n",
       "      <td>24-Apr-11</td>\n",
       "      <td>2.20</td>\n",
       "      <td>8.8</td>\n",
       "    </tr>\n",
       "    <tr>\n",
       "      <th>2</th>\n",
       "      <td>3</td>\n",
       "      <td>3</td>\n",
       "      <td>1</td>\n",
       "      <td>\"Lord Snow\"</td>\n",
       "      <td>Brian Kirk</td>\n",
       "      <td>David Benioff &amp; D. B. Weiss</td>\n",
       "      <td>A Game of Thrones</td>\n",
       "      <td>1-May-11</td>\n",
       "      <td>2.44</td>\n",
       "      <td>8.7</td>\n",
       "    </tr>\n",
       "    <tr>\n",
       "      <th>3</th>\n",
       "      <td>4</td>\n",
       "      <td>4</td>\n",
       "      <td>1</td>\n",
       "      <td>\"Cripples, Bastards, and Broken Things\"</td>\n",
       "      <td>Brian Kirk</td>\n",
       "      <td>Bryan Cogman</td>\n",
       "      <td>A Game of Thrones</td>\n",
       "      <td>8-May-11</td>\n",
       "      <td>2.45</td>\n",
       "      <td>8.8</td>\n",
       "    </tr>\n",
       "    <tr>\n",
       "      <th>4</th>\n",
       "      <td>5</td>\n",
       "      <td>5</td>\n",
       "      <td>1</td>\n",
       "      <td>\"The Wolf and the Lion\"</td>\n",
       "      <td>Brian Kirk</td>\n",
       "      <td>David Benioff &amp; D. B. Weiss</td>\n",
       "      <td>A Game of Thrones</td>\n",
       "      <td>15-May-11</td>\n",
       "      <td>2.58</td>\n",
       "      <td>9.1</td>\n",
       "    </tr>\n",
       "  </tbody>\n",
       "</table>\n",
       "</div>"
      ],
      "text/plain": [
       "   No. overall  No. in season  Season  \\\n",
       "0            1              1       1   \n",
       "1            2              2       1   \n",
       "2            3              3       1   \n",
       "3            4              4       1   \n",
       "4            5              5       1   \n",
       "\n",
       "                                     Title     Directed by  \\\n",
       "0                       \"Winter Is Coming\"  Tim Van Patten   \n",
       "1                          \"The Kingsroad\"  Tim Van Patten   \n",
       "2                              \"Lord Snow\"      Brian Kirk   \n",
       "3  \"Cripples, Bastards, and Broken Things\"      Brian Kirk   \n",
       "4                  \"The Wolf and the Lion\"      Brian Kirk   \n",
       "\n",
       "                    Written by   Novel(s) adapted Original air date  \\\n",
       "0  David Benioff & D. B. Weiss  A Game of Thrones         17-Apr-11   \n",
       "1  David Benioff & D. B. Weiss  A Game of Thrones         24-Apr-11   \n",
       "2  David Benioff & D. B. Weiss  A Game of Thrones          1-May-11   \n",
       "3                 Bryan Cogman  A Game of Thrones          8-May-11   \n",
       "4  David Benioff & D. B. Weiss  A Game of Thrones         15-May-11   \n",
       "\n",
       "   U.S. viewers(millions)  Imdb rating  \n",
       "0                    2.22          9.1  \n",
       "1                    2.20          8.8  \n",
       "2                    2.44          8.7  \n",
       "3                    2.45          8.8  \n",
       "4                    2.58          9.1  "
      ]
     },
     "execution_count": 3,
     "metadata": {},
     "output_type": "execute_result"
    }
   ],
   "source": [
    "df.head()"
   ]
  },
  {
   "cell_type": "code",
   "execution_count": 4,
   "metadata": {
    "execution": {
     "iopub.execute_input": "2021-06-17T14:48:52.661286Z",
     "iopub.status.busy": "2021-06-17T14:48:52.660771Z",
     "iopub.status.idle": "2021-06-17T14:48:52.681747Z",
     "shell.execute_reply": "2021-06-17T14:48:52.681078Z",
     "shell.execute_reply.started": "2021-06-17T14:48:05.705141Z"
    },
    "papermill": {
     "duration": 0.045173,
     "end_time": "2021-06-17T14:48:52.681896",
     "exception": false,
     "start_time": "2021-06-17T14:48:52.636723",
     "status": "completed"
    },
    "tags": []
   },
   "outputs": [
    {
     "name": "stdout",
     "output_type": "stream",
     "text": [
      "<class 'pandas.core.frame.DataFrame'>\n",
      "RangeIndex: 73 entries, 0 to 72\n",
      "Data columns (total 10 columns):\n",
      " #   Column                  Non-Null Count  Dtype  \n",
      "---  ------                  --------------  -----  \n",
      " 0   No. overall             73 non-null     int64  \n",
      " 1   No. in season           73 non-null     int64  \n",
      " 2   Season                  73 non-null     int64  \n",
      " 3   Title                   73 non-null     object \n",
      " 4   Directed by             73 non-null     object \n",
      " 5   Written by              73 non-null     object \n",
      " 6   Novel(s) adapted        73 non-null     object \n",
      " 7   Original air date       61 non-null     object \n",
      " 8   U.S. viewers(millions)  70 non-null     float64\n",
      " 9   Imdb rating             73 non-null     float64\n",
      "dtypes: float64(2), int64(3), object(5)\n",
      "memory usage: 5.8+ KB\n"
     ]
    }
   ],
   "source": [
    "df.info()"
   ]
  },
  {
   "cell_type": "code",
   "execution_count": 5,
   "metadata": {
    "execution": {
     "iopub.execute_input": "2021-06-17T14:48:52.725876Z",
     "iopub.status.busy": "2021-06-17T14:48:52.725175Z",
     "iopub.status.idle": "2021-06-17T14:48:52.729538Z",
     "shell.execute_reply": "2021-06-17T14:48:52.729057Z",
     "shell.execute_reply.started": "2021-06-17T14:48:05.723882Z"
    },
    "papermill": {
     "duration": 0.028067,
     "end_time": "2021-06-17T14:48:52.729654",
     "exception": false,
     "start_time": "2021-06-17T14:48:52.701587",
     "status": "completed"
    },
    "tags": []
   },
   "outputs": [
    {
     "data": {
      "text/plain": [
       "(73, 10)"
      ]
     },
     "execution_count": 5,
     "metadata": {},
     "output_type": "execute_result"
    }
   ],
   "source": [
    "df.shape"
   ]
  },
  {
   "cell_type": "markdown",
   "metadata": {
    "papermill": {
     "duration": 0.018709,
     "end_time": "2021-06-17T14:48:52.767623",
     "exception": false,
     "start_time": "2021-06-17T14:48:52.748914",
     "status": "completed"
    },
    "tags": []
   },
   "source": [
    "### Data Cleaning"
   ]
  },
  {
   "cell_type": "code",
   "execution_count": 6,
   "metadata": {
    "execution": {
     "iopub.execute_input": "2021-06-17T14:48:52.812546Z",
     "iopub.status.busy": "2021-06-17T14:48:52.811865Z",
     "iopub.status.idle": "2021-06-17T14:48:52.815737Z",
     "shell.execute_reply": "2021-06-17T14:48:52.815315Z",
     "shell.execute_reply.started": "2021-06-17T14:48:05.730384Z"
    },
    "papermill": {
     "duration": 0.029338,
     "end_time": "2021-06-17T14:48:52.815855",
     "exception": false,
     "start_time": "2021-06-17T14:48:52.786517",
     "status": "completed"
    },
    "tags": []
   },
   "outputs": [
    {
     "data": {
      "text/plain": [
       "No. overall                0\n",
       "No. in season              0\n",
       "Season                     0\n",
       "Title                      0\n",
       "Directed by                0\n",
       "Written by                 0\n",
       "Novel(s) adapted           0\n",
       "Original air date         12\n",
       "U.S. viewers(millions)     3\n",
       "Imdb rating                0\n",
       "dtype: int64"
      ]
     },
     "execution_count": 6,
     "metadata": {},
     "output_type": "execute_result"
    }
   ],
   "source": [
    "df.isnull().sum()"
   ]
  },
  {
   "cell_type": "code",
   "execution_count": 7,
   "metadata": {
    "execution": {
     "iopub.execute_input": "2021-06-17T14:48:52.868551Z",
     "iopub.status.busy": "2021-06-17T14:48:52.867842Z",
     "iopub.status.idle": "2021-06-17T14:48:52.871896Z",
     "shell.execute_reply": "2021-06-17T14:48:52.871423Z",
     "shell.execute_reply.started": "2021-06-17T14:48:05.743200Z"
    },
    "papermill": {
     "duration": 0.036488,
     "end_time": "2021-06-17T14:48:52.872002",
     "exception": false,
     "start_time": "2021-06-17T14:48:52.835514",
     "status": "completed"
    },
    "tags": []
   },
   "outputs": [
    {
     "data": {
      "text/html": [
       "<div>\n",
       "<style scoped>\n",
       "    .dataframe tbody tr th:only-of-type {\n",
       "        vertical-align: middle;\n",
       "    }\n",
       "\n",
       "    .dataframe tbody tr th {\n",
       "        vertical-align: top;\n",
       "    }\n",
       "\n",
       "    .dataframe thead th {\n",
       "        text-align: right;\n",
       "    }\n",
       "</style>\n",
       "<table border=\"1\" class=\"dataframe\">\n",
       "  <thead>\n",
       "    <tr style=\"text-align: right;\">\n",
       "      <th></th>\n",
       "      <th>No. overall</th>\n",
       "      <th>No. in season</th>\n",
       "      <th>Season</th>\n",
       "      <th>Title</th>\n",
       "      <th>Directed by</th>\n",
       "      <th>Written by</th>\n",
       "      <th>Novel(s) adapted</th>\n",
       "      <th>Original air date</th>\n",
       "      <th>U.S. viewers(millions)</th>\n",
       "      <th>Imdb rating</th>\n",
       "    </tr>\n",
       "  </thead>\n",
       "  <tbody>\n",
       "    <tr>\n",
       "      <th>26</th>\n",
       "      <td>27</td>\n",
       "      <td>7</td>\n",
       "      <td>3</td>\n",
       "      <td>\"The Bear and the Maiden Fair\"</td>\n",
       "      <td>Michelle MacLaren</td>\n",
       "      <td>George R. R. Martin</td>\n",
       "      <td>A Storm of Swords</td>\n",
       "      <td>NaN</td>\n",
       "      <td>NaN</td>\n",
       "      <td>8.7</td>\n",
       "    </tr>\n",
       "    <tr>\n",
       "      <th>38</th>\n",
       "      <td>39</td>\n",
       "      <td>9</td>\n",
       "      <td>4</td>\n",
       "      <td>\"The Watchers on the Wall\"</td>\n",
       "      <td>Neil Marshall</td>\n",
       "      <td>David Benioff &amp; D. B. Weiss</td>\n",
       "      <td>A Storm of Swords</td>\n",
       "      <td>8-Jun-14</td>\n",
       "      <td>NaN</td>\n",
       "      <td>9.6</td>\n",
       "    </tr>\n",
       "    <tr>\n",
       "      <th>55</th>\n",
       "      <td>56</td>\n",
       "      <td>6</td>\n",
       "      <td>6</td>\n",
       "      <td>\"Blood of My Blood\"</td>\n",
       "      <td>Jack Bender</td>\n",
       "      <td>Bryan Cogman</td>\n",
       "      <td>Outline from The Winds of Winter and original ...</td>\n",
       "      <td>19-May-16</td>\n",
       "      <td>NaN</td>\n",
       "      <td>8.4</td>\n",
       "    </tr>\n",
       "  </tbody>\n",
       "</table>\n",
       "</div>"
      ],
      "text/plain": [
       "    No. overall  No. in season  Season                           Title  \\\n",
       "26           27              7       3  \"The Bear and the Maiden Fair\"   \n",
       "38           39              9       4      \"The Watchers on the Wall\"   \n",
       "55           56              6       6             \"Blood of My Blood\"   \n",
       "\n",
       "          Directed by                   Written by  \\\n",
       "26  Michelle MacLaren          George R. R. Martin   \n",
       "38      Neil Marshall  David Benioff & D. B. Weiss   \n",
       "55        Jack Bender                 Bryan Cogman   \n",
       "\n",
       "                                     Novel(s) adapted Original air date  \\\n",
       "26                                  A Storm of Swords               NaN   \n",
       "38                                  A Storm of Swords          8-Jun-14   \n",
       "55  Outline from The Winds of Winter and original ...         19-May-16   \n",
       "\n",
       "    U.S. viewers(millions)  Imdb rating  \n",
       "26                     NaN          8.7  \n",
       "38                     NaN          9.6  \n",
       "55                     NaN          8.4  "
      ]
     },
     "execution_count": 7,
     "metadata": {},
     "output_type": "execute_result"
    }
   ],
   "source": [
    "df[df['U.S. viewers(millions)'].isnull()]"
   ]
  },
  {
   "cell_type": "code",
   "execution_count": 8,
   "metadata": {
    "execution": {
     "iopub.execute_input": "2021-06-17T14:48:52.926891Z",
     "iopub.status.busy": "2021-06-17T14:48:52.926395Z",
     "iopub.status.idle": "2021-06-17T14:48:52.931630Z",
     "shell.execute_reply": "2021-06-17T14:48:52.931097Z",
     "shell.execute_reply.started": "2021-06-17T14:48:05.766169Z"
    },
    "papermill": {
     "duration": 0.03969,
     "end_time": "2021-06-17T14:48:52.931745",
     "exception": false,
     "start_time": "2021-06-17T14:48:52.892055",
     "status": "completed"
    },
    "tags": []
   },
   "outputs": [
    {
     "data": {
      "text/html": [
       "<div>\n",
       "<style scoped>\n",
       "    .dataframe tbody tr th:only-of-type {\n",
       "        vertical-align: middle;\n",
       "    }\n",
       "\n",
       "    .dataframe tbody tr th {\n",
       "        vertical-align: top;\n",
       "    }\n",
       "\n",
       "    .dataframe thead th {\n",
       "        text-align: right;\n",
       "    }\n",
       "</style>\n",
       "<table border=\"1\" class=\"dataframe\">\n",
       "  <thead>\n",
       "    <tr style=\"text-align: right;\">\n",
       "      <th></th>\n",
       "      <th>No. overall</th>\n",
       "      <th>No. in season</th>\n",
       "      <th>Season</th>\n",
       "      <th>Title</th>\n",
       "      <th>Directed by</th>\n",
       "      <th>Written by</th>\n",
       "      <th>Novel(s) adapted</th>\n",
       "      <th>Original air date</th>\n",
       "      <th>U.S. viewers(millions)</th>\n",
       "      <th>Imdb rating</th>\n",
       "    </tr>\n",
       "  </thead>\n",
       "  <tbody>\n",
       "    <tr>\n",
       "      <th>6</th>\n",
       "      <td>7</td>\n",
       "      <td>7</td>\n",
       "      <td>1</td>\n",
       "      <td>\"You Win or You Die\"</td>\n",
       "      <td>Daniel Minahan</td>\n",
       "      <td>David Benioff &amp; D. B. Weiss</td>\n",
       "      <td>A Game of Thrones</td>\n",
       "      <td>NaN</td>\n",
       "      <td>2.40</td>\n",
       "      <td>9.2</td>\n",
       "    </tr>\n",
       "    <tr>\n",
       "      <th>11</th>\n",
       "      <td>12</td>\n",
       "      <td>2</td>\n",
       "      <td>2</td>\n",
       "      <td>\"The Night Lands\"</td>\n",
       "      <td>Alan Taylor</td>\n",
       "      <td>David Benioff &amp; D. B. Weiss</td>\n",
       "      <td>A Clash of Kings</td>\n",
       "      <td>NaN</td>\n",
       "      <td>3.76</td>\n",
       "      <td>8.5</td>\n",
       "    </tr>\n",
       "    <tr>\n",
       "      <th>12</th>\n",
       "      <td>13</td>\n",
       "      <td>3</td>\n",
       "      <td>2</td>\n",
       "      <td>\"What Is Dead May Never Die\"</td>\n",
       "      <td>Alik Sakharov</td>\n",
       "      <td>Bryan Cogman</td>\n",
       "      <td>A Clash of Kings</td>\n",
       "      <td>NaN</td>\n",
       "      <td>3.77</td>\n",
       "      <td>8.8</td>\n",
       "    </tr>\n",
       "    <tr>\n",
       "      <th>16</th>\n",
       "      <td>17</td>\n",
       "      <td>7</td>\n",
       "      <td>2</td>\n",
       "      <td>\"A Man Without Honor\"</td>\n",
       "      <td>David Nutter</td>\n",
       "      <td>David Benioff &amp; D. B. Weiss</td>\n",
       "      <td>A Clash of Kings</td>\n",
       "      <td>NaN</td>\n",
       "      <td>3.69</td>\n",
       "      <td>8.9</td>\n",
       "    </tr>\n",
       "    <tr>\n",
       "      <th>26</th>\n",
       "      <td>27</td>\n",
       "      <td>7</td>\n",
       "      <td>3</td>\n",
       "      <td>\"The Bear and the Maiden Fair\"</td>\n",
       "      <td>Michelle MacLaren</td>\n",
       "      <td>George R. R. Martin</td>\n",
       "      <td>A Storm of Swords</td>\n",
       "      <td>NaN</td>\n",
       "      <td>NaN</td>\n",
       "      <td>8.7</td>\n",
       "    </tr>\n",
       "    <tr>\n",
       "      <th>36</th>\n",
       "      <td>37</td>\n",
       "      <td>7</td>\n",
       "      <td>4</td>\n",
       "      <td>\"Mockingbird\"</td>\n",
       "      <td>Alik Sakharov</td>\n",
       "      <td>David Benioff &amp; D. B. Weiss</td>\n",
       "      <td>A Storm of Swords</td>\n",
       "      <td>NaN</td>\n",
       "      <td>7.20</td>\n",
       "      <td>9.1</td>\n",
       "    </tr>\n",
       "    <tr>\n",
       "      <th>46</th>\n",
       "      <td>47</td>\n",
       "      <td>7</td>\n",
       "      <td>5</td>\n",
       "      <td>\"The Gift\"</td>\n",
       "      <td>Miguel Sapochnik</td>\n",
       "      <td>David Benioff &amp; D. B. Weiss</td>\n",
       "      <td>A Feast for Crows, A Dance with Dragons and or...</td>\n",
       "      <td>NaN</td>\n",
       "      <td>5.40</td>\n",
       "      <td>9.0</td>\n",
       "    </tr>\n",
       "    <tr>\n",
       "      <th>47</th>\n",
       "      <td>48</td>\n",
       "      <td>8</td>\n",
       "      <td>5</td>\n",
       "      <td>\"Hardhome\"</td>\n",
       "      <td>Miguel Sapochnik</td>\n",
       "      <td>David Benioff &amp; D. B. Weiss</td>\n",
       "      <td>A Feast for Crows, A Dance with Dragons and or...</td>\n",
       "      <td>NaN</td>\n",
       "      <td>7.01</td>\n",
       "      <td>9.9</td>\n",
       "    </tr>\n",
       "    <tr>\n",
       "      <th>54</th>\n",
       "      <td>55</td>\n",
       "      <td>5</td>\n",
       "      <td>6</td>\n",
       "      <td>\"The Door\"</td>\n",
       "      <td>Jack Bender</td>\n",
       "      <td>David Benioff &amp; D. B. Weiss</td>\n",
       "      <td>Outline from The Winds of Winter and original ...</td>\n",
       "      <td>NaN</td>\n",
       "      <td>7.89</td>\n",
       "      <td>9.7</td>\n",
       "    </tr>\n",
       "    <tr>\n",
       "      <th>60</th>\n",
       "      <td>61</td>\n",
       "      <td>1</td>\n",
       "      <td>7</td>\n",
       "      <td>\"Dragonstone\"</td>\n",
       "      <td>Jeremy Podeswa</td>\n",
       "      <td>David Benioff &amp; D. B. Weiss</td>\n",
       "      <td>Outline from A Dream of Spring and original co...</td>\n",
       "      <td>NaN</td>\n",
       "      <td>10.11</td>\n",
       "      <td>8.6</td>\n",
       "    </tr>\n",
       "    <tr>\n",
       "      <th>67</th>\n",
       "      <td>68</td>\n",
       "      <td>1</td>\n",
       "      <td>8</td>\n",
       "      <td>\"Winterfell\"</td>\n",
       "      <td>David Nutter</td>\n",
       "      <td>Dave Hill</td>\n",
       "      <td>Outline from A Dream of Spring and original co...</td>\n",
       "      <td>NaN</td>\n",
       "      <td>11.76</td>\n",
       "      <td>7.5</td>\n",
       "    </tr>\n",
       "    <tr>\n",
       "      <th>68</th>\n",
       "      <td>69</td>\n",
       "      <td>2</td>\n",
       "      <td>8</td>\n",
       "      <td>\"A Knight of the Seven Kingdoms\"</td>\n",
       "      <td>David Nutter</td>\n",
       "      <td>Bryan Cogman</td>\n",
       "      <td>Outline from A Dream of Spring and original co...</td>\n",
       "      <td>NaN</td>\n",
       "      <td>10.29</td>\n",
       "      <td>7.8</td>\n",
       "    </tr>\n",
       "  </tbody>\n",
       "</table>\n",
       "</div>"
      ],
      "text/plain": [
       "    No. overall  No. in season  Season                             Title  \\\n",
       "6             7              7       1              \"You Win or You Die\"   \n",
       "11           12              2       2                 \"The Night Lands\"   \n",
       "12           13              3       2      \"What Is Dead May Never Die\"   \n",
       "16           17              7       2             \"A Man Without Honor\"   \n",
       "26           27              7       3    \"The Bear and the Maiden Fair\"   \n",
       "36           37              7       4                     \"Mockingbird\"   \n",
       "46           47              7       5                        \"The Gift\"   \n",
       "47           48              8       5                        \"Hardhome\"   \n",
       "54           55              5       6                        \"The Door\"   \n",
       "60           61              1       7                     \"Dragonstone\"   \n",
       "67           68              1       8                      \"Winterfell\"   \n",
       "68           69              2       8  \"A Knight of the Seven Kingdoms\"   \n",
       "\n",
       "          Directed by                   Written by  \\\n",
       "6      Daniel Minahan  David Benioff & D. B. Weiss   \n",
       "11        Alan Taylor  David Benioff & D. B. Weiss   \n",
       "12      Alik Sakharov                 Bryan Cogman   \n",
       "16       David Nutter  David Benioff & D. B. Weiss   \n",
       "26  Michelle MacLaren          George R. R. Martin   \n",
       "36      Alik Sakharov  David Benioff & D. B. Weiss   \n",
       "46   Miguel Sapochnik  David Benioff & D. B. Weiss   \n",
       "47   Miguel Sapochnik  David Benioff & D. B. Weiss   \n",
       "54        Jack Bender  David Benioff & D. B. Weiss   \n",
       "60     Jeremy Podeswa  David Benioff & D. B. Weiss   \n",
       "67       David Nutter                    Dave Hill   \n",
       "68       David Nutter                 Bryan Cogman   \n",
       "\n",
       "                                     Novel(s) adapted Original air date  \\\n",
       "6                                   A Game of Thrones               NaN   \n",
       "11                                   A Clash of Kings               NaN   \n",
       "12                                   A Clash of Kings               NaN   \n",
       "16                                   A Clash of Kings               NaN   \n",
       "26                                  A Storm of Swords               NaN   \n",
       "36                                  A Storm of Swords               NaN   \n",
       "46  A Feast for Crows, A Dance with Dragons and or...               NaN   \n",
       "47  A Feast for Crows, A Dance with Dragons and or...               NaN   \n",
       "54  Outline from The Winds of Winter and original ...               NaN   \n",
       "60  Outline from A Dream of Spring and original co...               NaN   \n",
       "67  Outline from A Dream of Spring and original co...               NaN   \n",
       "68  Outline from A Dream of Spring and original co...               NaN   \n",
       "\n",
       "    U.S. viewers(millions)  Imdb rating  \n",
       "6                     2.40          9.2  \n",
       "11                    3.76          8.5  \n",
       "12                    3.77          8.8  \n",
       "16                    3.69          8.9  \n",
       "26                     NaN          8.7  \n",
       "36                    7.20          9.1  \n",
       "46                    5.40          9.0  \n",
       "47                    7.01          9.9  \n",
       "54                    7.89          9.7  \n",
       "60                   10.11          8.6  \n",
       "67                   11.76          7.5  \n",
       "68                   10.29          7.8  "
      ]
     },
     "execution_count": 8,
     "metadata": {},
     "output_type": "execute_result"
    }
   ],
   "source": [
    "df[df['Original air date'].isnull()]"
   ]
  },
  {
   "cell_type": "code",
   "execution_count": 9,
   "metadata": {
    "execution": {
     "iopub.execute_input": "2021-06-17T14:48:52.982210Z",
     "iopub.status.busy": "2021-06-17T14:48:52.979209Z",
     "iopub.status.idle": "2021-06-17T14:48:52.986216Z",
     "shell.execute_reply": "2021-06-17T14:48:52.985690Z",
     "shell.execute_reply.started": "2021-06-17T14:48:05.790505Z"
    },
    "papermill": {
     "duration": 0.033388,
     "end_time": "2021-06-17T14:48:52.986358",
     "exception": false,
     "start_time": "2021-06-17T14:48:52.952970",
     "status": "completed"
    },
    "tags": []
   },
   "outputs": [],
   "source": [
    "#Filling values in U.S. viewers(millions) column----\n",
    "df.at[26,['U.S. viewers(millions)']]=4.84\n",
    "df.at[38,['U.S. viewers(millions)']]=6.95\n",
    "df.at[55,['U.S. viewers(millions)']]=6.71"
   ]
  },
  {
   "cell_type": "code",
   "execution_count": 10,
   "metadata": {
    "execution": {
     "iopub.execute_input": "2021-06-17T14:48:53.037278Z",
     "iopub.status.busy": "2021-06-17T14:48:53.036683Z",
     "iopub.status.idle": "2021-06-17T14:48:53.041100Z",
     "shell.execute_reply": "2021-06-17T14:48:53.040651Z",
     "shell.execute_reply.started": "2021-06-17T14:48:05.804732Z"
    },
    "papermill": {
     "duration": 0.033984,
     "end_time": "2021-06-17T14:48:53.041216",
     "exception": false,
     "start_time": "2021-06-17T14:48:53.007232",
     "status": "completed"
    },
    "tags": []
   },
   "outputs": [
    {
     "data": {
      "text/html": [
       "<div>\n",
       "<style scoped>\n",
       "    .dataframe tbody tr th:only-of-type {\n",
       "        vertical-align: middle;\n",
       "    }\n",
       "\n",
       "    .dataframe tbody tr th {\n",
       "        vertical-align: top;\n",
       "    }\n",
       "\n",
       "    .dataframe thead th {\n",
       "        text-align: right;\n",
       "    }\n",
       "</style>\n",
       "<table border=\"1\" class=\"dataframe\">\n",
       "  <thead>\n",
       "    <tr style=\"text-align: right;\">\n",
       "      <th></th>\n",
       "      <th>No. overall</th>\n",
       "      <th>No. in season</th>\n",
       "      <th>Season</th>\n",
       "      <th>Title</th>\n",
       "      <th>Directed by</th>\n",
       "      <th>Written by</th>\n",
       "      <th>Novel(s) adapted</th>\n",
       "      <th>Original air date</th>\n",
       "      <th>U.S. viewers(millions)</th>\n",
       "      <th>Imdb rating</th>\n",
       "    </tr>\n",
       "  </thead>\n",
       "  <tbody>\n",
       "  </tbody>\n",
       "</table>\n",
       "</div>"
      ],
      "text/plain": [
       "Empty DataFrame\n",
       "Columns: [No. overall, No. in season, Season, Title, Directed by, Written by, Novel(s) adapted, Original air date, U.S. viewers(millions), Imdb rating]\n",
       "Index: []"
      ]
     },
     "execution_count": 10,
     "metadata": {},
     "output_type": "execute_result"
    }
   ],
   "source": [
    "df[df['U.S. viewers(millions)'].isnull()]"
   ]
  },
  {
   "cell_type": "code",
   "execution_count": 11,
   "metadata": {
    "execution": {
     "iopub.execute_input": "2021-06-17T14:48:53.091480Z",
     "iopub.status.busy": "2021-06-17T14:48:53.090849Z",
     "iopub.status.idle": "2021-06-17T14:48:53.101807Z",
     "shell.execute_reply": "2021-06-17T14:48:53.102181Z",
     "shell.execute_reply.started": "2021-06-17T14:48:05.821687Z"
    },
    "papermill": {
     "duration": 0.040658,
     "end_time": "2021-06-17T14:48:53.102352",
     "exception": false,
     "start_time": "2021-06-17T14:48:53.061694",
     "status": "completed"
    },
    "tags": []
   },
   "outputs": [],
   "source": [
    "#Filling Values in Original air date column---\n",
    "df.at[6,['Original air date']]='29-May-11'\n",
    "df.at[11,['Original air date']]='8-April-12'\n",
    "df.at[12,['Original air date']]='15-April-12'\n",
    "df.at[16,['Original air date']]='13-May-12'\n",
    "df.at[26,['Original air date']]='12-May-13'\n",
    "df.at[36,['Original air date']]='18-May-14'\n",
    "df.at[46,['Original air date']]='24-May-15'\n",
    "df.at[47,['Original air date']]='31-May-15'\n",
    "df.at[54,['Original air date']]='22-May-16'\n",
    "df.at[60,['Original air date']]='16-July-17'\n",
    "df.at[67,['Original air date']]='14-April-19'\n",
    "df.at[68,['Original air date']]='21-April-19'"
   ]
  },
  {
   "cell_type": "code",
   "execution_count": 12,
   "metadata": {
    "execution": {
     "iopub.execute_input": "2021-06-17T14:48:53.147589Z",
     "iopub.status.busy": "2021-06-17T14:48:53.147077Z",
     "iopub.status.idle": "2021-06-17T14:48:53.156142Z",
     "shell.execute_reply": "2021-06-17T14:48:53.155642Z",
     "shell.execute_reply.started": "2021-06-17T14:48:05.850241Z"
    },
    "papermill": {
     "duration": 0.032556,
     "end_time": "2021-06-17T14:48:53.156257",
     "exception": false,
     "start_time": "2021-06-17T14:48:53.123701",
     "status": "completed"
    },
    "tags": []
   },
   "outputs": [
    {
     "data": {
      "text/plain": [
       "No. overall               0\n",
       "No. in season             0\n",
       "Season                    0\n",
       "Title                     0\n",
       "Directed by               0\n",
       "Written by                0\n",
       "Novel(s) adapted          0\n",
       "Original air date         0\n",
       "U.S. viewers(millions)    0\n",
       "Imdb rating               0\n",
       "dtype: int64"
      ]
     },
     "execution_count": 12,
     "metadata": {},
     "output_type": "execute_result"
    }
   ],
   "source": [
    "df.isnull().sum()"
   ]
  },
  {
   "cell_type": "code",
   "execution_count": 13,
   "metadata": {
    "execution": {
     "iopub.execute_input": "2021-06-17T14:48:53.218743Z",
     "iopub.status.busy": "2021-06-17T14:48:53.209567Z",
     "iopub.status.idle": "2021-06-17T14:48:53.223288Z",
     "shell.execute_reply": "2021-06-17T14:48:53.222720Z",
     "shell.execute_reply.started": "2021-06-17T14:48:05.859514Z"
    },
    "papermill": {
     "duration": 0.046003,
     "end_time": "2021-06-17T14:48:53.223446",
     "exception": false,
     "start_time": "2021-06-17T14:48:53.177443",
     "status": "completed"
    },
    "tags": []
   },
   "outputs": [],
   "source": [
    "#Converting dtype object to datetime64[ns] dtype---\n",
    "df['Original air date']=pd.to_datetime(df['Original air date'])"
   ]
  },
  {
   "cell_type": "code",
   "execution_count": 14,
   "metadata": {
    "execution": {
     "iopub.execute_input": "2021-06-17T14:48:53.285621Z",
     "iopub.status.busy": "2021-06-17T14:48:53.279559Z",
     "iopub.status.idle": "2021-06-17T14:48:53.290149Z",
     "shell.execute_reply": "2021-06-17T14:48:53.289666Z",
     "shell.execute_reply.started": "2021-06-17T14:48:05.878719Z"
    },
    "papermill": {
     "duration": 0.044074,
     "end_time": "2021-06-17T14:48:53.290262",
     "exception": false,
     "start_time": "2021-06-17T14:48:53.246188",
     "status": "completed"
    },
    "tags": []
   },
   "outputs": [
    {
     "name": "stdout",
     "output_type": "stream",
     "text": [
      "<class 'pandas.core.frame.DataFrame'>\n",
      "RangeIndex: 73 entries, 0 to 72\n",
      "Data columns (total 10 columns):\n",
      " #   Column                  Non-Null Count  Dtype         \n",
      "---  ------                  --------------  -----         \n",
      " 0   No. overall             73 non-null     int64         \n",
      " 1   No. in season           73 non-null     int64         \n",
      " 2   Season                  73 non-null     int64         \n",
      " 3   Title                   73 non-null     object        \n",
      " 4   Directed by             73 non-null     object        \n",
      " 5   Written by              73 non-null     object        \n",
      " 6   Novel(s) adapted        73 non-null     object        \n",
      " 7   Original air date       73 non-null     datetime64[ns]\n",
      " 8   U.S. viewers(millions)  73 non-null     float64       \n",
      " 9   Imdb rating             73 non-null     float64       \n",
      "dtypes: datetime64[ns](1), float64(2), int64(3), object(4)\n",
      "memory usage: 5.8+ KB\n"
     ]
    }
   ],
   "source": [
    "df.info()"
   ]
  },
  {
   "cell_type": "code",
   "execution_count": 15,
   "metadata": {
    "execution": {
     "iopub.execute_input": "2021-06-17T14:48:53.352175Z",
     "iopub.status.busy": "2021-06-17T14:48:53.351328Z",
     "iopub.status.idle": "2021-06-17T14:48:53.363912Z",
     "shell.execute_reply": "2021-06-17T14:48:53.364268Z",
     "shell.execute_reply.started": "2021-06-17T14:48:05.895748Z"
    },
    "papermill": {
     "duration": 0.045813,
     "end_time": "2021-06-17T14:48:53.364440",
     "exception": false,
     "start_time": "2021-06-17T14:48:53.318627",
     "status": "completed"
    },
    "tags": []
   },
   "outputs": [
    {
     "data": {
      "text/html": [
       "<div>\n",
       "<style scoped>\n",
       "    .dataframe tbody tr th:only-of-type {\n",
       "        vertical-align: middle;\n",
       "    }\n",
       "\n",
       "    .dataframe tbody tr th {\n",
       "        vertical-align: top;\n",
       "    }\n",
       "\n",
       "    .dataframe thead th {\n",
       "        text-align: right;\n",
       "    }\n",
       "</style>\n",
       "<table border=\"1\" class=\"dataframe\">\n",
       "  <thead>\n",
       "    <tr style=\"text-align: right;\">\n",
       "      <th></th>\n",
       "      <th>No. overall</th>\n",
       "      <th>No. in season</th>\n",
       "      <th>Season</th>\n",
       "      <th>Title</th>\n",
       "      <th>Directed by</th>\n",
       "      <th>Written by</th>\n",
       "      <th>Novel(s) adapted</th>\n",
       "      <th>Original air date</th>\n",
       "      <th>U.S. viewers(millions)</th>\n",
       "      <th>Imdb rating</th>\n",
       "    </tr>\n",
       "  </thead>\n",
       "  <tbody>\n",
       "    <tr>\n",
       "      <th>0</th>\n",
       "      <td>1</td>\n",
       "      <td>1</td>\n",
       "      <td>1</td>\n",
       "      <td>\"Winter Is Coming\"</td>\n",
       "      <td>Tim Van Patten</td>\n",
       "      <td>David Benioff &amp; D. B. Weiss</td>\n",
       "      <td>A Game of Thrones</td>\n",
       "      <td>2011-04-17</td>\n",
       "      <td>2.22</td>\n",
       "      <td>9.1</td>\n",
       "    </tr>\n",
       "    <tr>\n",
       "      <th>1</th>\n",
       "      <td>2</td>\n",
       "      <td>2</td>\n",
       "      <td>1</td>\n",
       "      <td>\"The Kingsroad\"</td>\n",
       "      <td>Tim Van Patten</td>\n",
       "      <td>David Benioff &amp; D. B. Weiss</td>\n",
       "      <td>A Game of Thrones</td>\n",
       "      <td>2011-04-24</td>\n",
       "      <td>2.20</td>\n",
       "      <td>8.8</td>\n",
       "    </tr>\n",
       "    <tr>\n",
       "      <th>2</th>\n",
       "      <td>3</td>\n",
       "      <td>3</td>\n",
       "      <td>1</td>\n",
       "      <td>\"Lord Snow\"</td>\n",
       "      <td>Brian Kirk</td>\n",
       "      <td>David Benioff &amp; D. B. Weiss</td>\n",
       "      <td>A Game of Thrones</td>\n",
       "      <td>2011-05-01</td>\n",
       "      <td>2.44</td>\n",
       "      <td>8.7</td>\n",
       "    </tr>\n",
       "    <tr>\n",
       "      <th>3</th>\n",
       "      <td>4</td>\n",
       "      <td>4</td>\n",
       "      <td>1</td>\n",
       "      <td>\"Cripples, Bastards, and Broken Things\"</td>\n",
       "      <td>Brian Kirk</td>\n",
       "      <td>Bryan Cogman</td>\n",
       "      <td>A Game of Thrones</td>\n",
       "      <td>2011-05-08</td>\n",
       "      <td>2.45</td>\n",
       "      <td>8.8</td>\n",
       "    </tr>\n",
       "    <tr>\n",
       "      <th>4</th>\n",
       "      <td>5</td>\n",
       "      <td>5</td>\n",
       "      <td>1</td>\n",
       "      <td>\"The Wolf and the Lion\"</td>\n",
       "      <td>Brian Kirk</td>\n",
       "      <td>David Benioff &amp; D. B. Weiss</td>\n",
       "      <td>A Game of Thrones</td>\n",
       "      <td>2011-05-15</td>\n",
       "      <td>2.58</td>\n",
       "      <td>9.1</td>\n",
       "    </tr>\n",
       "  </tbody>\n",
       "</table>\n",
       "</div>"
      ],
      "text/plain": [
       "   No. overall  No. in season  Season  \\\n",
       "0            1              1       1   \n",
       "1            2              2       1   \n",
       "2            3              3       1   \n",
       "3            4              4       1   \n",
       "4            5              5       1   \n",
       "\n",
       "                                     Title     Directed by  \\\n",
       "0                       \"Winter Is Coming\"  Tim Van Patten   \n",
       "1                          \"The Kingsroad\"  Tim Van Patten   \n",
       "2                              \"Lord Snow\"      Brian Kirk   \n",
       "3  \"Cripples, Bastards, and Broken Things\"      Brian Kirk   \n",
       "4                  \"The Wolf and the Lion\"      Brian Kirk   \n",
       "\n",
       "                    Written by   Novel(s) adapted Original air date  \\\n",
       "0  David Benioff & D. B. Weiss  A Game of Thrones        2011-04-17   \n",
       "1  David Benioff & D. B. Weiss  A Game of Thrones        2011-04-24   \n",
       "2  David Benioff & D. B. Weiss  A Game of Thrones        2011-05-01   \n",
       "3                 Bryan Cogman  A Game of Thrones        2011-05-08   \n",
       "4  David Benioff & D. B. Weiss  A Game of Thrones        2011-05-15   \n",
       "\n",
       "   U.S. viewers(millions)  Imdb rating  \n",
       "0                    2.22          9.1  \n",
       "1                    2.20          8.8  \n",
       "2                    2.44          8.7  \n",
       "3                    2.45          8.8  \n",
       "4                    2.58          9.1  "
      ]
     },
     "execution_count": 15,
     "metadata": {},
     "output_type": "execute_result"
    }
   ],
   "source": [
    "df.head()"
   ]
  },
  {
   "cell_type": "markdown",
   "metadata": {
    "papermill": {
     "duration": 0.022073,
     "end_time": "2021-06-17T14:48:53.408698",
     "exception": false,
     "start_time": "2021-06-17T14:48:53.386625",
     "status": "completed"
    },
    "tags": []
   },
   "source": [
    "*********************\n",
    "## Data Visualization using Graphs\n",
    "Data visualization is the graphical representation of information and data. By using visual elements like charts, graphs, and maps, data visualization tools provide an accessible way to see and understand trends, outliers, and patterns in data.\n",
    "\n",
    "In the world of Big Data, data visualization tools and technologies are essential to analyze massive amounts of information and make data-driven decisions."
   ]
  },
  {
   "cell_type": "code",
   "execution_count": 16,
   "metadata": {
    "execution": {
     "iopub.execute_input": "2021-06-17T14:48:53.459180Z",
     "iopub.status.busy": "2021-06-17T14:48:53.458510Z",
     "iopub.status.idle": "2021-06-17T14:48:53.460355Z",
     "shell.execute_reply": "2021-06-17T14:48:53.460694Z",
     "shell.execute_reply.started": "2021-06-17T14:48:05.913741Z"
    },
    "papermill": {
     "duration": 0.028422,
     "end_time": "2021-06-17T14:48:53.460842",
     "exception": false,
     "start_time": "2021-06-17T14:48:53.432420",
     "status": "completed"
    },
    "tags": []
   },
   "outputs": [],
   "source": [
    "import matplotlib.pyplot as plt\n",
    "from matplotlib.pyplot import style\n",
    "style.use('fivethirtyeight')"
   ]
  },
  {
   "cell_type": "markdown",
   "metadata": {},
   "source": [
    "**1. IMdB Rating less than or equals to 8**"
   ]
  },
  {
   "cell_type": "code",
   "execution_count": 17,
   "metadata": {
    "execution": {
     "iopub.execute_input": "2021-06-17T14:48:53.510535Z",
     "iopub.status.busy": "2021-06-17T14:48:53.509822Z",
     "iopub.status.idle": "2021-06-17T14:48:54.626592Z",
     "shell.execute_reply": "2021-06-17T14:48:54.626978Z",
     "shell.execute_reply.started": "2021-06-17T14:48:05.921278Z"
    },
    "papermill": {
     "duration": 1.144054,
     "end_time": "2021-06-17T14:48:54.627122",
     "exception": false,
     "start_time": "2021-06-17T14:48:53.483068",
     "status": "completed"
    },
    "tags": []
   },
   "outputs": [
    {
     "data": {
      "image/png": "[encoded data removed]",
      "text/plain": [
       "<Figure size 864x1368 with 1 Axes>"
      ]
     },
     "metadata": {},
     "output_type": "display_data"
    }
   ],
   "source": [
    "#Imdb rating <=8\n",
    "plt.gcf().set_size_inches(12,19)\n",
    "plt.barh(df['Title'],df['Imdb rating'],color=(df['Imdb rating']<=8).map({True:'green',False:'maroon'}))\n",
    "plt.xlabel('IMDB RATING')\n",
    "plt.show()"
   ]
  },
  {
   "cell_type": "markdown",
   "metadata": {},
   "source": [
    "**2. Unique Directors**"
   ]
  },
  {
   "cell_type": "code",
   "execution_count": 18,
   "metadata": {
    "execution": {
     "iopub.execute_input": "2021-06-17T14:48:54.685016Z",
     "iopub.status.busy": "2021-06-17T14:48:54.684506Z",
     "iopub.status.idle": "2021-06-17T14:48:54.690155Z",
     "shell.execute_reply": "2021-06-17T14:48:54.689559Z",
     "shell.execute_reply.started": "2021-06-17T14:48:07.336604Z"
    },
    "papermill": {
     "duration": 0.03617,
     "end_time": "2021-06-17T14:48:54.690296",
     "exception": false,
     "start_time": "2021-06-17T14:48:54.654126",
     "status": "completed"
    },
    "tags": []
   },
   "outputs": [
    {
     "data": {
      "text/plain": [
       "array(['Tim Van Patten', 'Brian Kirk', 'Daniel Minahan', 'Alan Taylor',\n",
       "       'Alik Sakharov', 'David Petrarca', 'David Nutter', 'Neil Marshall',\n",
       "       'David Benioff', 'Alex Graves', 'Michelle MacLaren', 'D. B. Weiss',\n",
       "       'Michael Slovis', 'Mark Mylod', 'Jeremy Podeswa',\n",
       "       'Miguel Sapochnik', 'Daniel Sackheim', 'Jack Bender',\n",
       "       'Matt Shakman', 'David Benioff & D. B. Weiss'], dtype=object)"
      ]
     },
     "execution_count": 18,
     "metadata": {},
     "output_type": "execute_result"
    }
   ],
   "source": [
    "df['Directed by'].unique()"
   ]
  },
  {
   "cell_type": "markdown",
   "metadata": {},
   "source": [
    "**3. The director who directed the most**"
   ]
  },
  {
   "cell_type": "code",
   "execution_count": 19,
   "metadata": {
    "execution": {
     "iopub.execute_input": "2021-06-17T14:48:54.769501Z",
     "iopub.status.busy": "2021-06-17T14:48:54.768782Z",
     "iopub.status.idle": "2021-06-17T14:48:54.773978Z",
     "shell.execute_reply": "2021-06-17T14:48:54.774500Z",
     "shell.execute_reply.started": "2021-06-17T14:48:07.343624Z"
    },
    "papermill": {
     "duration": 0.047375,
     "end_time": "2021-06-17T14:48:54.774703",
     "exception": false,
     "start_time": "2021-06-17T14:48:54.727328",
     "status": "completed"
    },
    "tags": []
   },
   "outputs": [
    {
     "data": {
      "text/plain": [
       "'Tim Van Patten'"
      ]
     },
     "execution_count": 19,
     "metadata": {},
     "output_type": "execute_result"
    }
   ],
   "source": [
    "#Who directed the most.......\n",
    "df['Directed by'].max()"
   ]
  },
  {
   "cell_type": "markdown",
   "metadata": {},
   "source": [
    "**4. Unique writters**"
   ]
  },
  {
   "cell_type": "code",
   "execution_count": 20,
   "metadata": {
    "execution": {
     "iopub.execute_input": "2021-06-17T14:48:54.856022Z",
     "iopub.status.busy": "2021-06-17T14:48:54.855048Z",
     "iopub.status.idle": "2021-06-17T14:48:54.862982Z",
     "shell.execute_reply": "2021-06-17T14:48:54.863358Z",
     "shell.execute_reply.started": "2021-06-17T14:48:07.356042Z"
    },
    "papermill": {
     "duration": 0.049719,
     "end_time": "2021-06-17T14:48:54.863516",
     "exception": false,
     "start_time": "2021-06-17T14:48:54.813797",
     "status": "completed"
    },
    "scrolled": true,
    "tags": []
   },
   "outputs": [
    {
     "data": {
      "text/plain": [
       "array(['David Benioff & D. B. Weiss', 'Bryan Cogman',\n",
       "       'George R. R. Martin', 'Vanessa Taylor', 'Dave Hill'], dtype=object)"
      ]
     },
     "execution_count": 20,
     "metadata": {},
     "output_type": "execute_result"
    }
   ],
   "source": [
    "df['Written by'].unique()"
   ]
  },
  {
   "cell_type": "markdown",
   "metadata": {},
   "source": [
    "**5. Writters who wrote the most**"
   ]
  },
  {
   "cell_type": "code",
   "execution_count": 21,
   "metadata": {
    "execution": {
     "iopub.execute_input": "2021-06-17T14:48:54.921998Z",
     "iopub.status.busy": "2021-06-17T14:48:54.921520Z",
     "iopub.status.idle": "2021-06-17T14:48:54.926647Z",
     "shell.execute_reply": "2021-06-17T14:48:54.926167Z",
     "shell.execute_reply.started": "2021-06-17T14:48:07.367639Z"
    },
    "papermill": {
     "duration": 0.035765,
     "end_time": "2021-06-17T14:48:54.926774",
     "exception": false,
     "start_time": "2021-06-17T14:48:54.891009",
     "status": "completed"
    },
    "tags": []
   },
   "outputs": [
    {
     "data": {
      "text/plain": [
       "'Vanessa Taylor'"
      ]
     },
     "execution_count": 21,
     "metadata": {},
     "output_type": "execute_result"
    }
   ],
   "source": [
    "#Who wrote the most.......\n",
    "df['Written by'].max()"
   ]
  },
  {
   "cell_type": "markdown",
   "metadata": {},
   "source": [
    "**6. Unique sources**"
   ]
  },
  {
   "cell_type": "code",
   "execution_count": 22,
   "metadata": {
    "execution": {
     "iopub.execute_input": "2021-06-17T14:48:54.987053Z",
     "iopub.status.busy": "2021-06-17T14:48:54.986365Z",
     "iopub.status.idle": "2021-06-17T14:48:54.992498Z",
     "shell.execute_reply": "2021-06-17T14:48:54.991989Z",
     "shell.execute_reply.started": "2021-06-17T14:48:07.379345Z"
    },
    "papermill": {
     "duration": 0.039017,
     "end_time": "2021-06-17T14:48:54.992628",
     "exception": false,
     "start_time": "2021-06-17T14:48:54.953611",
     "status": "completed"
    },
    "tags": []
   },
   "outputs": [
    {
     "data": {
      "text/plain": [
       "array(['A Game of Thrones', 'A Clash of Kings', 'A Storm of Swords',\n",
       "       'A Feast for Crows, A Dance with Dragons and original content',\n",
       "       'Outline from The Winds of Winter and original content ',\n",
       "       'Outline from A Dream of Spring and original content '],\n",
       "      dtype=object)"
      ]
     },
     "execution_count": 22,
     "metadata": {},
     "output_type": "execute_result"
    }
   ],
   "source": [
    "df['Novel(s) adapted'].unique()"
   ]
  },
  {
   "cell_type": "markdown",
   "metadata": {},
   "source": [
    "**7. The famous novel among the writters**"
   ]
  },
  {
   "cell_type": "code",
   "execution_count": 23,
   "metadata": {
    "execution": {
     "iopub.execute_input": "2021-06-17T14:48:55.056630Z",
     "iopub.status.busy": "2021-06-17T14:48:55.056085Z",
     "iopub.status.idle": "2021-06-17T14:48:55.059426Z",
     "shell.execute_reply": "2021-06-17T14:48:55.059848Z",
     "shell.execute_reply.started": "2021-06-17T14:48:07.388505Z"
    },
    "papermill": {
     "duration": 0.037779,
     "end_time": "2021-06-17T14:48:55.060039",
     "exception": false,
     "start_time": "2021-06-17T14:48:55.022260",
     "status": "completed"
    },
    "tags": []
   },
   "outputs": [
    {
     "data": {
      "text/plain": [
       "'Outline from The Winds of Winter and original content '"
      ]
     },
     "execution_count": 23,
     "metadata": {},
     "output_type": "execute_result"
    }
   ],
   "source": [
    "df['Novel(s) adapted'].max()"
   ]
  },
  {
   "cell_type": "code",
   "execution_count": 24,
   "metadata": {
    "execution": {
     "iopub.execute_input": "2021-06-17T14:48:55.127479Z",
     "iopub.status.busy": "2021-06-17T14:48:55.119457Z",
     "iopub.status.idle": "2021-06-17T14:48:55.132575Z",
     "shell.execute_reply": "2021-06-17T14:48:55.132066Z",
     "shell.execute_reply.started": "2021-06-17T14:48:07.401597Z"
    },
    "papermill": {
     "duration": 0.045255,
     "end_time": "2021-06-17T14:48:55.132685",
     "exception": false,
     "start_time": "2021-06-17T14:48:55.087430",
     "status": "completed"
    },
    "tags": []
   },
   "outputs": [
    {
     "data": {
      "text/html": [
       "<div>\n",
       "<style scoped>\n",
       "    .dataframe tbody tr th:only-of-type {\n",
       "        vertical-align: middle;\n",
       "    }\n",
       "\n",
       "    .dataframe tbody tr th {\n",
       "        vertical-align: top;\n",
       "    }\n",
       "\n",
       "    .dataframe thead th {\n",
       "        text-align: right;\n",
       "    }\n",
       "</style>\n",
       "<table border=\"1\" class=\"dataframe\">\n",
       "  <thead>\n",
       "    <tr style=\"text-align: right;\">\n",
       "      <th></th>\n",
       "      <th>No. overall</th>\n",
       "      <th>No. in season</th>\n",
       "      <th>Season</th>\n",
       "      <th>Title</th>\n",
       "      <th>Directed by</th>\n",
       "      <th>Written by</th>\n",
       "      <th>Novel(s) adapted</th>\n",
       "      <th>Original air date</th>\n",
       "      <th>U.S. viewers(millions)</th>\n",
       "      <th>Imdb rating</th>\n",
       "    </tr>\n",
       "  </thead>\n",
       "  <tbody>\n",
       "    <tr>\n",
       "      <th>0</th>\n",
       "      <td>1</td>\n",
       "      <td>1</td>\n",
       "      <td>1</td>\n",
       "      <td>\"Winter Is Coming\"</td>\n",
       "      <td>Tim Van Patten</td>\n",
       "      <td>David Benioff &amp; D. B. Weiss</td>\n",
       "      <td>A Game of Thrones</td>\n",
       "      <td>2011-04-17</td>\n",
       "      <td>2.22</td>\n",
       "      <td>9.1</td>\n",
       "    </tr>\n",
       "    <tr>\n",
       "      <th>1</th>\n",
       "      <td>2</td>\n",
       "      <td>2</td>\n",
       "      <td>1</td>\n",
       "      <td>\"The Kingsroad\"</td>\n",
       "      <td>Tim Van Patten</td>\n",
       "      <td>David Benioff &amp; D. B. Weiss</td>\n",
       "      <td>A Game of Thrones</td>\n",
       "      <td>2011-04-24</td>\n",
       "      <td>2.20</td>\n",
       "      <td>8.8</td>\n",
       "    </tr>\n",
       "    <tr>\n",
       "      <th>2</th>\n",
       "      <td>3</td>\n",
       "      <td>3</td>\n",
       "      <td>1</td>\n",
       "      <td>\"Lord Snow\"</td>\n",
       "      <td>Brian Kirk</td>\n",
       "      <td>David Benioff &amp; D. B. Weiss</td>\n",
       "      <td>A Game of Thrones</td>\n",
       "      <td>2011-05-01</td>\n",
       "      <td>2.44</td>\n",
       "      <td>8.7</td>\n",
       "    </tr>\n",
       "    <tr>\n",
       "      <th>3</th>\n",
       "      <td>4</td>\n",
       "      <td>4</td>\n",
       "      <td>1</td>\n",
       "      <td>\"Cripples, Bastards, and Broken Things\"</td>\n",
       "      <td>Brian Kirk</td>\n",
       "      <td>Bryan Cogman</td>\n",
       "      <td>A Game of Thrones</td>\n",
       "      <td>2011-05-08</td>\n",
       "      <td>2.45</td>\n",
       "      <td>8.8</td>\n",
       "    </tr>\n",
       "    <tr>\n",
       "      <th>4</th>\n",
       "      <td>5</td>\n",
       "      <td>5</td>\n",
       "      <td>1</td>\n",
       "      <td>\"The Wolf and the Lion\"</td>\n",
       "      <td>Brian Kirk</td>\n",
       "      <td>David Benioff &amp; D. B. Weiss</td>\n",
       "      <td>A Game of Thrones</td>\n",
       "      <td>2011-05-15</td>\n",
       "      <td>2.58</td>\n",
       "      <td>9.1</td>\n",
       "    </tr>\n",
       "  </tbody>\n",
       "</table>\n",
       "</div>"
      ],
      "text/plain": [
       "   No. overall  No. in season  Season  \\\n",
       "0            1              1       1   \n",
       "1            2              2       1   \n",
       "2            3              3       1   \n",
       "3            4              4       1   \n",
       "4            5              5       1   \n",
       "\n",
       "                                     Title     Directed by  \\\n",
       "0                       \"Winter Is Coming\"  Tim Van Patten   \n",
       "1                          \"The Kingsroad\"  Tim Van Patten   \n",
       "2                              \"Lord Snow\"      Brian Kirk   \n",
       "3  \"Cripples, Bastards, and Broken Things\"      Brian Kirk   \n",
       "4                  \"The Wolf and the Lion\"      Brian Kirk   \n",
       "\n",
       "                    Written by   Novel(s) adapted Original air date  \\\n",
       "0  David Benioff & D. B. Weiss  A Game of Thrones        2011-04-17   \n",
       "1  David Benioff & D. B. Weiss  A Game of Thrones        2011-04-24   \n",
       "2  David Benioff & D. B. Weiss  A Game of Thrones        2011-05-01   \n",
       "3                 Bryan Cogman  A Game of Thrones        2011-05-08   \n",
       "4  David Benioff & D. B. Weiss  A Game of Thrones        2011-05-15   \n",
       "\n",
       "   U.S. viewers(millions)  Imdb rating  \n",
       "0                    2.22          9.1  \n",
       "1                    2.20          8.8  \n",
       "2                    2.44          8.7  \n",
       "3                    2.45          8.8  \n",
       "4                    2.58          9.1  "
      ]
     },
     "execution_count": 24,
     "metadata": {},
     "output_type": "execute_result"
    }
   ],
   "source": [
    "df.head()"
   ]
  },
  {
   "cell_type": "markdown",
   "metadata": {},
   "source": [
    "**8. Plotting the graph based on the views achieved by the show**"
   ]
  },
  {
   "cell_type": "code",
   "execution_count": 25,
   "metadata": {
    "execution": {
     "iopub.execute_input": "2021-06-17T14:48:55.218811Z",
     "iopub.status.busy": "2021-06-17T14:48:55.210992Z",
     "iopub.status.idle": "2021-06-17T14:48:56.279845Z",
     "shell.execute_reply": "2021-06-17T14:48:56.279260Z",
     "shell.execute_reply.started": "2021-06-17T14:48:07.423884Z"
    },
    "papermill": {
     "duration": 1.119191,
     "end_time": "2021-06-17T14:48:56.279993",
     "exception": false,
     "start_time": "2021-06-17T14:48:55.160802",
     "status": "completed"
    },
    "tags": []
   },
   "outputs": [
    {
     "data": {
      "text/plain": [
       "<BarContainer object of 73 artists>"
      ]
     },
     "execution_count": 25,
     "metadata": {},
     "output_type": "execute_result"
    },
    {
     "data": {
      "image/png": "[encoded data removed]",
      "text/plain": [
       "<Figure size 864x1368 with 1 Axes>"
      ]
     },
     "metadata": {},
     "output_type": "display_data"
    }
   ],
   "source": [
    "plt.gcf().set_size_inches(12,19)\n",
    "plt.ylabel(\"U.S. Viewers(millions)\")\n",
    "plt.barh(df['Title'],df['U.S. viewers(millions)'].values,color='#030764')"
   ]
  },
  {
   "cell_type": "markdown",
   "metadata": {
    "papermill": {
     "duration": 0.043964,
     "end_time": "2021-06-17T14:48:56.368760",
     "exception": false,
     "start_time": "2021-06-17T14:48:56.324796",
     "status": "completed"
    },
    "tags": []
   },
   "source": [
    "**From this graph and from the previous graph we observe that the title which has max viewers has the min IMDB rating....**"
   ]
  },
  {
   "cell_type": "markdown",
   "metadata": {},
   "source": [
    "*****************************\n",
    "##   Prediction Model Creation\n",
    "Regression analysis consists of a set of machine learning methods that allow us to predict a continuous outcome variable (y) based on the value of one or multiple predictor variables (x). Briefly, the goal of regression model is to build a mathematical equation that defines y as a function of the x variables.\n",
    "\n",
    "Here we are going to prepare several Regression machine learning models based on those we will do a comparative analysis that which model is better among them.\n",
    "\n",
    "I have decided to go with nine regression models to evaluate this dataset - \n",
    "\n",
    "* **Linear Regression** : Linear Regression is a machine learning algorithm based on supervised learning. Linear regression performs the task to predict a dependent variable value (y) based on a given independent variable (x). So, this regression technique finds out a linear relationship between x (input) and y(output).\n",
    "\n",
    "\n",
    "* **Random Forest Regression** : Random Forest Regression is a supervised learning algorithm that uses ensemble learning method for regression. A Random Forest operates by constructing several decision trees during training time and outputting the mean of the classes as the prediction of all the trees.\n",
    "\n",
    "\n",
    "* **Decision Tree Regression** : Decision tree builds regression or classification models in the form of a tree structure. It breaks down a dataset into smaller and smaller subsets while at the same time an associated decision tree is incrementally developed. Decision trees can handle both categorical and numerical data.\n",
    "\n",
    "\n",
    "* **Lasso Regression** : In statistics and machine learning, lasso (least absolute shrinkage and selection operator; also Lasso or LASSO) is a regression analysis method that performs both variable selection and regularization in order to enhance the prediction accuracy and interpretability of the resulting statistical model.\n",
    "\n",
    "\n",
    "* **Ridge Regression** : Ridge regression is a model tuning method that is used to analyse any data that suffers from multicollinearity. This method performs L2 regularization. When the issue of multicollinearity occurs, least-squares are unbiased, and variances are large, this results in predicted values to be far away from the actual values.\n",
    "\n",
    "\n",
    "* **XgBoost Regressor** : XGBoost is a powerful approach for building supervised regression models. ... Ensemble learning involves training and combining individual models (known as base learners) to get a single prediction, and XGBoost is one of the ensemble learning methods.\n",
    "\n",
    "\n",
    "* **MLP Regressor** : A multilayer perceptron (MLP) is a class of feedforward artificial neural network (ANN). ... MLP utilizes a supervised learning technique called backpropagation for training. Its multiple layers and non-linear activation distinguish MLP from a linear perceptron. It can distinguish data that is not linearly separable.\n",
    "\n",
    "\n",
    "* **Gradient Boosting Regressor** : Gradient boosting is a machine learning technique for regression, classification and other tasks, which produces a prediction model in the form of an ensemble of weak prediction models, typically decision trees.\n",
    "\n",
    "\n",
    "* **Support Vector Machine Regressor** : Support Vector Machine can also be used as a regression method, maintaining all the main features that characterize the algorithm (maximal margin). The Support Vector Regression (SVR) uses the same principles as the SVM for classification, with only a few minor differences.\n",
    "\n",
    "Let's deploy the models..."
   ]
  },
  {
   "cell_type": "markdown",
   "metadata": {},
   "source": [
    "**Finding out the correlation among the attributes**"
   ]
  },
  {
   "cell_type": "code",
   "execution_count": 26,
   "metadata": {},
   "outputs": [
    {
     "data": {
      "text/html": [
       "<div>\n",
       "<style scoped>\n",
       "    .dataframe tbody tr th:only-of-type {\n",
       "        vertical-align: middle;\n",
       "    }\n",
       "\n",
       "    .dataframe tbody tr th {\n",
       "        vertical-align: top;\n",
       "    }\n",
       "\n",
       "    .dataframe thead th {\n",
       "        text-align: right;\n",
       "    }\n",
       "</style>\n",
       "<table border=\"1\" class=\"dataframe\">\n",
       "  <thead>\n",
       "    <tr style=\"text-align: right;\">\n",
       "      <th></th>\n",
       "      <th>No. overall</th>\n",
       "      <th>No. in season</th>\n",
       "      <th>Season</th>\n",
       "      <th>U.S. viewers(millions)</th>\n",
       "      <th>Imdb rating</th>\n",
       "    </tr>\n",
       "  </thead>\n",
       "  <tbody>\n",
       "    <tr>\n",
       "      <th>No. overall</th>\n",
       "      <td>1.000000</td>\n",
       "      <td>-0.033637</td>\n",
       "      <td>0.990319</td>\n",
       "      <td>0.953693</td>\n",
       "      <td>-0.360508</td>\n",
       "    </tr>\n",
       "    <tr>\n",
       "      <th>No. in season</th>\n",
       "      <td>-0.033637</td>\n",
       "      <td>1.000000</td>\n",
       "      <td>-0.168137</td>\n",
       "      <td>-0.109026</td>\n",
       "      <td>0.289966</td>\n",
       "    </tr>\n",
       "    <tr>\n",
       "      <th>Season</th>\n",
       "      <td>0.990319</td>\n",
       "      <td>-0.168137</td>\n",
       "      <td>1.000000</td>\n",
       "      <td>0.959563</td>\n",
       "      <td>-0.416212</td>\n",
       "    </tr>\n",
       "    <tr>\n",
       "      <th>U.S. viewers(millions)</th>\n",
       "      <td>0.953693</td>\n",
       "      <td>-0.109026</td>\n",
       "      <td>0.959563</td>\n",
       "      <td>1.000000</td>\n",
       "      <td>-0.471558</td>\n",
       "    </tr>\n",
       "    <tr>\n",
       "      <th>Imdb rating</th>\n",
       "      <td>-0.360508</td>\n",
       "      <td>0.289966</td>\n",
       "      <td>-0.416212</td>\n",
       "      <td>-0.471558</td>\n",
       "      <td>1.000000</td>\n",
       "    </tr>\n",
       "  </tbody>\n",
       "</table>\n",
       "</div>"
      ],
      "text/plain": [
       "                        No. overall  No. in season    Season  \\\n",
       "No. overall                1.000000      -0.033637  0.990319   \n",
       "No. in season             -0.033637       1.000000 -0.168137   \n",
       "Season                     0.990319      -0.168137  1.000000   \n",
       "U.S. viewers(millions)     0.953693      -0.109026  0.959563   \n",
       "Imdb rating               -0.360508       0.289966 -0.416212   \n",
       "\n",
       "                        U.S. viewers(millions)  Imdb rating  \n",
       "No. overall                           0.953693    -0.360508  \n",
       "No. in season                        -0.109026     0.289966  \n",
       "Season                                0.959563    -0.416212  \n",
       "U.S. viewers(millions)                1.000000    -0.471558  \n",
       "Imdb rating                          -0.471558     1.000000  "
      ]
     },
     "execution_count": 26,
     "metadata": {},
     "output_type": "execute_result"
    }
   ],
   "source": [
    "df.corr()"
   ]
  },
  {
   "cell_type": "code",
   "execution_count": 27,
   "metadata": {},
   "outputs": [],
   "source": [
    "x = df[['U.S. viewers(millions)','Season']]"
   ]
  },
  {
   "cell_type": "code",
   "execution_count": 28,
   "metadata": {},
   "outputs": [],
   "source": [
    "y = df['Imdb rating']"
   ]
  },
  {
   "cell_type": "code",
   "execution_count": 29,
   "metadata": {},
   "outputs": [],
   "source": [
    "from sklearn.model_selection import train_test_split\n",
    "from sklearn.linear_model import LinearRegression\n",
    "from sklearn import metrics"
   ]
  },
  {
   "cell_type": "markdown",
   "metadata": {},
   "source": [
    "\n",
    "**Training and Testing Dataset Spliting using the `train_test_split`**\n",
    "  \n",
    "  * Immporting the library from the sklearn.model_selection\n",
    "  * Split the dataset into 75:25 ratio\n",
    "  * x_train and y_train are the trainning datasets\n",
    "  * x_test and y_test are the testing datasets\n",
    "  * After the spliting of the datasets the model is ready to be prepared!"
   ]
  },
  {
   "cell_type": "code",
   "execution_count": 30,
   "metadata": {},
   "outputs": [
    {
     "name": "stdout",
     "output_type": "stream",
     "text": [
      "X_train: (54, 2)\n",
      "X_test: (19, 2)\n",
      "y_train: (54,)\n",
      "y_test: (19,)\n"
     ]
    }
   ],
   "source": [
    "X_train, X_test, y_train, y_test = train_test_split(x, y, test_size=0.25, random_state=0)\n",
    "print(f'X_train: {X_train.shape}\\nX_test: {X_test.shape}\\ny_train: {y_train.shape}\\ny_test: {y_test.shape}')"
   ]
  },
  {
   "cell_type": "markdown",
   "metadata": {},
   "source": [
    "### Simple Linear Regression\n",
    "Linear Regression is a machine learning algorithm based on supervised learning. Linear regression performs the task to predict a dependent variable value (y) based on a given independent variable (x). So, this regression technique finds out a linear relationship between x (input) and y(output)."
   ]
  },
  {
   "cell_type": "code",
   "execution_count": 31,
   "metadata": {},
   "outputs": [
    {
     "data": {
      "text/plain": [
       "LinearRegression()"
      ]
     },
     "execution_count": 31,
     "metadata": {},
     "output_type": "execute_result"
    }
   ],
   "source": [
    "regr = LinearRegression()\n",
    "regr.fit(X_train, y_train)"
   ]
  },
  {
   "cell_type": "code",
   "execution_count": 32,
   "metadata": {},
   "outputs": [],
   "source": [
    "y_pred = regr.predict(X_test)"
   ]
  },
  {
   "cell_type": "code",
   "execution_count": 33,
   "metadata": {},
   "outputs": [
    {
     "name": "stdout",
     "output_type": "stream",
     "text": [
      "R2-Score: 0.21181232964396102\n"
     ]
    }
   ],
   "source": [
    "print(f'R2-Score: {metrics.r2_score(y_test, y_pred)}')"
   ]
  },
  {
   "cell_type": "code",
   "execution_count": 34,
   "metadata": {},
   "outputs": [
    {
     "data": {
      "text/plain": [
       "0.21181232964396102"
      ]
     },
     "execution_count": 34,
     "metadata": {},
     "output_type": "execute_result"
    }
   ],
   "source": [
    "regr.score(X_test, y_test)"
   ]
  },
  {
   "cell_type": "markdown",
   "metadata": {},
   "source": [
    "### Decision Tree Regressor\n",
    "Decision tree builds regression or classification models in the form of a tree structure. It breaks down a dataset into smaller and smaller subsets while at the same time an associated decision tree is incrementally developed. Decision trees can handle both categorical and numerical data."
   ]
  },
  {
   "cell_type": "code",
   "execution_count": 36,
   "metadata": {},
   "outputs": [
    {
     "data": {
      "text/plain": [
       "DecisionTreeRegressor()"
      ]
     },
     "execution_count": 36,
     "metadata": {},
     "output_type": "execute_result"
    }
   ],
   "source": [
    "from sklearn.tree import DecisionTreeRegressor\n",
    "dtr = DecisionTreeRegressor()\n",
    "dtr.fit(X_train, y_train)"
   ]
  },
  {
   "cell_type": "code",
   "execution_count": 37,
   "metadata": {},
   "outputs": [
    {
     "data": {
      "text/plain": [
       "array([9.7, 9.7, 9.6, 8.5, 9. , 9.6, 7.5, 9.7, 9.7, 9.6, 8.5, 8.5, 9.7,\n",
       "       9.8, 9.6, 9.8, 9. , 7.4, 9.7])"
      ]
     },
     "execution_count": 37,
     "metadata": {},
     "output_type": "execute_result"
    }
   ],
   "source": [
    "y_pred = dtr.predict(X_test)\n",
    "y_pred"
   ]
  },
  {
   "cell_type": "code",
   "execution_count": 38,
   "metadata": {},
   "outputs": [
    {
     "data": {
      "text/plain": [
       "0.13479232728595936"
      ]
     },
     "execution_count": 38,
     "metadata": {},
     "output_type": "execute_result"
    }
   ],
   "source": [
    "dtr.score(X_test,y_test)"
   ]
  },
  {
   "cell_type": "markdown",
   "metadata": {},
   "source": [
    "### Random Forest Regression \n",
    "Random Forest Regression is a supervised learning algorithm that uses ensemble learning method for regression. A Random Forest operates by constructing several decision trees during training time and outputting the mean of the classes as the prediction of all the trees."
   ]
  },
  {
   "cell_type": "code",
   "execution_count": 39,
   "metadata": {},
   "outputs": [
    {
     "data": {
      "text/plain": [
       "RandomForestRegressor()"
      ]
     },
     "execution_count": 39,
     "metadata": {},
     "output_type": "execute_result"
    }
   ],
   "source": [
    "from sklearn.ensemble import RandomForestRegressor\n",
    "rfr = RandomForestRegressor()\n",
    "rfr.fit(X_train, y_train)"
   ]
  },
  {
   "cell_type": "code",
   "execution_count": 40,
   "metadata": {},
   "outputs": [
    {
     "data": {
      "text/plain": [
       "array([9.645     , 9.645     , 9.32      , 8.795     , 9.032     ,\n",
       "       9.334     , 7.468     , 9.645     , 9.569     , 9.38116667,\n",
       "       8.617     , 8.616     , 9.64      , 9.478     , 9.644     ,\n",
       "       9.398     , 9.068     , 7.354     , 9.645     ])"
      ]
     },
     "execution_count": 40,
     "metadata": {},
     "output_type": "execute_result"
    }
   ],
   "source": [
    "y_pred = rfr.predict(X_test)\n",
    "y_pred"
   ]
  },
  {
   "cell_type": "code",
   "execution_count": 41,
   "metadata": {},
   "outputs": [
    {
     "data": {
      "text/plain": [
       "0.28534009063840904"
      ]
     },
     "execution_count": 41,
     "metadata": {},
     "output_type": "execute_result"
    }
   ],
   "source": [
    "rfr.score(X_test,y_test)"
   ]
  },
  {
   "cell_type": "markdown",
   "metadata": {},
   "source": [
    "### Lasso Regression\n",
    "In statistics and machine learning, lasso (least absolute shrinkage and selection operator; also Lasso or LASSO) is a regression analysis method that performs both variable selection and regularization in order to enhance the prediction accuracy and interpretability of the resulting statistical model."
   ]
  },
  {
   "cell_type": "code",
   "execution_count": 42,
   "metadata": {},
   "outputs": [
    {
     "data": {
      "text/plain": [
       "Lasso(alpha=0.1)"
      ]
     },
     "execution_count": 42,
     "metadata": {},
     "output_type": "execute_result"
    }
   ],
   "source": [
    "from sklearn import linear_model\n",
    "lasso = linear_model.Lasso(alpha=0.1)\n",
    "lasso.fit(X_train, y_train)"
   ]
  },
  {
   "cell_type": "code",
   "execution_count": 43,
   "metadata": {},
   "outputs": [
    {
     "data": {
      "text/plain": [
       "array([8.74832365, 8.77769112, 9.09161926, 8.87895826, 9.04098569,\n",
       "       9.0794672 , 8.3746479 , 8.76553906, 8.84452744, 9.29415354,\n",
       "       8.89009765, 8.89009765, 8.75946304, 8.54578937, 8.86579353,\n",
       "       8.53262464, 9.05009973, 8.30578624, 8.77971646])"
      ]
     },
     "execution_count": 43,
     "metadata": {},
     "output_type": "execute_result"
    }
   ],
   "source": [
    "y_pred = lasso.predict(X_test)\n",
    "y_pred"
   ]
  },
  {
   "cell_type": "code",
   "execution_count": 44,
   "metadata": {},
   "outputs": [
    {
     "data": {
      "text/plain": [
       "0.17559486810554192"
      ]
     },
     "execution_count": 44,
     "metadata": {},
     "output_type": "execute_result"
    }
   ],
   "source": [
    "lasso.score(X_test,y_test)"
   ]
  },
  {
   "cell_type": "markdown",
   "metadata": {},
   "source": [
    "### Ridge Regression\n",
    "\n",
    "Ridge regression is a model tuning method that is used to analyse any data that suffers from multicollinearity. This method performs L2 regularization. When the issue of multicollinearity occurs, least-squares are unbiased, and variances are large, this results in predicted values to be far away from the actual values."
   ]
  },
  {
   "cell_type": "code",
   "execution_count": 45,
   "metadata": {},
   "outputs": [
    {
     "data": {
      "text/plain": [
       "Ridge(alpha=0.1)"
      ]
     },
     "execution_count": 45,
     "metadata": {},
     "output_type": "execute_result"
    }
   ],
   "source": [
    "from sklearn import linear_model\n",
    "ridge = linear_model.Ridge(alpha=0.1)\n",
    "ridge.fit(X_train, y_train)"
   ]
  },
  {
   "cell_type": "code",
   "execution_count": 46,
   "metadata": {},
   "outputs": [
    {
     "data": {
      "text/plain": [
       "array([8.63044222, 8.93124074, 9.13108422, 8.9886005 , 8.99226318,\n",
       "       9.09776717, 8.26678992, 8.89792369, 8.67391988, 9.24580374,\n",
       "       9.01914113, 9.23942344, 8.66098285, 8.51572271, 8.73222471,\n",
       "       8.47962924, 9.01725097, 8.07799331, 8.93679358])"
      ]
     },
     "execution_count": 46,
     "metadata": {},
     "output_type": "execute_result"
    }
   ],
   "source": [
    "y_pred = ridge.predict(X_test)\n",
    "y_pred"
   ]
  },
  {
   "cell_type": "code",
   "execution_count": 47,
   "metadata": {},
   "outputs": [
    {
     "data": {
      "text/plain": [
       "0.21178585837216823"
      ]
     },
     "execution_count": 47,
     "metadata": {},
     "output_type": "execute_result"
    }
   ],
   "source": [
    "ridge.score(X_test,y_test)"
   ]
  },
  {
   "cell_type": "markdown",
   "metadata": {},
   "source": [
    "### XgBoost Regressor \n",
    "XGBoost is a powerful approach for building supervised regression models. Ensemble learning involves training and combining individual models (known as base learners) to get a single prediction, and XGBoost is one of the ensemble learning methods."
   ]
  },
  {
   "cell_type": "code",
   "execution_count": 48,
   "metadata": {},
   "outputs": [
    {
     "name": "stdout",
     "output_type": "stream",
     "text": [
      "[09:59:03] WARNING: src/objective/regression_obj.cu:152: reg:linear is now deprecated in favor of reg:squarederror.\n"
     ]
    },
    {
     "data": {
      "text/plain": [
       "XGBRegressor()"
      ]
     },
     "execution_count": 48,
     "metadata": {},
     "output_type": "execute_result"
    }
   ],
   "source": [
    "from xgboost.sklearn import XGBRegressor\n",
    "xgb = XGBRegressor()\n",
    "xgb.fit(X_train, y_train)"
   ]
  },
  {
   "cell_type": "code",
   "execution_count": 49,
   "metadata": {},
   "outputs": [
    {
     "data": {
      "text/plain": [
       "array([9.724829 , 9.724829 , 9.266477 , 8.618946 , 9.185344 , 9.266477 ,\n",
       "       7.4958453, 9.724829 , 9.594462 , 9.498119 , 8.618946 , 8.618946 ,\n",
       "       9.724829 , 9.534495 , 9.568957 , 9.371103 , 9.185344 , 7.653713 ,\n",
       "       9.724829 ], dtype=float32)"
      ]
     },
     "execution_count": 49,
     "metadata": {},
     "output_type": "execute_result"
    }
   ],
   "source": [
    "y_pred = xgb.predict(X_test)\n",
    "y_pred"
   ]
  },
  {
   "cell_type": "code",
   "execution_count": 50,
   "metadata": {},
   "outputs": [
    {
     "data": {
      "text/plain": [
       "0.2066420957374685"
      ]
     },
     "execution_count": 50,
     "metadata": {},
     "output_type": "execute_result"
    }
   ],
   "source": [
    "xgb.score(X_test,y_test)"
   ]
  },
  {
   "cell_type": "markdown",
   "metadata": {},
   "source": [
    "### MLP Regressor \n",
    "A multilayer perceptron (MLP) is a class of feedforward artificial neural network (ANN). ... MLP utilizes a supervised learning technique called backpropagation for training. Its multiple layers and non-linear activation distinguish MLP from a linear perceptron. It can distinguish data that is not linearly separable."
   ]
  },
  {
   "cell_type": "code",
   "execution_count": 51,
   "metadata": {},
   "outputs": [
    {
     "name": "stderr",
     "output_type": "stream",
     "text": [
      "D:\\my project\\lib\\site-packages\\sklearn\\neural_network\\_multilayer_perceptron.py:617: ConvergenceWarning: Stochastic Optimizer: Maximum iterations (200) reached and the optimization hasn't converged yet.\n",
      "  % self.max_iter, ConvergenceWarning)\n"
     ]
    },
    {
     "data": {
      "text/plain": [
       "MLPRegressor()"
      ]
     },
     "execution_count": 51,
     "metadata": {},
     "output_type": "execute_result"
    }
   ],
   "source": [
    "from sklearn.neural_network import MLPRegressor\n",
    "mlp = MLPRegressor()\n",
    "mlp.fit(X_train, y_train)"
   ]
  },
  {
   "cell_type": "code",
   "execution_count": 52,
   "metadata": {},
   "outputs": [
    {
     "data": {
      "text/plain": [
       "array([ 9.31598012,  9.34282275,  6.45854349,  8.40342384,  6.81257565,\n",
       "        6.54351121, 12.61438533,  9.4271674 ,  8.41476973,  4.55088169,\n",
       "        8.32610791,  8.58494888,  9.23809304, 11.18920734,  8.26607622,\n",
       "       11.2812557 ,  6.74884986, 13.09586908,  9.32876531])"
      ]
     },
     "execution_count": 52,
     "metadata": {},
     "output_type": "execute_result"
    }
   ],
   "source": [
    "y_pred = mlp.predict(X_test)\n",
    "y_pred"
   ]
  },
  {
   "cell_type": "code",
   "execution_count": 53,
   "metadata": {},
   "outputs": [
    {
     "data": {
      "text/plain": [
       "-7.067799423393264"
      ]
     },
     "execution_count": 53,
     "metadata": {},
     "output_type": "execute_result"
    }
   ],
   "source": [
    "mlp.score(X_test,y_test)"
   ]
  },
  {
   "cell_type": "markdown",
   "metadata": {},
   "source": [
    "### Gradient Boosting Regressor \n",
    "Gradient boosting is a machine learning technique for regression, classification and other tasks, which produces a prediction model in the form of an ensemble of weak prediction models, typically decision trees.\n"
   ]
  },
  {
   "cell_type": "code",
   "execution_count": 54,
   "metadata": {},
   "outputs": [
    {
     "data": {
      "text/plain": [
       "GradientBoostingRegressor()"
      ]
     },
     "execution_count": 54,
     "metadata": {},
     "output_type": "execute_result"
    }
   ],
   "source": [
    "from sklearn.ensemble import GradientBoostingRegressor\n",
    "gb = GradientBoostingRegressor()\n",
    "gb.fit(X_train, y_train)"
   ]
  },
  {
   "cell_type": "code",
   "execution_count": 55,
   "metadata": {},
   "outputs": [
    {
     "data": {
      "text/plain": [
       "array([9.78683062, 9.74511826, 9.41587984, 8.529248  , 9.16618899,\n",
       "       9.41587984, 7.48668904, 9.74511826, 9.60827394, 9.50914935,\n",
       "       8.529248  , 8.529248  , 9.78683062, 9.59786326, 9.5734483 ,\n",
       "       9.12497754, 9.16618899, 7.82258323, 9.74511826])"
      ]
     },
     "execution_count": 55,
     "metadata": {},
     "output_type": "execute_result"
    }
   ],
   "source": [
    "y_pred = gb.predict(X_test)\n",
    "y_pred"
   ]
  },
  {
   "cell_type": "code",
   "execution_count": 56,
   "metadata": {},
   "outputs": [
    {
     "data": {
      "text/plain": [
       "0.14221956582540007"
      ]
     },
     "execution_count": 56,
     "metadata": {},
     "output_type": "execute_result"
    }
   ],
   "source": [
    "gb.score(X_test,y_test)"
   ]
  },
  {
   "cell_type": "markdown",
   "metadata": {},
   "source": [
    "### Support Vector Machine Regressor \n",
    "Support Vector Machine can also be used as a regression method, maintaining all the main features that characterize the algorithm (maximal margin). The Support Vector Regression (SVR) uses the same principles as the SVM for classification, with only a few minor differences."
   ]
  },
  {
   "cell_type": "code",
   "execution_count": 57,
   "metadata": {},
   "outputs": [
    {
     "data": {
      "text/plain": [
       "SVR()"
      ]
     },
     "execution_count": 57,
     "metadata": {},
     "output_type": "execute_result"
    }
   ],
   "source": [
    "from sklearn.svm import SVR\n",
    "svm = SVR()\n",
    "svm.fit(X_train, y_train)"
   ]
  },
  {
   "cell_type": "code",
   "execution_count": 58,
   "metadata": {},
   "outputs": [
    {
     "data": {
      "text/plain": [
       "array([9.74835726, 9.45069726, 8.91257001, 9.37269635, 9.01657341,\n",
       "       8.93561781, 7.68453853, 9.47558643, 9.56549409, 9.00195208,\n",
       "       9.33451233, 9.14632573, 9.72477304, 8.89169484, 9.49998096,\n",
       "       8.84790288, 8.99637007, 7.46710186, 9.44633531])"
      ]
     },
     "execution_count": 58,
     "metadata": {},
     "output_type": "execute_result"
    }
   ],
   "source": [
    "y_pred =svm.predict(X_test)\n",
    "y_pred"
   ]
  },
  {
   "cell_type": "code",
   "execution_count": 59,
   "metadata": {},
   "outputs": [
    {
     "data": {
      "text/plain": [
       "0.2536772890346003"
      ]
     },
     "execution_count": 59,
     "metadata": {},
     "output_type": "execute_result"
    }
   ],
   "source": [
    "svm.score(X_test,y_test)"
   ]
  },
  {
   "cell_type": "markdown",
   "metadata": {},
   "source": [
    "********************************\n",
    "### Comparative analysis among the algorithms for this project\n",
    "\n",
    "We have deployed nine machine learning algorithms and every algorithm is deployed successfully without any hesitation. We have checked the accuracy of the models based on the accuracy score of each of the models. Now let's take a look at the scores of each models.\n",
    "\n",
    "|Name of the Model|Accuracy Score|\n",
    "|:---:|:---:|\n",
    "|Linear Regression|0.21|\n",
    "|Decision Tree Regressor|0.13|\n",
    "|Random Forest Regressor|0.29|\n",
    "|Lasso Regression|0.18|\n",
    "|Ridge Regression|0.21|\n",
    "|XgBoost Regressor|0.21|\n",
    "|MLP Regressor|-7.07|\n",
    "|Gradient Boosting Regressor|0.14|\n",
    "|Support Vector Regressor|0.25|\n",
    "\n",
    "### Conclusion\n",
    "\n",
    "**Comparing all those scores scored by the machine learning algorithms, it is clear that Random Forest Regressor is having the upper hand in case of this dataset and after this, we can use Support Vector Machine Regressor which is also having good score as compared to the other deployed algorithms**\n",
    "\n",
    "Best Fitted Models ranking - \n",
    "1. Random Forest Regressor\n",
    "2. Support Vector Machine Regression\n",
    "3. Linear Regression\n",
    "4. XgBoost\n",
    "5. Ridge\n",
    "6. Lasso\n",
    "7. Gradient Boosting\n",
    "8. Decision Tree Regression\n",
    "9. MLP regressor\n",
    "\n",
    "\n",
    "Hooray!! The models are deployed successfully!\n",
    "\n",
    "## Hope this project will help you! Thank you!"
   ]
  }
 ],
 "metadata": {
  "kernelspec": {
   "display_name": "Python 3",
   "language": "python",
   "name": "python3"
  },
  "language_info": {
   "codemirror_mode": {
    "name": "ipython",
    "version": 3
   },
   "file_extension": ".py",
   "mimetype": "text/x-python",
   "name": "python",
   "nbconvert_exporter": "python",
   "pygments_lexer": "ipython3",
   "version": "3.7.6"
  },
  "papermill": {
   "default_parameters": {},
   "duration": 13.024789,
   "end_time": "2021-06-17T14:48:57.644533",
   "environment_variables": {},
   "exception": null,
   "input_path": "__notebook__.ipynb",
   "output_path": "__notebook__.ipynb",
   "parameters": {},
   "start_time": "2021-06-17T14:48:44.619744",
   "version": "2.3.3"
  }
 },
 "nbformat": 4,
 "nbformat_minor": 5
}
