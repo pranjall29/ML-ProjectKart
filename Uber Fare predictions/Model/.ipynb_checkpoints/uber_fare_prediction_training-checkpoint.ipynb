{
 "cells": [
  {
   "cell_type": "markdown",
   "metadata": {
    "id": "QqOC-x6Pdi6o"
   },
   "source": [
    "# Uber Fare Prediction"
   ]
  },
  {
   "cell_type": "markdown",
   "metadata": {
    "id": "9UQ4cU51di6q"
   },
   "source": [
    "## Here the main task is to predict the taxi fare amount "
   ]
  },
  {
   "cell_type": "code",
   "execution_count": 1,
   "metadata": {
    "id": "1CqwsIxedi6r"
   },
   "outputs": [],
   "source": [
    "import numpy as np \n",
    "import pandas as pd\n",
    "import sklearn\n",
    "import seaborn as sns\n",
    "import matplotlib.pyplot as plt"
   ]
  },
  {
   "cell_type": "markdown",
   "metadata": {
    "id": "Gztc8QIXdi6s"
   },
   "source": [
    "## Loading Dataset"
   ]
  },
  {
   "cell_type": "code",
   "execution_count": 2,
   "metadata": {
    "id": "hlU-j5zVdi6s"
   },
   "outputs": [],
   "source": [
    "train_df = pd.read_csv(r'C:\\Users\\KIIT\\Documents\\LGM-Soc contributions\\Uber Fare Prediction\\Dataset/train.csv',nrows = 1000000)"
   ]
  },
  {
   "cell_type": "code",
   "execution_count": 3,
   "metadata": {
    "colab": {
     "base_uri": "https://localhost:8080/",
     "height": 287
    },
    "id": "J2kezts2di6s",
    "outputId": "20ee0beb-7d6a-4c3a-a56f-462cdee172bf"
   },
   "outputs": [
    {
     "data": {
      "text/html": [
       "<div>\n",
       "<style scoped>\n",
       "    .dataframe tbody tr th:only-of-type {\n",
       "        vertical-align: middle;\n",
       "    }\n",
       "\n",
       "    .dataframe tbody tr th {\n",
       "        vertical-align: top;\n",
       "    }\n",
       "\n",
       "    .dataframe thead th {\n",
       "        text-align: right;\n",
       "    }\n",
       "</style>\n",
       "<table border=\"1\" class=\"dataframe\">\n",
       "  <thead>\n",
       "    <tr style=\"text-align: right;\">\n",
       "      <th></th>\n",
       "      <th>key</th>\n",
       "      <th>fare_amount</th>\n",
       "      <th>pickup_datetime</th>\n",
       "      <th>pickup_longitude</th>\n",
       "      <th>pickup_latitude</th>\n",
       "      <th>dropoff_longitude</th>\n",
       "      <th>dropoff_latitude</th>\n",
       "      <th>passenger_count</th>\n",
       "    </tr>\n",
       "  </thead>\n",
       "  <tbody>\n",
       "    <tr>\n",
       "      <th>0</th>\n",
       "      <td>2009-06-15 17:26:21.0000001</td>\n",
       "      <td>4.5</td>\n",
       "      <td>2009-06-15 17:26:21 UTC</td>\n",
       "      <td>-73.844311</td>\n",
       "      <td>40.721319</td>\n",
       "      <td>-73.841610</td>\n",
       "      <td>40.712278</td>\n",
       "      <td>1</td>\n",
       "    </tr>\n",
       "    <tr>\n",
       "      <th>1</th>\n",
       "      <td>2010-01-05 16:52:16.0000002</td>\n",
       "      <td>16.9</td>\n",
       "      <td>2010-01-05 16:52:16 UTC</td>\n",
       "      <td>-74.016048</td>\n",
       "      <td>40.711303</td>\n",
       "      <td>-73.979268</td>\n",
       "      <td>40.782004</td>\n",
       "      <td>1</td>\n",
       "    </tr>\n",
       "    <tr>\n",
       "      <th>2</th>\n",
       "      <td>2011-08-18 00:35:00.00000049</td>\n",
       "      <td>5.7</td>\n",
       "      <td>2011-08-18 00:35:00 UTC</td>\n",
       "      <td>-73.982738</td>\n",
       "      <td>40.761270</td>\n",
       "      <td>-73.991242</td>\n",
       "      <td>40.750562</td>\n",
       "      <td>2</td>\n",
       "    </tr>\n",
       "    <tr>\n",
       "      <th>3</th>\n",
       "      <td>2012-04-21 04:30:42.0000001</td>\n",
       "      <td>7.7</td>\n",
       "      <td>2012-04-21 04:30:42 UTC</td>\n",
       "      <td>-73.987130</td>\n",
       "      <td>40.733143</td>\n",
       "      <td>-73.991567</td>\n",
       "      <td>40.758092</td>\n",
       "      <td>1</td>\n",
       "    </tr>\n",
       "    <tr>\n",
       "      <th>4</th>\n",
       "      <td>2010-03-09 07:51:00.000000135</td>\n",
       "      <td>5.3</td>\n",
       "      <td>2010-03-09 07:51:00 UTC</td>\n",
       "      <td>-73.968095</td>\n",
       "      <td>40.768008</td>\n",
       "      <td>-73.956655</td>\n",
       "      <td>40.783762</td>\n",
       "      <td>1</td>\n",
       "    </tr>\n",
       "  </tbody>\n",
       "</table>\n",
       "</div>"
      ],
      "text/plain": [
       "                             key  fare_amount          pickup_datetime  \\\n",
       "0    2009-06-15 17:26:21.0000001          4.5  2009-06-15 17:26:21 UTC   \n",
       "1    2010-01-05 16:52:16.0000002         16.9  2010-01-05 16:52:16 UTC   \n",
       "2   2011-08-18 00:35:00.00000049          5.7  2011-08-18 00:35:00 UTC   \n",
       "3    2012-04-21 04:30:42.0000001          7.7  2012-04-21 04:30:42 UTC   \n",
       "4  2010-03-09 07:51:00.000000135          5.3  2010-03-09 07:51:00 UTC   \n",
       "\n",
       "   pickup_longitude  pickup_latitude  dropoff_longitude  dropoff_latitude  \\\n",
       "0        -73.844311        40.721319         -73.841610         40.712278   \n",
       "1        -74.016048        40.711303         -73.979268         40.782004   \n",
       "2        -73.982738        40.761270         -73.991242         40.750562   \n",
       "3        -73.987130        40.733143         -73.991567         40.758092   \n",
       "4        -73.968095        40.768008         -73.956655         40.783762   \n",
       "\n",
       "   passenger_count  \n",
       "0                1  \n",
       "1                1  \n",
       "2                2  \n",
       "3                1  \n",
       "4                1  "
      ]
     },
     "execution_count": 3,
     "metadata": {},
     "output_type": "execute_result"
    }
   ],
   "source": [
    "train_df.head()"
   ]
  },
  {
   "cell_type": "code",
   "execution_count": 4,
   "metadata": {
    "colab": {
     "base_uri": "https://localhost:8080/"
    },
    "id": "emNbOfkkdi6s",
    "outputId": "04721acb-2a26-431c-c3e3-ff2d862f7935"
   },
   "outputs": [
    {
     "data": {
      "text/plain": [
       "(2000000, 8)"
      ]
     },
     "execution_count": 4,
     "metadata": {},
     "output_type": "execute_result"
    }
   ],
   "source": [
    "train_df.shape"
   ]
  },
  {
   "cell_type": "code",
   "execution_count": 5,
   "metadata": {
    "colab": {
     "base_uri": "https://localhost:8080/",
     "height": 295
    },
    "id": "3ul67aBhdi6t",
    "outputId": "dba627f9-84c3-495d-bf8a-0aa8f59f7ccb"
   },
   "outputs": [
    {
     "data": {
      "text/html": [
       "<div>\n",
       "<style scoped>\n",
       "    .dataframe tbody tr th:only-of-type {\n",
       "        vertical-align: middle;\n",
       "    }\n",
       "\n",
       "    .dataframe tbody tr th {\n",
       "        vertical-align: top;\n",
       "    }\n",
       "\n",
       "    .dataframe thead th {\n",
       "        text-align: right;\n",
       "    }\n",
       "</style>\n",
       "<table border=\"1\" class=\"dataframe\">\n",
       "  <thead>\n",
       "    <tr style=\"text-align: right;\">\n",
       "      <th></th>\n",
       "      <th>fare_amount</th>\n",
       "      <th>pickup_longitude</th>\n",
       "      <th>pickup_latitude</th>\n",
       "      <th>dropoff_longitude</th>\n",
       "      <th>dropoff_latitude</th>\n",
       "      <th>passenger_count</th>\n",
       "    </tr>\n",
       "  </thead>\n",
       "  <tbody>\n",
       "    <tr>\n",
       "      <th>count</th>\n",
       "      <td>2.000000e+06</td>\n",
       "      <td>2.000000e+06</td>\n",
       "      <td>2.000000e+06</td>\n",
       "      <td>1.999986e+06</td>\n",
       "      <td>1.999986e+06</td>\n",
       "      <td>2.000000e+06</td>\n",
       "    </tr>\n",
       "    <tr>\n",
       "      <th>mean</th>\n",
       "      <td>1.134779e+01</td>\n",
       "      <td>-7.252321e+01</td>\n",
       "      <td>3.992963e+01</td>\n",
       "      <td>-7.252395e+01</td>\n",
       "      <td>3.992808e+01</td>\n",
       "      <td>1.684113e+00</td>\n",
       "    </tr>\n",
       "    <tr>\n",
       "      <th>std</th>\n",
       "      <td>9.852883e+00</td>\n",
       "      <td>1.286804e+01</td>\n",
       "      <td>7.983352e+00</td>\n",
       "      <td>1.277497e+01</td>\n",
       "      <td>1.032382e+01</td>\n",
       "      <td>1.314982e+00</td>\n",
       "    </tr>\n",
       "    <tr>\n",
       "      <th>min</th>\n",
       "      <td>-6.200000e+01</td>\n",
       "      <td>-3.377681e+03</td>\n",
       "      <td>-3.458665e+03</td>\n",
       "      <td>-3.383297e+03</td>\n",
       "      <td>-3.461541e+03</td>\n",
       "      <td>0.000000e+00</td>\n",
       "    </tr>\n",
       "    <tr>\n",
       "      <th>25%</th>\n",
       "      <td>6.000000e+00</td>\n",
       "      <td>-7.399208e+01</td>\n",
       "      <td>4.073491e+01</td>\n",
       "      <td>-7.399141e+01</td>\n",
       "      <td>4.073400e+01</td>\n",
       "      <td>1.000000e+00</td>\n",
       "    </tr>\n",
       "    <tr>\n",
       "      <th>50%</th>\n",
       "      <td>8.500000e+00</td>\n",
       "      <td>-7.398181e+01</td>\n",
       "      <td>4.075263e+01</td>\n",
       "      <td>-7.398016e+01</td>\n",
       "      <td>4.075312e+01</td>\n",
       "      <td>1.000000e+00</td>\n",
       "    </tr>\n",
       "    <tr>\n",
       "      <th>75%</th>\n",
       "      <td>1.250000e+01</td>\n",
       "      <td>-7.396713e+01</td>\n",
       "      <td>4.076710e+01</td>\n",
       "      <td>-7.396369e+01</td>\n",
       "      <td>4.076809e+01</td>\n",
       "      <td>2.000000e+00</td>\n",
       "    </tr>\n",
       "    <tr>\n",
       "      <th>max</th>\n",
       "      <td>1.273310e+03</td>\n",
       "      <td>2.856442e+03</td>\n",
       "      <td>2.621628e+03</td>\n",
       "      <td>3.414307e+03</td>\n",
       "      <td>3.345917e+03</td>\n",
       "      <td>2.080000e+02</td>\n",
       "    </tr>\n",
       "  </tbody>\n",
       "</table>\n",
       "</div>"
      ],
      "text/plain": [
       "        fare_amount  pickup_longitude  pickup_latitude  dropoff_longitude  \\\n",
       "count  2.000000e+06      2.000000e+06     2.000000e+06       1.999986e+06   \n",
       "mean   1.134779e+01     -7.252321e+01     3.992963e+01      -7.252395e+01   \n",
       "std    9.852883e+00      1.286804e+01     7.983352e+00       1.277497e+01   \n",
       "min   -6.200000e+01     -3.377681e+03    -3.458665e+03      -3.383297e+03   \n",
       "25%    6.000000e+00     -7.399208e+01     4.073491e+01      -7.399141e+01   \n",
       "50%    8.500000e+00     -7.398181e+01     4.075263e+01      -7.398016e+01   \n",
       "75%    1.250000e+01     -7.396713e+01     4.076710e+01      -7.396369e+01   \n",
       "max    1.273310e+03      2.856442e+03     2.621628e+03       3.414307e+03   \n",
       "\n",
       "       dropoff_latitude  passenger_count  \n",
       "count      1.999986e+06     2.000000e+06  \n",
       "mean       3.992808e+01     1.684113e+00  \n",
       "std        1.032382e+01     1.314982e+00  \n",
       "min       -3.461541e+03     0.000000e+00  \n",
       "25%        4.073400e+01     1.000000e+00  \n",
       "50%        4.075312e+01     1.000000e+00  \n",
       "75%        4.076809e+01     2.000000e+00  \n",
       "max        3.345917e+03     2.080000e+02  "
      ]
     },
     "execution_count": 5,
     "metadata": {},
     "output_type": "execute_result"
    }
   ],
   "source": [
    "train_df.describe()"
   ]
  },
  {
   "cell_type": "markdown",
   "metadata": {
    "id": "VOmWsTDkSQq3"
   },
   "source": [
    "## Data Preprocessing and Visualization"
   ]
  },
  {
   "cell_type": "code",
   "execution_count": 6,
   "metadata": {
    "colab": {
     "base_uri": "https://localhost:8080/"
    },
    "id": "dD_Ws869di6t",
    "outputId": "4ef73c13-fce7-411b-8b00-7e8fa4ef1a28"
   },
   "outputs": [
    {
     "data": {
      "text/plain": [
       "key                   0\n",
       "fare_amount           0\n",
       "pickup_datetime       0\n",
       "pickup_longitude      0\n",
       "pickup_latitude       0\n",
       "dropoff_longitude    14\n",
       "dropoff_latitude     14\n",
       "passenger_count       0\n",
       "dtype: int64"
      ]
     },
     "execution_count": 6,
     "metadata": {},
     "output_type": "execute_result"
    }
   ],
   "source": [
    "train_df.isnull().sum()"
   ]
  },
  {
   "cell_type": "markdown",
   "metadata": {
    "id": "oEKzKYfXSYfV"
   },
   "source": [
    "### Eliminating *null* values"
   ]
  },
  {
   "cell_type": "code",
   "execution_count": 7,
   "metadata": {
    "colab": {
     "base_uri": "https://localhost:8080/"
    },
    "id": "WLLByJr0di6t",
    "outputId": "c25dc34d-02be-4520-de16-7ec5c24fcdd9"
   },
   "outputs": [
    {
     "data": {
      "text/plain": [
       "key                  0\n",
       "fare_amount          0\n",
       "pickup_datetime      0\n",
       "pickup_longitude     0\n",
       "pickup_latitude      0\n",
       "dropoff_longitude    0\n",
       "dropoff_latitude     0\n",
       "passenger_count      0\n",
       "dtype: int64"
      ]
     },
     "execution_count": 7,
     "metadata": {},
     "output_type": "execute_result"
    }
   ],
   "source": [
    "train_df.dropna(inplace=True)\n",
    "train_df.isnull().sum()"
   ]
  },
  {
   "cell_type": "code",
   "execution_count": 8,
   "metadata": {
    "colab": {
     "base_uri": "https://localhost:8080/"
    },
    "id": "4Z4cOrUydi6u",
    "outputId": "abda95fb-5cba-4bc2-f76d-722d9dbf3174"
   },
   "outputs": [
    {
     "data": {
      "text/plain": [
       "key                   object\n",
       "fare_amount          float64\n",
       "pickup_datetime       object\n",
       "pickup_longitude     float64\n",
       "pickup_latitude      float64\n",
       "dropoff_longitude    float64\n",
       "dropoff_latitude     float64\n",
       "passenger_count        int64\n",
       "dtype: object"
      ]
     },
     "execution_count": 8,
     "metadata": {},
     "output_type": "execute_result"
    }
   ],
   "source": [
    "train_df.dtypes"
   ]
  },
  {
   "cell_type": "markdown",
   "metadata": {
    "id": "pp2qc_YdVUKz"
   },
   "source": [
    "### Change required columns into Datetime format"
   ]
  },
  {
   "cell_type": "code",
   "execution_count": 9,
   "metadata": {
    "id": "IFxtlxEidi6u"
   },
   "outputs": [],
   "source": [
    "def change_into_datetime(col):\n",
    "    train_df[col] = pd.to_datetime(train_df[col])"
   ]
  },
  {
   "cell_type": "code",
   "execution_count": 10,
   "metadata": {
    "colab": {
     "base_uri": "https://localhost:8080/"
    },
    "id": "HHuaqxsPdi6u",
    "outputId": "37adbad3-bde1-44d7-f50f-49ca3eda1dd3"
   },
   "outputs": [
    {
     "data": {
      "text/plain": [
       "Index(['key', 'fare_amount', 'pickup_datetime', 'pickup_longitude',\n",
       "       'pickup_latitude', 'dropoff_longitude', 'dropoff_latitude',\n",
       "       'passenger_count'],\n",
       "      dtype='object')"
      ]
     },
     "execution_count": 10,
     "metadata": {},
     "output_type": "execute_result"
    }
   ],
   "source": [
    "train_df.columns"
   ]
  },
  {
   "cell_type": "code",
   "execution_count": 11,
   "metadata": {
    "id": "oA5FomUsdi6u"
   },
   "outputs": [
    {
     "ename": "KeyboardInterrupt",
     "evalue": "",
     "output_type": "error",
     "traceback": [
      "\u001b[1;31m---------------------------------------------------------------------------\u001b[0m",
      "\u001b[1;31mKeyboardInterrupt\u001b[0m                         Traceback (most recent call last)",
      "\u001b[1;32m<ipython-input-11-066f4fc01985>\u001b[0m in \u001b[0;36m<module>\u001b[1;34m\u001b[0m\n\u001b[0;32m      1\u001b[0m \u001b[1;32mfor\u001b[0m \u001b[0mi\u001b[0m \u001b[1;32min\u001b[0m \u001b[1;33m[\u001b[0m\u001b[1;34m'key'\u001b[0m\u001b[1;33m,\u001b[0m\u001b[1;34m'pickup_datetime'\u001b[0m\u001b[1;33m]\u001b[0m\u001b[1;33m:\u001b[0m\u001b[1;33m\u001b[0m\u001b[1;33m\u001b[0m\u001b[0m\n\u001b[1;32m----> 2\u001b[1;33m     \u001b[0mchange_into_datetime\u001b[0m\u001b[1;33m(\u001b[0m\u001b[0mi\u001b[0m\u001b[1;33m)\u001b[0m\u001b[1;33m\u001b[0m\u001b[1;33m\u001b[0m\u001b[0m\n\u001b[0m",
      "\u001b[1;32m<ipython-input-9-d62876696752>\u001b[0m in \u001b[0;36mchange_into_datetime\u001b[1;34m(col)\u001b[0m\n\u001b[0;32m      1\u001b[0m \u001b[1;32mdef\u001b[0m \u001b[0mchange_into_datetime\u001b[0m\u001b[1;33m(\u001b[0m\u001b[0mcol\u001b[0m\u001b[1;33m)\u001b[0m\u001b[1;33m:\u001b[0m\u001b[1;33m\u001b[0m\u001b[1;33m\u001b[0m\u001b[0m\n\u001b[1;32m----> 2\u001b[1;33m     \u001b[0mtrain_df\u001b[0m\u001b[1;33m[\u001b[0m\u001b[0mcol\u001b[0m\u001b[1;33m]\u001b[0m \u001b[1;33m=\u001b[0m \u001b[0mpd\u001b[0m\u001b[1;33m.\u001b[0m\u001b[0mto_datetime\u001b[0m\u001b[1;33m(\u001b[0m\u001b[0mtrain_df\u001b[0m\u001b[1;33m[\u001b[0m\u001b[0mcol\u001b[0m\u001b[1;33m]\u001b[0m\u001b[1;33m)\u001b[0m\u001b[1;33m\u001b[0m\u001b[1;33m\u001b[0m\u001b[0m\n\u001b[0m",
      "\u001b[1;32m~\\anaconda3\\lib\\site-packages\\pandas\\core\\tools\\datetimes.py\u001b[0m in \u001b[0;36mto_datetime\u001b[1;34m(arg, errors, dayfirst, yearfirst, utc, format, exact, unit, infer_datetime_format, origin, cache)\u001b[0m\n\u001b[0;32m    801\u001b[0m             \u001b[0mresult\u001b[0m \u001b[1;33m=\u001b[0m \u001b[0marg\u001b[0m\u001b[1;33m.\u001b[0m\u001b[0mmap\u001b[0m\u001b[1;33m(\u001b[0m\u001b[0mcache_array\u001b[0m\u001b[1;33m)\u001b[0m\u001b[1;33m\u001b[0m\u001b[1;33m\u001b[0m\u001b[0m\n\u001b[0;32m    802\u001b[0m         \u001b[1;32melse\u001b[0m\u001b[1;33m:\u001b[0m\u001b[1;33m\u001b[0m\u001b[1;33m\u001b[0m\u001b[0m\n\u001b[1;32m--> 803\u001b[1;33m             \u001b[0mvalues\u001b[0m \u001b[1;33m=\u001b[0m \u001b[0mconvert_listlike\u001b[0m\u001b[1;33m(\u001b[0m\u001b[0marg\u001b[0m\u001b[1;33m.\u001b[0m\u001b[0m_values\u001b[0m\u001b[1;33m,\u001b[0m \u001b[0mformat\u001b[0m\u001b[1;33m)\u001b[0m\u001b[1;33m\u001b[0m\u001b[1;33m\u001b[0m\u001b[0m\n\u001b[0m\u001b[0;32m    804\u001b[0m             \u001b[0mresult\u001b[0m \u001b[1;33m=\u001b[0m \u001b[0marg\u001b[0m\u001b[1;33m.\u001b[0m\u001b[0m_constructor\u001b[0m\u001b[1;33m(\u001b[0m\u001b[0mvalues\u001b[0m\u001b[1;33m,\u001b[0m \u001b[0mindex\u001b[0m\u001b[1;33m=\u001b[0m\u001b[0marg\u001b[0m\u001b[1;33m.\u001b[0m\u001b[0mindex\u001b[0m\u001b[1;33m,\u001b[0m \u001b[0mname\u001b[0m\u001b[1;33m=\u001b[0m\u001b[0marg\u001b[0m\u001b[1;33m.\u001b[0m\u001b[0mname\u001b[0m\u001b[1;33m)\u001b[0m\u001b[1;33m\u001b[0m\u001b[1;33m\u001b[0m\u001b[0m\n\u001b[0;32m    805\u001b[0m     \u001b[1;32melif\u001b[0m \u001b[0misinstance\u001b[0m\u001b[1;33m(\u001b[0m\u001b[0marg\u001b[0m\u001b[1;33m,\u001b[0m \u001b[1;33m(\u001b[0m\u001b[0mABCDataFrame\u001b[0m\u001b[1;33m,\u001b[0m \u001b[0mabc\u001b[0m\u001b[1;33m.\u001b[0m\u001b[0mMutableMapping\u001b[0m\u001b[1;33m)\u001b[0m\u001b[1;33m)\u001b[0m\u001b[1;33m:\u001b[0m\u001b[1;33m\u001b[0m\u001b[1;33m\u001b[0m\u001b[0m\n",
      "\u001b[1;32m~\\anaconda3\\lib\\site-packages\\pandas\\core\\tools\\datetimes.py\u001b[0m in \u001b[0;36m_convert_listlike_datetimes\u001b[1;34m(arg, format, name, tz, unit, errors, infer_datetime_format, dayfirst, yearfirst, exact)\u001b[0m\n\u001b[0;32m    464\u001b[0m             \u001b[0merrors\u001b[0m\u001b[1;33m=\u001b[0m\u001b[0merrors\u001b[0m\u001b[1;33m,\u001b[0m\u001b[1;33m\u001b[0m\u001b[1;33m\u001b[0m\u001b[0m\n\u001b[0;32m    465\u001b[0m             \u001b[0mrequire_iso8601\u001b[0m\u001b[1;33m=\u001b[0m\u001b[0mrequire_iso8601\u001b[0m\u001b[1;33m,\u001b[0m\u001b[1;33m\u001b[0m\u001b[1;33m\u001b[0m\u001b[0m\n\u001b[1;32m--> 466\u001b[1;33m             \u001b[0mallow_object\u001b[0m\u001b[1;33m=\u001b[0m\u001b[1;32mTrue\u001b[0m\u001b[1;33m,\u001b[0m\u001b[1;33m\u001b[0m\u001b[1;33m\u001b[0m\u001b[0m\n\u001b[0m\u001b[0;32m    467\u001b[0m         )\n\u001b[0;32m    468\u001b[0m \u001b[1;33m\u001b[0m\u001b[0m\n",
      "\u001b[1;32m~\\anaconda3\\lib\\site-packages\\pandas\\core\\arrays\\datetimes.py\u001b[0m in \u001b[0;36mobjects_to_datetime64ns\u001b[1;34m(data, dayfirst, yearfirst, utc, errors, require_iso8601, allow_object)\u001b[0m\n\u001b[0;32m   2048\u001b[0m             \u001b[0mdayfirst\u001b[0m\u001b[1;33m=\u001b[0m\u001b[0mdayfirst\u001b[0m\u001b[1;33m,\u001b[0m\u001b[1;33m\u001b[0m\u001b[1;33m\u001b[0m\u001b[0m\n\u001b[0;32m   2049\u001b[0m             \u001b[0myearfirst\u001b[0m\u001b[1;33m=\u001b[0m\u001b[0myearfirst\u001b[0m\u001b[1;33m,\u001b[0m\u001b[1;33m\u001b[0m\u001b[1;33m\u001b[0m\u001b[0m\n\u001b[1;32m-> 2050\u001b[1;33m             \u001b[0mrequire_iso8601\u001b[0m\u001b[1;33m=\u001b[0m\u001b[0mrequire_iso8601\u001b[0m\u001b[1;33m,\u001b[0m\u001b[1;33m\u001b[0m\u001b[1;33m\u001b[0m\u001b[0m\n\u001b[0m\u001b[0;32m   2051\u001b[0m         )\n\u001b[0;32m   2052\u001b[0m     \u001b[1;32mexcept\u001b[0m \u001b[0mValueError\u001b[0m \u001b[1;32mas\u001b[0m \u001b[0me\u001b[0m\u001b[1;33m:\u001b[0m\u001b[1;33m\u001b[0m\u001b[1;33m\u001b[0m\u001b[0m\n",
      "\u001b[1;32mpandas\\_libs\\tslib.pyx\u001b[0m in \u001b[0;36mpandas._libs.tslib.array_to_datetime\u001b[1;34m()\u001b[0m\n",
      "\u001b[1;32mpandas\\_libs\\tslib.pyx\u001b[0m in \u001b[0;36mpandas._libs.tslib.array_to_datetime\u001b[1;34m()\u001b[0m\n",
      "\u001b[1;32mpandas\\_libs\\tslibs\\parsing.pyx\u001b[0m in \u001b[0;36mpandas._libs.tslibs.parsing.parse_datetime_string\u001b[1;34m()\u001b[0m\n",
      "\u001b[1;32m~\\anaconda3\\lib\\site-packages\\dateutil\\parser\\_parser.py\u001b[0m in \u001b[0;36mparse\u001b[1;34m(timestr, parserinfo, **kwargs)\u001b[0m\n\u001b[0;32m   1372\u001b[0m         \u001b[1;32mreturn\u001b[0m \u001b[0mparser\u001b[0m\u001b[1;33m(\u001b[0m\u001b[0mparserinfo\u001b[0m\u001b[1;33m)\u001b[0m\u001b[1;33m.\u001b[0m\u001b[0mparse\u001b[0m\u001b[1;33m(\u001b[0m\u001b[0mtimestr\u001b[0m\u001b[1;33m,\u001b[0m \u001b[1;33m**\u001b[0m\u001b[0mkwargs\u001b[0m\u001b[1;33m)\u001b[0m\u001b[1;33m\u001b[0m\u001b[1;33m\u001b[0m\u001b[0m\n\u001b[0;32m   1373\u001b[0m     \u001b[1;32melse\u001b[0m\u001b[1;33m:\u001b[0m\u001b[1;33m\u001b[0m\u001b[1;33m\u001b[0m\u001b[0m\n\u001b[1;32m-> 1374\u001b[1;33m         \u001b[1;32mreturn\u001b[0m \u001b[0mDEFAULTPARSER\u001b[0m\u001b[1;33m.\u001b[0m\u001b[0mparse\u001b[0m\u001b[1;33m(\u001b[0m\u001b[0mtimestr\u001b[0m\u001b[1;33m,\u001b[0m \u001b[1;33m**\u001b[0m\u001b[0mkwargs\u001b[0m\u001b[1;33m)\u001b[0m\u001b[1;33m\u001b[0m\u001b[1;33m\u001b[0m\u001b[0m\n\u001b[0m\u001b[0;32m   1375\u001b[0m \u001b[1;33m\u001b[0m\u001b[0m\n\u001b[0;32m   1376\u001b[0m \u001b[1;33m\u001b[0m\u001b[0m\n",
      "\u001b[1;32m~\\anaconda3\\lib\\site-packages\\dateutil\\parser\\_parser.py\u001b[0m in \u001b[0;36mparse\u001b[1;34m(self, timestr, default, ignoretz, tzinfos, **kwargs)\u001b[0m\n\u001b[0;32m    644\u001b[0m                                                       second=0, microsecond=0)\n\u001b[0;32m    645\u001b[0m \u001b[1;33m\u001b[0m\u001b[0m\n\u001b[1;32m--> 646\u001b[1;33m         \u001b[0mres\u001b[0m\u001b[1;33m,\u001b[0m \u001b[0mskipped_tokens\u001b[0m \u001b[1;33m=\u001b[0m \u001b[0mself\u001b[0m\u001b[1;33m.\u001b[0m\u001b[0m_parse\u001b[0m\u001b[1;33m(\u001b[0m\u001b[0mtimestr\u001b[0m\u001b[1;33m,\u001b[0m \u001b[1;33m**\u001b[0m\u001b[0mkwargs\u001b[0m\u001b[1;33m)\u001b[0m\u001b[1;33m\u001b[0m\u001b[1;33m\u001b[0m\u001b[0m\n\u001b[0m\u001b[0;32m    647\u001b[0m \u001b[1;33m\u001b[0m\u001b[0m\n\u001b[0;32m    648\u001b[0m         \u001b[1;32mif\u001b[0m \u001b[0mres\u001b[0m \u001b[1;32mis\u001b[0m \u001b[1;32mNone\u001b[0m\u001b[1;33m:\u001b[0m\u001b[1;33m\u001b[0m\u001b[1;33m\u001b[0m\u001b[0m\n",
      "\u001b[1;32m~\\anaconda3\\lib\\site-packages\\dateutil\\parser\\_parser.py\u001b[0m in \u001b[0;36m_parse\u001b[1;34m(self, timestr, dayfirst, yearfirst, fuzzy, fuzzy_with_tokens)\u001b[0m\n\u001b[0;32m    744\u001b[0m                 \u001b[1;32mif\u001b[0m \u001b[0mvalue\u001b[0m \u001b[1;32mis\u001b[0m \u001b[1;32mnot\u001b[0m \u001b[1;32mNone\u001b[0m\u001b[1;33m:\u001b[0m\u001b[1;33m\u001b[0m\u001b[1;33m\u001b[0m\u001b[0m\n\u001b[0;32m    745\u001b[0m                     \u001b[1;31m# Numeric token\u001b[0m\u001b[1;33m\u001b[0m\u001b[1;33m\u001b[0m\u001b[1;33m\u001b[0m\u001b[0m\n\u001b[1;32m--> 746\u001b[1;33m                     \u001b[0mi\u001b[0m \u001b[1;33m=\u001b[0m \u001b[0mself\u001b[0m\u001b[1;33m.\u001b[0m\u001b[0m_parse_numeric_token\u001b[0m\u001b[1;33m(\u001b[0m\u001b[0ml\u001b[0m\u001b[1;33m,\u001b[0m \u001b[0mi\u001b[0m\u001b[1;33m,\u001b[0m \u001b[0minfo\u001b[0m\u001b[1;33m,\u001b[0m \u001b[0mymd\u001b[0m\u001b[1;33m,\u001b[0m \u001b[0mres\u001b[0m\u001b[1;33m,\u001b[0m \u001b[0mfuzzy\u001b[0m\u001b[1;33m)\u001b[0m\u001b[1;33m\u001b[0m\u001b[1;33m\u001b[0m\u001b[0m\n\u001b[0m\u001b[0;32m    747\u001b[0m \u001b[1;33m\u001b[0m\u001b[0m\n\u001b[0;32m    748\u001b[0m                 \u001b[1;31m# Check weekday\u001b[0m\u001b[1;33m\u001b[0m\u001b[1;33m\u001b[0m\u001b[1;33m\u001b[0m\u001b[0m\n",
      "\u001b[1;32m~\\anaconda3\\lib\\site-packages\\dateutil\\parser\\_parser.py\u001b[0m in \u001b[0;36m_parse_numeric_token\u001b[1;34m(self, tokens, idx, info, ymd, res, fuzzy)\u001b[0m\n\u001b[0;32m    945\u001b[0m             \u001b[1;31m# HH:MM[:SS[.ss]]\u001b[0m\u001b[1;33m\u001b[0m\u001b[1;33m\u001b[0m\u001b[1;33m\u001b[0m\u001b[0m\n\u001b[0;32m    946\u001b[0m             \u001b[0mres\u001b[0m\u001b[1;33m.\u001b[0m\u001b[0mhour\u001b[0m \u001b[1;33m=\u001b[0m \u001b[0mint\u001b[0m\u001b[1;33m(\u001b[0m\u001b[0mvalue\u001b[0m\u001b[1;33m)\u001b[0m\u001b[1;33m\u001b[0m\u001b[1;33m\u001b[0m\u001b[0m\n\u001b[1;32m--> 947\u001b[1;33m             \u001b[0mvalue\u001b[0m \u001b[1;33m=\u001b[0m \u001b[0mself\u001b[0m\u001b[1;33m.\u001b[0m\u001b[0m_to_decimal\u001b[0m\u001b[1;33m(\u001b[0m\u001b[0mtokens\u001b[0m\u001b[1;33m[\u001b[0m\u001b[0midx\u001b[0m \u001b[1;33m+\u001b[0m \u001b[1;36m2\u001b[0m\u001b[1;33m]\u001b[0m\u001b[1;33m)\u001b[0m  \u001b[1;31m# TODO: try/except for this?\u001b[0m\u001b[1;33m\u001b[0m\u001b[1;33m\u001b[0m\u001b[0m\n\u001b[0m\u001b[0;32m    948\u001b[0m             \u001b[1;33m(\u001b[0m\u001b[0mres\u001b[0m\u001b[1;33m.\u001b[0m\u001b[0mminute\u001b[0m\u001b[1;33m,\u001b[0m \u001b[0mres\u001b[0m\u001b[1;33m.\u001b[0m\u001b[0msecond\u001b[0m\u001b[1;33m)\u001b[0m \u001b[1;33m=\u001b[0m \u001b[0mself\u001b[0m\u001b[1;33m.\u001b[0m\u001b[0m_parse_min_sec\u001b[0m\u001b[1;33m(\u001b[0m\u001b[0mvalue\u001b[0m\u001b[1;33m)\u001b[0m\u001b[1;33m\u001b[0m\u001b[1;33m\u001b[0m\u001b[0m\n\u001b[0;32m    949\u001b[0m \u001b[1;33m\u001b[0m\u001b[0m\n",
      "\u001b[1;32m~\\anaconda3\\lib\\site-packages\\dateutil\\parser\\_parser.py\u001b[0m in \u001b[0;36m_to_decimal\u001b[1;34m(self, val)\u001b[0m\n\u001b[0;32m   1150\u001b[0m             \u001b[1;31m# See GH 662, edge case, infinite value should not be converted\u001b[0m\u001b[1;33m\u001b[0m\u001b[1;33m\u001b[0m\u001b[1;33m\u001b[0m\u001b[0m\n\u001b[0;32m   1151\u001b[0m             \u001b[1;31m#  via `_to_decimal`\u001b[0m\u001b[1;33m\u001b[0m\u001b[1;33m\u001b[0m\u001b[1;33m\u001b[0m\u001b[0m\n\u001b[1;32m-> 1152\u001b[1;33m             \u001b[1;32mif\u001b[0m \u001b[1;32mnot\u001b[0m \u001b[0mdecimal_value\u001b[0m\u001b[1;33m.\u001b[0m\u001b[0mis_finite\u001b[0m\u001b[1;33m(\u001b[0m\u001b[1;33m)\u001b[0m\u001b[1;33m:\u001b[0m\u001b[1;33m\u001b[0m\u001b[1;33m\u001b[0m\u001b[0m\n\u001b[0m\u001b[0;32m   1153\u001b[0m                 \u001b[1;32mraise\u001b[0m \u001b[0mValueError\u001b[0m\u001b[1;33m(\u001b[0m\u001b[1;34m\"Converted decimal value is infinite or NaN\"\u001b[0m\u001b[1;33m)\u001b[0m\u001b[1;33m\u001b[0m\u001b[1;33m\u001b[0m\u001b[0m\n\u001b[0;32m   1154\u001b[0m         \u001b[1;32mexcept\u001b[0m \u001b[0mException\u001b[0m \u001b[1;32mas\u001b[0m \u001b[0me\u001b[0m\u001b[1;33m:\u001b[0m\u001b[1;33m\u001b[0m\u001b[1;33m\u001b[0m\u001b[0m\n",
      "\u001b[1;31mKeyboardInterrupt\u001b[0m: "
     ]
    }
   ],
   "source": [
    "for i in ['key','pickup_datetime']:\n",
    "    change_into_datetime(i)"
   ]
  },
  {
   "cell_type": "code",
   "execution_count": null,
   "metadata": {
    "colab": {
     "base_uri": "https://localhost:8080/"
    },
    "id": "X20Qunysdi6u",
    "outputId": "2ab7aa30-9ef2-4b40-f2f3-5d1c417ce322"
   },
   "outputs": [],
   "source": [
    "train_df.dtypes"
   ]
  },
  {
   "cell_type": "markdown",
   "metadata": {
    "id": "nvJghxYvb8k9"
   },
   "source": [
    "### Extracting the year, month, date and week day of the ride"
   ]
  },
  {
   "cell_type": "code",
   "execution_count": null,
   "metadata": {
    "id": "nuAKOzN5di6v"
   },
   "outputs": [],
   "source": [
    "train_df['pickup_year'] = train_df['pickup_datetime'].dt.year\n",
    "train_df['pickup_month'] = train_df['pickup_datetime'].dt.month\n",
    "train_df['pickup_date'] = train_df['pickup_datetime'].dt.day\n",
    "train_df['pickup_day_of_month'] = train_df['pickup_datetime'].dt.dayofweek"
   ]
  },
  {
   "cell_type": "code",
   "execution_count": null,
   "metadata": {
    "colab": {
     "base_uri": "https://localhost:8080/",
     "height": 605
    },
    "id": "ihgrkizXdi6v",
    "outputId": "f37d8f08-7b23-4a4b-d0f0-e43a5f8e67d7"
   },
   "outputs": [],
   "source": [
    "train_df"
   ]
  },
  {
   "cell_type": "markdown",
   "metadata": {
    "id": "Ox8CHzMQcKJ2"
   },
   "source": [
    "### Extracting the Hour, Minute and Seconds value"
   ]
  },
  {
   "cell_type": "code",
   "execution_count": null,
   "metadata": {
    "id": "29YdMcHLdi6v"
   },
   "outputs": [],
   "source": [
    "def extract_hour(train_df,col):\n",
    "    train_df[col + '_hour'] = train_df[col].dt.hour\n",
    "\n",
    "def extract_minute(train_df,col):\n",
    "    train_df[col + '_minute'] = train_df[col].dt.minute\n",
    "\n",
    "def extract_second(train_df,col):\n",
    "    train_df[col + '_second'] = train_df[col].dt.second"
   ]
  },
  {
   "cell_type": "code",
   "execution_count": null,
   "metadata": {
    "id": "dKw3_70xdi6v"
   },
   "outputs": [],
   "source": [
    "extract_hour(train_df,'pickup_datetime')\n",
    "extract_minute(train_df,'pickup_datetime')\n",
    "extract_second(train_df,'pickup_datetime')"
   ]
  },
  {
   "cell_type": "code",
   "execution_count": null,
   "metadata": {
    "id": "N8O6CVTkdi6w"
   },
   "outputs": [],
   "source": [
    "train_df.drop(columns=['key','pickup_datetime'], axis=1, inplace=True)"
   ]
  },
  {
   "cell_type": "code",
   "execution_count": null,
   "metadata": {
    "colab": {
     "base_uri": "https://localhost:8080/",
     "height": 437
    },
    "id": "BQ_iBWn5di6w",
    "outputId": "72e2c209-12b0-4813-d1f9-fe4d87208285"
   },
   "outputs": [],
   "source": [
    "train_df"
   ]
  },
  {
   "cell_type": "markdown",
   "metadata": {
    "id": "2akMevzHdyGt"
   },
   "source": [
    "### Removing the Latitude values that are greater than 90 or lesser than -90"
   ]
  },
  {
   "cell_type": "code",
   "execution_count": null,
   "metadata": {
    "colab": {
     "base_uri": "https://localhost:8080/"
    },
    "id": "oSKkMF2edi6w",
    "outputId": "184a75db-6829-41ad-e7f4-c669affb45a5"
   },
   "outputs": [],
   "source": [
    "train_df['pickup_latitude'].describe()"
   ]
  },
  {
   "cell_type": "code",
   "execution_count": null,
   "metadata": {
    "colab": {
     "base_uri": "https://localhost:8080/"
    },
    "id": "c0VKYt9sg4Sm",
    "outputId": "bcb21c1a-2907-4f74-c29b-8bf572bfc533"
   },
   "outputs": [],
   "source": [
    "train_df['dropoff_latitude'].describe()"
   ]
  },
  {
   "cell_type": "code",
   "execution_count": null,
   "metadata": {
    "colab": {
     "base_uri": "https://localhost:8080/"
    },
    "id": "mQRGl7AZdi6w",
    "outputId": "0a9d9aa0-a8bc-4a57-d7a8-c06d4bef7512"
   },
   "outputs": [],
   "source": [
    "len(train_df[train_df['pickup_latitude'] < -90 ]) #number of records which has latitude < -90"
   ]
  },
  {
   "cell_type": "code",
   "execution_count": null,
   "metadata": {
    "colab": {
     "base_uri": "https://localhost:8080/"
    },
    "id": "sYaiEGT0di6w",
    "outputId": "8385c307-02db-4deb-e0d4-e7786e427d67"
   },
   "outputs": [],
   "source": [
    "len(train_df[train_df['pickup_latitude'] > 90 ])  #number of records which has latitude > 90"
   ]
  },
  {
   "cell_type": "code",
   "execution_count": null,
   "metadata": {
    "colab": {
     "base_uri": "https://localhost:8080/"
    },
    "id": "8uV-QJ3Lg8Vi",
    "outputId": "efaa11dd-6599-4d32-dd14-124aba61437f"
   },
   "outputs": [],
   "source": [
    "len(train_df[train_df['dropoff_latitude'] < -90 ]) #number of records which has latitude < -90"
   ]
  },
  {
   "cell_type": "code",
   "execution_count": null,
   "metadata": {
    "colab": {
     "base_uri": "https://localhost:8080/"
    },
    "id": "8HvYNCTug8SK",
    "outputId": "949b7790-3fca-4f3b-969d-f71e5442b43d"
   },
   "outputs": [],
   "source": [
    "len(train_df[train_df['dropoff_latitude']  > 90 ]) #number of records which has latitude > 90"
   ]
  },
  {
   "cell_type": "code",
   "execution_count": null,
   "metadata": {
    "id": "hb4ctj-5di6x"
   },
   "outputs": [],
   "source": [
    "train_df.drop(train_df[train_df['pickup_latitude'] < -90].index, axis = 0, inplace = True)\n",
    "train_df.drop(train_df[train_df['pickup_latitude'] > 90].index, axis = 0, inplace = True)\n",
    "\n",
    "train_df.drop(train_df[train_df['dropoff_latitude'] < -90].index, axis = 0, inplace = True)\n",
    "train_df.drop(train_df[train_df['dropoff_latitude'] > 90].index, axis = 0, inplace = True)"
   ]
  },
  {
   "cell_type": "markdown",
   "metadata": {
    "id": "EvM4our6fexI"
   },
   "source": [
    "### Removing the Longitude values that are greater than 180 or lesser than -180"
   ]
  },
  {
   "cell_type": "code",
   "execution_count": null,
   "metadata": {
    "colab": {
     "base_uri": "https://localhost:8080/"
    },
    "id": "fGNRRweRdi6x",
    "outputId": "ddea9e77-3431-4867-ebaf-ef2d3ad28124"
   },
   "outputs": [],
   "source": [
    "train_df['pickup_longitude'].describe()"
   ]
  },
  {
   "cell_type": "code",
   "execution_count": null,
   "metadata": {
    "colab": {
     "base_uri": "https://localhost:8080/"
    },
    "id": "htYmfklWhOD6",
    "outputId": "5cac8cd0-27b7-4304-e135-62ed3c1798cb"
   },
   "outputs": [],
   "source": [
    "train_df['dropoff_longitude'].describe()"
   ]
  },
  {
   "cell_type": "code",
   "execution_count": null,
   "metadata": {
    "colab": {
     "base_uri": "https://localhost:8080/"
    },
    "id": "cXmh6omZdi6x",
    "outputId": "db4e050a-764a-4aea-c14e-e3e5ca848feb"
   },
   "outputs": [],
   "source": [
    "len(train_df[train_df['pickup_longitude'] < -180])   #number of records which has longitude < -180"
   ]
  },
  {
   "cell_type": "code",
   "execution_count": null,
   "metadata": {
    "colab": {
     "base_uri": "https://localhost:8080/"
    },
    "id": "SY0PrDrOhRwt",
    "outputId": "0100f8c4-27ce-4120-8b94-78efbf0cbfa8"
   },
   "outputs": [],
   "source": [
    "len(train_df[train_df['dropoff_longitude'] < -180])   #number of records which has longitude < -180"
   ]
  },
  {
   "cell_type": "code",
   "execution_count": null,
   "metadata": {
    "colab": {
     "base_uri": "https://localhost:8080/"
    },
    "id": "6dKmHaaMdi6x",
    "outputId": "c74ce881-09f8-44a7-ad94-7ec8c1a3a2e8"
   },
   "outputs": [],
   "source": [
    "len(train_df[train_df['pickup_longitude'] > 180])   #number of records which has longitude > 180"
   ]
  },
  {
   "cell_type": "code",
   "execution_count": null,
   "metadata": {
    "colab": {
     "base_uri": "https://localhost:8080/"
    },
    "id": "QhNRjAYkhVML",
    "outputId": "2a9b238c-2e84-484d-8999-b829b4ee4b6f"
   },
   "outputs": [],
   "source": [
    "len(train_df[train_df['dropoff_longitude'] > 180])   #number of records which has longitude > 180"
   ]
  },
  {
   "cell_type": "code",
   "execution_count": null,
   "metadata": {
    "id": "vgdKUNBpdi6x"
   },
   "outputs": [],
   "source": [
    "train_df.drop(train_df[train_df['pickup_longitude'] < -180].index, axis = 0, inplace = True)\n",
    "train_df.drop(train_df[train_df['pickup_longitude'] > 180].index, axis = 0, inplace = True)\n",
    "\n",
    "train_df.drop(train_df[train_df['dropoff_longitude'] < -180].index, axis = 0, inplace = True)"
   ]
  },
  {
   "cell_type": "code",
   "execution_count": null,
   "metadata": {
    "colab": {
     "base_uri": "https://localhost:8080/"
    },
    "id": "v0I4Iorvdi6x",
    "outputId": "67123386-145e-4b98-d092-b76fd36f3d71"
   },
   "outputs": [],
   "source": [
    "train_df.shape"
   ]
  },
  {
   "cell_type": "markdown",
   "metadata": {
    "id": "TDCbKw4Ih4nZ"
   },
   "source": [
    "### Calculating the Haversine Distance"
   ]
  },
  {
   "cell_type": "code",
   "execution_count": null,
   "metadata": {
    "id": "pbaRXBFD-LeH"
   },
   "outputs": [],
   "source": [
    "def haversine_distance(pickup_latitude,pickup_longitude,dropoff_latitude,dropoff_longitude):\n",
    "    \n",
    "    data = [train_df]\n",
    "    \n",
    "    for i in data:\n",
    "        R = 6371 # radius of the erth in kilometers\n",
    "        phi1 = np.radians(i[pickup_latitude])\n",
    "        phi2 = np.radians(i[dropoff_latitude])\n",
    "        \n",
    "        delta_phi = np.radians(i[dropoff_latitude] - i[pickup_latitude])\n",
    "        delta_lambda = np.radians(i[dropoff_longitude] - i[pickup_longitude])\n",
    "        \n",
    "        a = np.sin(delta_phi / 2.0) **2 + np.cos(phi1) * np.cos(phi2) * np.sin(delta_lambda / 2.0) ** 2\n",
    "        \n",
    "        c = 2 * np.arctan2(np.sqrt(a), np.sqrt(1-a))\n",
    "        \n",
    "        d = R * c\n",
    "        \n",
    "        i['harvesine_distance'] = d\n",
    "        \n",
    "    return d "
   ]
  },
  {
   "cell_type": "code",
   "execution_count": null,
   "metadata": {
    "colab": {
     "base_uri": "https://localhost:8080/"
    },
    "id": "l_bAzKKR-Ly9",
    "outputId": "727b3956-dfed-4b99-8e19-5053b49c06dc"
   },
   "outputs": [],
   "source": [
    "haversine_distance('pickup_latitude','pickup_longitude','dropoff_latitude','dropoff_longitude')"
   ]
  },
  {
   "cell_type": "code",
   "execution_count": null,
   "metadata": {
    "colab": {
     "base_uri": "https://localhost:8080/",
     "height": 437
    },
    "id": "RACXlezt-Lqp",
    "outputId": "31477375-28f2-4de5-ccc5-481a685b9ce8"
   },
   "outputs": [],
   "source": [
    "train_df"
   ]
  },
  {
   "cell_type": "markdown",
   "metadata": {
    "id": "OXrlzOqpLBu6"
   },
   "source": [
    "### Removing all the rows where passengers count is more than 6"
   ]
  },
  {
   "cell_type": "code",
   "execution_count": null,
   "metadata": {
    "colab": {
     "base_uri": "https://localhost:8080/"
    },
    "id": "vpkY7yJw-Lij",
    "outputId": "8ecccf89-9174-4486-ff0a-99a77fdbd683"
   },
   "outputs": [],
   "source": [
    "train_df['passenger_count'].describe()"
   ]
  },
  {
   "cell_type": "code",
   "execution_count": null,
   "metadata": {
    "colab": {
     "base_uri": "https://localhost:8080/"
    },
    "id": "l1wUl1kxIONX",
    "outputId": "5e42326b-5ff5-4bf5-8168-0ac86ce4c683"
   },
   "outputs": [],
   "source": [
    "train_df[train_df['passenger_count'] > 6].count()"
   ]
  },
  {
   "cell_type": "code",
   "execution_count": null,
   "metadata": {
    "id": "rSvZJ2_lIOKX"
   },
   "outputs": [],
   "source": [
    "train_df.drop(train_df[train_df['passenger_count'] > 6].index, axis = 0,inplace = True)"
   ]
  },
  {
   "cell_type": "code",
   "execution_count": null,
   "metadata": {
    "colab": {
     "base_uri": "https://localhost:8080/"
    },
    "id": "5KWD3gTUIOIT",
    "outputId": "0a6d2c43-6fce-4811-c3d8-f8fecd4a79dd"
   },
   "outputs": [],
   "source": [
    "train_df[train_df['passenger_count'] > 6].count()"
   ]
  },
  {
   "cell_type": "markdown",
   "metadata": {
    "id": "lPza-I_8LM_Z"
   },
   "source": [
    "### Preprocessing the target column -> Fare amount"
   ]
  },
  {
   "cell_type": "code",
   "execution_count": null,
   "metadata": {
    "colab": {
     "base_uri": "https://localhost:8080/"
    },
    "id": "c816uFFSIOGp",
    "outputId": "c5666338-d6ca-48a9-a9ba-ba23aebe7488"
   },
   "outputs": [],
   "source": [
    "train_df['fare_amount'].describe()"
   ]
  },
  {
   "cell_type": "code",
   "execution_count": null,
   "metadata": {
    "colab": {
     "base_uri": "https://localhost:8080/"
    },
    "id": "1FM5yNqsIOEj",
    "outputId": "85b7a002-018c-448d-a1be-46966b0fe1da"
   },
   "outputs": [],
   "source": [
    "from collections import Counter\n",
    "Counter(train_df['fare_amount'] < 0)  #counting nagetive records"
   ]
  },
  {
   "cell_type": "code",
   "execution_count": null,
   "metadata": {
    "colab": {
     "base_uri": "https://localhost:8080/"
    },
    "id": "eseUlt3iIODJ",
    "outputId": "399c5b9a-2046-40dd-9e32-32aeb0cb2c1a"
   },
   "outputs": [],
   "source": [
    "train_df = train_df.drop(train_df[train_df['fare_amount'] < 0].index, axis = 0)\n",
    "train_df.shape"
   ]
  },
  {
   "cell_type": "code",
   "execution_count": null,
   "metadata": {
    "colab": {
     "base_uri": "https://localhost:8080/"
    },
    "id": "5ngHNfzaIOAU",
    "outputId": "16b5c225-1ba6-49b0-bdb0-2a024ae5cab8"
   },
   "outputs": [],
   "source": [
    "train_df['fare_amount'].sort_values(ascending = False)"
   ]
  },
  {
   "cell_type": "markdown",
   "metadata": {
    "id": "G0NJnZNFL3Ax"
   },
   "source": [
    "## Visualizing the data"
   ]
  },
  {
   "cell_type": "code",
   "execution_count": null,
   "metadata": {
    "colab": {
     "base_uri": "https://localhost:8080/",
     "height": 351
    },
    "id": "W0OdFy4vIN-I",
    "outputId": "52e2fb63-ac95-4276-8513-bdd15aca60a0"
   },
   "outputs": [],
   "source": [
    "plt.figure(figsize=(15,5))\n",
    "sns.boxplot(x ='passenger_count', y ='fare_amount', data = train_df.sort_values('fare_amount', ascending=False))\n",
    "\n",
    "plt.savefig(r'C:\\Users\\KIIT\\Documents\\LGM-Soc contributions\\Uber Fare Prediction\\Images\\boxplot_1.png')"
   ]
  },
  {
   "cell_type": "code",
   "execution_count": null,
   "metadata": {
    "colab": {
     "base_uri": "https://localhost:8080/",
     "height": 352
    },
    "id": "ivxFYWTbIN7C",
    "outputId": "8be745be-2e66-4507-badd-00f98f64ea1c"
   },
   "outputs": [],
   "source": [
    "plt.figure(figsize=(15,5))\n",
    "sns.boxplot(x ='pickup_date', y ='fare_amount', data = train_df.sort_values('fare_amount', ascending=False))\n",
    "\n",
    "plt.savefig(r'C:\\Users\\KIIT\\Documents\\LGM-Soc contributions\\Uber Fare Prediction\\Images\\boxplot_2.png')"
   ]
  },
  {
   "cell_type": "code",
   "execution_count": null,
   "metadata": {
    "colab": {
     "base_uri": "https://localhost:8080/",
     "height": 352
    },
    "id": "8Q-CCxfWIN5T",
    "outputId": "10032f4a-ee73-4119-ad82-c9b5c2db47fa"
   },
   "outputs": [],
   "source": [
    "plt.figure(figsize=(15,5))\n",
    "sns.boxplot(x ='pickup_datetime_hour', y ='fare_amount', data = train_df.sort_values('fare_amount', ascending=False))\n",
    "\n",
    "plt.savefig(r'C:\\Users\\KIIT\\Documents\\LGM-Soc contributions\\Uber Fare Prediction\\Images\\boxplot_3.png')"
   ]
  },
  {
   "cell_type": "code",
   "execution_count": null,
   "metadata": {
    "colab": {
     "base_uri": "https://localhost:8080/",
     "height": 223
    },
    "id": "12D-YvkFIN2d",
    "outputId": "5fdf108d-f2da-4a37-f5b1-4da9f655d33d"
   },
   "outputs": [],
   "source": [
    "train_df.head()"
   ]
  },
  {
   "cell_type": "markdown",
   "metadata": {
    "id": "5uHgdJQJOuKJ"
   },
   "source": [
    "## Dealing with Outliers"
   ]
  },
  {
   "cell_type": "code",
   "execution_count": null,
   "metadata": {
    "id": "QIwzOnrsINzq"
   },
   "outputs": [],
   "source": [
    "def plot(df,col):\n",
    "    fig, (ax1,ax2) = plt.subplots(2,1)\n",
    "    sns.distplot(df[col], ax=ax1)\n",
    "    sns.boxplot(df[col], ax=ax2)"
   ]
  },
  {
   "cell_type": "code",
   "execution_count": null,
   "metadata": {
    "colab": {
     "base_uri": "https://localhost:8080/",
     "height": 367
    },
    "id": "TAPTXgePINvl",
    "outputId": "341c8d1c-4afd-4e52-8180-f791160e9012"
   },
   "outputs": [],
   "source": [
    "plot(train_df,'fare_amount')\n",
    "\n",
    "plt.savefig(r'C:\\Users\\KIIT\\Documents\\LGM-Soc contributions\\Uber Fare Prediction\\Images\\outlier_plot.png')"
   ]
  },
  {
   "cell_type": "code",
   "execution_count": null,
   "metadata": {
    "id": "74m-897aO4Iy"
   },
   "outputs": [],
   "source": [
    "train_df['fare_amount'] = np.where(train_df['fare_amount']>=600,train_df['fare_amount'].median(),train_df['fare_amount'])"
   ]
  },
  {
   "cell_type": "code",
   "execution_count": null,
   "metadata": {
    "colab": {
     "base_uri": "https://localhost:8080/",
     "height": 367
    },
    "id": "iXmoiFdxPdll",
    "outputId": "72e060c8-2d86-4b1d-f221-ff20e93b9d39"
   },
   "outputs": [],
   "source": [
    "plot(train_df,'fare_amount')\n",
    "\n",
    "plt.savefig(r'C:\\Users\\KIIT\\Documents\\LGM-Soc contributions\\Uber Fare Prediction\\Images\\final_outlier_plot.png')"
   ]
  },
  {
   "cell_type": "code",
   "execution_count": null,
   "metadata": {
    "colab": {
     "base_uri": "https://localhost:8080/"
    },
    "id": "uV_3z_aWPqn3",
    "outputId": "e0cecaa5-b31c-4e67-8596-e4713e6f1648"
   },
   "outputs": [],
   "source": [
    "train_df.shape"
   ]
  },
  {
   "cell_type": "markdown",
   "metadata": {
    "id": "ZjwFd57pQPSk"
   },
   "source": [
    "## Splitting the data"
   ]
  },
  {
   "cell_type": "code",
   "execution_count": null,
   "metadata": {
    "colab": {
     "base_uri": "https://localhost:8080/",
     "height": 223
    },
    "id": "KAzo85WUPybm",
    "outputId": "9d1f92dc-2d66-4156-d4d3-94d3ede7ce5c"
   },
   "outputs": [],
   "source": [
    "X = train_df.drop('fare_amount', axis=1)\n",
    "X.head()"
   ]
  },
  {
   "cell_type": "code",
   "execution_count": null,
   "metadata": {
    "colab": {
     "base_uri": "https://localhost:8080/"
    },
    "id": "SGD8AlnxP0Cr",
    "outputId": "5a963a8f-f889-4229-969a-b2f311b8c7b4"
   },
   "outputs": [],
   "source": [
    "X.shape"
   ]
  },
  {
   "cell_type": "code",
   "execution_count": null,
   "metadata": {
    "colab": {
     "base_uri": "https://localhost:8080/"
    },
    "id": "SryNfAfwPz_6",
    "outputId": "e23b03b7-0426-4040-aaac-b9fa5d300ddb"
   },
   "outputs": [],
   "source": [
    "y = train_df['fare_amount']\n",
    "y.head()"
   ]
  },
  {
   "cell_type": "markdown",
   "metadata": {
    "id": "eTZtTUFGRfcX"
   },
   "source": [
    "### Applying Train_Test_Split"
   ]
  },
  {
   "cell_type": "code",
   "execution_count": null,
   "metadata": {
    "id": "A7pWaYx0RnUX"
   },
   "outputs": [],
   "source": [
    "import seaborn as sns\n",
    "from sklearn.model_selection import train_test_split\n",
    "from sklearn import metrics"
   ]
  },
  {
   "cell_type": "code",
   "execution_count": null,
   "metadata": {
    "id": "t-tEHxEqPzxI"
   },
   "outputs": [],
   "source": [
    "X_train,X_test,y_train,y_test = train_test_split(X,y,test_size=0.2)"
   ]
  },
  {
   "cell_type": "markdown",
   "metadata": {
    "id": "m3xq_XYrRsF8"
   },
   "source": [
    "## Model training"
   ]
  },
  {
   "cell_type": "markdown",
   "metadata": {
    "id": "zEz_Ua5VRwlV"
   },
   "source": [
    "### Defining a model to pass any algorithm and to calculate the r2_score, MAE, MSE, RMSE\n"
   ]
  },
  {
   "cell_type": "code",
   "execution_count": null,
   "metadata": {
    "id": "4Ilc-baGPzuV"
   },
   "outputs": [],
   "source": [
    "def predict(algorithm):\n",
    "    model = algorithm.fit(X_train,y_train)\n",
    "    print('Training Score: {}'.format(model.score(X_train,y_train)))\n",
    "\n",
    "    preds = model.predict(X_test)\n",
    "    print('Predictions are: {}'.format(preds))\n",
    "    print('\\n')\n",
    "\n",
    "    r2_score = metrics.r2_score(y_test,preds)\n",
    "    print('r2_score is:{}'.format(r2_score))\n",
    "\n",
    "    print('MAE:',metrics.mean_absolute_error(y_test,preds))\n",
    "    print('MSE:',metrics.mean_squared_error(y_test,preds))\n",
    "    print('RMSE:',np.sqrt(metrics.mean_squared_error(y_test,preds)))\n",
    "    sns.distplot(y_test-preds)"
   ]
  },
  {
   "cell_type": "markdown",
   "metadata": {
    "id": "76iBO9tIR4rv"
   },
   "source": [
    "## Using RandomForestRegressor"
   ]
  },
  {
   "cell_type": "code",
   "execution_count": null,
   "metadata": {
    "id": "KTHcVCl8V2Bh"
   },
   "outputs": [],
   "source": [
    "from sklearn.ensemble import RandomForestRegressor\n",
    "\n",
    "predict(RandomForestRegressor())"
   ]
  },
  {
   "cell_type": "markdown",
   "metadata": {
    "id": "LiOhQG1VS4Td"
   },
   "source": [
    "## Using Linear Regression"
   ]
  },
  {
   "cell_type": "code",
   "execution_count": null,
   "metadata": {
    "id": "O-zGzGzsPzoV"
   },
   "outputs": [],
   "source": [
    "from sklearn.linear_model import LinearRegression\n",
    "\n",
    "predict(LinearRegression())"
   ]
  },
  {
   "cell_type": "markdown",
   "metadata": {
    "id": "XHAdp5iFS_AS"
   },
   "source": [
    "## Using KNNs"
   ]
  },
  {
   "cell_type": "code",
   "execution_count": null,
   "metadata": {
    "id": "urji18aYPzk0"
   },
   "outputs": [],
   "source": [
    "from sklearn.neighbors import KNeighborsRegressor\n",
    "\n",
    "predict(KNeighborsRegressor())"
   ]
  },
  {
   "cell_type": "markdown",
   "metadata": {
    "id": "kf0h7dZ5Tz9Y"
   },
   "source": [
    "## Using Decision Tree "
   ]
  },
  {
   "cell_type": "code",
   "execution_count": null,
   "metadata": {
    "id": "f2kknTzePzia"
   },
   "outputs": [],
   "source": [
    "from sklearn.tree import DecisionTreeRegressor \n",
    "\n",
    "predict(DecisionTreeRegressor())"
   ]
  },
  {
   "cell_type": "markdown",
   "metadata": {
    "id": "aVafnUoDT65s"
   },
   "source": [
    "## HyperParameter Tuning"
   ]
  },
  {
   "cell_type": "code",
   "execution_count": null,
   "metadata": {
    "id": "zVYirhUyPzfZ"
   },
   "outputs": [],
   "source": [
    "from sklearn.model_selection import RandomizedSearchCV"
   ]
  },
  {
   "cell_type": "code",
   "execution_count": null,
   "metadata": {
    "id": "l148VtovPzcU"
   },
   "outputs": [],
   "source": [
    "n_estimators = [int(x) for x in np.linspace(start=100,stop=1200,num=6)]\n",
    "max_depth = [int(x) for x in np.linspace(start=5,stop=30,num=4)]"
   ]
  },
  {
   "cell_type": "code",
   "execution_count": null,
   "metadata": {
    "id": "07OhfEP-PzYs"
   },
   "outputs": [],
   "source": [
    "random_params = {\n",
    "    'n_estimators':n_estimators,\n",
    "    'max_features':['auto','sqrt'],\n",
    "    'max_depth':max_depth,\n",
    "    'min_samples_split':[5,10,15,100]\n",
    "}"
   ]
  },
  {
   "cell_type": "code",
   "execution_count": null,
   "metadata": {},
   "outputs": [],
   "source": [
    "random_params"
   ]
  },
  {
   "cell_type": "code",
   "execution_count": null,
   "metadata": {},
   "outputs": [],
   "source": [
    "rf = RandomForestRegressor()"
   ]
  },
  {
   "cell_type": "code",
   "execution_count": null,
   "metadata": {},
   "outputs": [],
   "source": [
    "tuned_rf =  RandomizedSearchCV(\n",
    "    estimator=rf,\n",
    "    param_distributions=random_params,\n",
    "    cv=3,\n",
    "    verbose=2,\n",
    "    n_jobs=-1\n",
    ")"
   ]
  },
  {
   "cell_type": "code",
   "execution_count": null,
   "metadata": {},
   "outputs": [],
   "source": [
    "tuned_rf.fit(X_train,y_train)"
   ]
  },
  {
   "cell_type": "code",
   "execution_count": null,
   "metadata": {},
   "outputs": [],
   "source": [
    "tuned_rf.best_params_"
   ]
  },
  {
   "cell_type": "code",
   "execution_count": null,
   "metadata": {},
   "outputs": [],
   "source": [
    "predictions = tuned_rf.predict(X_test)"
   ]
  },
  {
   "cell_type": "code",
   "execution_count": null,
   "metadata": {},
   "outputs": [],
   "source": [
    "sns.distplot(y_test-predictions)"
   ]
  },
  {
   "cell_type": "code",
   "execution_count": null,
   "metadata": {},
   "outputs": [],
   "source": [
    "metrics.r2_score(y_test,predictions)"
   ]
  },
  {
   "cell_type": "code",
   "execution_count": null,
   "metadata": {},
   "outputs": [],
   "source": [
    "print('MAE:',metrics.mean_absolute_error(y_test,predictions))\n",
    "print('MSE:',metrics.mean_squared_error(y_test,predictions))\n",
    "print('RMSE:',np.sqrt(metrics.mean_squared_error(y_test,predictions)))"
   ]
  },
  {
   "cell_type": "code",
   "execution_count": null,
   "metadata": {},
   "outputs": [],
   "source": [
    "import pickle\n",
    "\n",
    "file = open(r'C:\\Users\\KIIT\\Documents\\LGM-Soc contributions\\Uber Fare Prediction\\Model/hypertuned_rf_model.pkl','wb')"
   ]
  },
  {
   "cell_type": "code",
   "execution_count": null,
   "metadata": {},
   "outputs": [],
   "source": [
    "pickle.dump(tuned_rf, file)"
   ]
  }
 ],
 "metadata": {
  "accelerator": "TPU",
  "colab": {
   "collapsed_sections": [],
   "name": "uber_fare_prediction.ipynb",
   "provenance": [],
   "toc_visible": true
  },
  "kernelspec": {
   "display_name": "Python 3",
   "language": "python",
   "name": "python3"
  },
  "language_info": {
   "codemirror_mode": {
    "name": "ipython",
    "version": 3
   },
   "file_extension": ".py",
   "mimetype": "text/x-python",
   "name": "python",
   "nbconvert_exporter": "python",
   "pygments_lexer": "ipython3",
   "version": "3.7.9"
  }
 },
 "nbformat": 4,
 "nbformat_minor": 1
}
