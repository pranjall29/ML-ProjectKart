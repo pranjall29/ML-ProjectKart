{
 "cells": [
  {
   "cell_type": "markdown",
   "metadata": {},
   "source": [
    "# Text Summarization\n",
    "![](https://blog.floydhub.com/content/images/2019/04/romain-vignes-53940-unsplash.jpg)"
   ]
  },
  {
   "cell_type": "markdown",
   "metadata": {},
   "source": [
    "### Contents\n",
    "1. Abstract\n",
    "2. Dataset\n",
    "3. Goal\n",
    "4. Importing the required libraries and dataset\n",
    "5. Data Pre-processing\n",
    "6. Data Cleaning\n",
    "7. Model creation\n",
    "    - Spliting the dataset\n",
    "    - Visualizing the attributes\n",
    "    - Vectorization\n",
    "    - Final Model Creation\n",
    "    - Inference\n",
    "8. Additional! Creating a Python function\n",
    "9. Conclusion"
   ]
  },
  {
   "cell_type": "markdown",
   "metadata": {},
   "source": [
    "************************\n",
    "### Abstract\n",
    "Summarization is the task of condensing a piece of text to a shorter version, reducing the size of the initial text while at the same time preserving key informational elements and the meaning of content. Since manual text summarization is a time expensive and generally laborious task, the automatization of the task is gaining increasing popularity and therefore constitutes a strong motivation for academic research.\n",
    "\n",
    "There are important applications for text summarization in various NLP related tasks such as text classification, question answering, legal texts summarization, news summarization, and headline generation. Moreover, the generation of summaries can be integrated into these systems as an intermediate stage which helps to reduce the length of the document.\n",
    "\n",
    "### Dataset\n",
    "The dataset which is used here, is collected from Kaggle website. Here is the link of the dataset : https://www.kaggle.com/pariza/bbc-news-summary.\n",
    "\n",
    "### Goal\n",
    "The goal of this project is to create a model which will summarize the articles given by the users. In addition I will be creating a Python function to make the model more user friendly!\n",
    "***********************"
   ]
  },
  {
   "cell_type": "markdown",
   "metadata": {},
   "source": [
    "### Importing required libraries and Dataset"
   ]
  },
  {
   "cell_type": "code",
   "execution_count": 93,
   "metadata": {},
   "outputs": [],
   "source": [
    "import numpy as np\n",
    "import pandas as pd\n",
    "import matplotlib.pyplot as plt\n",
    "import tensorflow as tf\n",
    "from tqdm import tqdm\n",
    "import os\n",
    "from nltk.corpus import stopwords\n",
    "from tensorflow.keras import Sequential\n",
    "from tensorflow.keras.models import Model\n",
    "from tensorflow.keras.layers import Dense,LSTM,Bidirectional,Flatten,Dropout,BatchNormalization,Embedding,Input,TimeDistributed\n",
    "from sklearn.model_selection import train_test_split\n",
    "from tensorflow.keras.utils import plot_model"
   ]
  },
  {
   "cell_type": "markdown",
   "metadata": {},
   "source": [
    "### Data Preprocessing\n",
    "Data preprocessing is an important step in the data mining process. The phrase \" is particularly applicable to data mining and machine learning projects. Data-gathering methods are often loosely controlled, resulting in out-of-range values, impossible data combinations, and missing values, etc."
   ]
  },
  {
   "cell_type": "code",
   "execution_count": 94,
   "metadata": {
    "_cell_guid": "79c7e3d0-c299-4dcb-8224-4455121ee9b0",
    "_uuid": "d629ff2d2480ee46fbb7e2d37f6b5fab8052498a"
   },
   "outputs": [
    {
     "name": "stderr",
     "output_type": "stream",
     "text": [
      "29it [00:06,  4.28it/s]\n"
     ]
    }
   ],
   "source": [
    "all_data=[]\n",
    "Articles_with_stopwords=[]\n",
    "Articles_without_stopwords=[]\n",
    "Summaries=[]\n",
    "stop_words=set(stopwords.words('english'))\n",
    "for d,path,filenames in tqdm(os.walk('/kaggle/input')):\n",
    "    for file in filenames:\n",
    "        if os.path.isfile(d+'/'+file):\n",
    "            if('Summaries' in d+'/'+file):\n",
    "                with open(d+'/'+file,'r',errors='ignore') as f:\n",
    "                    summary=''.join([i.rstrip() for i in f.readlines()])\n",
    "                    Summaries.append(summary)\n",
    "                    f.close()\n",
    "            else:\n",
    "                with open(d+'/'+file,'r',errors='ignore') as f:\n",
    "                    Article=''.join([i.rstrip() for i in f.readlines()])\n",
    "                    Articles_with_stopwords.append(Article)\n",
    "                    Articles_without_stopwords.append(' '.join([w for w in Article.split() if w not in stop_words]))\n",
    "                    f.close()\n",
    "        \n",
    "                    "
   ]
  },
  {
   "cell_type": "code",
   "execution_count": 95,
   "metadata": {},
   "outputs": [
    {
     "name": "stdout",
     "output_type": "stream",
     "text": [
      "4450 4450 4450\n"
     ]
    }
   ],
   "source": [
    "print(len(Articles_with_stopwords),len(Articles_without_stopwords),len(Summaries))"
   ]
  },
  {
   "cell_type": "code",
   "execution_count": 96,
   "metadata": {},
   "outputs": [
    {
     "data": {
      "text/html": [
       "<div>\n",
       "<style scoped>\n",
       "    .dataframe tbody tr th:only-of-type {\n",
       "        vertical-align: middle;\n",
       "    }\n",
       "\n",
       "    .dataframe tbody tr th {\n",
       "        vertical-align: top;\n",
       "    }\n",
       "\n",
       "    .dataframe thead th {\n",
       "        text-align: right;\n",
       "    }\n",
       "</style>\n",
       "<table border=\"1\" class=\"dataframe\">\n",
       "  <thead>\n",
       "    <tr style=\"text-align: right;\">\n",
       "      <th></th>\n",
       "      <th>Articles without stop words</th>\n",
       "      <th>Article with stop words</th>\n",
       "      <th>Summary</th>\n",
       "    </tr>\n",
       "  </thead>\n",
       "  <tbody>\n",
       "    <tr>\n",
       "      <th>0</th>\n",
       "      <td>Commodore finds new lease lifeThe once-famous ...</td>\n",
       "      <td>Commodore finds new lease of lifeThe once-famo...</td>\n",
       "      <td>In the chronology of home computing, Commodore...</td>\n",
       "    </tr>\n",
       "    <tr>\n",
       "      <th>1</th>\n",
       "      <td>China net cafe culture crackdownChinese author...</td>\n",
       "      <td>China net cafe culture crackdownChinese author...</td>\n",
       "      <td>Laws on net cafe opening hours and who can use...</td>\n",
       "    </tr>\n",
       "    <tr>\n",
       "      <th>2</th>\n",
       "      <td>Nintendo handheld given Euro dateNintendo's ne...</td>\n",
       "      <td>Nintendo handheld given Euro dateNintendo's ne...</td>\n",
       "      <td>More than 120 games are in development for the...</td>\n",
       "    </tr>\n",
       "    <tr>\n",
       "      <th>3</th>\n",
       "      <td>Microsoft sets sights spywareWindows users cou...</td>\n",
       "      <td>Microsoft sets sights on spywareWindows users ...</td>\n",
       "      <td>Windows users could soon be paying Microsoft t...</td>\n",
       "    </tr>\n",
       "    <tr>\n",
       "      <th>4</th>\n",
       "      <td>Britons fed net serviceA survey conducted PC P...</td>\n",
       "      <td>Britons fed up with net serviceA survey conduc...</td>\n",
       "      <td>Every month the prices drop, and more and more...</td>\n",
       "    </tr>\n",
       "  </tbody>\n",
       "</table>\n",
       "</div>"
      ],
      "text/plain": [
       "                         Articles without stop words  \\\n",
       "0  Commodore finds new lease lifeThe once-famous ...   \n",
       "1  China net cafe culture crackdownChinese author...   \n",
       "2  Nintendo handheld given Euro dateNintendo's ne...   \n",
       "3  Microsoft sets sights spywareWindows users cou...   \n",
       "4  Britons fed net serviceA survey conducted PC P...   \n",
       "\n",
       "                             Article with stop words  \\\n",
       "0  Commodore finds new lease of lifeThe once-famo...   \n",
       "1  China net cafe culture crackdownChinese author...   \n",
       "2  Nintendo handheld given Euro dateNintendo's ne...   \n",
       "3  Microsoft sets sights on spywareWindows users ...   \n",
       "4  Britons fed up with net serviceA survey conduc...   \n",
       "\n",
       "                                             Summary  \n",
       "0  In the chronology of home computing, Commodore...  \n",
       "1  Laws on net cafe opening hours and who can use...  \n",
       "2  More than 120 games are in development for the...  \n",
       "3  Windows users could soon be paying Microsoft t...  \n",
       "4  Every month the prices drop, and more and more...  "
      ]
     },
     "execution_count": 96,
     "metadata": {},
     "output_type": "execute_result"
    }
   ],
   "source": [
    "data=pd.DataFrame({'Articles without stop words':Articles_without_stopwords,'Article with stop words': Articles_with_stopwords,'Summary':Summaries})\n",
    "data.head()"
   ]
  },
  {
   "cell_type": "code",
   "execution_count": 97,
   "metadata": {},
   "outputs": [
    {
     "data": {
      "text/plain": [
       "'Commodore finds new lease lifeThe once-famous Commodore computer brand could resurrected bought US-based digital music distributor.New owner Yeahronimo Media Ventures ruled possibility new breed Commodore computers. It also plans develop \"worldwide entertainment concept\" brand, although details yet known. The groundbreaking Commodore 64 computer elicits fond memories owned one back 1980s.In chronology home computing, Commodore one pioneers.The Commodore 64, launched 1982, one first affordable home PCs. It followed years later Amiga. The Commodore 64 sold single computer system, even day. The brand languished somewhat 1990s. Commodore International filed bankruptcy 1994 sold Dutch firm Tulip Computers. In late 1980s firm great rival Atari, produced range home computers brand video games, formerly known Infogrames.Tulip Computers sold several products Commodore name, including portable USB storage devices digital music players. It planned relaunch brand, following upsurge nostalgia 1980s-era games. Commodore 64 enthusiasts written emulators Windows PC, Apple Mac even PDAs original Commodore games still run. The sale Commodore expected complete three weeks deal worth £17m.'"
      ]
     },
     "execution_count": 97,
     "metadata": {},
     "output_type": "execute_result"
    }
   ],
   "source": [
    "data['Articles without stop words'][0]"
   ]
  },
  {
   "cell_type": "code",
   "execution_count": 98,
   "metadata": {},
   "outputs": [
    {
     "name": "stdout",
     "output_type": "stream",
     "text": [
      "Commodore finds new lease of lifeThe once-famous Commodore computer brand could be resurrected after being bought by a US-based digital music distributor.New owner Yeahronimo Media Ventures has not ruled out the possibility of a new breed of Commodore computers. It also plans to develop a \"worldwide entertainment concept\" with the brand, although details are not yet known. The groundbreaking Commodore 64 computer elicits fond memories for those who owned one back in the 1980s.In the chronology of home computing, Commodore was one of the pioneers.The Commodore 64, launched in 1982, was one of the first affordable home PCs. It was followed a few years later by the Amiga. The Commodore 64 sold more than any other single computer system, even to this day. The brand languished somewhat in the 1990s. Commodore International filed for bankruptcy in 1994 and was sold to Dutch firm Tulip Computers. In the late 1980s the firm was a great rival to Atari, which produced its own range of home computers and is now a brand of video games, formerly known as Infogrames.Tulip Computers sold several products under the Commodore name, including portable USB storage devices and digital music players. It had planned to relaunch the brand, following an upsurge of nostalgia for 1980s-era games. Commodore 64 enthusiasts have written emulators for Windows PC, Apple Mac and even PDAs so that the original Commodore games can be still run. The sale of Commodore is expected to be complete in three weeks in a deal worth over £17m.\n",
      "---------------------------------------------\n",
      "China net cafe culture crackdownChinese authorities closed 12,575 net cafes in the closing months of 2004, the country's government said.According to the official news agency most of the net cafes were closed down because they were operating illegally. Chinese net cafes operate under a set of strict guidelines and many of those most recently closed broke rules that limit how close they can be to schools. The move is the latest in a series of steps the Chinese government has taken to crack down on what it considers to be immoral net use.The official Xinhua News Agency said the crackdown was carried out to create a \"safer environment for young people in China\". Rules introduced in 2002 demand that net cafes be at least 200 metres away from middle and elementary schools. The hours that children can use net cafes are also tightly regulated. China has long been worried that net cafes are an unhealthy influence on young people. The 12,575 cafes were shut in the three months from October to December. China also tries to dictate the types of computer games people can play to limit the amount of violence people are exposed to.Net cafes are hugely popular in China because the relatively high cost of computer hardware means that few people have PCs in their homes. This is not the first time that the Chinese government has moved against net cafes that are not operating within its strict guidelines. All the 100,000 or so net cafes in the country are required to use software that controls what websites users can see. Logs of sites people visit are also kept. Laws on net cafe opening hours and who can use them were introduced in 2002 following a fire at one cafe that killed 25 people. During the crackdown following the blaze authorities moved to clean up net cafes and demanded that all of them get permits to operate. In August 2004 Chinese authorities shut down 700 websites and arrested 224 people in a crackdown on net porn. At the same time it introduced new controls to block overseas sex sites. The Reporters Without Borders group said in a report that Chinese government technologies for e-mail interception and net censorship are among the most highly developed in the world.\n",
      "---------------------------------------------\n",
      "Nintendo handheld given Euro dateNintendo's new handheld console, the DS, will launch in Europe on 11 March, the company has announced.The portable games machine, which features touch-screen control, will retail for £99 in the UK (149 euros). Nintendo said 15 games would be available in the UK at launch, with prices ranging from £19 to £29. More than 2.8 million DS consoles have been sold since it first appeared in the US and Japan at the end of 2004. Rival Sony has said it will launch its first handheld console, the PSP, in the US and Europe before the end of March. The PSP is expected to compete for a large part of the same handheld market, despite Sony's assertion that the machines are aimed at different consumers.The 15 games available on the European launch date will include Nintendo's Super Mario 64 DS, as well as titles from third-party developers such as Ubisoft's Rayman DS.More than 120 games are in development for the new console, Nintendo has said. The DS is backwards compatible with the Game Boy Advance, allowing the earlier machine's back catalogue of 700 games to be played. Additionally, a short-range wireless link for multiplayer gaming is built in to the DS, with a \"download play\" option which allows a group to play against each other, even if just one person owns a copy. Other features include a short-range messaging application called Pictochat, and a built-in microphone which is used in Sega's launch title Project Rub. Nintendo has also announced a media adapter, which will allow the console to play music and video on the move.The launch price of £99 (149 euros) compares favourably with the US price of $149, according to John Houlihan, editor of the Computerandvideogames.com magazine. \"It's a very, very competitive price point. There are some innovative features, and Nintendo has created quite a buzz,\" he says. \"However, the line-up of games could have been stronger. Everyone wanted to see the eight-player Mario Kart DS, for example.\"Mr Houlihan believes that there is likely to be an audience for both the Nintendo DS and Sony's new PSP, with the former aimed largely at a younger audience and the latter expected to be marketed as a multimedia device. \"The PSP is a sexy bit of kit, but Sony's attitude to the PSP has been very understated in Europe, so far,\" Mr Houlihan said. The worldwide handheld software market had an estimated worth of $2.6bn at the end of 2004, according to industry analysts Screen Digest.In the past, games consoles and handhelds have generally launched much later in Europe than in other parts of the world. However Nintendo president Satoru Iwata said the company was \"pleased to have offered such a short period of time between the US and European launch\". \"Europe is an extremely important market for Nintendo,\" Mr Iwata added. Nintendo raised its sales targets for the DS console last December after selling a million in the US and Japan in just a few weeks.\n",
      "---------------------------------------------\n",
      "Microsoft sets sights on spywareWindows users could soon be paying Microsoft to keep PCs free of spyware.Following the takeover of anti-spyware firm Giant, Microsoft said it would soon release a toolkit that strips machines of the irritating programs. Although initially free, Microsoft has not ruled out charging people who want to keep this toolkit up to date. Surveys show that almost every Windows PC is infested with spyware programs that do everything from bombard users with adverts to steal login data. Microsoft said that a beta version of the toolkit to clean up Windows machines should be available within 30 days.Designed for PCs running Windows 2000 and XP, the utility will clean out spyware programs, constantly monitor what happens on a PC and will be regularly updated to catch the latest variants. Before now many of Microsoft's other security boosting programs, such as the firewall in Windows XP, have been given away free. But Mike Nash, vice president in Microsoft's security business unit, said it was still working out pricing and licensing issues. Charging for future versions has not been discounted, he said. \"We'll come up with a plan and roll that out,\" he said. The plan could turn out to be a lucrative one for Microsoft. A recent survey by Earthlink and Webroot found that 90% of PCs are infested with the surreptitious software and that, on average, each one is harbouring 28 separate spyware programs. Currently users wanting protection from spyware have turned to free programs such as Spybot and Ad-Aware. Spyware comes in many forms and at its most benign exploits lazy browsing habits to install itself and subject users to unwanted adverts. Other forms hijack net browser settings to force people to view pages they would otherwise never visit. At its most malign, spyware watches everything that people do with their PC and steals login information and other personal data. Microsoft's announcement about spyware comes after it bought small New York software firm Giant Company Software. Terms of the acquisition were not disclosed.\n",
      "---------------------------------------------\n",
      "Britons fed up with net serviceA survey conducted by PC Pro Magazine has revealed that many Britons are unhappy with their internet service.They are fed up with slow speeds, high prices and the level of customer service they receive. 17% of readers have switched suppliers and a further 16% are considering changing in the near future. It is particularly bad news for BT, the UK's biggest internet supplier, with almost three times as many people trying to leave as joining.A third of the 2,000 broadband users interviewed were fed up with their current providers but this could be just the tip of the iceberg thinks Tim Danton, editor of PC Pro Magazine. \"We expect these figures to leap in 2005. Every month the prices drop, and more and more people are trying to switch,\" he said. The survey found that BT and Tiscali have been actively dissuading customers from leaving by offering them a lower price when they phone up to cancel their subscription. Some readers were offered a price drop just 25p more expensive than that offered by an alternative operator, making it hardly worth while swapping.Other found themselves tied into 12-month contracts. Broadband has become hugely competitive and providers are desperate to hold on to customers. 12% of those surveyed found themselves unable to swap at all. \"We discovered a huge variety of problems, but one of the biggest issues is the current supplier withholding the information that people need to give to their new supplier,\" said Tim Danton, editor of PC Pro. \"This breaks the code of practice, but because that code is voluntary there's nothing we or Ofcom can do to help,\" he said. There is a vast choice of internet service providers in the UK now and an often bewildering array of broadband packages. With prices set to drop even further in coming months Mr Danton advises everyone to shop around carefully. \"If you just stick with your current connection then there's every chance you're being ripped off,\" he warned.\n",
      "---------------------------------------------\n"
     ]
    }
   ],
   "source": [
    "for i in range(5):\n",
    "    print(data['Article with stop words'][i])\n",
    "    print(\"---------------------------------------------\")"
   ]
  },
  {
   "cell_type": "code",
   "execution_count": 99,
   "metadata": {},
   "outputs": [
    {
     "data": {
      "text/plain": [
       "'In the chronology of home computing, Commodore was one of the pioneers.The Commodore 64, launched in 1982, was one of the first affordable home PCs.Commodore International filed for bankruptcy in 1994 and was sold to Dutch firm Tulip Computers.The once-famous Commodore computer brand could be resurrected after being bought by a US-based digital music distributor.The Commodore 64 sold more than any other single computer system, even to this day.In the late 1980s the firm was a great rival to Atari, which produced its own range of home computers and is now a brand of video games, formerly known as Infogrames.'"
      ]
     },
     "execution_count": 99,
     "metadata": {},
     "output_type": "execute_result"
    }
   ],
   "source": [
    "data['Summary'][0]"
   ]
  },
  {
   "cell_type": "markdown",
   "metadata": {},
   "source": [
    "### Data Cleaning\n",
    "Data cleansing or data cleaning is the process of detecting and correcting corrupt or inaccurate records from a record set, table, or database and refers to identifying incomplete, incorrect, inaccurate or irrelevant parts of the data and then replacing, modifying, or deleting the dirty or coarse data."
   ]
  },
  {
   "cell_type": "code",
   "execution_count": 100,
   "metadata": {},
   "outputs": [],
   "source": [
    "import re"
   ]
  },
  {
   "cell_type": "code",
   "execution_count": 101,
   "metadata": {},
   "outputs": [],
   "source": [
    "contraction_mapping = {\"ain't\": \"is not\", \"aren't\": \"are not\",\"can't\": \"cannot\", \"'cause\": \"because\", \"could've\": \"could have\", \"couldn't\": \"could not\",\n",
    "\n",
    "                           \"didn't\": \"did not\", \"doesn't\": \"does not\", \"don't\": \"do not\", \"hadn't\": \"had not\", \"hasn't\": \"has not\", \"haven't\": \"have not\",\n",
    "\n",
    "                           \"he'd\": \"he would\",\"he'll\": \"he will\", \"he's\": \"he is\", \"how'd\": \"how did\", \"how'd'y\": \"how do you\", \"how'll\": \"how will\", \"how's\": \"how is\",\n",
    "\n",
    "                           \"I'd\": \"I would\", \"I'd've\": \"I would have\", \"I'll\": \"I will\", \"I'll've\": \"I will have\",\"I'm\": \"I am\", \"I've\": \"I have\", \"i'd\": \"i would\",\n",
    "\n",
    "                           \"i'd've\": \"i would have\", \"i'll\": \"i will\",  \"i'll've\": \"i will have\",\"i'm\": \"i am\", \"i've\": \"i have\", \"isn't\": \"is not\", \"it'd\": \"it would\",\n",
    "\n",
    "                           \"it'd've\": \"it would have\", \"it'll\": \"it will\", \"it'll've\": \"it will have\",\"it's\": \"it is\", \"let's\": \"let us\", \"ma'am\": \"madam\",\n",
    "\n",
    "                           \"mayn't\": \"may not\", \"might've\": \"might have\",\"mightn't\": \"might not\",\"mightn't've\": \"might not have\", \"must've\": \"must have\",\n",
    "\n",
    "                           \"mustn't\": \"must not\", \"mustn't've\": \"must not have\", \"needn't\": \"need not\", \"needn't've\": \"need not have\",\"o'clock\": \"of the clock\",\n",
    "\n",
    "                           \"oughtn't\": \"ought not\", \"oughtn't've\": \"ought not have\", \"shan't\": \"shall not\", \"sha'n't\": \"shall not\", \"shan't've\": \"shall not have\",\n",
    "\n",
    "                           \"she'd\": \"she would\", \"she'd've\": \"she would have\", \"she'll\": \"she will\", \"she'll've\": \"she will have\", \"she's\": \"she is\",\n",
    "\n",
    "                           \"should've\": \"should have\", \"shouldn't\": \"should not\", \"shouldn't've\": \"should not have\", \"so've\": \"so have\",\"so's\": \"so as\",\n",
    "\n",
    "                           \"this's\": \"this is\",\"that'd\": \"that would\", \"that'd've\": \"that would have\", \"that's\": \"that is\", \"there'd\": \"there would\",\n",
    "\n",
    "                           \"there'd've\": \"there would have\", \"there's\": \"there is\", \"here's\": \"here is\",\"they'd\": \"they would\", \"they'd've\": \"they would have\",\n",
    "\n",
    "                           \"they'll\": \"they will\", \"they'll've\": \"they will have\", \"they're\": \"they are\", \"they've\": \"they have\", \"to've\": \"to have\",\n",
    "\n",
    "                           \"wasn't\": \"was not\", \"we'd\": \"we would\", \"we'd've\": \"we would have\", \"we'll\": \"we will\", \"we'll've\": \"we will have\", \"we're\": \"we are\",\n",
    "\n",
    "                           \"we've\": \"we have\", \"weren't\": \"were not\", \"what'll\": \"what will\", \"what'll've\": \"what will have\", \"what're\": \"what are\",\n",
    "\n",
    "                           \"what's\": \"what is\", \"what've\": \"what have\", \"when's\": \"when is\", \"when've\": \"when have\", \"where'd\": \"where did\", \"where's\": \"where is\",\n",
    "\n",
    "                           \"where've\": \"where have\", \"who'll\": \"who will\", \"who'll've\": \"who will have\", \"who's\": \"who is\", \"who've\": \"who have\",\n",
    "\n",
    "                           \"why's\": \"why is\", \"why've\": \"why have\", \"will've\": \"will have\", \"won't\": \"will not\", \"won't've\": \"will not have\",\n",
    "\n",
    "                           \"would've\": \"would have\", \"wouldn't\": \"would not\", \"wouldn't've\": \"would not have\", \"y'all\": \"you all\",\n",
    "\n",
    "                           \"y'all'd\": \"you all would\",\"y'all'd've\": \"you all would have\",\"y'all're\": \"you all are\",\"y'all've\": \"you all have\",\n",
    "\n",
    "                           \"you'd\": \"you would\", \"you'd've\": \"you would have\", \"you'll\": \"you will\", \"you'll've\": \"you will have\",\n",
    "\n",
    "                           \"you're\": \"you are\", \"you've\": \"you have\"}"
   ]
  },
  {
   "cell_type": "code",
   "execution_count": 102,
   "metadata": {},
   "outputs": [],
   "source": [
    "def clean_text(text):\n",
    "    \n",
    "    text=text.lower()\n",
    "    text=' '.join([contraction_mapping[i] if i in contraction_mapping.keys() else i for i in text.split()])\n",
    "    text=re.sub(r'\\(.*\\)',\"\",text)\n",
    "    text=re.sub(\"'s\",\"\",text)\n",
    "    text=re.sub('\"','',text)\n",
    "    text=' '.join([i for i in text.split() if i.isalpha()])\n",
    "    text=re.sub('[^a-zA-Z]',\" \",text)\n",
    "    \n",
    "    return text"
   ]
  },
  {
   "cell_type": "code",
   "execution_count": 103,
   "metadata": {},
   "outputs": [],
   "source": [
    "data['Article with stop words']=data['Article with stop words'].apply(clean_text)\n",
    "data['Articles without stop words']=data['Articles without stop words'].apply(clean_text)\n",
    "data['Summary']=data['Summary'].apply(clean_text)\n",
    "data['Summary']='<START> '+data['Summary']+' <END>'"
   ]
  },
  {
   "cell_type": "code",
   "execution_count": 104,
   "metadata": {},
   "outputs": [
    {
     "data": {
      "text/plain": [
       "'commodore finds new lease of lifethe commodore computer brand could be resurrected after being bought by a digital music owner yeahronimo media ventures has not ruled out the possibility of a new breed of commodore it also plans to develop a worldwide entertainment concept with the although details are not yet the groundbreaking commodore computer elicits fond memories for those who owned one back in the the chronology of home commodore was one of the commodore launched in was one of the first affordable home it was followed a few years later by the the commodore sold more than any other single computer even to this the brand languished somewhat in the commodore international filed for bankruptcy in and was sold to dutch firm tulip in the late the firm was a great rival to which produced its own range of home computers and is now a brand of video formerly known as computers sold several products under the commodore including portable usb storage devices and digital music it had planned to relaunch the following an upsurge of nostalgia for commodore enthusiasts have written emulators for windows apple mac and even pdas so that the original commodore games can be still the sale of commodore is expected to be complete in three weeks in a deal worth over'"
      ]
     },
     "execution_count": 104,
     "metadata": {},
     "output_type": "execute_result"
    }
   ],
   "source": [
    "data['Article with stop words'][0]"
   ]
  },
  {
   "cell_type": "code",
   "execution_count": 105,
   "metadata": {},
   "outputs": [
    {
     "data": {
      "text/plain": [
       "'commodore finds new lease lifethe commodore computer brand could resurrected bought digital music owner yeahronimo media ventures ruled possibility new breed commodore it also plans develop worldwide entertainment concept although details yet the groundbreaking commodore computer elicits fond memories owned one back chronology home commodore one commodore launched one first affordable home it followed years later the commodore sold single computer even the brand languished somewhat commodore international filed bankruptcy sold dutch firm tulip in late firm great rival produced range home computers brand video formerly known computers sold several products commodore including portable usb storage devices digital music it planned relaunch following upsurge nostalgia commodore enthusiasts written emulators windows apple mac even pdas original commodore games still the sale commodore expected complete three weeks deal worth'"
      ]
     },
     "execution_count": 105,
     "metadata": {},
     "output_type": "execute_result"
    }
   ],
   "source": [
    "data['Articles without stop words'][0]"
   ]
  },
  {
   "cell_type": "code",
   "execution_count": 106,
   "metadata": {},
   "outputs": [
    {
     "data": {
      "text/plain": [
       "'<START> in the chronology of home commodore was one of the commodore launched in was one of the first affordable home international filed for bankruptcy in and was sold to dutch firm tulip commodore computer brand could be resurrected after being bought by a digital music commodore sold more than any other single computer even to this the late the firm was a great rival to which produced its own range of home computers and is now a brand of video formerly known as <END>'"
      ]
     },
     "execution_count": 106,
     "metadata": {},
     "output_type": "execute_result"
    }
   ],
   "source": [
    "data['Summary'][0]"
   ]
  },
  {
   "cell_type": "markdown",
   "metadata": {},
   "source": [
    "**********************************\n",
    "## Model Creation\n",
    "\n",
    "**Training and Testing Dataset Spliting using the `train_test_split`**\n",
    "  \n",
    "  * Immporting the library from the sklearn.model_selection\n",
    "  * Split the dataset into 70:30 ratio\n",
    "  * x_train and y_train are the trainning datasets\n",
    "  * x_test and y_test are the testing datasets\n",
    "  * After the spliting of the datasets the model is ready to be prepared!"
   ]
  },
  {
   "cell_type": "code",
   "execution_count": 107,
   "metadata": {},
   "outputs": [
    {
     "name": "stdout",
     "output_type": "stream",
     "text": [
      "3115 3115\n",
      "1335 1335\n"
     ]
    }
   ],
   "source": [
    "X_train,X_val,Y_train,Y_val=train_test_split(data['Article with stop words'],data['Summary'],test_size=0.3,random_state=29)\n",
    "print(len(X_train),len(Y_train))\n",
    "print(len(X_val),len(Y_val))"
   ]
  },
  {
   "cell_type": "markdown",
   "metadata": {},
   "source": [
    "### Visualizing the Dataset based on Article and Summary"
   ]
  },
  {
   "cell_type": "code",
   "execution_count": 108,
   "metadata": {},
   "outputs": [
    {
     "data": {
      "image/png": "[encoded data removed]",
      "text/plain": [
       "<Figure size 432x288 with 1 Axes>"
      ]
     },
     "metadata": {
      "needs_background": "light"
     },
     "output_type": "display_data"
    },
    {
     "data": {
      "image/png": "[encoded data removed]",
      "text/plain": [
       "<Figure size 432x288 with 1 Axes>"
      ]
     },
     "metadata": {
      "needs_background": "light"
     },
     "output_type": "display_data"
    }
   ],
   "source": [
    "art_len=[len(i.split()) for i in X_train]\n",
    "sum_len=[len(i.split()) for i in Y_train]\n",
    "plt.hist(art_len,bins=100)\n",
    "plt.title('Article')\n",
    "plt.show()\n",
    "plt.hist(sum_len,bins=50)\n",
    "plt.title('Summary')\n",
    "plt.show()"
   ]
  },
  {
   "cell_type": "code",
   "execution_count": 109,
   "metadata": {},
   "outputs": [],
   "source": [
    "max_art_len=500\n",
    "max_sum_len=100"
   ]
  },
  {
   "cell_type": "markdown",
   "metadata": {},
   "source": [
    "### Vectorization on the dataset\n",
    "Vectorization is a technique by which you can make your code execute fast. It is a very interesting and important way to optimize algorithms when you are implementing it from scratch.\n",
    "Now, with the help of highly optimized numerical linear algebra libraries in C/C++, Octave/Matlab, Python, …etc. We can make our code run efficiently.\n",
    "In machine learning, there’s a concept of an optimization algorithm that tries to reduce the error and computes to get the best parameters for the machine learning model."
   ]
  },
  {
   "cell_type": "code",
   "execution_count": 110,
   "metadata": {},
   "outputs": [],
   "source": [
    "from tensorflow.keras.preprocessing.text import Tokenizer\n",
    "from tensorflow.keras.preprocessing.sequence import pad_sequences"
   ]
  },
  {
   "cell_type": "code",
   "execution_count": 111,
   "metadata": {},
   "outputs": [],
   "source": [
    "article_tokenizer=Tokenizer(oov_token='<UNK>')\n",
    "article_tokenizer.fit_on_texts(X_train)\n",
    "tokenized_X_train=article_tokenizer.texts_to_sequences(X_train)\n",
    "tokenized_X_val=article_tokenizer.texts_to_sequences(X_val)"
   ]
  },
  {
   "cell_type": "code",
   "execution_count": 112,
   "metadata": {},
   "outputs": [],
   "source": [
    "art_vocab_size=len(article_tokenizer.word_index)+1"
   ]
  },
  {
   "cell_type": "code",
   "execution_count": 113,
   "metadata": {},
   "outputs": [],
   "source": [
    "padded_X_train=pad_sequences(tokenized_X_train,maxlen=max_art_len,padding='post',truncating='post')\n",
    "padded_X_val=pad_sequences(tokenized_X_val,maxlen=max_art_len,padding='post',truncating='post')"
   ]
  },
  {
   "cell_type": "code",
   "execution_count": 114,
   "metadata": {},
   "outputs": [
    {
     "name": "stdout",
     "output_type": "stream",
     "text": [
      "(3115, 500) (1335, 500)\n"
     ]
    }
   ],
   "source": [
    "print(padded_X_train.shape,padded_X_val.shape)"
   ]
  },
  {
   "cell_type": "code",
   "execution_count": 115,
   "metadata": {},
   "outputs": [],
   "source": [
    "summary_tokenizer=Tokenizer(oov_token='<UNK>')\n",
    "summary_tokenizer.fit_on_texts(Y_train)\n",
    "tokenized_Y_train=summary_tokenizer.texts_to_sequences(Y_train)\n",
    "tokenized_Y_val=summary_tokenizer.texts_to_sequences(Y_val)"
   ]
  },
  {
   "cell_type": "code",
   "execution_count": 116,
   "metadata": {},
   "outputs": [],
   "source": [
    "sum_vocab_size=len(summary_tokenizer.word_index)+1"
   ]
  },
  {
   "cell_type": "code",
   "execution_count": 117,
   "metadata": {},
   "outputs": [],
   "source": [
    "padded_Y_train=pad_sequences(tokenized_Y_train,maxlen=max_sum_len,padding='post',truncating='post')\n",
    "padded_Y_val=pad_sequences(tokenized_Y_val,maxlen=max_sum_len,padding='post',truncating='post')"
   ]
  },
  {
   "cell_type": "code",
   "execution_count": 118,
   "metadata": {},
   "outputs": [
    {
     "name": "stdout",
     "output_type": "stream",
     "text": [
      "(3115, 100) (1335, 100)\n"
     ]
    }
   ],
   "source": [
    "print(padded_Y_train.shape,padded_Y_val.shape)"
   ]
  },
  {
   "cell_type": "code",
   "execution_count": 119,
   "metadata": {},
   "outputs": [],
   "source": [
    "reverse_art_index=article_tokenizer.index_word\n",
    "reverse_sum_index=summary_tokenizer.index_word\n",
    "sum_wordindex=summary_tokenizer.word_index"
   ]
  },
  {
   "cell_type": "markdown",
   "metadata": {},
   "source": [
    "### Final Model Deployment\n",
    "Before deploying the main model let us discuss about the Neural Network and to be precise the Long Short Term Memory RNN.\n",
    "\n",
    "**Neural Network** : A neural network is a series of algorithms that endeavors to recognize underlying relationships in a set of data through a process that mimics the way the human brain operates. In this sense, neural networks refer to systems of neurons, either organic or artificial in nature.\n",
    "\n",
    "**Reccurrent Neural Network** : RNNs are a powerful and robust type of neural network, and belong to the most promising algorithms in use because it is the only one with an internal memory.\n",
    "\n",
    "Like many other deep learning algorithms, recurrent neural networks are relatively old. They were initially created in the 1980’s, but only in recent years have we seen their true potential. An increase in computational power along with the the massive amounts of data that we now have to work with, and the invention of long short-term memory (LSTM) in the 1990s, has really brought RNNs to the foreground.\n",
    "\n",
    "**Long Short Term Memory** : Recurrent Neural Networks suffer from short-term memory. If a sequence is long enough, they’ll have a hard time carrying information from earlier time steps to later ones. So if you are trying to process a paragraph of text to do predictions, RNN’s may leave out important information from the beginning.\n",
    "\n",
    "During back propagation, recurrent neural networks suffer from the vanishing gradient problem. Gradients are values used to update a neural networks weights. The vanishing gradient problem is when the gradient shrinks as it back propagates through time. If a gradient value becomes extremely small, it doesn’t contribute too much learning.\n",
    "\n",
    "LSTM ’s and GRU’s were created as the solution to short-term memory. They have internal mechanisms called gates that can regulate the flow of information.\n",
    "\n",
    "let's deploy the model using LSTM!"
   ]
  },
  {
   "cell_type": "code",
   "execution_count": 120,
   "metadata": {},
   "outputs": [
    {
     "name": "stdout",
     "output_type": "stream",
     "text": [
      "Model: \"functional_15\"\n",
      "__________________________________________________________________________________________________\n",
      "Layer (type)                    Output Shape         Param #     Connected to                     \n",
      "==================================================================================================\n",
      "input_7 (InputLayer)            [(None, 500)]        0                                            \n",
      "__________________________________________________________________________________________________\n",
      "input_8 (InputLayer)            [(None, None)]       0                                            \n",
      "__________________________________________________________________________________________________\n",
      "Encoder_Embedding_layer (Embedd (None, 500, 100)     2429300     input_7[0][0]                    \n",
      "__________________________________________________________________________________________________\n",
      "Decoder_Embedding_layer (Embedd (None, None, 100)    1577700     input_8[0][0]                    \n",
      "__________________________________________________________________________________________________\n",
      "Encoder_LSTM1 (LSTM)            [(None, 500, 300), ( 481200      Encoder_Embedding_layer[0][0]    \n",
      "__________________________________________________________________________________________________\n",
      "Decoder_LSTM1 (LSTM)            [(None, None, 300),  481200      Decoder_Embedding_layer[0][0]    \n",
      "                                                                 Encoder_LSTM1[0][1]              \n",
      "                                                                 Encoder_LSTM1[0][2]              \n",
      "__________________________________________________________________________________________________\n",
      "time_distributed_3 (TimeDistrib (None, None, 15777)  4748877     Decoder_LSTM1[0][0]              \n",
      "==================================================================================================\n",
      "Total params: 9,718,277\n",
      "Trainable params: 9,718,277\n",
      "Non-trainable params: 0\n",
      "__________________________________________________________________________________________________\n"
     ]
    }
   ],
   "source": [
    "encoder_inputs=Input(shape=(max_art_len,))\n",
    "encoder_emb=Embedding(art_vocab_size,100,trainable=True,name='Encoder_Embedding_layer')(encoder_inputs)\n",
    "encoder_lstm1=LSTM(300,return_sequences=True,return_state=True,name='Encoder_LSTM1')\n",
    "enclstm1_outputs,enclstm1_h,enclstm1_c=encoder_lstm1(encoder_emb)\n",
    "\n",
    "\n",
    "decoder_inputs=Input(shape=(None,))\n",
    "decoder_em=Embedding(sum_vocab_size,100,trainable=True,name='Decoder_Embedding_layer')\n",
    "decoder_emb=decoder_em(decoder_inputs)\n",
    "\n",
    "decoder_lstm1=LSTM(300,return_sequences=True,return_state=True,name='Decoder_LSTM1')\n",
    "declstm1_output,declstm1_h,declstm1_c=decoder_lstm1(decoder_emb,initial_state=[enclstm1_h,enclstm1_c])\n",
    "\n",
    "output_layer=TimeDistributed(Dense(sum_vocab_size,activation='softmax',name='softmax'))\n",
    "output=output_layer(declstm1_output)\n",
    "\n",
    "model=Model([encoder_inputs,decoder_inputs],output)\n",
    "\n",
    "model.summary()"
   ]
  },
  {
   "cell_type": "code",
   "execution_count": 121,
   "metadata": {},
   "outputs": [],
   "source": [
    "# plot_model(model,show_shapes=True)"
   ]
  },
  {
   "cell_type": "code",
   "execution_count": 122,
   "metadata": {},
   "outputs": [],
   "source": [
    "model.compile(optimizer='Adam',loss='sparse_categorical_crossentropy')"
   ]
  },
  {
   "cell_type": "code",
   "execution_count": 123,
   "metadata": {},
   "outputs": [
    {
     "name": "stdout",
     "output_type": "stream",
     "text": [
      "49/49 [==============================] - 327s 7s/step - loss: 7.5159 - val_loss: 6.6499\n"
     ]
    },
    {
     "data": {
      "text/plain": [
       "<tensorflow.python.keras.callbacks.History at 0x7fdcbd709450>"
      ]
     },
     "execution_count": 123,
     "metadata": {},
     "output_type": "execute_result"
    }
   ],
   "source": [
    "model.fit([padded_X_train,padded_Y_train[:,:-1]],padded_Y_train[:,1:],\n",
    "          epochs=1,\n",
    "          validation_data=([padded_X_val,padded_Y_val[:,:-1]],padded_Y_val[:,1:]),\n",
    "          batch_size=64)"
   ]
  },
  {
   "cell_type": "markdown",
   "metadata": {},
   "source": [
    "### Inference\n",
    "An ML lifecycle can be broken up into two main, distinct parts. The first is the training phase, in which an ML model is created or “trained” by running a specified subset of data into the model. ML inference is the second phase, in which the model is put into action on live data to produce actionable output."
   ]
  },
  {
   "cell_type": "code",
   "execution_count": 138,
   "metadata": {},
   "outputs": [],
   "source": [
    "infencoder_model=Model(inputs=[encoder_inputs],outputs=[enclstm1_outputs,enclstm1_h,enclstm1_c])\n",
    "\n",
    "infdecoder_model_state_input_h=Input(shape=(300,),name='infdec_I1')\n",
    "infdecoder_model_state_input_c=Input(shape=(300,),name='infdec_I2')\n",
    "\n",
    "infdeclstm1_output,infdec_h,infdec_c=decoder_lstm1(decoder_emb,initial_state=[infdecoder_model_state_input_h,\n",
    "                                                                                                infdecoder_model_state_input_c\n",
    "                                                                                               ])\n",
    "\n",
    "infdec_output=output_layer(infdeclstm1_output)                         \n",
    "\n",
    "infdecoder_model=Model(inputs=[decoder_inputs]+[infdecoder_model_state_input_h,infdecoder_model_state_input_c],\n",
    "                       outputs=[infdec_output]+[infdec_h,infdec_c])\n",
    "\n"
   ]
  },
  {
   "cell_type": "code",
   "execution_count": 139,
   "metadata": {},
   "outputs": [
    {
     "name": "stdout",
     "output_type": "stream",
     "text": [
      "Model: \"functional_21\"\n",
      "_________________________________________________________________\n",
      "Layer (type)                 Output Shape              Param #   \n",
      "=================================================================\n",
      "input_7 (InputLayer)         [(None, 500)]             0         \n",
      "_________________________________________________________________\n",
      "Encoder_Embedding_layer (Emb (None, 500, 100)          2429300   \n",
      "_________________________________________________________________\n",
      "Encoder_LSTM1 (LSTM)         [(None, 500, 300), (None, 481200    \n",
      "=================================================================\n",
      "Total params: 2,910,500\n",
      "Trainable params: 2,910,500\n",
      "Non-trainable params: 0\n",
      "_________________________________________________________________\n"
     ]
    }
   ],
   "source": [
    "infencoder_model.summary()"
   ]
  },
  {
   "cell_type": "code",
   "execution_count": 140,
   "metadata": {},
   "outputs": [
    {
     "data": {
      "image/png": "[encoded data removed]",
      "text/plain": [
       "<IPython.core.display.Image object>"
      ]
     },
     "execution_count": 140,
     "metadata": {},
     "output_type": "execute_result"
    }
   ],
   "source": [
    "plot_model(infencoder_model,show_shapes=True)"
   ]
  },
  {
   "cell_type": "code",
   "execution_count": 141,
   "metadata": {},
   "outputs": [
    {
     "name": "stdout",
     "output_type": "stream",
     "text": [
      "Model: \"functional_23\"\n",
      "__________________________________________________________________________________________________\n",
      "Layer (type)                    Output Shape         Param #     Connected to                     \n",
      "==================================================================================================\n",
      "input_8 (InputLayer)            [(None, None)]       0                                            \n",
      "__________________________________________________________________________________________________\n",
      "Decoder_Embedding_layer (Embedd (None, None, 100)    1577700     input_8[0][0]                    \n",
      "__________________________________________________________________________________________________\n",
      "infdec_I1 (InputLayer)          [(None, 300)]        0                                            \n",
      "__________________________________________________________________________________________________\n",
      "infdec_I2 (InputLayer)          [(None, 300)]        0                                            \n",
      "__________________________________________________________________________________________________\n",
      "Decoder_LSTM1 (LSTM)            [(None, None, 300),  481200      Decoder_Embedding_layer[0][0]    \n",
      "                                                                 infdec_I1[0][0]                  \n",
      "                                                                 infdec_I2[0][0]                  \n",
      "__________________________________________________________________________________________________\n",
      "time_distributed_3 (TimeDistrib (None, None, 15777)  4748877     Decoder_LSTM1[2][0]              \n",
      "==================================================================================================\n",
      "Total params: 6,807,777\n",
      "Trainable params: 6,807,777\n",
      "Non-trainable params: 0\n",
      "__________________________________________________________________________________________________\n"
     ]
    }
   ],
   "source": [
    "infdecoder_model.summary()"
   ]
  },
  {
   "cell_type": "code",
   "execution_count": 142,
   "metadata": {},
   "outputs": [
    {
     "data": {
      "image/png": "[encoded data removed]",
      "text/plain": [
       "<IPython.core.display.Image object>"
      ]
     },
     "execution_count": 142,
     "metadata": {},
     "output_type": "execute_result"
    }
   ],
   "source": [
    "plot_model(infdecoder_model,show_shapes=True)"
   ]
  },
  {
   "cell_type": "markdown",
   "metadata": {},
   "source": [
    "************************\n",
    "### Additional! Creating a Python function for making the model user friendly!"
   ]
  },
  {
   "cell_type": "code",
   "execution_count": 143,
   "metadata": {},
   "outputs": [],
   "source": [
    "def decode_sequence(inp_seq):\n",
    "    \n",
    "    enc_out,enc_h,enc_c=infencoder_model.predict(inp_seq)\n",
    "    \n",
    "    tar_seq=np.zeros((1,1))\n",
    "    tar_seq[0,0]=sum_wordindex['start']\n",
    "    \n",
    "    stop_loop=False\n",
    "    decoded_string=''\n",
    "    \n",
    "    while not stop_loop:\n",
    "       \n",
    "        dec_out,dec_h,dec_c=infdecoder_model.predict([tar_seq]+[enc_h,enc_c])\n",
    "        \n",
    "        tar_token_index=np.argmax(dec_out[0,-1,:])\n",
    "        tar_token_word=sum_wordindex[tar_token_index]\n",
    "        \n",
    "        if tar_token_word =='end' or len(decoded_string)>=max_art_len:\n",
    "            \n",
    "            stop_loop=True\n",
    "        else:\n",
    "            decoded_string+=tar_token_word\n",
    "            \n",
    "            tar_seq=np.zeros((1,1))\n",
    "            tar_seq[0,0]=tar_token_index\n",
    "            \n",
    "            \n",
    "            enc_h=dec_h\n",
    "            enc_c=dec_c\n",
    "            \n",
    "    return decoded_string"
   ]
  },
  {
   "cell_type": "code",
   "execution_count": 144,
   "metadata": {},
   "outputs": [],
   "source": [
    "def seq2art(inp_seq):\n",
    "    \n",
    "    art=''\n",
    "    \n",
    "    for i in range(len(inp_seq)):\n",
    "        \n",
    "        if inp_seq[i]==0:\n",
    "            break\n",
    "        art+=reverse_art_index[inp_seq[i]]+' '\n",
    "        \n",
    "    return art\n",
    "\n",
    "\n",
    "def seq2sum(inp_seq):\n",
    "    \n",
    "    summary=''\n",
    "    \n",
    "    for i in range(len(inp_seq)):\n",
    "        \n",
    "        if inp_seq[i]==0:\n",
    "            break\n",
    "        word=reverse_sum_index[inp_seq[i]]\n",
    "        summary+=word+' '\n",
    "            \n",
    "    return summary\n",
    "        "
   ]
  },
  {
   "cell_type": "markdown",
   "metadata": {},
   "source": [
    "*******************\n",
    "## Conclusion\n",
    "* Text Summarization models are one of the hot topics of the deep learning model deployment.\n",
    "* **Recurrent Neural Network** is the best choice for this kind of topics.\n",
    "* Here we have used **Long Short Term Memory**, which shows the validation loss of 6.49 only, which shows the accuracy of the model.\n",
    "* After inference, the model's validation loss decreased, and it is only 4.58.\n",
    "* LSTM on Inference is the best model to be fitted with this dataset.\n",
    "* Hence, the **Text Summarization Model** successfully deployed and working properly.\n",
    "* Last but not the least, the python function is made with **Sequence to Sequence Model**, which makes the function user friendly!\n",
    "\n",
    "************************************\n",
    "### Hope this project will help you. Thank you!"
   ]
  }
 ],
 "metadata": {
  "kernelspec": {
   "display_name": "Python 3",
   "language": "python",
   "name": "python3"
  },
  "language_info": {
   "codemirror_mode": {
    "name": "ipython",
    "version": 3
   },
   "file_extension": ".py",
   "mimetype": "text/x-python",
   "name": "python",
   "nbconvert_exporter": "python",
   "pygments_lexer": "ipython3",
   "version": "3.7.6"
  }
 },
 "nbformat": 4,
 "nbformat_minor": 4
}
